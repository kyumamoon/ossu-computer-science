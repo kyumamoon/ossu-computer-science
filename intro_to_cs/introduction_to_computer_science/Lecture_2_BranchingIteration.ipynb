{
 "cells": [
  {
   "attachments": {},
   "cell_type": "markdown",
   "metadata": {},
   "source": [
    "# **Lecture 2: Branching and Iteration**"
   ]
  },
  {
   "attachments": {},
   "cell_type": "markdown",
   "metadata": {},
   "source": [
    "# **Strings**\n",
    "\n",
    "- Letters, special characters, spaces, digits\n",
    "- Enclosed in single quotes or quotation marks. \"HI\"\n",
    "- Can concatenate strings. \"Hi\" + \"World\" = \"HiWorld\"\n",
    "- String is an array of bytes.\n",
    "\n",
    "- Python mutliplying strings. \n",
    "- \"HI\"*3 means repeat string 3 times."
   ]
  },
  {
   "cell_type": "code",
   "execution_count": 2,
   "metadata": {},
   "outputs": [
    {
     "name": "stdout",
     "output_type": "stream",
     "text": [
      "hihihi\n"
     ]
    }
   ],
   "source": [
    "print(\"hi\"*3)"
   ]
  },
  {
   "attachments": {},
   "cell_type": "markdown",
   "metadata": {},
   "source": [
    "# **Input/Output:**\n",
    "\n",
    "**Print()**\n",
    "- Used to output stuff to console/terminal.\n",
    "- Keyword is \"print\"\n",
    "\n",
    "**input()**\n",
    "- Used to get input from the user.\n",
    "- Any input will be turned into a string which needs to be conversed into other types if needed.\n",
    "- EX:\n",
    "- name = input(\"ENTER YOUR NAME:\")\n",
    "- Binds a variable to the input.\n"
   ]
  },
  {
   "attachments": {},
   "cell_type": "markdown",
   "metadata": {},
   "source": [
    "# **Comparison Operators on int/float/string**\n",
    "\n",
    "- Comparison operators result in a return in bool.\n",
    "- A > B // greater \n",
    "- A >= B // greater or equal\n",
    "- A < B // less\n",
    "- A <= B // less or equal\n",
    "- A == B // equal to\n",
    "- A != B // not equal to"
   ]
  },
  {
   "attachments": {},
   "cell_type": "markdown",
   "metadata": {},
   "source": [
    "# **Logic Operators on bools**\n",
    "\n",
    "*A and B are variables.\n",
    "- not a // True if a is False. False if a is True.\n",
    "- a and b // True if both are True.\n",
    "- a or b // True if either are True."
   ]
  },
  {
   "attachments": {},
   "cell_type": "markdown",
   "metadata": {},
   "source": [
    "# **Control Flow - Branching**"
   ]
  },
  {
   "cell_type": "code",
   "execution_count": null,
   "metadata": {},
   "outputs": [],
   "source": [
    "if <condition>:\n",
    "    <expression>\n",
    "\n",
    "if <condition>:\n",
    "    <expression>\n",
    "else:\n",
    "    <expression>\n",
    "\n",
    "if <condition>:\n",
    "    <expression>\n",
    "elif:\n",
    "    <expression>\n",
    "else:\n",
    "    <expression>\n",
    "\n",
    "# If condition is True, evaluate all expressions in block listed."
   ]
  },
  {
   "attachments": {},
   "cell_type": "markdown",
   "metadata": {},
   "source": [
    "# **Control Flow - for Loops**"
   ]
  },
  {
   "cell_type": "code",
   "execution_count": null,
   "metadata": {},
   "outputs": [],
   "source": [
    "# Using range to create range loop.\n",
    "\n",
    "for <variable> in range<some_num>:\n",
    "    <expression>\n",
    "\n",
    "# Variable starts at index 0 of range(number).\n",
    "# Each iteration, variable increases by 1.\n",
    "# Loop ends when it reaches the end index of range(number).\n",
    "# Default starting index is 0.\n",
    "# Default stepping value is 1.\n",
    "\n",
    "# Custom Range with set start, stop. and step.\n",
    "for <variable> in range(START,STOP,STEP):\n",
    "    <expression>\n",
    "\n",
    "# Start is starting index.\n",
    "# Stop is ending index.\n",
    "# Step is incremental value added to variable each loop iteration."
   ]
  },
  {
   "cell_type": "code",
   "execution_count": null,
   "metadata": {},
   "outputs": [],
   "source": [
    "for i in range(10):\n",
    "    print(i)"
   ]
  },
  {
   "attachments": {},
   "cell_type": "markdown",
   "metadata": {},
   "source": [
    "# **Control Flow - while Loops**"
   ]
  },
  {
   "cell_type": "code",
   "execution_count": null,
   "metadata": {},
   "outputs": [],
   "source": [
    "while <condition>:\n",
    "    <expression>\n",
    "\n",
    "# <condition> evaluates to Boolean.\n",
    "# If <condition> is True, do all steps inside while code block.\n",
    "# Check while condition again and repeat.\n",
    "# Repeat until condition is false."
   ]
  },
  {
   "cell_type": "code",
   "execution_count": null,
   "metadata": {},
   "outputs": [],
   "source": [
    "# Example Counter/Iterator\n",
    "n = 0\n",
    "\n",
    "while n <10:\n",
    "    print(n)\n",
    "    n+=1"
   ]
  },
  {
   "attachments": {},
   "cell_type": "markdown",
   "metadata": {},
   "source": [
    "# **break Statement**\n",
    "\n",
    "- \"break\" statement will exit whatever loop code block it is in.\n",
    "- Skips remaining expressions in code block.\n",
    "- Will only break the loop it is stated in and not the parent loop."
   ]
  },
  {
   "cell_type": "code",
   "execution_count": null,
   "metadata": {},
   "outputs": [],
   "source": [
    "for i in range(10):\n",
    "    if i == 8:\n",
    "        print(\"DOOGO\")\n",
    "        break\n",
    "    print(i)"
   ]
  },
  {
   "attachments": {},
   "cell_type": "markdown",
   "metadata": {},
   "source": [
    "# **Indentation**\n",
    "\n",
    "- Matters in Python.\n",
    "- Blocks of code and control flow denoted by indentation."
   ]
  },
  {
   "cell_type": "code",
   "execution_count": null,
   "metadata": {},
   "outputs": [],
   "source": [
    "x = float(input(\"Enter a number for x:\"))\n",
    "y = float(input(\"Enter a number for y:\"))\n",
    "if x==y:\n",
    "    print(\"x and y are equal\")\n",
    "    if y!=0:\n",
    "        print(\"therefore, x / y is\",x/y)\n",
    "elif x < y:\n",
    "    print(\"x is smaller than y\")\n",
    "else:\n",
    "    print(\"y is smaller than x\")"
   ]
  }
 ],
 "metadata": {
  "kernelspec": {
   "display_name": "Python 3",
   "language": "python",
   "name": "python3"
  },
  "language_info": {
   "codemirror_mode": {
    "name": "ipython",
    "version": 3
   },
   "file_extension": ".py",
   "mimetype": "text/x-python",
   "name": "python",
   "nbconvert_exporter": "python",
   "pygments_lexer": "ipython3",
   "version": "3.10.2 (tags/v3.10.2:a58ebcc, Jan 17 2022, 14:12:15) [MSC v.1929 64 bit (AMD64)]"
  },
  "orig_nbformat": 4,
  "vscode": {
   "interpreter": {
    "hash": "fa6936afccae6738ef30cc92f5c1ede57c28cb430a06fa1a1a3979d763f241d5"
   }
  }
 },
 "nbformat": 4,
 "nbformat_minor": 2
}
