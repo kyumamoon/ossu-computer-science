{
 "cells": [
  {
   "attachments": {},
   "cell_type": "markdown",
   "metadata": {},
   "source": [
    "# **Lecture 8: Object Oriented Programming**"
   ]
  },
  {
   "attachments": {},
   "cell_type": "markdown",
   "metadata": {},
   "source": [
    "# **Objects**\n",
    "\n",
    "- Python supports many different kinds of data"
   ]
  },
  {
   "cell_type": "code",
   "execution_count": 1,
   "metadata": {},
   "outputs": [
    {
     "data": {
      "text/plain": [
       "{'CA': 'CALIFORNIA', 'MA': 'MASSACHUSETTS'}"
      ]
     },
     "execution_count": 1,
     "metadata": {},
     "output_type": "execute_result"
    }
   ],
   "source": [
    "1234\n",
    "3.14159\n",
    "\"Hello\"\n",
    "[1,5,7,11,13]\n",
    "{\"CA\":\"CALIFORNIA\",\"MA\":\"MASSACHUSETTS\"}"
   ]
  },
  {
   "attachments": {},
   "cell_type": "markdown",
   "metadata": {},
   "source": [
    "- Each is an OBJECT and every object has:\n",
    "    - a type\n",
    "    - an internal data representation (primitive or composite)\n",
    "    - a set of procedures for interaction with the object\n",
    "    -\n",
    "- An object is an instance of a type\n",
    "    - 1234 is an instance of an int\n",
    "    - \"hello\" is an instance of a string"
   ]
  },
  {
   "attachments": {},
   "cell_type": "markdown",
   "metadata": {},
   "source": [
    "# **Object Oriented Programming (OOP)**\n",
    "\n",
    "- Everything in python is an object (and has a type)\n",
    "- Can create new objects of some type\n",
    "- Can manipulate objects\n",
    "    - EX: manipulating a list by appending, deleting objects, adding/moving/changing elements.\n",
    "- Can destroy objects\n",
    "    - Explicitly using \"del\" or just forget about the objects.\n",
    "    - Python system will reclaim destroyed or inaccessible objects - called \"garbage collection\"\n",
    "\n",
    "    "
   ]
  },
  {
   "attachments": {},
   "cell_type": "markdown",
   "metadata": {},
   "source": [
    "# **What are objects?**\n",
    "\n",
    "- Objects are data abstraction that captures:\n",
    "    - (1) an INTERNAL REPRESENTATION through data attributes (EX: CAR, how many wheels/mirrors/weight/height/etc)\n",
    "    - (2) an INTERFACE for interacting with object (EX: CAR, make car make diff noises, drive car)\n",
    "        - through methods (procedures/functions)\n",
    "        - defined behaviors but hides implementation"
   ]
  },
  {
   "attachments": {},
   "cell_type": "markdown",
   "metadata": {},
   "source": [
    "**EXAMPLE:**\n",
    "\n",
    "[1,2,3,4] has type list.\n",
    "\n",
    "- How are lists represented internally? linked list of cells\n",
    "- How to manipulate/interact with lists?\n",
    "    - L[i] indexing\n",
    "    - L[i:j] splicing\n",
    "    - len(), min(), max(), del(L[i])\n",
    "    - L.append(), L.extend(), L.count(), L.index(), L.insert(), L.pop(), L.remove(), L.reverse(), L.sort()\n",
    "- Internal representation should be private\n",
    "- Correct behavior may be compromised if you manipulate internal representation directly"
   ]
  },
  {
   "attachments": {},
   "cell_type": "markdown",
   "metadata": {},
   "source": [
    "# **Creating and using your own types with Classes**\n",
    "\n",
    "- Make a distinction between creating a class and using an instance of a class.\n",
    "    - **Creating the class involves**\n",
    "        - Defining the class name\n",
    "        - Defining class attributes\n",
    "        - EX: Someone wrote code to implement a list class\n",
    "    - **Using the class involves**\n",
    "        - Creating new instances of objects\n",
    "        - Doing operations on the instances\n",
    "        - EX: L = [1,2] or len(L)"
   ]
  },
  {
   "attachments": {},
   "cell_type": "markdown",
   "metadata": {},
   "source": [
    "# **Define your own types**\n",
    "\n",
    "- Use \"class\" keyword to define a new type.\n",
    "- SYNTAX: class CLASS_NAME(CLASS_PARENT)\n",
    "- Similar to function def, indentation under the class structure indicates which statements are part of the class definition.\n",
    "    - These are the classes' attributes.\n",
    "- CLASS_PARENT is the superclass. The class created is the subclass. Subclass inherets all of superclasses' attributes."
   ]
  },
  {
   "cell_type": "code",
   "execution_count": 2,
   "metadata": {},
   "outputs": [],
   "source": [
    "# Defining a class called Coordinate with the superclass \"object\"\n",
    "# object is the most basic class in python\n",
    "\n",
    "class Coordinate(object):\n",
    "    # Data and Procedures here\n",
    "    pass"
   ]
  },
  {
   "attachments": {},
   "cell_type": "markdown",
   "metadata": {},
   "source": [
    "**What are attributes?**\n",
    "\n",
    "- Data and procedures that \"belong\" to the class\n",
    "- **Data Attributes**\n",
    "    - think of data as other objects that make up the class\n",
    "    - EX: a coordinate is made up of two numbers\n",
    "- **Methods (Procedural Attributes)**\n",
    "    - Think of methods as a functions that only work with this class\n",
    "    - How to interact with the object\n",
    "    - EX: you can define a distance ebtween two coordiante objects but there is no meaning to a distance between two list objects."
   ]
  },
  {
   "attachments": {},
   "cell_type": "markdown",
   "metadata": {},
   "source": [
    "# **Defining how to create an instance of a class**\n",
    "\n",
    "- First have to define how to create an instance of object.\n",
    "- Use a special method called: \\_init\\_ to initialize some data attributes.\n",
    "    - init calls the method when object is created\n",
    "    - self parameter refers to the instance of the class created"
   ]
  },
  {
   "cell_type": "code",
   "execution_count": null,
   "metadata": {},
   "outputs": [],
   "source": [
    "class Coordinate(object):\n",
    "    def _init_(self,x,y):\n",
    "        self.x = x\n",
    "        self.y = y\n",
    "    def distance (self,other):\n",
    "        x_diff_sq =(other.x * 20)"
   ]
  }
 ],
 "metadata": {
  "kernelspec": {
   "display_name": "Python 3",
   "language": "python",
   "name": "python3"
  },
  "language_info": {
   "codemirror_mode": {
    "name": "ipython",
    "version": 3
   },
   "file_extension": ".py",
   "mimetype": "text/x-python",
   "name": "python",
   "nbconvert_exporter": "python",
   "pygments_lexer": "ipython3",
   "version": "3.10.2"
  },
  "orig_nbformat": 4,
  "vscode": {
   "interpreter": {
    "hash": "fa6936afccae6738ef30cc92f5c1ede57c28cb430a06fa1a1a3979d763f241d5"
   }
  }
 },
 "nbformat": 4,
 "nbformat_minor": 2
}
