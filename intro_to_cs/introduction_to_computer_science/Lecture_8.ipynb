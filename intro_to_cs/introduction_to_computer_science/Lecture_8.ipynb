{
 "cells": [
  {
   "attachments": {},
   "cell_type": "markdown",
   "metadata": {},
   "source": [
    "# **Lecture 8: Object Oriented Programming**"
   ]
  },
  {
   "attachments": {},
   "cell_type": "markdown",
   "metadata": {},
   "source": [
    "# **Objects**\n",
    "\n",
    "- Python supports many different kinds of data"
   ]
  },
  {
   "cell_type": "code",
   "execution_count": null,
   "metadata": {},
   "outputs": [],
   "source": [
    "1234\n",
    "3.14159\n",
    "\"Hello\"\n",
    "[1,5,7,11,13]\n",
    "{\"CA\":\"CALIFORNIA\",\"MA\":\"MASSACHUSETTS\"}"
   ]
  },
  {
   "attachments": {},
   "cell_type": "markdown",
   "metadata": {},
   "source": [
    "- Each is an OBJECT and every object has:\n",
    "    - a type\n",
    "    - an internal data representation (primitive or composite)\n",
    "    - a set of procedures for interaction with the object\n",
    "    -\n",
    "- An object is an instance of a type\n",
    "    - 1234 is an instance of an int\n",
    "    - \"hello\" is an instance of a string"
   ]
  }
 ],
 "metadata": {
  "language_info": {
   "name": "python"
  },
  "orig_nbformat": 4
 },
 "nbformat": 4,
 "nbformat_minor": 2
}
