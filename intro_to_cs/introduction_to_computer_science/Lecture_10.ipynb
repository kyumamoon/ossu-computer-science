{
 "cells": [
  {
   "attachments": {},
   "cell_type": "markdown",
   "metadata": {},
   "source": [
    "# **Lecture 10: Understanding Program Efficiency, Part 1**"
   ]
  },
  {
   "attachments": {},
   "cell_type": "markdown",
   "metadata": {},
   "source": [
    "# **Want to understand efficiency of programs**\n",
    "\n",
    "- How can reason about an algorithm in order to predict the amount of time it will need to solve problem of a particular size?\n",
    "- How can relate choices in algorithm design to time efficiency of the resulting algorithm?\n",
    "    - Are there fundamental limits on the amount of time we will need to solve a particular problem?"
   ]
  },
  {
   "attachments": {},
   "cell_type": "markdown",
   "metadata": {},
   "source": [
    "# **How to evaluate efficiency of programs**\n",
    "\n",
    "- Measure with a \"timer\".\n",
    "- Count the number of operations.\n",
    "- Abstract notion of order of growth."
   ]
  },
  {
   "attachments": {},
   "cell_type": "markdown",
   "metadata": {},
   "source": [
    "----\n",
    "\n",
    "**(1) Timing a program**\n",
    "- Use the time module/library\n",
    "\n",
    "**Evaluate**\n",
    "- GOAL: to evaluate different algorithms\n",
    "    - running time varies between algorithms (GOOD)\n",
    "    - running time varies between implementations (BAD)\n",
    "    - running time varies between computers (BAD)\n",
    "    - running time is not predictable based on small inputs (BAD)\n",
    "\n",
    "- Time varies for different inputs but cannot really express a relationship between inputs and time (BAD)"
   ]
  },
  {
   "cell_type": "code",
   "execution_count": null,
   "metadata": {},
   "outputs": [],
   "source": [
    "import time\n",
    "\n",
    "def c_to_f(c):\n",
    "    return c*9/5+32\n",
    "\n",
    "timer0 = time.clock() # Start timer\n",
    "c_to_f(100000)\n",
    "timer1 = time.clock() - timer0 # Find difference from start to finish.\n",
    "\n",
    "print(\"t =\",timer0,\":\",timer1,\"s,\")"
   ]
  },
  {
   "attachments": {},
   "cell_type": "markdown",
   "metadata": {},
   "source": [
    "----\n",
    "\n",
    "**(2) Counting Operations**\n",
    "\n",
    "- Assume these steps take constant time.\n",
    "    - Mathematical operations\n",
    "    - Comparisons\n",
    "    - Assignments/Initializations of variables\n",
    "    - Accessing objects in memory.\n",
    "- Then count number of operations executed as function of size of input\n",
    "\n",
    "**Evaluate**\n",
    "- GOAL: to evaluate different algorithms\n",
    "    - count depends on algorithm (GOOD)\n",
    "    - count depends on implementation (BAD)\n",
    "    - count independent of computers (GOOD)\n",
    "    - no clear definition of which operations to count (BAD)\n",
    "    - count varies for different inputs and can come up with a relationship between inputs and the count (GOOD)"
   ]
  },
  {
   "attachments": {},
   "cell_type": "markdown",
   "metadata": {},
   "source": [
    "----\n",
    "\n",
    "**(3) Order of Growth: Expressing Efficiency with the Size of Input**"
   ]
  },
  {
   "attachments": {},
   "cell_type": "markdown",
   "metadata": {},
   "source": [
    "**Different Inputs Change How The Program Runs**\n",
    "- a function that searches for an element in a list:"
   ]
  },
  {
   "cell_type": "code",
   "execution_count": null,
   "metadata": {},
   "outputs": [],
   "source": [
    "# Linear Search\n",
    "def search_for_item(item,list):\n",
    "    for i in list:\n",
    "        if i == item:\n",
    "            return True\n",
    "    return False\n",
    "\n",
    "list = [1,2,3,4,5,6]\n",
    "\n",
    "print(search_for_item(5,list))"
   ]
  },
  {
   "attachments": {},
   "cell_type": "markdown",
   "metadata": {},
   "source": [
    "**Best, Average, Worst Cases**\n",
    "- suppose given a list of some lengh (L)\n",
    "\n",
    "- Best Case:\n",
    "    - minimum running time over all possible inputs of a given size len(L):\n",
    "        - Constant time for search for element if element want is the first element.\n",
    "- Average Case:\n",
    "    - average running time over all possible inputs of a given size len(L):\n",
    "        - practice measure.\n",
    "        - only search around half the length of list\n",
    "- Worst Case: (Best measurement for efficiency of code/program)\n",
    "    - maximum running time over all possible inputs of a given size len(L):\n",
    "        - linear in length of list for the search function.\n",
    "        - must search the whole length to end to find the element."
   ]
  },
  {
   "attachments": {},
   "cell_type": "markdown",
   "metadata": {},
   "source": [
    "**Orders of Growth, BIG O NOTATION**\n",
    "- We will look for the upper bounds on the growth as a function of the size of input in the worst case.\n",
    "- Basically find the one part of the code that is the bottleneck, the one area that takes the longest to perform and use it as the upper bound of growth.\n",
    "    - It is best at expressing the growth of the programs time of completion relative to the size of the input."
   ]
  },
  {
   "cell_type": "code",
   "execution_count": null,
   "metadata": {},
   "outputs": [],
   "source": [
    "# EXAMPLE:\n",
    "\n",
    "def factorial_iteration(n):\n",
    "    answer = 1 # 1 Step\n",
    "    while n > 1: # While Block = 5 Steps\n",
    "        answer *= n\n",
    "        n-=1\n",
    "    return answer # 1 Step\n",
    "\n",
    "# Computes Factorial\n",
    "# Number of Steps: 1 + 5(n) + 1\n",
    "# Worst Case Asymptotic Complexity: O(n) because depending on the input, the loop will run that many times. We dont count constants time objects as loop is the main bottleneck.\n",
    "#   Ignore additive constants\n",
    "#   Ignore multiplicative constants"
   ]
  },
  {
   "attachments": {},
   "cell_type": "markdown",
   "metadata": {},
   "source": [
    "**Simplification Examples**\n",
    "\n",
    "- Drop constants and multiplicative factors\n",
    "- Focus on DOMINANT TERMS\n",
    "\n",
    "- n^2 + 2n + 2\n",
    "    - O(n^2)\n",
    "- n^2 + 100000n + 3^1000\n",
    "    - O(n^2)\n",
    "- log(n) + n + 4\n",
    "    - O(n)\n",
    "- 0.0001*n*log(n) + 300n\n",
    "    - O(nlogn)\n",
    "- 2n^30 + 3^n\n",
    "    - O(3^n)"
   ]
  },
  {
   "attachments": {},
   "cell_type": "markdown",
   "metadata": {},
   "source": [
    "**Analyzing Programs and their Complexity**\n",
    "- Combine complexity class\n",
    "    - Analyze statements inside functions.\n",
    "    - Apply some rules, focus on dominant term.\n",
    "\n",
    "**Law of Addition for O():**\n",
    "- Used with sequential statements\n",
    "    - O(f(n)) + O(g(n)) is same as O(f(n)+g(n))\n",
    "    - Example: "
   ]
  },
  {
   "cell_type": "code",
   "execution_count": null,
   "metadata": {},
   "outputs": [],
   "source": [
    "for i in range(n):\n",
    "    print('a')\n",
    "for i in range(n*n):\n",
    "    print('b')\n",
    "\n",
    "# This program is\n",
    "# O(n) + O(n*n)\n",
    "# Simplify to O(n+n^2)\n",
    "# But complexity is dominantly O(n^2) because of dominant term"
   ]
  },
  {
   "attachments": {},
   "cell_type": "markdown",
   "metadata": {},
   "source": [
    "**Law of Multiplication for O():**\n",
    "- Used with nested statements/loops.\n",
    "    - O(f(n)) * O(g(n)) is O(f(n) * g(n))\n",
    "    - Example:"
   ]
  },
  {
   "cell_type": "code",
   "execution_count": null,
   "metadata": {},
   "outputs": [],
   "source": [
    "for i in range(n): # This loop is O(n)\n",
    "    for j in range(n): # This loop is O(n)\n",
    "        print('a')\n",
    "\n",
    "# This program is O(n)*O(n)\n",
    "# Simplified to O(n*n)\n",
    "# Result in O(n^2)\n",
    "# Because outer loop goes n times and inner loop goes n times for every loop of the outher loop iteration"
   ]
  },
  {
   "attachments": {},
   "cell_type": "markdown",
   "metadata": {},
   "source": [
    "# **Complexity Classes**\n",
    "- O(1) denotes constant running time\n",
    "    - Time does not change no matter size of input\n",
    "- O(log n) denotes logarithmic running time\n",
    "- O(n) denotes linear running time\n",
    "    - Time changes in a linear way when input grows.\n",
    "- O(n log n) denotes log-linear running time\n",
    "- O(n^c) denotes polynomial running time. \n",
    "    - c is a constant\n",
    "- O(c^n) denotes exponential running time. \n",
    "    - c is a constant being raised to the power of input size\n",
    "\n",
    "The fastest is the toppest"
   ]
  },
  {
   "attachments": {},
   "cell_type": "markdown",
   "metadata": {},
   "source": [
    "**Example: Linear Search on Unsorted List**\n",
    "- Must look through all elements to decide whether its in list."
   ]
  },
  {
   "cell_type": "code",
   "execution_count": null,
   "metadata": {},
   "outputs": [],
   "source": [
    "def linear_search(List,e):\n",
    "    found = False                   # O(1)\n",
    "    for i in range(len(List)):      # O(len(L))\n",
    "        if List[i] == e:            # O(1)\n",
    "            found = True            # O(1)\n",
    "    return found                \n",
    "\n",
    "# O(1 + #n + 1 + 1)\n",
    "# = O(#n + 3)\n",
    "# = O(n)"
   ]
  },
  {
   "attachments": {},
   "cell_type": "markdown",
   "metadata": {},
   "source": [
    "**Example: Linear Search on Sorted List**\n",
    "- Must only look until reach a number greater than e.\n",
    "- Order of growth is same as unsorted list but run time may differ for two search methods."
   ]
  },
  {
   "cell_type": "code",
   "execution_count": 3,
   "metadata": {},
   "outputs": [],
   "source": [
    "def search(List,e):\n",
    "    for i in range(len(List)):  # O(n)\n",
    "        if List[i] == e:        # O(1)\n",
    "            return True     \n",
    "        elif List[i] > e:       # O(1)\n",
    "            return False\n",
    "    return False\n",
    "\n",
    "# O(n + 1 + 1)\n",
    "# = O(n + 2)\n",
    "# = O(n)"
   ]
  },
  {
   "attachments": {},
   "cell_type": "markdown",
   "metadata": {},
   "source": [
    "**Linear Complexity O(n)**\n",
    "- Searching a list in a sequence to see if an element is present\n",
    "- Add characters of a string, assumed to be composed of decimal digits"
   ]
  },
  {
   "cell_type": "code",
   "execution_count": null,
   "metadata": {},
   "outputs": [],
   "source": [
    "def addDigits(string):\n",
    "    value = 0               # O(1)\n",
    "    for c in string:        # O(n)\n",
    "        val += int(c)       # O(1) + O(1)\n",
    "    return value\n",
    "\n",
    "# O(1 + n + 1 + 1)\n",
    "# = O(n + 3)\n",
    "# = O(n)"
   ]
  },
  {
   "attachments": {},
   "cell_type": "markdown",
   "metadata": {},
   "source": [
    "**Quadratic Complexity O(n^2)**\n",
    "- Determine if one list is a subset of second, i.e., every element of first, appears in second (assume no duplicates)"
   ]
  },
  {
   "cell_type": "code",
   "execution_count": null,
   "metadata": {},
   "outputs": [],
   "source": [
    "def isSubset(List1,List2):\n",
    "    for element1 in List1:              # O(n)\n",
    "        matched = False\n",
    "        for element2 in List2:          # O(n) for every O(n) above.\n",
    "            if element1 == element2:    \n",
    "                matched = True\n",
    "                break\n",
    "            if not matched:\n",
    "                return False\n",
    "    return True\n",
    "\n",
    "# O(n*n)\n",
    "# = O(n^2)"
   ]
  }
 ],
 "metadata": {
  "kernelspec": {
   "display_name": "Python 3",
   "language": "python",
   "name": "python3"
  },
  "language_info": {
   "codemirror_mode": {
    "name": "ipython",
    "version": 3
   },
   "file_extension": ".py",
   "mimetype": "text/x-python",
   "name": "python",
   "nbconvert_exporter": "python",
   "pygments_lexer": "ipython3",
   "version": "3.10.2"
  },
  "orig_nbformat": 4,
  "vscode": {
   "interpreter": {
    "hash": "fa6936afccae6738ef30cc92f5c1ede57c28cb430a06fa1a1a3979d763f241d5"
   }
  }
 },
 "nbformat": 4,
 "nbformat_minor": 2
}
