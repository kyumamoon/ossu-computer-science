{
 "cells": [
  {
   "attachments": {},
   "cell_type": "markdown",
   "metadata": {},
   "source": [
    "# **Lecture 10: Understanding Program Efficiency, Part 1**"
   ]
  },
  {
   "attachments": {},
   "cell_type": "markdown",
   "metadata": {},
   "source": [
    "# **Want to understand efficiency of programs**\n",
    "\n",
    "- How can reason about an algorithm in order to predict the amount of time it will need to solve problem of a particular size?\n",
    "- How can relate choices in algorithm design to time efficiency of the resulting algorithm?\n",
    "    - Are there fundamental limits on the amount of time we will need to solve a particular problem?"
   ]
  },
  {
   "attachments": {},
   "cell_type": "markdown",
   "metadata": {},
   "source": [
    "# **How to evaluate efficiency of programs**\n",
    "\n",
    "- Measure with a \"timer\".\n",
    "- Count the number of operations.\n",
    "- Abstract notion of order of growth."
   ]
  },
  {
   "attachments": {},
   "cell_type": "markdown",
   "metadata": {},
   "source": [
    "**(1) Timing a program**\n",
    "- Use the time module/library\n",
    "\n",
    "**Evaluate**\n",
    "- GOAL: to evaluate different algorithms\n",
    "    - running time varies between algorithms (GOOD)\n",
    "    - running time varies between implementations (BAD)\n",
    "    - running time varies between computers (BAD)\n",
    "    - running time is not predictable based on small inputs (BAD)\n",
    "\n",
    "- Time varies for different inputs but cannot really express a relationship between inputs and time (BAD)"
   ]
  },
  {
   "cell_type": "code",
   "execution_count": null,
   "metadata": {},
   "outputs": [],
   "source": [
    "import time\n",
    "\n",
    "def c_to_f(c):\n",
    "    return c*9/5+32\n",
    "\n",
    "timer0 = time.clock() # Start timer\n",
    "c_to_f(100000)\n",
    "timer1 = time.clock() - timer0 # Find difference from start to finish.\n",
    "\n",
    "print(\"t =\",timer0,\":\",timer1,\"s,\")"
   ]
  },
  {
   "attachments": {},
   "cell_type": "markdown",
   "metadata": {},
   "source": [
    "**(2) Counting Operations**\n",
    "\n",
    "- Assume these steps take constant time.\n",
    "    - Mathematical operations\n",
    "    - Comparisons\n",
    "    - Assignments/Initializations of variables\n",
    "    - Accessing objects in memory.\n",
    "- Then count number of operations executed as function of size of input\n",
    "\n",
    "**Evaluate**\n",
    "- GOAL: to evaluate different algorithms\n",
    "    - count depends on algorithm (GOOD)\n",
    "    - count depends on implementation (BAD)\n",
    "    - count independent of computers (GOOD)\n",
    "    - no clear definition of which operations to count (BAD)\n",
    "    - count varies for different inputs and can come up with a relationship between inputs and the count (GOOD)"
   ]
  }
 ],
 "metadata": {
  "kernelspec": {
   "display_name": "Python 3",
   "language": "python",
   "name": "python3"
  },
  "language_info": {
   "codemirror_mode": {
    "name": "ipython",
    "version": 3
   },
   "file_extension": ".py",
   "mimetype": "text/x-python",
   "name": "python",
   "nbconvert_exporter": "python",
   "pygments_lexer": "ipython3",
   "version": "3.10.2"
  },
  "orig_nbformat": 4,
  "vscode": {
   "interpreter": {
    "hash": "fa6936afccae6738ef30cc92f5c1ede57c28cb430a06fa1a1a3979d763f241d5"
   }
  }
 },
 "nbformat": 4,
 "nbformat_minor": 2
}
