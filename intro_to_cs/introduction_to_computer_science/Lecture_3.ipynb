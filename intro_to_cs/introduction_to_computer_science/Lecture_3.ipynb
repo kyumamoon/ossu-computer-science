{
 "cells": [
  {
   "attachments": {},
   "cell_type": "markdown",
   "metadata": {},
   "source": [
    "# **Lecture 3: String Manipulation, Guess and Check, Approximations, Bisection**"
   ]
  },
  {
   "attachments": {},
   "cell_type": "markdown",
   "metadata": {},
   "source": [
    "# **Strings**\n",
    "\n",
    "- Strings are immutable.\n",
    "- A sequence of case sensitive characters.\n",
    "- Can use operators to compare strings.\n",
    "- len() function is used to find the length of the string.\n",
    "- Can index strings to find specific characters. Example: variable[0], index 0 of the variable string.\n",
    "- Can slice the string to slice off parts defined. Example: variable[0:4], cut out and return everything from index 0 up to 4 (exclusive).\n",
    "- Slice using [start:stop:step].\n",
    "- Step is optional and default is 1 character."
   ]
  },
  {
   "cell_type": "code",
   "execution_count": 2,
   "metadata": {},
   "outputs": [
    {
     "name": "stdout",
     "output_type": "stream",
     "text": [
      "L\n",
      "OLLEH\n"
     ]
    }
   ],
   "source": [
    "stringA = \"HELLO\"\n",
    "print(stringA[3])\n",
    "print(stringA[::-1]) # Reverses the string"
   ]
  },
  {
   "attachments": {},
   "cell_type": "markdown",
   "metadata": {},
   "source": [
    "# **Algorithms**\n",
    "\n",
    "**Guess and Check**\n",
    "- Loop through a range and check each input to see if the result is close enough to the answer wanted.\n",
    "\n",
    "**Approximation**\n",
    "- Loop using small increments and see if result is within range of acceptable difference.\n",
    "- Epsilon, difference between result vs actual result. Acceptable range difference.\n",
    "- Bigger epsilon, less accurate but faster. Smaller Epsilon, more accurate but slower.\n",
    "\n",
    "**Bisection Search (BINARY SEARCH)**\n",
    "- Half interval each iteration.\n",
    "- New guess is halfway in between.\n",
    "- Keep track of low and high and mid."
   ]
  },
  {
   "cell_type": "code",
   "execution_count": 4,
   "metadata": {},
   "outputs": [
    {
     "name": "stdout",
     "output_type": "stream",
     "text": [
      "ANSWER: 2\n"
     ]
    }
   ],
   "source": [
    "# Guess and Check\n",
    "\n",
    "twoPower = 4\n",
    "isSolved = False\n",
    "count = 0\n",
    "\n",
    "while isSolved == False:\n",
    "    answer = count**2\n",
    "    if answer == twoPower:\n",
    "        print(\"ANSWER:\",count)\n",
    "        break\n",
    "    elif answer > twoPower:\n",
    "        print(\"UNSOLVABLE\")\n",
    "        break\n",
    "    count+=1"
   ]
  },
  {
   "cell_type": "code",
   "execution_count": null,
   "metadata": {},
   "outputs": [],
   "source": [
    "# Approximation\n",
    "\n",
    "twoPower = 20\n",
    "isSolved = False\n",
    "count = 0\n",
    "epsilon = 0.1\n",
    "\n",
    "while isSolved == False:\n",
    "    answer = count**2\n",
    "    acceptable = twoPower-answer\n",
    "    if acceptable <= 0.1:\n",
    "        print(\"ANSWER:\",count)\n",
    "        break\n",
    "    count+=0.1"
   ]
  },
  {
   "cell_type": "code",
   "execution_count": 27,
   "metadata": {},
   "outputs": [
    {
     "name": "stdout",
     "output_type": "stream",
     "text": [
      "ANSWER: 2.2265625 4.95758056640625\n",
      "EP: 0.04241943359375\n"
     ]
    }
   ],
   "source": [
    "# Bisectional Search\n",
    "\n",
    "twoPower = 5\n",
    "isSolved = False\n",
    "low = 0\n",
    "high = twoPower\n",
    "epsilon = 0.1\n",
    "\n",
    "while isSolved == False:\n",
    "    mid = (high+low)/2\n",
    "    answer = mid**2\n",
    "\n",
    "    if abs(twoPower-answer)<=epsilon:\n",
    "        print(\"ANSWER:\",mid,answer)\n",
    "        print(\"EP:\",abs(twoPower-answer))\n",
    "        break\n",
    "\n",
    "    if answer > twoPower:\n",
    "        high = mid\n",
    "    else:\n",
    "        low = mid\n"
   ]
  }
 ],
 "metadata": {
  "kernelspec": {
   "display_name": "Python 3",
   "language": "python",
   "name": "python3"
  },
  "language_info": {
   "codemirror_mode": {
    "name": "ipython",
    "version": 3
   },
   "file_extension": ".py",
   "mimetype": "text/x-python",
   "name": "python",
   "nbconvert_exporter": "python",
   "pygments_lexer": "ipython3",
   "version": "3.10.2"
  },
  "orig_nbformat": 4,
  "vscode": {
   "interpreter": {
    "hash": "fa6936afccae6738ef30cc92f5c1ede57c28cb430a06fa1a1a3979d763f241d5"
   }
  }
 },
 "nbformat": 4,
 "nbformat_minor": 2
}
