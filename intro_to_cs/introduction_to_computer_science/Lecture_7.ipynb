{
 "cells": [
  {
   "attachments": {},
   "cell_type": "markdown",
   "metadata": {},
   "source": [
    "# **Lecture 7: Testing, Debugging, Exceptions, and Assertions**"
   ]
  },
  {
   "attachments": {},
   "cell_type": "markdown",
   "metadata": {},
   "source": [
    "**Defensive Programming**\n",
    "- Write specifications for functions\n",
    "- Modularize the program\n",
    "- Check conditions on inputs/outputs (assertions)\n",
    "\n",
    "**(A) Testing/Validation**\n",
    "- Compare input/output pairs to specification\n",
    "- \"It's not working\" or \"How can I break the program?\"\n",
    "\n",
    "**(B) Debugging**\n",
    "- Study events leading up to an error\n",
    "- \"Why is it not working?\" or \"How can I fix my program?\""
   ]
  },
  {
   "attachments": {},
   "cell_type": "markdown",
   "metadata": {},
   "source": [
    "# **Classes of Testing**\n",
    "\n",
    "**Unit Testing**\n",
    "- validate each piece of program\n",
    "- testing  each function separately\n",
    "\n",
    "**Regression Testing**\n",
    "- add test for bugs as you find them\n",
    "- catch reintroduced errors that were previously fixed\n",
    "\n",
    "**Integration Testing**\n",
    "- did whole program work?\n",
    "- tend to rush to do this\n",
    "\n"
   ]
  },
  {
   "attachments": {},
   "cell_type": "markdown",
   "metadata": {},
   "source": [
    "# **Testing Approaches**\n",
    "\n",
    "- Intuition about natural boundaries to the problem\n",
    "\n",
    "def is_bigger(x,y):\n",
    "- Assume x and y are ints.\n",
    "- Return True if y is less than x, else False.\n",
    "\n",
    "**Random Testing**\n",
    "- If no natural partitions, might do random testing.\n",
    "    - Probability that code is correct increases with more tests\n",
    "    - Better options below\n",
    "\n",
    "**Black Box Testing**\n",
    "- Explore paths through specification\n",
    "\n",
    "**Glass Box Testing**\n",
    "- Explore paths through code\n"
   ]
  },
  {
   "attachments": {},
   "cell_type": "markdown",
   "metadata": {},
   "source": [
    "# **Debugging Steps**\n",
    "\n",
    "**Study program code**\n",
    "- dont ask what is wrong\n",
    "- ask how did i get the unexpected result\n",
    "- is it part of the family?\n",
    "\n",
    "**Scientific Method**\n",
    "- study available data\n",
    "- form hypothesis\n",
    "- repeatable experiments\n",
    "- pick simplest inputs to test with\n"
   ]
  },
  {
   "attachments": {},
   "cell_type": "markdown",
   "metadata": {},
   "source": [
    "# **Common Easy Error Messages**\n",
    "\n",
    "**IndexError**\n",
    "- trying to access beyond limits of a list.\n",
    "- for example, list is length of 3, but tried to get 4th element that does not exist.\n",
    "\n",
    "**TypeError**\n",
    "- trying to convert an inappropriate type\n",
    "- trying to convert a string word to a int that is not possible. int(\"hello\")\n",
    "- or mixing data types without appropriate coercion\n",
    "\n",
    "**NameError**\n",
    "- referencing a non-existent variable\n",
    "\n",
    "**SyntaxError**\n",
    "- forgetting to put syntax formatting correctly for specific programming language\n"
   ]
  },
  {
   "attachments": {},
   "cell_type": "markdown",
   "metadata": {},
   "source": [
    "**Other Types of Exceptions(Errors)**\n",
    "- SyntaxError:      \n",
    "    - python cant parse program\n",
    "- NameError:\n",
    "    - local or global name not found\n",
    "- AttributeError\n",
    "    - attribute reference fails\n",
    "- TypeError\n",
    "    - operand does not have correct type\n",
    "- ValueError:\n",
    "    - operand type okay, but value is illegal\n",
    "- IOError:\n",
    "    - IO SYSTEM reports malfunction (e.g. file not found)"
   ]
  },
  {
   "attachments": {},
   "cell_type": "markdown",
   "metadata": {},
   "source": [
    "# **Logical Errors - Harder to Debug**\n",
    "\n",
    "- think before writing new code.\n",
    "- draw pictures, take a break\n",
    "- explain code to: someone else, or rubber ducky"
   ]
  },
  {
   "attachments": {},
   "cell_type": "markdown",
   "metadata": {},
   "source": [
    "# **Do's and Dont's of Debugging**\n",
    "\n",
    "**DONTs**\n",
    "- write entire program\n",
    "- test entire program\n",
    "- debug entire program\n",
    "-\n",
    "- change the code\n",
    "- remember where bug was\n",
    "- test code\n",
    "- forget where bug was or what changes you made\n",
    "\n",
    "\n",
    "**DOs**\n",
    "- Do unit testing/regression testing/integration testing\n",
    "- write a function\n",
    "- test the function, debug the function\n",
    "- write a function\n",
    "- test the function, debug the function\n",
    "- \"Do integration testing.\"\n",
    "-\n",
    "- backup code\n",
    "- change code \n",
    "- write down potential bug in a comment\n",
    "- test code\n",
    "- compare code versions"
   ]
  },
  {
   "attachments": {},
   "cell_type": "markdown",
   "metadata": {},
   "source": [
    "# **Dealing with Exceptions**\n",
    "\n",
    "- Python code provides handlers for exceptions using try/except.\n",
    "- Exceptions raised by any statement in body of \"try\" are handled by the \"except\" statement and execution continues with the body of the except statement"
   ]
  },
  {
   "cell_type": "code",
   "execution_count": 1,
   "metadata": {},
   "outputs": [],
   "source": [
    "try:\n",
    "    a = int(input(\"ENTER A NUMBER:\"))\n",
    "    print(a)\n",
    "except:\n",
    "    print(\"YOU DID NOT ENTER A NUMBER!\")"
   ]
  },
  {
   "attachments": {},
   "cell_type": "markdown",
   "metadata": {},
   "source": [
    "# **Handling Specific Exceptions**\n",
    "- Having separate except clauses to deal with specific type of exceptions\n",
    "- similar to if/elif/else statement"
   ]
  },
  {
   "cell_type": "code",
   "execution_count": null,
   "metadata": {},
   "outputs": [],
   "source": [
    "try:\n",
    "     a = int(input(\"ENTER A NUMBER\"))\n",
    "     b = int(input(\"ENTER ANOTHER NUMBER\"))\n",
    "     print(\"a/b=\",a/b)\n",
    "     print(\"a+b=\",a+b)\n",
    "except ValueError:\n",
    "    print(\"COULD NOT CONVERT TO A NUMBER\")\n",
    "except ZeroDivisionError:\n",
    "    print(\"CANT DIVIDE BY ZERO\")\n",
    "except:\n",
    "    print(\"SOME ERROR OCCURED.\")"
   ]
  },
  {
   "attachments": {},
   "cell_type": "markdown",
   "metadata": {},
   "source": [
    "**Other Exceptions**\n",
    "\n",
    "- \"else:\" statement\n",
    "    - body of this statement when execution of associated \"try\" body completes with no exceptions\n",
    "- \"finally\" statement\n",
    "    - body of this statement always execute after \"try\"/\"else\" and \"except\" clauses, even if they raised another error or executed a \"break\",\"continue\" or \"return\"\n",
    "    - useful for clean up code that should be run no matter what else happened (e.g. close a file)"
   ]
  }
 ],
 "metadata": {
  "kernelspec": {
   "display_name": "Python 3",
   "language": "python",
   "name": "python3"
  },
  "language_info": {
   "codemirror_mode": {
    "name": "ipython",
    "version": 3
   },
   "file_extension": ".py",
   "mimetype": "text/x-python",
   "name": "python",
   "nbconvert_exporter": "python",
   "pygments_lexer": "ipython3",
   "version": "3.10.2"
  },
  "orig_nbformat": 4,
  "vscode": {
   "interpreter": {
    "hash": "fa6936afccae6738ef30cc92f5c1ede57c28cb430a06fa1a1a3979d763f241d5"
   }
  }
 },
 "nbformat": 4,
 "nbformat_minor": 2
}
