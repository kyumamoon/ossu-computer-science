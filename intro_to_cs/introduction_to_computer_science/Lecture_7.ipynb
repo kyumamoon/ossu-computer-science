{
 "cells": [
  {
   "attachments": {},
   "cell_type": "markdown",
   "metadata": {},
   "source": [
    "# **Lecture 7: Testing, Debugging, Exceptions, and Assertions**"
   ]
  },
  {
   "attachments": {},
   "cell_type": "markdown",
   "metadata": {},
   "source": [
    "**Defensive Programming**\n",
    "- Write specifications for functions\n",
    "- Modularize the program\n",
    "- Check conditions on inputs/outputs (assertions)\n",
    "\n",
    "**(A) Testing/Validation**\n",
    "- Compare input/output pairs to specification\n",
    "- \"It's not working\" or \"How can I break the program?\"\n",
    "\n",
    "**(B) Debugging**\n",
    "- Study events leading up to an error\n",
    "- \"Why is it not working?\" or \"How can I fix my program?\""
   ]
  },
  {
   "attachments": {},
   "cell_type": "markdown",
   "metadata": {},
   "source": [
    "# **Classes of Testing**\n",
    "\n",
    "**Unit Testing**\n",
    "- validate each piece of program\n",
    "- testing  each function separately\n",
    "\n",
    "**Regression Testing**\n",
    "- add test for bugs as you find them\n",
    "- catch reintroduced errors that were previously fixed\n",
    "\n",
    "**Integration Testing**\n",
    "- did whole program work?\n",
    "- tend to rush to do this\n",
    "\n"
   ]
  },
  {
   "attachments": {},
   "cell_type": "markdown",
   "metadata": {},
   "source": [
    "# **Testing Approaches**\n",
    "\n",
    "- Intuition about natural boundaries to the problem\n",
    "\n",
    "def is_bigger(x,y):\n",
    "- Assume x and y are ints.\n",
    "- Return True if y is less than x, else False.\n",
    "\n",
    "**Random Testing**\n",
    "- If no natural partitions, might do random testing.\n",
    "    - Probability that code is correct increases with more tests\n",
    "    - Better options below\n",
    "\n",
    "**Black Box Testing**\n",
    "- Explore paths through specification\n",
    "\n",
    "**Glass Box Testing**\n",
    "- Explore paths through code\n"
   ]
  },
  {
   "attachments": {},
   "cell_type": "markdown",
   "metadata": {},
   "source": [
    "# **Debugging Steps**\n",
    "\n",
    "**Study program code**\n",
    "- dont ask what is wrong\n",
    "- ask how did i get the unexpected result\n",
    "- is it part of the family?\n",
    "\n",
    "**Scientific Method**\n",
    "- study available data\n",
    "- form hypothesis\n",
    "- repeatable experiments\n",
    "- pick simplest inputs to test with\n"
   ]
  },
  {
   "attachments": {},
   "cell_type": "markdown",
   "metadata": {},
   "source": [
    "# **Common Easy Error Messages**\n",
    "\n",
    "**IndexError**\n",
    "- trying to access beyond limits of a list.\n",
    "- for example, list is length of 3, but tried to get 4th element that does not exist.\n",
    "\n",
    "**TypeError**\n",
    "- trying to convert an inappropriate type\n",
    "- trying to convert a string word to a int that is not possible. int(\"hello\")\n",
    "- or mixing data types without appropriate coercion\n",
    "\n",
    "**NameError**\n",
    "- referencing a non-existent variable\n",
    "\n",
    "**SyntaxError**\n",
    "- forgetting to put syntax formatting correctly for specific programming language\n"
   ]
  }
 ],
 "metadata": {
  "kernelspec": {
   "display_name": "Python 3",
   "language": "python",
   "name": "python3"
  },
  "language_info": {
   "name": "python",
   "version": "3.10.2"
  },
  "orig_nbformat": 4,
  "vscode": {
   "interpreter": {
    "hash": "fa6936afccae6738ef30cc92f5c1ede57c28cb430a06fa1a1a3979d763f241d5"
   }
  }
 },
 "nbformat": 4,
 "nbformat_minor": 2
}
