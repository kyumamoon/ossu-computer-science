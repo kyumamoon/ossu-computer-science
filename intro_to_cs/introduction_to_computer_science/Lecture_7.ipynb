{
 "cells": [
  {
   "attachments": {},
   "cell_type": "markdown",
   "metadata": {},
   "source": [
    "# **Lecture 7: Testing, Debugging, Exceptions, and Assertions**"
   ]
  },
  {
   "attachments": {},
   "cell_type": "markdown",
   "metadata": {},
   "source": [
    "**Defensive Programming**\n",
    "- Write specifications for functions\n",
    "- Modularize the program\n",
    "- Check conditions on inputs/outputs (assertions)\n",
    "\n",
    "**(A) Testing/Validation**\n",
    "- Compare input/output pairs to specification\n",
    "- \"It's not working\" or \"How can I break the program?\"\n",
    "\n",
    "**(B) Debugging**\n",
    "- Study events leading up to an error\n",
    "- \"Why is it not working?\" or \"How can I fix my program?\""
   ]
  },
  {
   "attachments": {},
   "cell_type": "markdown",
   "metadata": {},
   "source": [
    "# **Classes of Testing**\n",
    "\n",
    "**Unit Testing**\n",
    "- validate each piece of program\n",
    "- testing  each function separately\n",
    "\n",
    "**Regression Testing**\n",
    "- add test for bugs as you find them\n",
    "- catch reintroduced errors that were previously fixed\n",
    "\n",
    "**Integration Testing**\n",
    "- did whole program work?\n",
    "- tend to rush to do this\n",
    "\n"
   ]
  },
  {
   "attachments": {},
   "cell_type": "markdown",
   "metadata": {},
   "source": [
    "# **Testing Approaches**\n",
    "\n",
    "- Intuition about natural boundaries to the problem\n",
    "\n",
    "def is_bigger(x,y):\n",
    "- Assume x and y are ints.\n",
    "- Return True if y is less than x, else False.\n",
    "\n",
    "**Random Testing**\n",
    "- If no natural partitions, might do random testing.\n",
    "    - Probability that code is correct increases with more tests\n",
    "    - Better options below\n",
    "\n",
    "**Black Box Testing**\n",
    "- Explore paths through specification\n",
    "\n",
    "**Glass Box Testing**\n",
    "- Explore paths through code\n"
   ]
  },
  {
   "attachments": {},
   "cell_type": "markdown",
   "metadata": {},
   "source": [
    "# **Debugging Steps**\n",
    "\n",
    "**Study program code**\n",
    "- dont ask what is wrong\n",
    "- ask how did i get the unexpected result\n",
    "- is it part of the family?\n",
    "\n",
    "**Scientific Method**\n",
    "- study available data\n",
    "- form hypothesis\n",
    "- repeatable experiments\n",
    "- pick simplest inputs to test with\n"
   ]
  },
  {
   "attachments": {},
   "cell_type": "markdown",
   "metadata": {},
   "source": [
    "# **Common Easy Error Messages**\n",
    "\n",
    "**IndexError**\n",
    "- trying to access beyond limits of a list.\n",
    "- for example, list is length of 3, but tried to get 4th element that does not exist.\n",
    "\n",
    "**TypeError**\n",
    "- trying to convert an inappropriate type\n",
    "- trying to convert a string word to a int that is not possible. int(\"hello\")\n",
    "- or mixing data types without appropriate coercion\n",
    "\n",
    "**NameError**\n",
    "- referencing a non-existent variable\n",
    "\n",
    "**SyntaxError**\n",
    "- forgetting to put syntax formatting correctly for specific programming language\n"
   ]
  },
  {
   "attachments": {},
   "cell_type": "markdown",
   "metadata": {},
   "source": [
    "**Other Types of Exceptions(Errors)**\n",
    "- SyntaxError:      \n",
    "    - python cant parse program\n",
    "- NameError:\n",
    "    - local or global name not found\n",
    "- AttributeError\n",
    "    - attribute reference fails\n",
    "- TypeError\n",
    "    - operand does not have correct type\n",
    "- ValueError:\n",
    "    - operand type okay, but value is illegal\n",
    "- IOError:\n",
    "    - IO SYSTEM reports malfunction (e.g. file not found)"
   ]
  },
  {
   "attachments": {},
   "cell_type": "markdown",
   "metadata": {},
   "source": [
    "# **Logical Errors - Harder to Debug**\n",
    "\n",
    "- think before writing new code.\n",
    "- draw pictures, take a break\n",
    "- explain code to: someone else, or rubber ducky"
   ]
  },
  {
   "attachments": {},
   "cell_type": "markdown",
   "metadata": {},
   "source": [
    "# **Do's and Dont's of Debugging**\n",
    "\n",
    "**DONTs**\n",
    "- write entire program\n",
    "- test entire program\n",
    "- debug entire program\n",
    "-\n",
    "- change the code\n",
    "- remember where bug was\n",
    "- test code\n",
    "- forget where bug was or what changes you made\n",
    "\n",
    "\n",
    "**DOs**\n",
    "- Do unit testing/regression testing/integration testing\n",
    "- write a function\n",
    "- test the function, debug the function\n",
    "- write a function\n",
    "- test the function, debug the function\n",
    "- \"Do integration testing.\"\n",
    "-\n",
    "- backup code\n",
    "- change code \n",
    "- write down potential bug in a comment\n",
    "- test code\n",
    "- compare code versions"
   ]
  },
  {
   "attachments": {},
   "cell_type": "markdown",
   "metadata": {},
   "source": [
    "# **Dealing with Exceptions**\n",
    "\n",
    "- Python code provides handlers for exceptions using try/except.\n",
    "- Exceptions raised by any statement in body of \"try\" are handled by the \"except\" statement and execution continues with the body of the except statement"
   ]
  },
  {
   "cell_type": "code",
   "execution_count": 1,
   "metadata": {},
   "outputs": [],
   "source": [
    "try:\n",
    "    a = int(input(\"ENTER A NUMBER:\"))\n",
    "    print(a)\n",
    "except:\n",
    "    print(\"YOU DID NOT ENTER A NUMBER!\")"
   ]
  },
  {
   "attachments": {},
   "cell_type": "markdown",
   "metadata": {},
   "source": [
    "# **Handling Specific Exceptions**\n",
    "- Having separate except clauses to deal with specific type of exceptions\n",
    "- similar to if/elif/else statement"
   ]
  },
  {
   "cell_type": "code",
   "execution_count": null,
   "metadata": {},
   "outputs": [],
   "source": [
    "try:\n",
    "     a = int(input(\"ENTER A NUMBER\"))\n",
    "     b = int(input(\"ENTER ANOTHER NUMBER\"))\n",
    "     print(\"a/b=\",a/b)\n",
    "     print(\"a+b=\",a+b)\n",
    "except ValueError:\n",
    "    print(\"COULD NOT CONVERT TO A NUMBER\")\n",
    "except ZeroDivisionError:\n",
    "    print(\"CANT DIVIDE BY ZERO\")\n",
    "except:\n",
    "    print(\"SOME ERROR OCCURED.\")"
   ]
  },
  {
   "attachments": {},
   "cell_type": "markdown",
   "metadata": {},
   "source": [
    "**Other Exceptions**\n",
    "\n",
    "- \"else:\" statement\n",
    "    - body of this statement when execution of associated \"try\" body completes with no exceptions\n",
    "- \"finally\" statement\n",
    "    - body of this statement always execute after \"try\"/\"else\" and \"except\" clauses, even if they raised another error or executed a \"break\",\"continue\" or \"return\"\n",
    "    - useful for clean up code that should be run no matter what else happened (e.g. close a file)"
   ]
  },
  {
   "attachments": {},
   "cell_type": "markdown",
   "metadata": {},
   "source": [
    "# **What to do with Exceptions**\n",
    "\n",
    "**Fail Silently**\n",
    "- Substitute failed values with default values or just continue program\n",
    "- Bad idea, because user will not know there was an error and expect different result.\n",
    "\n",
    "**Return \"error\" values**\n",
    "- Similar to 404 codes.\n",
    "- Not good because you would have to conditionally check these returned values which makes program more confusing.\n",
    "\n",
    "**Stop execution, signal error condition**\n",
    "- In Python, raise an exception with:\n",
    "- raise Exception(\"ERROR DESCRIPTION HERE\")"
   ]
  },
  {
   "attachments": {},
   "cell_type": "markdown",
   "metadata": {},
   "source": [
    "# **Exceptions as Control Flow**\n",
    "\n",
    "- Dont return special values when an error occurred and check whether error value was returned!\n",
    "- Raise an exception instead. When unable to produce a result consistent with function's specification."
   ]
  },
  {
   "cell_type": "code",
   "execution_count": null,
   "metadata": {},
   "outputs": [],
   "source": [
    "# raise <exceptionName>(<arguments>)\n",
    "\n",
    "raise ValueError(\"Something is wrong\")"
   ]
  },
  {
   "cell_type": "code",
   "execution_count": null,
   "metadata": {},
   "outputs": [],
   "source": [
    "# Example. Raising an Exception\n",
    "\n",
    "def get_ratios(L1, L2):\n",
    "    \"\"\"\n",
    "    Assumes: L1 and L2 are lists of equal lengths of numbers\n",
    "    Returns: a list containing L1[i]/L2[i]\n",
    "    \"\"\"\n",
    "\n",
    "    ratios = []\n",
    "\n",
    "    for index in range(len(L1)):\n",
    "        try:\n",
    "            ratios.append(L1[index]/L2[index])\n",
    "        except ZeroDivisionError:\n",
    "            ratios.append(float('nan')) # nan - not a number\n",
    "        except:\n",
    "            raise ValueError('get_ratios called with bad argument')\n",
    "    return ratios"
   ]
  },
  {
   "attachments": {},
   "cell_type": "markdown",
   "metadata": {},
   "source": [
    "**Example of Exceptions**\n",
    "\n",
    "- Assume we are given a class list for a subject: each entry is a list of two parts.\n",
    "    - a list of first and last names for a student\n",
    "    - a list of grades on assignments"
   ]
  },
  {
   "cell_type": "code",
   "execution_count": null,
   "metadata": {},
   "outputs": [],
   "source": [
    "test_grades = [[['peter','parker'],[80.0,70.0,85.0]],[['bruce','wayne'],[100.0,80.0,74.0]]] # A list containing two lists which contains two list in each."
   ]
  },
  {
   "attachments": {},
   "cell_type": "markdown",
   "metadata": {},
   "source": [
    "- Create a new class list, with name, grades, and average of the score."
   ]
  },
  {
   "cell_type": "code",
   "execution_count": null,
   "metadata": {},
   "outputs": [],
   "source": [
    "[[['peter','parker'],[80.0,70.0,85.0],78.33333],[['bruce','wayne'],[100.0,80.0,74.0],84.666667]] # A list containing two lists which contains two list and a float in each."
   ]
  },
  {
   "cell_type": "code",
   "execution_count": null,
   "metadata": {},
   "outputs": [],
   "source": [
    "# Example Code\n",
    "\n",
    "test_grades = [[['peter','parker'],[80.0,70.0,85.0]],[['bruce','wayne'],[100.0,80.0,74.0]]]\n",
    "\n",
    "def get_stats(class_list):\n",
    "    new_stats = [] # new empty list\n",
    " \n",
    "    for e in class_list:\n",
    "        new_stats.append(e[0],e[1],avg(elt[1]))\n",
    "    return new_stats\n",
    "\n",
    "def avg(grades):\n",
    "    return sum(grades)/len(grades)"
   ]
  },
  {
   "attachments": {},
   "cell_type": "markdown",
   "metadata": {},
   "source": [
    "**Code Above Gives Error if No Grades For a Student**\n",
    "- If one or more students don't have any grades, gets an error when running avg functin because length with be 0, cant divide by 0.\n",
    "- get ZeroDivisionError: float division by zero\n",
    "\n",
    "**Option 1: Flag the Error by Printing a Message**"
   ]
  },
  {
   "cell_type": "code",
   "execution_count": null,
   "metadata": {},
   "outputs": [],
   "source": [
    "def avg(grades):\n",
    "    try:\n",
    "        return sum(grades)/len(grades)\n",
    "    except ZeroDivisionError:\n",
    "        print(\"Warning: No Grades Given\")\n",
    "        # silently returns \"None\" because no return value specified in function."
   ]
  },
  {
   "attachments": {},
   "cell_type": "markdown",
   "metadata": {},
   "source": [
    "**Option 2: Change the Policy**\n",
    "- Decide if student has no grades, they get a zero as their average."
   ]
  },
  {
   "cell_type": "code",
   "execution_count": null,
   "metadata": {},
   "outputs": [],
   "source": [
    "def avg(grades):\n",
    "    try:\n",
    "        return sum(grades)/len(grades)\n",
    "    except ZeroDivisionError:\n",
    "        print(\"Warning: No Grades Given\")\n",
    "        return 0.0\n",
    "        # silently returns \"None\" because no return value specified in function."
   ]
  },
  {
   "attachments": {},
   "cell_type": "markdown",
   "metadata": {},
   "source": [
    "# **Assertion**\n",
    "- Used in functions to define what function should expect to get in order to work correctly.\n",
    "- Use 'assert' statement, which raises an AssertionError if assertion is not met/False, otherwise if True, fallthrough and run below code.\n",
    "- Works similar to a try and except."
   ]
  },
  {
   "cell_type": "code",
   "execution_count": null,
   "metadata": {},
   "outputs": [],
   "source": [
    "def avg(grades):\n",
    "    assert not len(grades) == 0, 'No Grades Data'\n",
    "    return sum(grades)/len(grades)"
   ]
  },
  {
   "attachments": {},
   "cell_type": "markdown",
   "metadata": {},
   "source": [
    "**Where to use Assertion?**\n",
    "\n",
    "- Goal is to spot bugs as soon as introduced and make clear where they happened.\n",
    "- Use it as a supplement to testing\n",
    "- Raise exceptions if users supplies bad input data\n",
    "- Use assertions to\n",
    "    - Check that invariants on data structures are met\n",
    "    - Check constraints on return values\n",
    "    - Check for violations of constraints on procedure (e.g. no duplicate in a list)"
   ]
  }
 ],
 "metadata": {
  "kernelspec": {
   "display_name": "Python 3",
   "language": "python",
   "name": "python3"
  },
  "language_info": {
   "codemirror_mode": {
    "name": "ipython",
    "version": 3
   },
   "file_extension": ".py",
   "mimetype": "text/x-python",
   "name": "python",
   "nbconvert_exporter": "python",
   "pygments_lexer": "ipython3",
   "version": "3.10.2"
  },
  "orig_nbformat": 4,
  "vscode": {
   "interpreter": {
    "hash": "fa6936afccae6738ef30cc92f5c1ede57c28cb430a06fa1a1a3979d763f241d5"
   }
  }
 },
 "nbformat": 4,
 "nbformat_minor": 2
}
