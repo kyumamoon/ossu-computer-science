{
 "cells": [
  {
   "attachments": {},
   "cell_type": "markdown",
   "metadata": {},
   "source": [
    "# **Lecture 7: Testing, Debugging, Exceptions, and Assertions**"
   ]
  },
  {
   "attachments": {},
   "cell_type": "markdown",
   "metadata": {},
   "source": [
    "**Defensive Programming**\n",
    "- Write specifications for functions\n",
    "- Modularize the program\n",
    "- Check conditions on inputs/outputs (assertions)\n",
    "\n",
    "**(A) Testing/Validation**\n",
    "- Compare input/output pairs to specification\n",
    "- \"It's not working\" or \"How can I break the program?\"\n",
    "\n",
    "**(B) Debugging**\n",
    "- Study events leading up to an error\n",
    "- \"Why is it not working?\" or \"How can I fix my program?\""
   ]
  },
  {
   "attachments": {},
   "cell_type": "markdown",
   "metadata": {},
   "source": [
    "# **Classes of Testing**\n",
    "\n",
    "**Unit Testing**\n",
    "- validate each piece of program\n",
    "- testing  each function separately\n",
    "\n",
    "**Regression Testing**\n",
    "- add test for bugs as you find them\n",
    "- catch reintroduced errors that were previously fixed\n",
    "\n",
    "**Integration Testing**\n",
    "- did whole program work?\n",
    "- tend to rush to do this\n",
    "\n"
   ]
  }
 ],
 "metadata": {
  "language_info": {
   "name": "python"
  },
  "orig_nbformat": 4
 },
 "nbformat": 4,
 "nbformat_minor": 2
}
