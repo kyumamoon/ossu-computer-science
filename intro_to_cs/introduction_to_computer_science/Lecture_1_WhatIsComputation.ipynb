{
 "cells": [
  {
   "attachments": {},
   "cell_type": "markdown",
   "metadata": {},
   "source": [
    "# **Goal of Course:**\n",
    "- Problem Solving\n",
    "- Knowledge of Concepts\n",
    "- Programming Skils"
   ]
  },
  {
   "attachments": {},
   "cell_type": "markdown",
   "metadata": {},
   "source": [
    "# **What do computers do?**\n",
    "- Calculations\n",
    "\n",
    "**Types of Calculations**\n",
    "- built-in to the language (low level calculations like addition/subtraction/division/multiplication etc.)\n",
    "- ones we define (functions and equations for specific tasks)"
   ]
  },
  {
   "attachments": {},
   "cell_type": "markdown",
   "metadata": {},
   "source": [
    "# **Types of Knowledge**\n",
    "\n",
    "**Declarative Knowledge**\n",
    "- statement of fact\n",
    "- \"Someone will win a raffle prize at 3PM\"\n",
    "- like the result of an algorithm\n",
    "\n",
    "**Imperative Knowledge**\n",
    "- recipe or \"how-to\", like an algorithm\n",
    "- \"At 3PM, enter RNG program and run it, program selects random person. Person is given prize.\""
   ]
  },
  {
   "attachments": {},
   "cell_type": "markdown",
   "metadata": {},
   "source": [
    "# **Computers are Machines**\n",
    "\n",
    "Fixed Programs:\n",
    "- EX: calculator\n",
    "- because it is made for one purpose and cannot change its procedures/functions\n",
    "\n",
    "Stored Programs:\n",
    "- EX: PC\n",
    "- because its functions can be edited and changed to perform any task needed."
   ]
  },
  {
   "attachments": {},
   "cell_type": "markdown",
   "metadata": {},
   "source": [
    "# **Basic Machine Architecture:**\n",
    "\n",
    "-><- is two way\n",
    "\n",
    "Input/Output -><- (Arithmetic Logic Unit [Performs Basic Ops] -><- Control Unit [Program Counter, starting op]) -><- Memory"
   ]
  },
  {
   "attachments": {},
   "cell_type": "markdown",
   "metadata": {},
   "source": [
    "# **Stored Program Computer**\n",
    "\n",
    "Sequence of instructions stored inside computer.\n",
    "- Built from predefined set of primitive instructions.\n",
    "- Has: arithmetics/logics, simple tests(ifs/thens/etc), moving data (argument passing)\n",
    "\n",
    "Special Program (interpreter) executes each instruction in order\n",
    "- Use test to change flow of control through each sequence if needed. (If result is in need of special processing.)\n",
    "- Stop when done."
   ]
  },
  {
   "attachments": {},
   "cell_type": "markdown",
   "metadata": {},
   "source": [
    "# **Creating Recipes**\n",
    "\n",
    "- A programming language provides set of primitive operations. (ints/bools/floats/strings/byte/etc)\n",
    "- Expressions are complex but are combination of primitive operations in programming language. (3.5*5 or \"hello\"+\"world\")\n",
    "- Expressions/Computations have values and meaning in programming language.\n",
    "\n",
    "Aspects of Language\n",
    "\n",
    "- Static semantics: is which syntactically valid strings have logical meaning.\n",
    "- EX: 3.5 + \"hi\"    - Not syntactically valid (Doesn't make sense)\n",
    "- EX: 3.5 * 5       - Syntactically valid. (Makes sense)"
   ]
  },
  {
   "attachments": {},
   "cell_type": "markdown",
   "metadata": {},
   "source": [
    "# **Python Programs**\n",
    "\n",
    "A program is a sequence of definitions and commands.\n",
    "- definitions are evaluated\n",
    "- commands are executed by Python interpreter in shell\n",
    "\n",
    "Commands (statements) instruct interpreter to do something.\n"
   ]
  },
  {
   "attachments": {},
   "cell_type": "markdown",
   "metadata": {},
   "source": [
    "# **Objects**\n",
    "\n",
    "Programs manipulate data objects.\n",
    "\n",
    "Objects have a TYPE that defines the kind of things programs can do to them.\n",
    "- EX: Bob is human, so he can walk, talk, eat and speak.\n",
    "\n",
    "Objects are:\n",
    "- Scalar (Cannot be subdivided) EX: Number object 5, cannot do anything else other than basic arithmetics.\n",
    "- Non-scalar (Have internal structure that can be accessed) EX: A list object (1,2,3), can do a lot. Can access individual elements to do operations, or split list into sublists, etc."
   ]
  },
  {
   "attachments": {},
   "cell_type": "markdown",
   "metadata": {},
   "source": [
    "# **Scalar Objects in Python**\n",
    "\n",
    "- int | integers, 1\n",
    "- float | real numbers, 3.521\n",
    "- bool | True or False\n",
    "- NoneType | special, has one value None\n",
    "\n",
    "*Can use type() method to find the type of the value/variable."
   ]
  },
  {
   "attachments": {},
   "cell_type": "markdown",
   "metadata": {},
   "source": [
    "# **Type Conversion in Python**\n",
    "\n",
    "Can convert between types.\n",
    "\n",
    "- float(3) , converts int 3 to float 3.00\n",
    "- int(3.0) , converts float 3.0 to int 3. Truncates the float, removes anything after decimal and does not round."
   ]
  },
  {
   "attachments": {},
   "cell_type": "markdown",
   "metadata": {},
   "source": [
    "# **Expressions**\n",
    "\n",
    "Combines objects and operators to form an expression.\n",
    "5 + 3\n",
    "\n",
    "An expression has a value, which has a type.\n",
    "\n",
    "Syntax for simple expression:\n",
    "<object> <operator> <object>"
   ]
  }
 ],
 "metadata": {
  "language_info": {
   "name": "python"
  },
  "orig_nbformat": 4
 },
 "nbformat": 4,
 "nbformat_minor": 2
}
