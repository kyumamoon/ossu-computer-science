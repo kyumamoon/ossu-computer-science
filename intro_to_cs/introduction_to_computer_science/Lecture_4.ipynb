{
 "cells": [
  {
   "attachments": {},
   "cell_type": "markdown",
   "metadata": {},
   "source": [
    "# **Lecture 4:Decomposition, Abstraction, and Functions**"
   ]
  },
  {
   "attachments": {},
   "cell_type": "markdown",
   "metadata": {},
   "source": [
    "# **Good Programming**\n",
    "\n",
    "- More code != good\n",
    "- Measure good programmers by amount of functionality\n",
    "- Functions are used.\n",
    "- Achieve mechanisms for decomposition and abstraction."
   ]
  },
  {
   "attachments": {},
   "cell_type": "markdown",
   "metadata": {},
   "source": [
    "# **Abstraction**\n",
    "\n",
    "**Example: Projector**\n",
    "- The device is a black box.\n",
    "- Dont know how it works.\n",
    "- Only know its interface: input/output\n",
    "- Connect any device to its input to output it to a bigger display.\n",
    "- ABSTRACTION: do not need to know how it works (on a deep level) in order to use it.\n",
    "\n",
    "**Supress Details with Abstraction**\n",
    "- When using premade code/functions, don't need to know details of the code in order to use it or how it's built.\n",
    "- Achieve abstraction with function specifications or \"docstrings\". These give an intro/short how to use.\n",
    "    - What are the inputs of the function and their types, and what does function do, and what are the outputs."
   ]
  },
  {
   "attachments": {},
   "cell_type": "markdown",
   "metadata": {},
   "source": [
    "# **Decomposition**\n",
    "\n",
    "**Example: Projector**\n",
    "\n",
    "- Having multiple smaller projectors take in an input and output different stuff in order to produce an even larger image.\n",
    "- The individual projectors are working together to achieve an end goal.\n",
    "\n",
    "**Ways to acheive decomposition in programming with python:**\n",
    "- modules\n",
    "    - self-contained\n",
    "    - used to break up the code into smaller pieces\n",
    "    - reusable\n",
    "    - helps organization\n",
    "    - keeps code coherent\n",
    "- functions\n",
    "- classes"
   ]
  },
  {
   "attachments": {},
   "cell_type": "markdown",
   "metadata": {},
   "source": [
    "# **Functions**\n",
    "\n",
    "- Write reusable chunks of code called functions.\n",
    "- Functions only run when called/invoked in program.\n",
    "- Characteristics:\n",
    "    - a name\n",
    "    - parameters (if any)\n",
    "    - docstring (optional)\n",
    "    - body of code\n",
    "    - returns something"
   ]
  },
  {
   "cell_type": "code",
   "execution_count": null,
   "metadata": {},
   "outputs": [],
   "source": [
    "# Example:\n",
    "# def = function initializing\n",
    "# is_even = function name\n",
    "# i = parameter/variable placeholder\n",
    "# \"\"\" block docstring\n",
    "# return = returning a result to the caller of the function\n",
    "# is_even(3) = caller of the function\n",
    "\n",
    "def is_even(i):\n",
    "    \"\"\"\n",
    "        Input: i, a positive int\n",
    "        Returns bool, True if \"i\" is even, False if otherwise.\n",
    "    \"\"\"\n",
    "\n",
    "    print(\"inside is_even\")\n",
    "    return i%2==0 # If no return specified. Python returns \"None\"\n",
    "\n",
    "is_even(3)"
   ]
  },
  {
   "attachments": {},
   "cell_type": "markdown",
   "metadata": {},
   "source": [
    "# **Variable Scope**\n",
    "\n",
    "- Formal parameter gets bound to the value of actual parameter when function is called.\n",
    "- New scope/frame/environment created when entering a function.\n",
    "- Scope is mapping of names to objects."
   ]
  },
  {
   "attachments": {},
   "cell_type": "markdown",
   "metadata": {},
   "source": [
    "# **Functions as Arguments**\n",
    "\n",
    "- Parameters can be of any type, even functions."
   ]
  },
  {
   "cell_type": "code",
   "execution_count": null,
   "metadata": {},
   "outputs": [],
   "source": [
    "def funcA(x,func):\n",
    "    print(func(x))\n",
    "\n",
    "def funcB(x):\n",
    "    print(x,50)\n",
    "\n",
    "funcA(10,funcB)"
   ]
  },
  {
   "attachments": {},
   "cell_type": "markdown",
   "metadata": {},
   "source": [
    "# **Scope Example**\n",
    "\n",
    "- When inside a function, can access a variable defined outside.\n",
    "- But CANT modify that variable.\n",
    "- Way around is using global variables. (Frowned upon.)"
   ]
  },
  {
   "cell_type": "code",
   "execution_count": null,
   "metadata": {},
   "outputs": [],
   "source": [
    "# func(a) can only modify the x (separate from x outside the func).\n",
    "\n",
    "def func(a):\n",
    "    x = 1\n",
    "    x += 1\n",
    "    print(x) # Prints 2\n",
    "\n",
    "x = 5\n",
    "func(x)\n",
    "print(x) # Prints 5"
   ]
  },
  {
   "cell_type": "code",
   "execution_count": null,
   "metadata": {},
   "outputs": [],
   "source": [
    "def func(b):\n",
    "    print(x) # Prints 5\n",
    "\n",
    "x = 5\n",
    "func(x)"
   ]
  },
  {
   "cell_type": "code",
   "execution_count": null,
   "metadata": {},
   "outputs": [],
   "source": [
    "def func(c):\n",
    "    x+= 1\n",
    "\n",
    "x = 5\n",
    "func(x) # Error, can't modify x from outside.\n",
    "print(x)"
   ]
  }
 ],
 "metadata": {
  "kernelspec": {
   "display_name": "Python 3",
   "language": "python",
   "name": "python3"
  },
  "language_info": {
   "codemirror_mode": {
    "name": "ipython",
    "version": 3
   },
   "file_extension": ".py",
   "mimetype": "text/x-python",
   "name": "python",
   "nbconvert_exporter": "python",
   "pygments_lexer": "ipython3",
   "version": "3.10.2 (tags/v3.10.2:a58ebcc, Jan 17 2022, 14:12:15) [MSC v.1929 64 bit (AMD64)]"
  },
  "orig_nbformat": 4,
  "vscode": {
   "interpreter": {
    "hash": "fa6936afccae6738ef30cc92f5c1ede57c28cb430a06fa1a1a3979d763f241d5"
   }
  }
 },
 "nbformat": 4,
 "nbformat_minor": 2
}
