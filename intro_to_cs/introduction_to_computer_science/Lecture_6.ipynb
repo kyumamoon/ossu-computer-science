{
 "cells": [
  {
   "attachments": {},
   "cell_type": "markdown",
   "metadata": {},
   "source": [
    "# **Lecture 6: Recursion and Dictionaries**"
   ]
  },
  {
   "attachments": {},
   "cell_type": "markdown",
   "metadata": {},
   "source": [
    "# **Recursion**\n",
    "\n",
    "The process of repeating items in a self-similar way.\n",
    "\n",
    "But what is really recursion?\n",
    "\n",
    "**Algorithmically**\n",
    "- a way to design solutions to problems by \"divide and conquer\" or \"decrease and conquer\"\n",
    "    - reduce a problem to simpler pieces of the same problem\n",
    "\n",
    "**Semantically**\n",
    "- a programming technique where a function calls itself.\n",
    "    - programming goal is to NOT to have infinite loops.\n",
    "    - must have 1 or more \"Base Cases\" that are easy to solve.\n",
    "        - Base Case: the lowest/simplest point of recursion where we can't split further so we return the result back up the recursion tree to end the recursion.\n",
    "    - must solve same problem on some other input with goal of simplifying the larger problem input."
   ]
  },
  {
   "attachments": {},
   "cell_type": "markdown",
   "metadata": {},
   "source": [
    "# **Iterative Algorithms So Far**\n",
    "\n",
    "- Looping constructs (while and for) lead to iterative algorithms.\n",
    "- Can capture computation in a set of state variables that update on each iteration through loop."
   ]
  },
  {
   "attachments": {},
   "cell_type": "markdown",
   "metadata": {},
   "source": [
    "**Multiplication Iterative Solution**\n",
    "\n",
    "Example: multiply A * B is equivalent to ADD A TO ITSELF B TIMES\n",
    "\n",
    "- Capture the state by having:\n",
    "    - an iteration number (i) that starts at B and decreasing/increasing from 0 to B or B to 0.\n",
    "    - a current value of computation (result holder)\n",
    "        - resultHolder = resultHolder + a\n"
   ]
  },
  {
   "cell_type": "code",
   "execution_count": null,
   "metadata": {},
   "outputs": [],
   "source": [
    "# Iterative Solution\n",
    "\n",
    "def multiplicationIteration(a,b):\n",
    "    result = 0\n",
    "    for i in range(b):\n",
    "        result+=a\n",
    "    return result\n",
    "\n",
    "def multiplicationIteration2(a,b):\n",
    "    result = 0\n",
    "    while b > 0:\n",
    "        result+=a\n",
    "        b-=1\n",
    "    return result\n",
    "\n",
    "print(multiplicationIteration(2,3))\n",
    "\n",
    "print(multiplicationIteration2(2,3))"
   ]
  },
  {
   "attachments": {},
   "cell_type": "markdown",
   "metadata": {},
   "source": [
    "**Multiplication Recursive Solution**\n",
    "\n",
    "Recursive Step\n",
    "- think how to reduce problem to a simpler/smaller version of same problem.\n",
    "Base Case\n",
    "- keep reducing problem until reach a simple case that can be solved directly.\n",
    "- when b = 1, a*b=a"
   ]
  },
  {
   "cell_type": "code",
   "execution_count": null,
   "metadata": {},
   "outputs": [],
   "source": [
    "# Recursive Solution\n",
    "\n",
    "def multiplicationRecursive(a,b):\n",
    "    if b == 1:\n",
    "        return a\n",
    "    return a+multiplicationRecursive(a,b-1)\n",
    "\n",
    "print(multiplicationRecursive(2,3))"
   ]
  },
  {
   "cell_type": "code",
   "execution_count": null,
   "metadata": {},
   "outputs": [],
   "source": [
    "# Recursive Factorial\n",
    "\n",
    "def factorialRecursive(a):\n",
    "    if a == 1:\n",
    "        return 1\n",
    "    return a*factorialRecursive(a-1) # n*n-1*n-2*n-3 etc\n",
    "\n",
    "print(factorialRecursive(4))\n",
    "\n",
    "# Iterative Factorial\n",
    "\n",
    "def factorialIterative(a):\n",
    "    answer = 1\n",
    "\n",
    "    for i in range(a,0,-1): # 4,3,2,1\n",
    "        answer*=i\n",
    "    return answer\n",
    "\n",
    "print(factorialIterative(4))"
   ]
  },
  {
   "attachments": {},
   "cell_type": "markdown",
   "metadata": {},
   "source": [
    "**Some Observation**\n",
    "\n",
    "- each recursive call to a function creates its own \"scope/environment\"\n",
    "- binding of variables in the scope are not changed by recursive call\n",
    "- flow of control passes back to previous scope once function call returns a value\n",
    "\n",
    "- recursion may be simpler, more intuitive to understand\n",
    "- recursion may be efficient from programmer POV\n",
    "- recursion may not be efficient from computer POV"
   ]
  },
  {
   "attachments": {},
   "cell_type": "markdown",
   "metadata": {},
   "source": [
    "**Inductive Reasoning**\n",
    "- How do we know that our recursive code will work?\n",
    "\n",
    "Iterative Code Below:\n",
    "- function terminates because b was initially positive and decreases by 1 each time around loop; thus it must eventually become less than 1.\n",
    "\n",
    "Recursive Code Below:\n",
    "- function calls with b = 1 has no recursive call and stops\n",
    "- function called with b > 1 makes a recursive call with a smaller version of b; so it will eventually reach a call with b = 1\n"
   ]
  },
  {
   "cell_type": "code",
   "execution_count": null,
   "metadata": {},
   "outputs": [],
   "source": [
    "# Iterative\n",
    "def mult_iter(a,b):\n",
    "    result = 0\n",
    "    while b > 0:\n",
    "        result += a\n",
    "        b-=1\n",
    "    return result\n",
    "\n",
    "# Recursive\n",
    "def mult(a,b):\n",
    "    if b == 1:\n",
    "        return a\n",
    "    return a + mult(a,b-1)\n",
    "\n",
    "print(mult_iter(2,3))\n",
    "print(mult(2,3))"
   ]
  },
  {
   "cell_type": "code",
   "execution_count": null,
   "metadata": {},
   "outputs": [],
   "source": [
    "# Is string a palindrome?\n",
    "def cleanString(a):\n",
    "    \"\"\"\"\n",
    "    Input: a string\n",
    "    Returns: a string that is lowercased and whitespace removed.\n",
    "    Function cleans up string for isPalindrome function to process.\n",
    "    \"\"\"\n",
    "    a = a.lower()\n",
    "    ans = ''\n",
    "    for c in a:\n",
    "        if c in 'abcdefghijklmnopqrstuvwxyz':\n",
    "            ans = ans + c\n",
    "    return ans\n",
    "\n",
    "\n",
    "def isPalindrome(a):\n",
    "    \"\"\"\n",
    "    Input: a is a string\n",
    "    Returns: a bool\n",
    "    Function recursively passes down a sliced version of input to compare the left/right ends.\n",
    "    \"\"\"\n",
    "\n",
    "    a = cleanString(a)\n",
    "\n",
    "    if len(a) <= 1:\n",
    "        return True\n",
    "    if a[0] != a[-1]:\n",
    "        return False\n",
    "    else:\n",
    "        return isPalindrome(a[1:-1])\n",
    "\n",
    "stringOne = \"Abcba\"\n",
    "print(isPalindrome(stringOne))\n",
    "print(isPalindrome(\"abdcba\"))"
   ]
  },
  {
   "attachments": {},
   "cell_type": "markdown",
   "metadata": {},
   "source": [
    "# **Dictionaries**\n",
    "\n",
    "**How to store student info**\n",
    "- so far can store using separte lists for info\n",
    "    - names = ['Ana','John','Denise','Katy']\n",
    "    - grade = ['B','A+','A','A']\n",
    "    - course = ['2.00','6.0001','20.002','9.01']\n",
    "    - a separate list for each item\n",
    "    - each list must have same length\n",
    "    - MESSY\n",
    "\n",
    "**A better and cleaner way - Dictionary**\n",
    "- nice to index item of interest directly (using non int)\n",
    "- nice to use one data structure, no separate lists\n",
    "\n",
    "# **A Python Dictionary**\n",
    "\n",
    "Stores pairs of data.\n",
    "- key (need to be unique)\n",
    "- value"
   ]
  },
  {
   "cell_type": "code",
   "execution_count": null,
   "metadata": {},
   "outputs": [],
   "source": [
    "myDict = {}                             # Empty Dictionary\n",
    "myDict2 = {'key1':2,'key2':5,'key3':23} # Dictionary with key:value pairs\n",
    "print(myDict2['key1'])                  # Getting value by calling key\n",
    "\n",
    "myDict2['key4'] = 46                    # Creating new keys.\n",
    "print('key2' in myDict2)                # Check if key exists\n",
    "del(myDict2['key3'])                    # Delete a key from dictionary\n",
    "\n",
    "myDict2.values()                        # Print all values\n",
    "myDict2.keys()                          # Print all keys"
   ]
  },
  {
   "cell_type": "code",
   "execution_count": null,
   "metadata": {},
   "outputs": [],
   "source": [
    "students = {'Ana':{'2.00':'B'},'John':{'6.0001':'A+'},'Denise':{'20.002':'A'},'Katy':{'9.01':'A'}} # Dictionary with string as key and dictionary as value\n",
    "print(students['Ana'])\n",
    "print(students['Ana']['2.00'])\n",
    "print(students['John'])\n",
    "print(students['Denise'])\n",
    "print(students['Katy'])"
   ]
  },
  {
   "cell_type": "code",
   "execution_count": null,
   "metadata": {},
   "outputs": [],
   "source": [
    "# Counting word frequencies in a song.\n",
    "\n",
    "def lyrics_to_frequencies(lyrics):\n",
    "    \"\"\"\n",
    "    Input: a list of words\n",
    "    Return: a dictionary with string:int pair\n",
    "    Function counts word frequencies in a list.\n",
    "    \"\"\"\n",
    "    lyrics = lyrics.split()\n",
    "    myDict = {}\n",
    "    for word in lyrics:\n",
    "        if word in myDict:\n",
    "            myDict[word]+= 1\n",
    "        else:\n",
    "            myDict[word] = 1\n",
    "    return myDict\n",
    "\n",
    "songLyrics = \"I am the boss I am the man man I am boss\"\n",
    "print(lyrics_to_frequencies(songLyrics))\n",
    "\n",
    "def most_common_words(freqs):\n",
    "    \"\"\"\n",
    "    Input: a dictionary\n",
    "    Returns: a list of words and the max number value in the input\n",
    "    \"\"\"\n",
    "    values = freqs.values()\n",
    "    best = max(values)\n",
    "    words = []\n",
    "    for k in freqs:\n",
    "        if freqs[k] == best:\n",
    "            words.append(k)\n",
    "    return (words,best)\n",
    "\n",
    "print(most_common_words(lyrics_to_frequencies(songLyrics)))"
   ]
  },
  {
   "attachments": {},
   "cell_type": "markdown",
   "metadata": {},
   "source": [
    "**Lists vs Dictionary**\n",
    "\n",
    "Lists\n",
    "- ordered sequence of elements\n",
    "- look up element by an integer index\n",
    "- indices have an order\n",
    "- index is an int\n",
    "\n",
    "Dictionary\n",
    "- matches \"key\" to \"values\"\n",
    "- look up one item by another item\n",
    "- no order is guaranteed\n",
    "- key can be any immutable type\n",
    "\n",
    "Dictionary can be used for memoization to reduce recursive calls to improve performance.\n",
    "- It is a way to reduce the same calls when the result was already produces, avoids unnecessary branching.\n",
    "- Dictionary will be the memory card that gets passed onto each recursive call to check."
   ]
  }
 ],
 "metadata": {
  "kernelspec": {
   "display_name": "Python 3",
   "language": "python",
   "name": "python3"
  },
  "language_info": {
   "codemirror_mode": {
    "name": "ipython",
    "version": 3
   },
   "file_extension": ".py",
   "mimetype": "text/x-python",
   "name": "python",
   "nbconvert_exporter": "python",
   "pygments_lexer": "ipython3",
   "version": "3.10.2"
  },
  "orig_nbformat": 4,
  "vscode": {
   "interpreter": {
    "hash": "fa6936afccae6738ef30cc92f5c1ede57c28cb430a06fa1a1a3979d763f241d5"
   }
  }
 },
 "nbformat": 4,
 "nbformat_minor": 2
}
