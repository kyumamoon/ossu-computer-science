{
 "cells": [
  {
   "attachments": {},
   "cell_type": "markdown",
   "metadata": {},
   "source": [
    "# **Lecture 11: Understanding Program Efficiency, Part 2**"
   ]
  },
  {
   "attachments": {},
   "cell_type": "markdown",
   "metadata": {},
   "source": [
    "# **Constant Complexity O(1)**\n",
    "\n",
    "- Complexity independent of inputs\n",
    "- Very few interesting algorithms in this class, but can often have pieces that fit this class.\n",
    "- Can have loops or recursive calls, but ONLY IF number of iterations of calls independent of size of input."
   ]
  },
  {
   "attachments": {},
   "cell_type": "markdown",
   "metadata": {},
   "source": [
    "---\n",
    "\n"
   ]
  },
  {
   "attachments": {},
   "cell_type": "markdown",
   "metadata": {},
   "source": [
    "# **Logarithmic Complexity O(log n)**"
   ]
  },
  {
   "cell_type": "code",
   "execution_count": null,
   "metadata": {},
   "outputs": [],
   "source": [
    "def intToStr(i):\n",
    "    digits = '0123456789'                   # O(1)\n",
    "    if i == 0:                              # O(1)\n",
    "        return '0'\n",
    "\n",
    "    result = ''                             # O(1)\n",
    "    while i > 0:                            # O(log n), because depends on how many times can divide i by 10 determines how many loops\n",
    "        result = digits[i%10] + result\n",
    "        i = i//10\n",
    "    return result"
   ]
  },
  {
   "attachments": {},
   "cell_type": "markdown",
   "metadata": {},
   "source": [
    "**Bisection Search Implementation 1**"
   ]
  },
  {
   "cell_type": "code",
   "execution_count": null,
   "metadata": {},
   "outputs": [],
   "source": [
    "def bisect_search(L,e):\n",
    "    if L == []:                                     # O(1)\n",
    "        return False\n",
    "    elif len(L) == 1:                               # O(1)\n",
    "        return L[0] == e\n",
    "    else:\n",
    "        half = len(L)//2                            # O(1)\n",
    "        if L[half] > e:                             # O(1)\n",
    "            return bisect_search(L[:half],e)        # ??? not Constant\n",
    "        else:\n",
    "            return bisect_search(L[half:],e)        # ??? not Constant"
   ]
  },
  {
   "attachments": {},
   "cell_type": "markdown",
   "metadata": {},
   "source": [
    "**Complexity of First Bisection Search Method**\n",
    "\n",
    "- Implementation 1 - bisect_search\n",
    "    - O(log n ) bisection search calls\n",
    "        - On each recursive call, size of the range to be searched is cut in half\n",
    "        - If original range is of size n, in worst case down to range of size 1 when n/(2^k)=1; or when k = log n\n",
    "    - O(n) for each bisection search call to copy list\n",
    "        - This is the cost to set up each call, so do this for each level of recursion.\n",
    "    - O(log n) * O(n) = O(n log n)\n",
    "        - If we are careful, note that the length of list to be copied is also halved on each recursive call\n",
    "            - Turns out that total cost to copy is O(n) and this dominates the log n cost due to the recursive calls"
   ]
  },
  {
   "attachments": {},
   "cell_type": "markdown",
   "metadata": {},
   "source": [
    "**Bisection Search Implementation 2**\n",
    "- Avoid copying the list."
   ]
  },
  {
   "cell_type": "code",
   "execution_count": null,
   "metadata": {},
   "outputs": [],
   "source": [
    "def bisect_search2(L,e):\n",
    "    def bisect_search_helper(L,e,low,high):\n",
    "        if high == low:                                         # O(1)\n",
    "            return L[low] == e\n",
    "\n",
    "        mid = (low+high)//2                                     # O(1)\n",
    "\n",
    "        if L[mid] == e:                                         # O(1)\n",
    "            return True\n",
    "        elif L[mid] > e:                                        # O(1)\n",
    "            if low == mid: # Nothing left to search\n",
    "                return False\n",
    "            else:\n",
    "                return bisect_search_helper(L,e,mid+1,high)     # O(1) because no matter size of list, just changing high and low not the list.\n",
    "        else:\n",
    "            return bisect_search_helper(L,e,mid+1,high)         # O(1) because no matter size of list, just changing high and low not the list.\n",
    "    if len(L) == 0:                                             # O(1)\n",
    "        return False\n",
    "    else:\n",
    "        return bisect_search_helper(L,e,0,len(L)-1)             # O(log n) recursive call"
   ]
  },
  {
   "attachments": {},
   "cell_type": "markdown",
   "metadata": {},
   "source": [
    "---\n",
    "\n",
    "# **Linear Complexity O(n)**\n",
    "\n",
    "- Complexity can depend on number of iterative calls."
   ]
  },
  {
   "cell_type": "code",
   "execution_count": null,
   "metadata": {},
   "outputs": [],
   "source": [
    "# Overall O(n) - n times round loop, constant cost each time\n",
    "\n",
    "def factorial_iteration(n):\n",
    "    product = 1                 # O(1)\n",
    "    for i in range(1,n+1):      # O(n)\n",
    "        product *= i            # O(1) + O(1)\n",
    "    return product"
   ]
  },
  {
   "cell_type": "code",
   "execution_count": null,
   "metadata": {},
   "outputs": [],
   "source": [
    "# Computers factorial recursively.\n",
    "# Runs slower than iteration version because this is slower than loop, since its not tail recursion.\n",
    "# O(n) because number of function calls is linear in n, and constant effort to set up call.\n",
    "\n",
    "def factorial_recursive(n):\n",
    "    if n <= 1:\n",
    "        return 1\n",
    "    else:\n",
    "        return n*factorial_recursive(n-1)"
   ]
  },
  {
   "attachments": {},
   "cell_type": "markdown",
   "metadata": {},
   "source": [
    "---\n",
    "\n",
    "# **Log Linear Complexity O(n log n)**"
   ]
  },
  {
   "attachments": {},
   "cell_type": "markdown",
   "metadata": {},
   "source": [
    "- Many practical algorithms are log-linear\n",
    "- Very Commonly used log-linear algorithm is merge sort."
   ]
  },
  {
   "attachments": {},
   "cell_type": "markdown",
   "metadata": {},
   "source": [
    "---\n",
    "\n",
    "# **Polynomial Complexity O(n^C)**\n",
    "- Most common polynomial algorithms are quadratic. i.e., complexity grows with square of size of input.\n",
    "- Commonly occurs when we have nested loops or recursive function calls."
   ]
  },
  {
   "attachments": {},
   "cell_type": "markdown",
   "metadata": {},
   "source": [
    "---\n",
    "\n",
    "# **Exponential Complexity O(C^n)**\n",
    "\n",
    "- Recursive functions where more than one recursive call for each size of problem.\n",
    "    - Towers of Hanoi\n",
    "- Many important problems are inherently exponential\n",
    "    - Unfortunate, as cost can be high\n",
    "    - Will lead us to consider approximate solutions as may provide reasonable answer more quickly."
   ]
  },
  {
   "attachments": {},
   "cell_type": "markdown",
   "metadata": {},
   "source": [
    "**Complexity of Towers of Hanoi**\n",
    "\n",
    "- Let tbase_n denote time to solve tower of size n\n",
    "- tbase_n = 2(tbase_n-1) + 1\n",
    "- = 2(2tbase_(n-2) + 1) + 1\n",
    "- = 4tbase_(n-2) + 2 + 1\n",
    "- = 4(2tbase_(n-3) + 1) + 2 + 1\n",
    "- = 8tbase_(n-3) + 4 + 2 + 1\n",
    "- = (2^k)tbase(n-k) + 2^(k-1) + ... + 4 + 2 + 1\n",
    "- = 2^n - 1\n",
    "- So order of growth is O(2^n)\n",
    "    - every recursive call grows 2 recursive calls and repeats for each call onward"
   ]
  },
  {
   "attachments": {},
   "cell_type": "markdown",
   "metadata": {},
   "source": [
    "**Subset Generation with Exponential Complexity**\n",
    "- Given a set of integers (no repeats), want to generate the collection of all possible subsets - called the power set.\n",
    "- {1,2,3,4}:\n",
    "    - {},{1},{2},{3},{4},{1,2},{1,3},{1,4},{2,3},{2,4},{3,4},{1,2,3},{1,2,4},{1,3,4},{2,3,4},{1,2,3,4}\n",
    "\n",
    "**Power Set - Concept**\n",
    "- Want to generate the power set of integers from 1 to n\n",
    "- Assume we can generate power set of integers from 1 to n-1\n",
    "- Then all those subsets belong to bigger power set (choosing not include n); and all those subsets with n added to each of them also belong to the bigger power set (choosing to include n)."
   ]
  },
  {
   "cell_type": "code",
   "execution_count": null,
   "metadata": {},
   "outputs": [],
   "source": [
    "def generateSubsets(L):\n",
    "    result = []\n",
    "    if len(L) == 0:\n",
    "        return [[]]                         # List of empty List\n",
    "    smaller = generateSubsets(L[:-1])       # All subsets without last element\n",
    "    extra = L[-1:]                          # Create a list of just last element\n",
    "    new = []\n",
    "    for small in smaller:\n",
    "        new.append(small+extra)             # For all smaller solutions, add one with last element\n",
    "    return smaller+new                      # Combine those with last element and those without"
   ]
  },
  {
   "cell_type": "code",
   "execution_count": null,
   "metadata": {},
   "outputs": [],
   "source": [
    "# Complexity Analysis\n",
    "\n",
    "def generateSubsets(L):\n",
    "    result = []                             # O(1)\n",
    "    if len(L) == 0:                         # O(1)\n",
    "        return [[]]                         \n",
    "    smaller = generateSubsets(L[:-1])       # O(n)\n",
    "    extra = L[-1:]                          # O(1)\n",
    "    new = []                                # O(1)\n",
    "    for small in smaller:                   # O(2^n) because each recursive call has multiple recursive call at each step.\n",
    "        new.append(small+extra)             # O(1)\n",
    "    return smaller+new                      "
   ]
  }
 ],
 "metadata": {
  "kernelspec": {
   "display_name": "Python 3",
   "language": "python",
   "name": "python3"
  },
  "language_info": {
   "name": "python",
   "version": "3.10.2"
  },
  "orig_nbformat": 4,
  "vscode": {
   "interpreter": {
    "hash": "fa6936afccae6738ef30cc92f5c1ede57c28cb430a06fa1a1a3979d763f241d5"
   }
  }
 },
 "nbformat": 4,
 "nbformat_minor": 2
}
