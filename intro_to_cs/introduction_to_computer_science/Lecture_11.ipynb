{
 "cells": [
  {
   "attachments": {},
   "cell_type": "markdown",
   "metadata": {},
   "source": [
    "# **Lecture 11: Understanding Program Efficiency, Part 2**"
   ]
  },
  {
   "attachments": {},
   "cell_type": "markdown",
   "metadata": {},
   "source": [
    "# **Constant Complexity O(1)**\n",
    "\n",
    "- Complexity independent of inputs\n",
    "- Very few interesting algorithms in this class, but can often have pieces that fit this class.\n",
    "- Can have loops or recursive calls, but ONLY IF number of iterations of calls independent of size of input."
   ]
  },
  {
   "attachments": {},
   "cell_type": "markdown",
   "metadata": {},
   "source": [
    "---\n",
    "\n"
   ]
  },
  {
   "attachments": {},
   "cell_type": "markdown",
   "metadata": {},
   "source": [
    "# **Logarithmic Complexity O(log n)**"
   ]
  },
  {
   "cell_type": "code",
   "execution_count": null,
   "metadata": {},
   "outputs": [],
   "source": [
    "def intToStr(i):\n",
    "    digits = '0123456789'                   # O(1)\n",
    "    if i == 0:                              # O(1)\n",
    "        return '0'\n",
    "\n",
    "    result = ''                             # O(1)\n",
    "    while i > 0:                            # O(log n), because depends on how many times can divide i by 10 determines how many loops\n",
    "        result = digits[i%10] + result\n",
    "        i = i//10\n",
    "    return result"
   ]
  },
  {
   "attachments": {},
   "cell_type": "markdown",
   "metadata": {},
   "source": [
    "**Bisection Search Implementation 1**"
   ]
  },
  {
   "cell_type": "code",
   "execution_count": null,
   "metadata": {},
   "outputs": [],
   "source": [
    "def bisect_search(L,e):\n",
    "    if L == []:                                     # O(1)\n",
    "        return False\n",
    "    elif len(L) == 1:                               # O(1)\n",
    "        return L[0] == e\n",
    "    else:\n",
    "        half = len(L)//2                            # O(1)\n",
    "        if L[half] > e:                             # O(1)\n",
    "            return bisect_search(L[:half],e)        # ??? not Constant\n",
    "        else:\n",
    "            return bisect_search(L[half:],e)        # ??? not Constant"
   ]
  },
  {
   "attachments": {},
   "cell_type": "markdown",
   "metadata": {},
   "source": [
    "**Complexity of First Bisection Search Method**\n",
    "\n",
    "- Implementation 1 - bisect_search\n",
    "    - O(log n ) bisection search calls\n",
    "        - On each recursive call, size of the range to be searched is cut in half\n",
    "        - If original range is of size n, in worst case down to range of size 1 when n/(2^k)=1; or when k = log n\n",
    "    - O(n) for each bisection search call to copy list\n",
    "        - This is the cost to set up each call, so do this for each level of recursion.\n",
    "    - O(log n) * O(n) = O(n log n)\n",
    "        - If we are careful, note that the length of list to be copied is also halved on each recursive call\n",
    "            - Turns out that total cost to copy is O(n) and this dominates the log n cost due to the recursive calls"
   ]
  },
  {
   "attachments": {},
   "cell_type": "markdown",
   "metadata": {},
   "source": [
    "**Bisection Search Implementation 2**\n",
    "- Avoid copying the list."
   ]
  },
  {
   "cell_type": "code",
   "execution_count": null,
   "metadata": {},
   "outputs": [],
   "source": [
    "def bisect_search2(L,e):\n",
    "    def bisect_search_helper(L,e,low,high):\n",
    "        if high == low:                                         # O(1)\n",
    "            return L[low] == e\n",
    "\n",
    "        mid = (low+high)//2                                     # O(1)\n",
    "\n",
    "        if L[mid] == e:                                         # O(1)\n",
    "            return True\n",
    "        elif L[mid] > e:                                        # O(1)\n",
    "            if low == mid: # Nothing left to search\n",
    "                return False\n",
    "            else:\n",
    "                return bisect_search_helper(L,e,mid+1,high)     # O(1) because no matter size of list, just changing high and low not the list.\n",
    "        else:\n",
    "            return bisect_search_helper(L,e,mid+1,high)         # O(1) because no matter size of list, just changing high and low not the list.\n",
    "    if len(L) == 0:                                             # O(1)\n",
    "        return False\n",
    "    else:\n",
    "        return bisect_search_helper(L,e,0,len(L)-1)             # O(log n) recursive call"
   ]
  },
  {
   "attachments": {},
   "cell_type": "markdown",
   "metadata": {},
   "source": [
    "---\n",
    "\n",
    "# **Linear Complexity O(n)**\n",
    "\n",
    "- Complexity can depend on number of iterative calls."
   ]
  },
  {
   "cell_type": "code",
   "execution_count": null,
   "metadata": {},
   "outputs": [],
   "source": [
    "# Overall O(n) - n times round loop, constant cost each time\n",
    "\n",
    "def factorial_iteration(n):\n",
    "    product = 1                 # O(1)\n",
    "    for i in range(1,n+1):      # O(n)\n",
    "        product *= i            # O(1) + O(1)\n",
    "    return product"
   ]
  },
  {
   "cell_type": "code",
   "execution_count": null,
   "metadata": {},
   "outputs": [],
   "source": [
    "# Computers factorial recursively.\n",
    "# Runs slower than iteration version because this is slower than loop, since its not tail recursion.\n",
    "# O(n) because number of function calls is linear in n, and constant effort to set up call.\n",
    "\n",
    "def factorial_recursive(n):\n",
    "    if n <= 1:\n",
    "        return 1\n",
    "    else:\n",
    "        return n*factorial_recursive(n-1)"
   ]
  },
  {
   "attachments": {},
   "cell_type": "markdown",
   "metadata": {},
   "source": [
    "---\n",
    "\n",
    "# **Log Linear Complexity O(n log n)**"
   ]
  },
  {
   "attachments": {},
   "cell_type": "markdown",
   "metadata": {},
   "source": [
    "- Many practical algorithms are log-linear\n",
    "- Very Commonly used log-linear algorithm is merge sort."
   ]
  },
  {
   "attachments": {},
   "cell_type": "markdown",
   "metadata": {},
   "source": [
    "---\n",
    "\n",
    "# **Polynomial Complexity O(n^C)**\n",
    "- Most common polynomial algorithms are quadratic. i.e., complexity grows with square of size of input.\n",
    "- Commonly occurs when we have nested loops or recursive function calls."
   ]
  },
  {
   "attachments": {},
   "cell_type": "markdown",
   "metadata": {},
   "source": [
    "---\n",
    "\n",
    "# **Exponential Complexity O(C^n)**"
   ]
  }
 ],
 "metadata": {
  "kernelspec": {
   "display_name": "Python 3",
   "language": "python",
   "name": "python3"
  },
  "language_info": {
   "name": "python",
   "version": "3.10.2"
  },
  "orig_nbformat": 4,
  "vscode": {
   "interpreter": {
    "hash": "fa6936afccae6738ef30cc92f5c1ede57c28cb430a06fa1a1a3979d763f241d5"
   }
  }
 },
 "nbformat": 4,
 "nbformat_minor": 2
}
