{
 "cells": [
  {
   "attachments": {},
   "cell_type": "markdown",
   "metadata": {},
   "source": [
    "# **Lecture 5: Tuples, Lists, Aliasing, Mutability, and Cloning**"
   ]
  },
  {
   "attachments": {},
   "cell_type": "markdown",
   "metadata": {},
   "source": [
    "**Introduce:**\n",
    "- Compound Data Types (Data types that can hold other data types.)\n",
    "    - tuples (immutable)\n",
    "    - lists\n",
    "- idea of aliasing\n",
    "- idea of mutability\n",
    "- idea of cloning"
   ]
  },
  {
   "attachments": {},
   "cell_type": "markdown",
   "metadata": {},
   "source": [
    "# **Tuples**\n",
    "\n",
    "- an ordered sequence of elements, can mix element types\n",
    "- cannot change element values, tuples are immutable.\n",
    "- represented with parenthesis"
   ]
  },
  {
   "cell_type": "code",
   "execution_count": null,
   "metadata": {},
   "outputs": [],
   "source": [
    "tupleEX = () # empty tuple\n",
    "tupleEX2 = (2,\"mit\",3) # non-empty tuple\n",
    "print(tupleEX2[0])\n",
    "\n",
    "tupleEX2 = tupleEX2 + (5,3,2) # concatenating tuples\n",
    "print(tupleEX2)\n",
    "\n",
    "# Slicing Tuples\n",
    "sliceOne = tupleEX2[0:2]\n",
    "sliceTwo = tupleEX2[::-1]\n",
    "\n",
    "print(sliceOne,sliceTwo)"
   ]
  },
  {
   "attachments": {},
   "cell_type": "markdown",
   "metadata": {},
   "source": [
    "Useful for swapping.\n",
    "- (x,y) = (y,x)\n",
    "\n",
    "Useful for returning multiple variables from a function."
   ]
  },
  {
   "cell_type": "code",
   "execution_count": null,
   "metadata": {},
   "outputs": [],
   "source": [
    "def multiple(x):\n",
    "    return (x,(x+5))\n",
    "\n",
    "print(multiple(10))"
   ]
  },
  {
   "attachments": {},
   "cell_type": "markdown",
   "metadata": {},
   "source": [
    "# **Manipulating Tuples**\n",
    "\n",
    "- Can iterate over tuples."
   ]
  },
  {
   "cell_type": "code",
   "execution_count": null,
   "metadata": {},
   "outputs": [],
   "source": [
    "def get_data(aTuple):\n",
    "    nums = () # A tuple\n",
    "    words = () # A tuple\n",
    "\n",
    "    for i in aTuple:\n",
    "        nums = nums + (i[0],)\n",
    "        if i[1] not in words:\n",
    "            words = words + (i[1],)\n",
    "    min_n = min(nums)\n",
    "    max_n = max(nums)\n",
    "    unique_words = len(words)\n",
    "    return (min_n,max_n,unique_words)\n",
    "\n",
    "aTupleList = ((1,\"hello\"),(3,\"world\"),(341,\"test\"),(0,\"test\"))\n",
    "print(get_data(aTupleList))"
   ]
  },
  {
   "attachments": {},
   "cell_type": "markdown",
   "metadata": {},
   "source": [
    "# **Lists**\n",
    "\n",
    "- Lists are mutable.\n",
    "- Lists uses square brackets instead of parenthesis (like tuples).\n",
    "- Can index lists with brackets and index numbers. List[0].\n",
    "- Slicing works on lists with colon in list index brackets. List[0:4]."
   ]
  },
  {
   "cell_type": "code",
   "execution_count": null,
   "metadata": {},
   "outputs": [],
   "source": [
    "aList = [] # empty list\n",
    "aList2 =[2,'a',4,[1,2]] # a non-empty list"
   ]
  },
  {
   "attachments": {},
   "cell_type": "markdown",
   "metadata": {},
   "source": [
    "**Changing Elements**\n",
    "\n",
    "- lists are mutable.\n",
    "- assigning to an element at an index changes the value.\n",
    "    - L = [2,1,3]\n",
    "    - L[1] = 5\n",
    "    - L is now, [2,5,3]"
   ]
  },
  {
   "attachments": {},
   "cell_type": "markdown",
   "metadata": {},
   "source": [
    "**Iterating Over a List**"
   ]
  },
  {
   "cell_type": "code",
   "execution_count": null,
   "metadata": {},
   "outputs": [],
   "source": [
    "# Computer sum of elements in a list.\n",
    "\n",
    "listNums = [1,2,3,4,5,6,7]\n",
    "total = 0\n",
    "total2 = 0\n",
    "\n",
    "for i in listNums:\n",
    "    total+=i\n",
    "print(total)\n",
    "\n",
    "for i in range(len(listNums)):\n",
    "    total2+= listNums[i]\n",
    "print(total2)"
   ]
  },
  {
   "attachments": {},
   "cell_type": "markdown",
   "metadata": {},
   "source": [
    "**Operations on Lists - Add**\n",
    "- Add elements to end of list with method append(). Pushing onto a list."
   ]
  },
  {
   "cell_type": "code",
   "execution_count": null,
   "metadata": {},
   "outputs": [],
   "source": [
    "list = [1,2,3]\n",
    "print(list)\n",
    "list.append(4)\n",
    "print(list)"
   ]
  },
  {
   "attachments": {},
   "cell_type": "markdown",
   "metadata": {},
   "source": [
    "- To combine lists together, use concatenation, + operator, to give a new list.\n",
    "- Must put expression onto a new variable.\n",
    "- Another way is to use the extend() method which takes in a list object."
   ]
  },
  {
   "cell_type": "code",
   "execution_count": null,
   "metadata": {},
   "outputs": [],
   "source": [
    "L1 = [1,2,3]\n",
    "L2 = [4,5,6]\n",
    "L3 = L1 + L2\n",
    "print(L3)\n",
    "\n",
    "L3.extend([7,8,9])\n",
    "print(L3)"
   ]
  },
  {
   "attachments": {},
   "cell_type": "markdown",
   "metadata": {},
   "source": [
    "**Operations on Lists - Removing**\n",
    "\n",
    "- del() function deletes an index+element from a list. \n",
    "    - Takes in a List[0] as argument,\n",
    "- pop() method returns and removes the last element from a list.\n",
    "- remove() method removes a specified element from a list.\n",
    "    - Takes in an element to search and remove.\n",
    "    - Removes the first occurence if there are multiple.\n",
    "    - Gives error if not found."
   ]
  },
  {
   "cell_type": "code",
   "execution_count": null,
   "metadata": {},
   "outputs": [],
   "source": [
    "L = [1,2,3,4,5,6]\n",
    "print(L)\n",
    "del(L[0])\n",
    "print(L)\n",
    "L.pop()\n",
    "print(L)\n",
    "L.remove(4)\n",
    "print(L)"
   ]
  },
  {
   "attachments": {},
   "cell_type": "markdown",
   "metadata": {},
   "source": [
    "# **Convert Lists to strings and back**\n",
    "\n",
    "- convert string to list with list() function.\n",
    "    - returns a list with every character from argumentString an element in L\n",
    "\n",
    "- can use split() method to split a string on a character parameter.\n",
    "    - splits on spaces if called without a parameter.\n",
    "    - put a character string as argument if want to define the delimiter.\n",
    "    \n",
    "- use 'DELIMITER_CHAR'.join() method to turn a list of characters into a string using delimiter provided."
   ]
  },
  {
   "cell_type": "code",
   "execution_count": null,
   "metadata": {},
   "outputs": [],
   "source": [
    "s = \"HELLO WORLD 123\"\n",
    "print(list(s)) # prints a list of every character in string s (including spaces)\n",
    "\n",
    "print(s.split()) # split the string into subStrings and put them in a list. Delimiter is a space by default. Provide delimiter if needed.\n",
    "\n",
    "aList = ['hello','world','123']\n",
    "print('_'.join(aList)) # combine the list into a string using the provided character as the joining delimiter."
   ]
  },
  {
   "attachments": {},
   "cell_type": "markdown",
   "metadata": {},
   "source": [
    "# **Other List Operations**\n",
    "\n",
    "More operations on https://docs.python.org/3/tutorial/datastructures.html\n",
    "\n",
    "- sorted() function\n",
    "    - returns a sorted list given a list argument. does not mutate the list provided.\n",
    "- sort() method\n",
    "    - sorts the list that called the method by mutating it.\n",
    "- reverse() method\n",
    "    - returns a reversed ordered list by mutating the list that called the method."
   ]
  },
  {
   "cell_type": "code",
   "execution_count": null,
   "metadata": {},
   "outputs": [],
   "source": [
    "aList = [9,6,0,3]\n",
    "print(sorted(aList))\n",
    "aList.sort()\n",
    "print(aList)\n",
    "aList.reverse()\n",
    "print(aList)"
   ]
  },
  {
   "attachments": {},
   "cell_type": "markdown",
   "metadata": {},
   "source": [
    "# **Aliases**\n",
    "\n",
    "- a variable that is binded to another existing list will be linked (a value changed in original list will affect the new variable linked to it)\n",
    "- to avoid linking, make a copy of the list"
   ]
  },
  {
   "cell_type": "code",
   "execution_count": null,
   "metadata": {},
   "outputs": [],
   "source": [
    "warm = [1,2,3]\n",
    "hot = warm\n",
    "\n",
    "warm.append(4)\n",
    "print(hot) # hot will print the warm list including the new change"
   ]
  },
  {
   "cell_type": "code",
   "execution_count": null,
   "metadata": {},
   "outputs": [],
   "source": [
    "warm = [1,2,3]\n",
    "hot = warm[:]\n",
    "\n",
    "warm.append(4)\n",
    "print(hot)"
   ]
  },
  {
   "attachments": {},
   "cell_type": "markdown",
   "metadata": {},
   "source": [
    "# **Global Variables**\n",
    "\n",
    "Define global variables using \"global\".\n",
    "- Global variables are assumed unless the block is using the same variable name as the global variable outside the block which contradicts with the global variable."
   ]
  },
  {
   "cell_type": "code",
   "execution_count": 2,
   "metadata": {},
   "outputs": [
    {
     "name": "stdout",
     "output_type": "stream",
     "text": [
      "test\n"
     ]
    }
   ],
   "source": [
    "# Implied\n",
    "\n",
    "def printA():\n",
    "    print(s)\n",
    "\n",
    "s = \"test\"\n",
    "printA()"
   ]
  },
  {
   "cell_type": "code",
   "execution_count": null,
   "metadata": {},
   "outputs": [],
   "source": [
    "# Specified\n",
    "\n",
    "def printA():\n",
    "    s += 5 # throws error because cant modify global and confused with local assignment.\n",
    "    print(s)\n",
    "s = 10\n",
    "printA()"
   ]
  },
  {
   "cell_type": "code",
   "execution_count": 6,
   "metadata": {},
   "outputs": [
    {
     "name": "stdout",
     "output_type": "stream",
     "text": [
      "15\n"
     ]
    }
   ],
   "source": [
    "# Specified\n",
    "\n",
    "def printA():\n",
    "    global s # specifying s as global\n",
    "    s += 5 # throws error because cant modify global and confused with local assignment.\n",
    "    print(s)\n",
    "\n",
    "s = 10\n",
    "printA()"
   ]
  },
  {
   "attachments": {},
   "cell_type": "markdown",
   "metadata": {},
   "source": [
    "# **Main() functionality of Python**\n",
    "\n",
    "Personal note, python's way of main() like Go."
   ]
  },
  {
   "cell_type": "code",
   "execution_count": null,
   "metadata": {},
   "outputs": [],
   "source": [
    "def add(x,y):\n",
    "    return x+y\n",
    "\n",
    "# This if statement checks to see if script is being run directly into terminal.\n",
    "# If it is ran by itself and not as a module, then conditional will be True and it runs.\n",
    "# Else, if this whole code is used as a module inside another script, this won't run.\n",
    "if __name__ == \"__main__\":\n",
    "    print(\"IM IN MAIN\")"
   ]
  }
 ],
 "metadata": {
  "kernelspec": {
   "display_name": "Python 3",
   "language": "python",
   "name": "python3"
  },
  "language_info": {
   "codemirror_mode": {
    "name": "ipython",
    "version": 3
   },
   "file_extension": ".py",
   "mimetype": "text/x-python",
   "name": "python",
   "nbconvert_exporter": "python",
   "pygments_lexer": "ipython3",
   "version": "3.10.2"
  },
  "orig_nbformat": 4,
  "vscode": {
   "interpreter": {
    "hash": "fa6936afccae6738ef30cc92f5c1ede57c28cb430a06fa1a1a3979d763f241d5"
   }
  }
 },
 "nbformat": 4,
 "nbformat_minor": 2
}
