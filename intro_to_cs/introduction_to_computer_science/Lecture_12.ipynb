{
 "cells": [
  {
   "attachments": {},
   "cell_type": "markdown",
   "metadata": {},
   "source": [
    "# **Lecture 12: Searching and Sorting**"
   ]
  },
  {
   "attachments": {},
   "cell_type": "markdown",
   "metadata": {},
   "source": [
    "# **Searching Algorithms**\n",
    "\n",
    "- Linear Search\n",
    "    - brute force search (aka British Museum algorithm)\n",
    "    - list does not have to be sorted\n",
    "- Bisection Search\n",
    "    - list must be sorted to give correct answer\n",
    "    - two different implementations of the algorithm. One with high time complexity and other is lower."
   ]
  },
  {
   "attachments": {},
   "cell_type": "markdown",
   "metadata": {},
   "source": [
    "**Linear Search on Unsorted List:Recap O(n)**\n",
    "- Must look through all elements to decide it's not there."
   ]
  },
  {
   "cell_type": "code",
   "execution_count": null,
   "metadata": {},
   "outputs": [],
   "source": [
    "def linear_seacrch(L,e):\n",
    "    found = False\n",
    "    for i in range(len(L)):\n",
    "        if L[i] == e:\n",
    "            found = True\n",
    "    return False"
   ]
  },
  {
   "attachments": {},
   "cell_type": "markdown",
   "metadata": {},
   "source": [
    "**Linear Search on Sorted List:Recap O(n)**"
   ]
  },
  {
   "cell_type": "code",
   "execution_count": null,
   "metadata": {},
   "outputs": [],
   "source": [
    "def search(L,e):\n",
    "    for i in range(len(L)):\n",
    "        if L[i] == e:\n",
    "            return True\n",
    "        if L[i] > e:\n",
    "            return False\n",
    "    return False"
   ]
  },
  {
   "attachments": {},
   "cell_type": "markdown",
   "metadata": {},
   "source": [
    "**Bisection Search Implementation: Recap O(log n)**\n",
    "- Divide list each search/recursion. Divide and conquer."
   ]
  },
  {
   "cell_type": "code",
   "execution_count": null,
   "metadata": {},
   "outputs": [],
   "source": [
    "def bisect_search2(L,e):\n",
    "    def bisect_search_helper(L,e,low,high):\n",
    "        if high == low:\n",
    "            return L[low] == e\n",
    "        mid = (low+high)//2\n",
    "        if L[mid] == e:\n",
    "            return True\n",
    "        elif L[mid] > e:\n",
    "            if low == mid: # nothing left to search\n",
    "                return False\n",
    "            else:\n",
    "                return bisect_search_helper(L,e,mid+1,high)\n",
    "    if len(L) == 0:\n",
    "        return False\n",
    "    else:\n",
    "        return bisect_search_helper(L,e,0,len(L)-1)"
   ]
  },
  {
   "attachments": {},
   "cell_type": "markdown",
   "metadata": {},
   "source": [
    "# **Searching a Sorted List, n is len(List)**\n",
    "\n",
    "- Using linear search, search for an element is O(n) complexity\n",
    "- Using binear search, can search for an element in O(log n)\n",
    "    - Assumes the list is sorted\n",
    "- When does it make sense to sort first then search?\n",
    "    - SORT + O(log n) < O(n) -> SORT < O(n) - O(log n)\n",
    "    - When sorting is less than O(n) = never true"
   ]
  },
  {
   "attachments": {},
   "cell_type": "markdown",
   "metadata": {},
   "source": [
    "**Amortized Cost, n is len(List)**\n",
    "- Why bother sorting first?\n",
    "- Some cases, may sort a list once then do many searches in it.\n",
    "- Amortize cost of the sort over many searches.\n",
    "- SORT + K * O(log n) < K * O(n)\n",
    "    - FOr large K, sort time becomes irrelevant if cost of sorting is small enough"
   ]
  },
  {
   "attachments": {},
   "cell_type": "markdown",
   "metadata": {},
   "source": [
    "# **Complexity of Bogo Sort O(?)**\n",
    "- A sort that jumbles the list randomly and then check if theyre in order.\n",
    "- Best case:\n",
    "    - O(n) where n is len(L) to check if sorted.\n",
    "- Worst Case:\n",
    "    - O(?) it is unbounded if really unlucky."
   ]
  },
  {
   "cell_type": "code",
   "execution_count": null,
   "metadata": {},
   "outputs": [],
   "source": [
    "def bogo_sort(L):\n",
    "    while not is_Sorted(L):\n",
    "        random.shuffle(L)"
   ]
  },
  {
   "attachments": {},
   "cell_type": "markdown",
   "metadata": {},
   "source": [
    "# **Complexity of Bubble Sort O(n^2)**\n",
    "- A sort that starts at the front and then compares i index and i+1 index. Comparing consecutive pairs.\n",
    "    - See if i is less than i+1, else switch their spots.\n",
    "    - Move onto i+1 as new i, and repeat again.\n",
    "    - Basically comparing pairs.\n",
    "- Repeat until the list is sorted and dont have to switch."
   ]
  },
  {
   "cell_type": "code",
   "execution_count": null,
   "metadata": {},
   "outputs": [],
   "source": [
    "def bubble_sort(L):\n",
    "    swap = False\n",
    "    while not swap:                 # O(len(L)) or O(n)\n",
    "        swap = True\n",
    "        for j in range(l,len(L)):   # O(len(L)) or O(n)\n",
    "            if L[j-1] > L[j]:\n",
    "                swap = False\n",
    "                temp = L[j]\n",
    "                L[j] = L[j-1]\n",
    "                L[j-1] = temp"
   ]
  },
  {
   "attachments": {},
   "cell_type": "markdown",
   "metadata": {},
   "source": [
    "# **Complexity of Selection Sort O(n^2)**\n",
    "- A sort that runs through a list and finding the min (or max) element and then popping it into a new list.\n",
    "    - Another method is to swap indexes with ever growing counter of i position instead of making a new list.\n",
    "- Repeat until nothing in original list and new list is sorted from least element to greatest.\n",
    "- \n",
    "- First Step\n",
    "    - Extract minimum element\n",
    "    - Swap with element at index 0\n",
    "- Subsequent Step\n",
    "    - In remaining sublist, extract minimum element\n",
    "    - Swap with element at index 1\n",
    "- Keep left portion of list sorted.\n",
    "    - at i'th step, first i elements in list are sorted\n",
    "    - all other elements are bigger than first i elements"
   ]
  },
  {
   "cell_type": "code",
   "execution_count": null,
   "metadata": {},
   "outputs": [],
   "source": [
    "def selection_sort(L):\n",
    "    suffixSt = 0 # posRecorder\n",
    "    while suffixSt != len(L):                           # O(n)\n",
    "        for i in range(suffixSt, len(L)):               # O(n), even though range decrease, it is still O(n) basically\n",
    "            if L[i] < L[suffixSt]:\n",
    "                L[suffixSt], L[i] = L[i], L[suffixSt]\n",
    "            suffixSt += 1"
   ]
  },
  {
   "attachments": {},
   "cell_type": "markdown",
   "metadata": {},
   "source": [
    "# **Complexity of Merge Sort O(n log n)**\n",
    "- A sort that keeps splitting the list into halves until there are no more pairs or single elements.\n",
    "    - Perform sort on these mini pairs and then combine them, return them to the recursive call above and merge.\n",
    "    - Combine and merge and repeat up the recursive depth until got a big sorted list.\n",
    "    - Divide and conquer\n",
    "- Complexity of merging sublists each step\n",
    "    - go through two lists only one pass\n",
    "    - compare only smallest element in each sublist\n",
    "    - O(len(left) + len(right)) copied elements\n",
    "    - O(len(longer list)) comparisons\n",
    "    - Linear in length of the lists\n",
    "- Complexity of the main merge sort algorithm\n",
    "    - Divide list into two halves\n",
    "    - Depth-first such that conquer smallest pieces down one branch first before moving to larger pieces.\n",
    "    - Analysis\n",
    "        - First recursion level\n",
    "            - n/2 elements in each list\n",
    "            - O(n) + O(n) = O(n) where n is len(L)\n",
    "        - Second recursion level\n",
    "            - n/4 elements in each list\n",
    "            - two merges -> O(n) where n is len(L)\n",
    "        - At each recursion level is O(n) where n is len(L)\n",
    "        - Dividing list in half with each recursive call\n",
    "            - O(log(n)) where n is len(L)\n",
    "        - Overall complexity is (n log (n)) where n is len(L)"
   ]
  },
  {
   "cell_type": "code",
   "execution_count": null,
   "metadata": {},
   "outputs": [],
   "source": [
    "# Portion 1, merge function\n",
    "\n",
    "def merge_function(left,right): # O(n)\n",
    "    result = []\n",
    "    i,j = 0,0\n",
    "    while i < len(left) and j <len(right):      # O(n)\n",
    "        if left[i] < right[j]:\n",
    "            result.append(left[i])\n",
    "            i += 1\n",
    "        else:\n",
    "            result.append(right[j])\n",
    "            j += 1\n",
    "    while (i < len(left)):                      # O(n)\n",
    "        result.append(left[i])\n",
    "        i += 1\n",
    "    while (j < len(right)):                     # O(n)\n",
    "        result.append(right[j])\n",
    "        j+= 1\n",
    "    return result"
   ]
  },
  {
   "cell_type": "code",
   "execution_count": null,
   "metadata": {},
   "outputs": [],
   "source": [
    "# Portion 2, Merge Sort Function\n",
    "\n",
    "def merge_sort(L): # O(log n)\n",
    "    if len(L) <2:\n",
    "        return L[:]\n",
    "    else:                                   # O( log n ), only do this until len(L) is less than 2. List is getting halved.\n",
    "        middle = len(L)//2\n",
    "        left = merge_sort(L[:middle])       # O(1)\n",
    "        right = merge_sort(L[middle:])      # O(1) \n",
    "        return merge_function(left,right)"
   ]
  }
 ],
 "metadata": {
  "language_info": {
   "name": "python"
  },
  "orig_nbformat": 4
 },
 "nbformat": 4,
 "nbformat_minor": 2
}
