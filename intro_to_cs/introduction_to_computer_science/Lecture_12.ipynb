{
 "cells": [
  {
   "attachments": {},
   "cell_type": "markdown",
   "metadata": {},
   "source": [
    "# **Lecture 12: Searching and Sorting**"
   ]
  },
  {
   "attachments": {},
   "cell_type": "markdown",
   "metadata": {},
   "source": [
    "# **Searching Algorithms**\n",
    "\n",
    "- Linear Search\n",
    "    - brute force search (aka British Museum algorithm)\n",
    "    - list does not have to be sorted\n",
    "- Bisection Search\n",
    "    - list must be sorted to give correct answer\n",
    "    - two different implementations of the algorithm. One with high time complexity and other is lower."
   ]
  },
  {
   "attachments": {},
   "cell_type": "markdown",
   "metadata": {},
   "source": [
    "**Linear Search on Unsorted List:Recap**\n",
    "- Must look through all elements to decide it's not there."
   ]
  },
  {
   "cell_type": "code",
   "execution_count": null,
   "metadata": {},
   "outputs": [],
   "source": [
    "def linear_seacrch(L,e):\n",
    "    found = False\n",
    "    for i in range(len(L)):\n",
    "        if L[i] == e:\n",
    "            found = True\n",
    "    return False"
   ]
  }
 ],
 "metadata": {
  "language_info": {
   "name": "python"
  },
  "orig_nbformat": 4
 },
 "nbformat": 4,
 "nbformat_minor": 2
}
