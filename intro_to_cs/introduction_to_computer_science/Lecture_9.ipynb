{
 "cells": [
  {
   "attachments": {},
   "cell_type": "markdown",
   "metadata": {},
   "source": [
    "# **Lecture 9: Python Classes and Inheritance**"
   ]
  },
  {
   "attachments": {},
   "cell_type": "markdown",
   "metadata": {},
   "source": [
    "**Implementing the Class**\n",
    "\n",
    "Implementing a class object type with a class.\n",
    "- define the class\n",
    "- define data attributes (what is the object made of)\n",
    "- define methods (what can we do with the object, how to use it)\n",
    "\n",
    "**VS**\n",
    "\n",
    "**Using the Class**\n",
    "\n",
    "Using the new object type in code.\n",
    "- Create instances of the object type.\n",
    "- Do operations with them\n",
    "\n",
    "**-------------------------------------------------------------------------------**"
   ]
  },
  {
   "attachments": {},
   "cell_type": "markdown",
   "metadata": {},
   "source": [
    "**Class Definition of an Object Type**\n",
    "- Class name is the \"type\". EX: class Human(object)\n",
    "- Class is defined generically.\n",
    "    - use \"self\" to refer to some instance while defining the class. EX: (self.x - self.y)**2\n",
    "    - \"self\" is a parameter to methods in class definition\n",
    "- Class defines data and methods common accross all instances\n",
    "\n",
    "**VS**\n",
    "\n",
    "**Instances of a class**\n",
    "- Instance is one specific object. EX: myFirstObject = Human(\"BOB\")\n",
    "- Data attribute values vary between instances.\n",
    "    - Objects individually created are separate instances that hold their OWN attributes.\n",
    "- Instance has the structure of the class\n",
    "\n",
    "**-------------------------------------------------------------------------------**"
   ]
  },
  {
   "attachments": {},
   "cell_type": "markdown",
   "metadata": {},
   "source": [
    "# **Why use OOP and Classes of Objects?**\n",
    "- It mimics real life.\n",
    "- Groups differnet objects that are part of the same type. EX: Chair,table are furniture but each have different attributes. Multiple chairs will have different attributes within their own self group \"Chairs\""
   ]
  },
  {
   "attachments": {},
   "cell_type": "markdown",
   "metadata": {},
   "source": [
    "**Types of attributes**\n",
    "\n",
    "Data attributes:\n",
    "- something that represents the object\n",
    "\n",
    "Procedural attributes (methods):\n",
    "- define what can the object do or what can do with object."
   ]
  },
  {
   "attachments": {},
   "cell_type": "markdown",
   "metadata": {},
   "source": [
    "**How to define class (RECAP)**"
   ]
  },
  {
   "cell_type": "code",
   "execution_count": null,
   "metadata": {},
   "outputs": [],
   "source": [
    "class Human(object):\n",
    "    def __init__(self,name):\n",
    "        self.name = name\n",
    "    def sayName(self):\n",
    "        print(\"I AM\",self.name)\n",
    "\n",
    "firstPerson = Human(\"BOB\")\n",
    "firstPerson.sayName()"
   ]
  },
  {
   "attachments": {},
   "cell_type": "markdown",
   "metadata": {},
   "source": [
    "**Getter and Setter Methods**\n",
    "- Safe way to get attributes of an object and to set/change object's attributes from outside of a class object."
   ]
  },
  {
   "cell_type": "code",
   "execution_count": null,
   "metadata": {},
   "outputs": [],
   "source": [
    "class Human(object):\n",
    "    def __init__(self,name):\n",
    "        self.name = name\n",
    "    def sayName(self):\n",
    "        print(\"I AM\",self.name)\n",
    "    def getName(self):\n",
    "        return self.name\n",
    "    def setName(self,name):\n",
    "        self.name = name\n",
    "\n",
    "firstPerson = Human(\"BOB\")\n",
    "firstPerson.sayName()\n",
    "print(firstPerson.getName())\n",
    "firstPerson.setName(\"HARRY\")\n",
    "firstPerson.sayName()"
   ]
  },
  {
   "attachments": {},
   "cell_type": "markdown",
   "metadata": {},
   "source": [
    "# **An INSTANCE and DOT NOTATION (RECAP)**\n",
    "\n",
    "- Instantiation creates an instance of an object.\n",
    "\n",
    "EX: \n",
    "- firstObject = myObject(123)\n",
    "\n",
    "- dot notation is used to access attributes (data and methods) thought it is better to use getters and setters to access data attributes\n",
    "\n",
    "EX: \n",
    "- firstObject.number\n",
    "- firstObject.getNumber()"
   ]
  },
  {
   "attachments": {},
   "cell_type": "markdown",
   "metadata": {},
   "source": [
    "# **Information Hiding: Reason why good to use getters/setters**\n",
    "\n",
    "- Author of class definition may change data attribute variable names:"
   ]
  },
  {
   "cell_type": "code",
   "execution_count": null,
   "metadata": {},
   "outputs": [],
   "source": [
    "class Animal(object):\n",
    "    def __init__(self,age):\n",
    "        self.years = age        # self.age changed to self.years.\n",
    "    def getAge(self):\n",
    "        return self.years\n",
    "\n",
    "myDog = Animal(30)"
   ]
  },
  {
   "attachments": {},
   "cell_type": "markdown",
   "metadata": {},
   "source": [
    "- If accessing the data attributes outside the class and class definition changes, errors may occur. \n",
    "    - EX: myDog.age is not valid anymore. myDog.years is now valid.\n",
    "- If outside of class, better to use getter/setter methods to access attributes because it makes code cleaner and prevents errors from above."
   ]
  },
  {
   "attachments": {},
   "cell_type": "markdown",
   "metadata": {},
   "source": [
    "**Python not good at information hiding**\n",
    "\n",
    "- allows you to access data form outside class definition.\n",
    "\n",
    "print(a.age)\n",
    "- allows you to write to data from outside class definition\n",
    "\n",
    "a.age = 'infinite'\n",
    "- allows you to create data attributes for an instance from outside class definition\n",
    "\n",
    "a.size = 'tiny'\n",
    "\n"
   ]
  },
  {
   "attachments": {},
   "cell_type": "markdown",
   "metadata": {},
   "source": [
    "# **Default Arguments**\n",
    "- Default arguments for formal parameters are used if no actual arguments is given.\n",
    "- Use parameters with default values with equal sign."
   ]
  },
  {
   "cell_type": "code",
   "execution_count": null,
   "metadata": {},
   "outputs": [],
   "source": [
    "class Human(object):\n",
    "    def __init__(self,name='NO NAME'):\n",
    "        self.name = name\n",
    "    def sayName(self):\n",
    "        print(\"I AM\",self.name)\n",
    "    def getName(self):\n",
    "        return self.name\n",
    "    def setName(self,name):\n",
    "        self.name = name\n",
    "\n",
    "# Default Name\n",
    "humanOne = Human()\n",
    "print(humanOne.getName())\n",
    "humanOne.setName(\"BANANA\")\n",
    "print(humanOne.getName())\n",
    "\n",
    "# Not Default Name, Argument Passed into Method\n",
    "humanTwo = Human(\"BANANA\")\n",
    "print(humanTwo.getName())"
   ]
  },
  {
   "attachments": {},
   "cell_type": "markdown",
   "metadata": {},
   "source": [
    "# **Hierarchies**\n",
    "\n",
    "- Parent Class (SUPERCLASS)\n",
    "    - Child Class (SUBCLASS)\n",
    "        - Inherits all data and behaviors of parent class\n",
    "        - Adds more info\n",
    "        - Adds more behavior\n",
    "        - Overrides behavior"
   ]
  },
  {
   "cell_type": "code",
   "execution_count": null,
   "metadata": {},
   "outputs": [],
   "source": [
    "# EXAMPLE 1\n",
    "\n",
    "class Furniture(object):\n",
    "    def __init__(self,color):\n",
    "        self.color = color\n",
    "    def getColor(self):\n",
    "        return self.color\n",
    "    def setColor(self,text):\n",
    "        self.color = text\n",
    "\n",
    "class Chair(Furniture):\n",
    "    def __init__(self,legs): # If subclass has init, this init is used instead of superclass's init.\n",
    "       self.legs = legs\n",
    "    def getLegs(self):\n",
    "        return self.legs\n",
    "\n",
    "firstChair = Chair(5)\n",
    "print(firstChair.getLegs())\n",
    "\n",
    "# Setting superclass attribute since.\n",
    "firstChair.setColor(\"Brown\")\n",
    "print(firstChair.getColor())"
   ]
  },
  {
   "cell_type": "code",
   "execution_count": null,
   "metadata": {},
   "outputs": [],
   "source": [
    "# EXAMPLE 2\n",
    "\n",
    "class Furniture(object):\n",
    "    def __init__(self,color):\n",
    "        self.color = color\n",
    "    def getColor(self):\n",
    "        return self.color\n",
    "    def setColor(self,text):\n",
    "        self.color = text\n",
    "\n",
    "class Chair(Furniture):\n",
    "    def __init__(self,legs,colors): # If subclass has init, this init is used instead of superclass's init.\n",
    "        Furniture.__init__(self,colors) # CALLING SUPERCLASS CONSTRUCTOR WHICH SETS THE SUPERCLASSES ATTRIBUTE USING SUBCLASSES INIT PARAMETERS.\n",
    "        self.legs = legs\n",
    "    def getLegs(self):\n",
    "        return self.legs\n",
    "\n",
    "firstChair = Chair(5,'Brown')\n",
    "print(firstChair.getLegs())\n",
    "print(firstChair.getColor())\n"
   ]
  },
  {
   "attachments": {},
   "cell_type": "markdown",
   "metadata": {},
   "source": [
    "- Can nest \\_\\_init\\_\\_ calls inside one another if child class object is inheriting from a parent."
   ]
  },
  {
   "attachments": {},
   "cell_type": "markdown",
   "metadata": {},
   "source": [
    "# **Class Variables vs Instance Variables**\n",
    "\n",
    "- Instance variables are special/unique to each instance of a class created.\n",
    "    - These are created/accessed with \"self.(VARIABLENAME)\"\n",
    "- \n",
    "- Class Variables are like global variables for a class.\n",
    "    - These are created like how normal variables are created. Create inside a class (not inside the class's methods.)\n",
    "    - Accessed using dot notation of Object name.\n",
    "        - EX: OBJECTNAME.CLASSVARIABLE"
   ]
  },
  {
   "cell_type": "code",
   "execution_count": null,
   "metadata": {},
   "outputs": [],
   "source": [
    "class Rabbit(object):\n",
    "    count = 1\n",
    "\n",
    "    def __init__(self,color):\n",
    "        self.color = color\n",
    "        self.ID = Rabbit.count\n",
    "        Rabbit.count+=1\n",
    "    def getColor(self):\n",
    "        return self.color\n",
    "    def getID(self):\n",
    "        return self.ID\n",
    "\n",
    "rabbitOne = Rabbit('brown')\n",
    "rabbitTwo = Rabbit('pink')\n",
    "\n",
    "print(rabbitOne.getColor())\n",
    "print(rabbitTwo.getColor())\n",
    "print(\"RABBIT ONE ID:\",rabbitOne.getID())\n",
    "print(\"RABBIT TWO ID:\",rabbitTwo.getID())\n"
   ]
  }
 ],
 "metadata": {
  "kernelspec": {
   "display_name": "Python 3",
   "language": "python",
   "name": "python3"
  },
  "language_info": {
   "codemirror_mode": {
    "name": "ipython",
    "version": 3
   },
   "file_extension": ".py",
   "mimetype": "text/x-python",
   "name": "python",
   "nbconvert_exporter": "python",
   "pygments_lexer": "ipython3",
   "version": "3.10.2"
  },
  "orig_nbformat": 4,
  "vscode": {
   "interpreter": {
    "hash": "fa6936afccae6738ef30cc92f5c1ede57c28cb430a06fa1a1a3979d763f241d5"
   }
  }
 },
 "nbformat": 4,
 "nbformat_minor": 2
}
