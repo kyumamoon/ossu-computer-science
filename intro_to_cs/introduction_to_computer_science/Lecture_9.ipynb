{
 "cells": [
  {
   "attachments": {},
   "cell_type": "markdown",
   "metadata": {},
   "source": [
    "# **Lecture 9: Python Classes and Inheritance**"
   ]
  },
  {
   "attachments": {},
   "cell_type": "markdown",
   "metadata": {},
   "source": [
    "**Implementing the Class**\n",
    "\n",
    "Implementing a class object type with a class.\n",
    "- define the class\n",
    "- define data attributes (what is the object made of)\n",
    "- define methods (what can we do with the object, how to use it)\n",
    "\n",
    "**VS**\n",
    "\n",
    "**Using the Class**\n",
    "\n",
    "Using the new object type in code.\n",
    "- Create instances of the object type.\n",
    "- Do operations with them\n",
    "\n",
    "**-------------------------------------------------------------------------------**"
   ]
  },
  {
   "attachments": {},
   "cell_type": "markdown",
   "metadata": {},
   "source": [
    "**Class Definition of an Object Type**\n",
    "- Class name is the \"type\". EX: class Human(object)\n",
    "- Class is defined generically.\n",
    "    - use \"self\" to refer to some instance while defining the class. EX: (self.x - self.y)**2\n",
    "    - \"self\" is a parameter to methods in class definition\n",
    "- Class defines data and methods common accross all instances\n",
    "\n",
    "**VS**\n",
    "\n",
    "**Instances of a class**\n",
    "- Instance is one specific object. EX: myFirstObject = Human(\"BOB\")\n",
    "- Data attribute values vary between instances.\n",
    "    - Objects individually created are separate instances that hold their OWN attributes.\n",
    "- Instance has the structure of the class\n",
    "\n",
    "**-------------------------------------------------------------------------------**"
   ]
  },
  {
   "attachments": {},
   "cell_type": "markdown",
   "metadata": {},
   "source": [
    "# **Why use OOP and Classes of Objects?**\n",
    "- It mimics real life.\n",
    "- Groups differnet objects that are part of the same type. EX: Chair,table are furniture but each have different attributes. Multiple chairs will have different attributes within their own self group \"Chairs\""
   ]
  },
  {
   "attachments": {},
   "cell_type": "markdown",
   "metadata": {},
   "source": [
    "**Types of attributes**\n",
    "\n",
    "Data attributes:\n",
    "- something that represents the object\n",
    "\n",
    "Procedural attributes (methods):\n",
    "- define what can the object do or what can do with object."
   ]
  },
  {
   "attachments": {},
   "cell_type": "markdown",
   "metadata": {},
   "source": [
    "**How to define class (RECAP)**"
   ]
  },
  {
   "cell_type": "code",
   "execution_count": null,
   "metadata": {},
   "outputs": [],
   "source": [
    "class Human(object):\n",
    "    def __init__(self,name):\n",
    "        self.name = name\n",
    "    def sayName(self):\n",
    "        print(\"I AM\",self.name)\n",
    "\n",
    "firstPerson = Human(\"BOB\")\n",
    "firstPerson.sayName()"
   ]
  }
 ],
 "metadata": {
  "kernelspec": {
   "display_name": "Python 3",
   "language": "python",
   "name": "python3"
  },
  "language_info": {
   "codemirror_mode": {
    "name": "ipython",
    "version": 3
   },
   "file_extension": ".py",
   "mimetype": "text/x-python",
   "name": "python",
   "nbconvert_exporter": "python",
   "pygments_lexer": "ipython3",
   "version": "3.10.2"
  },
  "orig_nbformat": 4,
  "vscode": {
   "interpreter": {
    "hash": "fa6936afccae6738ef30cc92f5c1ede57c28cb430a06fa1a1a3979d763f241d5"
   }
  }
 },
 "nbformat": 4,
 "nbformat_minor": 2
}
