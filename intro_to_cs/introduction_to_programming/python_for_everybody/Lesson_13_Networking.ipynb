{
 "cells": [
  {
   "attachments": {},
   "cell_type": "markdown",
   "metadata": {},
   "source": [
    "# **Transport Control Protocol (TCP)**\n",
    "\n",
    "- built on top of IP (internet protocol)\n",
    "- assumes IP might lose data, so stores and retransmits data if it seems to be lost\n",
    "- handle \"flow control\" using transmit window\n",
    "- provides a nice reliable \"pipe\""
   ]
  },
  {
   "attachments": {},
   "cell_type": "markdown",
   "metadata": {},
   "source": [
    "# **TCP Connections/Sockets**\n",
    "\n",
    "- An internet/network socket is an endpoint of bidirectional inter-process communication flow across an internet protocol-based computer network such as the internet.\n",
    "\n",
    "PROCESS <-> INTERNET <-> PROCESS\n",
    "\n",
    "Processes are like applications.\n",
    "The socket are the lines connecting process/application together."
   ]
  },
  {
   "attachments": {},
   "cell_type": "markdown",
   "metadata": {},
   "source": [
    "# **TCP Port Numbers**\n",
    "\n",
    "- Port is an application-specific or process-specific software communications endpoint.\n",
    "- Allows multiple networked applications to coexist on the same server.\n",
    "- There is a list of well known TCP port numbers.\n",
    "- They are like extensions on a phone."
   ]
  },
  {
   "attachments": {},
   "cell_type": "markdown",
   "metadata": {},
   "source": [
    "# **Common TCP Ports**\n",
    "\n",
    "- Telnet (23)           // Login\n",
    "- SSH (22)              // Secure Login\n",
    "- HTTP (80)             // web server\n",
    "- HTTPS (442)           // Secure web server\n",
    "- SMTP (25)             // Mail\n",
    "- IMAP (143/220/993)    // Mail Retrieval\n",
    "- POP (109/110)         // Mail Retrieval\n",
    "- DNS (53)              // Domain Name\n",
    "- FTP (21)              // File Transfer"
   ]
  },
  {
   "attachments": {},
   "cell_type": "markdown",
   "metadata": {},
   "source": [
    "# **Sockets in Python**\n",
    "\n",
    "- Python has built-in support for TCP sockets."
   ]
  },
  {
   "cell_type": "code",
   "execution_count": null,
   "metadata": {},
   "outputs": [],
   "source": [
    "import socket\n",
    "\n",
    "# creating a socket\n",
    "# socket.AF_INET = through internet socket\n",
    "# socket.SOCK_STREAM = gettings stream of characters one at a time (not blocks of text)\n",
    "mySocket = socket.socket(socket.AF_INET,socket.SOCK_STREAM)\n",
    "\n",
    "# calling a method socket.\n",
    "# try to connect to host and the port.\n",
    "mySocket.connect(('data.pr4e.org',80))\n",
    "cmd = 'GET http://data.pr4e.org/romeo.txt HTTP/1.0\\r\\n\\r\\n'.encode()\n",
    "mySocket.send(cmd)\n",
    "\n",
    "while True:\n",
    "    data = mySocket.recv(512)\n",
    "    if len(data) <1:\n",
    "        break\n",
    "    print(data.decode())\n",
    "mySocket.close()"
   ]
  },
  {
   "attachments": {},
   "cell_type": "markdown",
   "metadata": {},
   "source": [
    "# **Application Protocol**\n",
    "\n",
    "- Application Protocol allows us to send and expect to receive something from other end of socket's application."
   ]
  },
  {
   "attachments": {},
   "cell_type": "markdown",
   "metadata": {},
   "source": [
    "# **HTTP - Hypertext Transfer Protocol**\n",
    "\n",
    "- An application protocol.\n",
    "- The dominant Application Layer Protocol on the Internet.\n",
    "- Invented for the Web - to Retrieve HMTL, Images, Documents, etc.\n",
    "- Extended to be a data in addition to documents.\n",
    "    - RSS, Web Services, etc.\n",
    "    - Basic Concept:\n",
    "        - Make a connection\n",
    "        - Request a document\n",
    "        - Retrieve the document\n",
    "        - Close connection\n",
    "\n",
    "**HTTP**\n",
    "\n",
    "The HyperText Transfer Protocol is the set of rules to allow browsers to retrieve web docs from servers over the internet."
   ]
  },
  {
   "attachments": {},
   "cell_type": "markdown",
   "metadata": {},
   "source": [
    "# **What is a Protocol?**\n",
    "\n",
    "- A set of rules that all parties follow so we can predict each other's behavior.\n",
    "- And not bump into each other.\n",
    "\n",
    "Example:\n",
    "\n",
    "http://www.dr-chuck.com/page1.htm\n",
    "\n",
    "Protocol    = http://\n",
    "Host        = www.dr-chuck.com\n",
    "document    = page1.htm\n",
    "\n",
    "**Getting Data From The Server**\n",
    "\n",
    "- Whenever user clicks anchor tag with a \"href=\" value to switch to new page, the browser makes a connection to web server (port 80?) and issues a \"GET\" request to GET the content of page at the url specified.\n",
    "- Server returns HTML document to Browser to format and display."
   ]
  },
  {
   "attachments": {},
   "cell_type": "markdown",
   "metadata": {},
   "source": [
    "# **Internet Standards**\n",
    "\n",
    "- The standards for all internet protocols (inner workings) are developed by an organization.\n",
    "- Internet Engineering Task Force (IETF)\n",
    "- www.ietf.org\n",
    "- Standards are called \"RFCs\" - Request for Comments"
   ]
  },
  {
   "attachments": {},
   "cell_type": "markdown",
   "metadata": {},
   "source": [
    "# **ASCII**\n",
    "\n",
    "American Standard Code for Information Interchange\n",
    "- Holds 128 values for simple characters (Upper/Lower case ABc, numbers, symbols)\n",
    "- Does not include foreign characters."
   ]
  },
  {
   "attachments": {},
   "cell_type": "markdown",
   "metadata": {},
   "source": [
    "# **Representing Simple Strings**\n",
    "\n",
    "- Each character is represented by a number between 0-256 stored in 8 bits of memory.\n",
    "- 8 bits = 1 byte\n",
    "- ord() function returns the numeric value of a simple ASCII character"
   ]
  },
  {
   "cell_type": "code",
   "execution_count": null,
   "metadata": {},
   "outputs": [],
   "source": [
    "print(ord('H'))"
   ]
  },
  {
   "attachments": {},
   "cell_type": "markdown",
   "metadata": {},
   "source": [
    "# **Multi-Byte Characters**\n",
    "\n",
    "- Need a better type of character coding for more characters so created Unicode.\n",
    "- To represent wide range of characters, computers must handle characters with more than one byte.\n",
    "    - UTF-16    // Fixed length - Two Bytes\n",
    "    - UTF-32    // Fixed Length - Four Bytes\n",
    "    - UTF-8     // 1-4 Bytes, Dynamic\n",
    "        - Upwards compatible with ASCII because it can do 1 byte.\n",
    "        - UTF-8 is recommended practice for encoding data to be exchanged between systems."
   ]
  },
  {
   "attachments": {},
   "cell_type": "markdown",
   "metadata": {},
   "source": [
    "# **Python3 and Unicode**\n",
    "\n",
    "- All strings internally are UNICODE\n",
    "- When sending data out from python, need to decode from UNICODE to other codes and getting back stuff have to encode data back to UNICODE."
   ]
  },
  {
   "attachments": {},
   "cell_type": "markdown",
   "metadata": {},
   "source": [
    "# **urllib**\n",
    "\n",
    "**Using urllib**\n",
    "\n",
    "Since HTTP is common, a library that does all the socket work for us."
   ]
  },
  {
   "cell_type": "code",
   "execution_count": null,
   "metadata": {},
   "outputs": [],
   "source": [
    "import urllib.request,urllib.parse,urllib.error\n",
    "\n",
    "# Opens url file, read, and print.\n",
    "# Does not return headers.\n",
    "fileHandler = urllib.request.urlopen('http://data.pr4e.org/romeo.txt')\n",
    "for line in fileHandler:\n",
    "    print(line.decode().strip())"
   ]
  },
  {
   "cell_type": "code",
   "execution_count": null,
   "metadata": {},
   "outputs": [],
   "source": [
    "import urllib.request,urllib.parse,urllib.error\n",
    "\n",
    "# Opens/reads/returns each line from url and count word occurences.\n",
    "\n",
    "fileHandler = urllib.request.urlopen('http://data.pr4e.org/romeo.txt')\n",
    "\n",
    "wordCount = dict()\n",
    "\n",
    "for line in fileHandler:\n",
    "    words = line.decode().split()\n",
    "    for word in words:\n",
    "        wordCount[word] = wordCount.get(word,0)+1\n",
    "print(wordCount)"
   ]
  },
  {
   "attachments": {},
   "cell_type": "markdown",
   "metadata": {},
   "source": [
    "# **What is web scraping?**\n",
    "\n",
    "A program that looks at web pages, extracts info and repeat.\n",
    "- Search engines do this as web crawling/spidering.\n",
    "\n",
    "**Why Scrape?**\n",
    "- pull data\n",
    "- make backups of data\n",
    "- monitor site for changes\n",
    "- making database for search engine\n",
    "- etc"
   ]
  }
 ],
 "metadata": {
  "kernelspec": {
   "display_name": "Python 3",
   "language": "python",
   "name": "python3"
  },
  "language_info": {
   "name": "python",
   "version": "3.10.2 (tags/v3.10.2:a58ebcc, Jan 17 2022, 14:12:15) [MSC v.1929 64 bit (AMD64)]"
  },
  "orig_nbformat": 4,
  "vscode": {
   "interpreter": {
    "hash": "fa6936afccae6738ef30cc92f5c1ede57c28cb430a06fa1a1a3979d763f241d5"
   }
  }
 },
 "nbformat": 4,
 "nbformat_minor": 2
}
