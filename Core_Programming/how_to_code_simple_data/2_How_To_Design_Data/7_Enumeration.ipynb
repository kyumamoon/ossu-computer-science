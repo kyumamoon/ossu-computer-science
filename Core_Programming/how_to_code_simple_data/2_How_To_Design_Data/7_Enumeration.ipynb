{
 "cells": [
  {
   "attachments": {},
   "cell_type": "markdown",
   "metadata": {},
   "source": [
    "# **Enumeration**"
   ]
  },
  {
   "attachments": {},
   "cell_type": "markdown",
   "metadata": {},
   "source": [
    "Problem:\n",
    "\n",
    "- As part of designing a system to keep track of student grades, you are asked to design a data definition to represent the letter grade in a course, which is one of A, B, or C."
   ]
  },
  {
   "attachments": {},
   "cell_type": "markdown",
   "metadata": {},
   "source": [
    "Sample Data Definition\n",
    "1. Type Comment\n",
    "    - ;;CityName is String\n",
    "2. Interpretation\n",
    "    - ;; interp. the name of a city\n",
    "3. Examples:\n",
    "    - (define CityName1 \"Boston\")\n",
    "    - (define CityName2 \"Vancouver\")\n",
    "4. Template for Data Definition: (how it will be used by functions)\n",
    "    - (define (fn-for-city-name cn) (...cn))\n",
    "5. Template Rules used: (which table got template from)\n",
    "    - ;; atomic non-distinct: string"
   ]
  },
  {
   "attachments": {},
   "cell_type": "markdown",
   "metadata": {},
   "source": [
    "Data Definition for Problem:\n",
    "\n",
    "1. Type Comment\n",
    "    - ;;Grade is one of:\n",
    "        - \"A\" is string\n",
    "        - \"B\" is string\n",
    "        - \"C\" is string\n",
    "2. Interpretation:\n",
    "    - ;; interp. the letter grade of a course\n",
    "3. Examples:\n",
    "    - ;; Examples are redundant for enumeration.\n",
    "4. Template:\n",
    "    - ;; (define (fn_for_grade Grade) (cond [(string=? Grade \"A\") (...)] [(string=? Grade \"B\") (...)1] [(string=? Grade \"C\") (...)]))\n",
    "5. Template Rules used:\n",
    "    - ;;One of: 3 cases\n",
    "    - ;;Atomic distinct value: \"A\"\n",
    "    - ;;Atomic distinct value: \"B\"\n",
    "    - ;;Atomic distinct value: \"C\""
   ]
  }
 ],
 "metadata": {
  "language_info": {
   "name": "python"
  },
  "orig_nbformat": 4
 },
 "nbformat": 4,
 "nbformat_minor": 2
}
