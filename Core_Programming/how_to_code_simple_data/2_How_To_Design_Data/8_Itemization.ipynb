{
 "cells": [
  {
   "attachments": {},
   "cell_type": "markdown",
   "metadata": {},
   "source": [
    "# **Itemization**"
   ]
  },
  {
   "attachments": {},
   "cell_type": "markdown",
   "metadata": {},
   "source": [
    "Problem 1:\n",
    "- Consider designing the system for controlling a New Year's Eve display. Design a data definition to represent the current state of the countdown, which falls into one of the three categories:\n",
    "    - Not yet started\n",
    "    - From 10 to 1 second before midnight\n",
    "    - Complete (Happy New Years)"
   ]
  },
  {
   "attachments": {},
   "cell_type": "markdown",
   "metadata": {},
   "source": [
    "Sample Data Definition\n",
    "1. Type Comment\n",
    "    - ;;CityName is String\n",
    "2. Interpretation\n",
    "    - ;; interp. the name of a city\n",
    "3. Examples:\n",
    "    - (define CityName1 \"Boston\")\n",
    "    - (define CityName2 \"Vancouver\")\n",
    "4. Template for Data Definition: (how it will be used by functions)\n",
    "    - (define (fn-for-city-name cn) (...cn))\n",
    "5. Template Rules used: (which table got template from)\n",
    "    - ;; atomic non-distinct: string"
   ]
  },
  {
   "attachments": {},
   "cell_type": "markdown",
   "metadata": {},
   "source": [
    "Problem Data Definition:\n",
    "\n",
    "1. Type Comment Structure\n",
    "    - ;;CountDown is one of:\n",
    "        - not yet started is false boolean\n",
    "        - count down is Natural[10,1]\n",
    "        - \"complete\" is string\n",
    "2. Interpretation:\n",
    "    - ;; interp.\n",
    "        - false         mean countdown has not yet started\n",
    "        - Natural[10,1] mean countdown is running\n",
    "        - string        mean countdown has ended\n",
    "3. Examples:\n",
    "    - (define CD1 false)\n",
    "    - (define CD2 10)\n",
    "    - (define CD3 \"complete\")\n",
    "4. Template: (If function takes a value in, cond switch will determine how it will be processed)\n",
    "    - (define (fn_for_countdown c) (cond [(false? c) (...)] [(and (number? c) (<= 1 c) (<= c 10)) (...c)] [else (...)]))\n",
    "5. Template Alternative/Simplified:\n",
    "    - (define (fn_for_countdown c) (cond [(false? c) (...)] [(number? c) (...)] [else (...)]))\n",
    "    - 2nd cond can be simplified to be (number? c) because it is the only number case in the data definition, rest are bool and string.\n",
    "6. Template Rules used:\n",
    "    - one of 3 cases:\n",
    "        - atomic distinct: false\n",
    "        - atomic non-distinct: Natural[10,1]\n",
    "        - atomic distinct: \"complete\"\n",
    "        "
   ]
  },
  {
   "attachments": {},
   "cell_type": "markdown",
   "metadata": {},
   "source": [
    "----\n",
    "\n",
    "Problem 2: \n",
    "\n",
    "- Design a data definition for a traffic light that can either be disabled, or be one of red, yellow, or green."
   ]
  },
  {
   "attachments": {},
   "cell_type": "markdown",
   "metadata": {},
   "source": [
    "1. ;; TLight is one of:\n",
    "    - false\n",
    "    - \"red\"\n",
    "    - \"yellow\"\n",
    "    - \"green\"\n",
    "2. ;; interp. false mean light is disabled. otherwise colors of light.\n",
    "3. Examples:\n",
    "    - (define TL1 false)\n",
    "    - (define TL2 \"red\")\n",
    "4. Template:\n",
    "    - (define (fn_for_TLight TL) (cond [(false? TL) (...)] [(string=? \"red\" TL) (...)] [(string=? \"yellow\" TL) (...)] [(string=? \"green\" TL) (...)]))\n",
    "5. Template Rules Used:\n",
    "    - one of 4 cases:\n",
    "        - atomic distinct: false\n",
    "        - atomic distinct: \"red\"\n",
    "        - atomic distinct: \"yellow\"\n",
    "        - atomic distinct: \"green\""
   ]
  },
  {
   "attachments": {},
   "cell_type": "markdown",
   "metadata": {},
   "source": [
    "----\n",
    "\n",
    "Rules for Mixed Data Itemization:\n",
    "1. If a given subclass is the last subclass of its type, we can reduce the test to just the guard, ie (number? c)\n",
    "2. If all remaining subclasses are the same type, then we can eliminate all of the guards."
   ]
  }
 ],
 "metadata": {
  "language_info": {
   "name": "python"
  },
  "orig_nbformat": 4
 },
 "nbformat": 4,
 "nbformat_minor": 2
}
