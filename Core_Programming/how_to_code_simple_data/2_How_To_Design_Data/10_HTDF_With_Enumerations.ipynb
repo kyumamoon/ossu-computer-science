{
 "cells": [
  {
   "attachments": {},
   "cell_type": "markdown",
   "metadata": {},
   "source": [
    "# **HtDF with Enumeration**"
   ]
  },
  {
   "attachments": {},
   "cell_type": "markdown",
   "metadata": {},
   "source": [
    "Problem:\n",
    "- Using the LetterGrade data definition below, design a function that consumes a letter grade and produces the next highest letter grade. Call your function \"bump-up\".\n",
    "\n",
    "1. Type Comment\n",
    "    - ;;Grade is one of:\n",
    "        - \"A\" is string\n",
    "        - \"B\" is string\n",
    "        - \"C\" is string\n",
    "2. Interpretation:\n",
    "    - ;; interp. the letter grade of a course\n",
    "3. Examples:\n",
    "    - ;; Examples are redundant for enumeration.\n",
    "4. Template:\n",
    "    - ;; (define (fn_for_grade Grade) (cond [(string=? Grade \"A\") (...)] [(string=? Grade \"B\") (...)1] [(string=? Grade \"C\") (...)]))\n",
    "5. Template Rules used:\n",
    "    - ;;One of: 3 cases\n",
    "    - ;;Atomic distinct value: \"A\"\n",
    "    - ;;Atomic distinct value: \"B\"\n",
    "    - ;;Atomic distinct value: \"C\""
   ]
  },
  {
   "attachments": {},
   "cell_type": "markdown",
   "metadata": {},
   "source": [
    "----\n",
    "\n",
    "HTDF Recipe:\n",
    "\n",
    "- Signature:    Input and Output\n",
    "- Purpose:      Purpose of function\n",
    "- Stub:         The bare template of function (name,parameters,return variables)\n",
    "- Examples:     (check-expect (double 3) 6) // Unit testing the function. Give 3, expect 6.\n",
    "- Template:     The bare template of the function but with (... n) placeholder for body code. n is input, and input will be processed in body.\n",
    "- Code Body:    Code the rough draft of the function with the template.\n",
    "- Test/Debug:   Run code and see if all tests passed."
   ]
  },
  {
   "attachments": {},
   "cell_type": "markdown",
   "metadata": {},
   "source": [
    "Function:\n",
    "\n",
    "- Signature:\n",
    "    - Grade -> Grade\n",
    "- Purpose:\n",
    "    - Consumes a grade to produce higher grade\n",
    "- Stub:\n",
    "    - (define (bump-up Grade) \"\")\n",
    "- Examples:\n",
    "    - (check-expect (bump-up \"A\") \"A\")\n",
    "    - (check-expect (bump-up \"B\") \"A\")\n",
    "    - (check-expect (bump-up \"C\") \"B\")\n",
    "- Template:\n",
    "    - (define (bump-up Grade) (...Grade))\n",
    "- Code Body:\n",
    "    - (define (bump-up Grade) (cond [(string=? \"A\" Grade) \"A\"] [(string=? \"B\" Grade) \"A\"] [(string=? \"C\" Grade) \"B\"]))"
   ]
  }
 ],
 "metadata": {
  "language_info": {
   "name": "python"
  },
  "orig_nbformat": 4
 },
 "nbformat": 4,
 "nbformat_minor": 2
}
