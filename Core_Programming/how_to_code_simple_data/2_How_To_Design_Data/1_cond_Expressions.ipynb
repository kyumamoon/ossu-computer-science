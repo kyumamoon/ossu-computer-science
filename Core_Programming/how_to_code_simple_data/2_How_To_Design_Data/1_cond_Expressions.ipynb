{
 "cells": [
  {
   "attachments": {},
   "cell_type": "markdown",
   "metadata": {},
   "source": [
    "# **cond Expressions**"
   ]
  },
  {
   "attachments": {},
   "cell_type": "markdown",
   "metadata": {},
   "source": [
    "cond is a multi-armed conditional.\n",
    "- It can have any number of cases all at the same level.\n",
    "- Makes it easier to not have nested IFs.\n",
    "- Syntax: (cond [\\<expression\\> \\<expression\\>] ...)"
   ]
  },
  {
   "cell_type": "code",
   "execution_count": null,
   "metadata": {},
   "outputs": [],
   "source": [
    "# Creating cond expressions:\n",
    "\n",
    "(define (aspect-ratio img)\n",
    "    (cond \n",
    "        [Q A]\n",
    "        [Q A]\n",
    "        [Q A])\n",
    ")\n",
    "\n",
    "# Q = an if expression, A = the answer if the expression is true.\n",
    "# Last bracket's Q, can be replaced with \"else\" to have an all else option for the conditional."
   ]
  }
 ],
 "metadata": {
  "language_info": {
   "name": "python"
  },
  "orig_nbformat": 4
 },
 "nbformat": 4,
 "nbformat_minor": 2
}
