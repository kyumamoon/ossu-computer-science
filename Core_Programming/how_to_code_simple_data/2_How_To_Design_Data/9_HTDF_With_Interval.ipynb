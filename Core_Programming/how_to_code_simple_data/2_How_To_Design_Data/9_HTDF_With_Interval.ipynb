{
 "cells": [
  {
   "attachments": {},
   "cell_type": "markdown",
   "metadata": {},
   "source": [
    "# **HtDF with Interval**"
   ]
  },
  {
   "attachments": {},
   "cell_type": "markdown",
   "metadata": {},
   "source": [
    "Problem:\n",
    "- Using the SeatNum data definition below, design a function that produces true if the given seat number is on the aisle."
   ]
  },
  {
   "attachments": {},
   "cell_type": "markdown",
   "metadata": {},
   "source": [
    "Data Definition\n",
    "\n",
    "1. ;; SeatNum is Natural[1,32] // Square brackets are inclusive to last index, () brackets are exclusive.\n",
    "2. ;; interp. seat numbers in a row, 1 and 32 are aisle seats, everything in middle is not aisle seats (edge seats)\n",
    "3. ;; Examples:\n",
    "    - (define SeatNum1 1)\n",
    "    - (define SeatNum2 2)\n",
    "    - (define SeatNum32 32)\n",
    "4. ;; Template:\n",
    "    - (define (fn_for_SeatNum SeatNum) (...SeatNum))\n",
    "5. ;; Template Rule Used: atomic-non distinct: Natural[1,32] interval range"
   ]
  },
  {
   "attachments": {},
   "cell_type": "markdown",
   "metadata": {},
   "source": [
    "----\n",
    "\n",
    "HTDF Recipe:\n",
    "\n",
    "- Signature:    Input and Output\n",
    "- Purpose:      Purpose of function\n",
    "- Stub:         The bare template of function (name,parameters,return variables)\n",
    "- Examples:     (check-expect (double 3) 6) // Unit testing the function. Give 3, expect 6.\n",
    "- Template:     The bare template of the function but with (... n) placeholder for body code. n is input, and input will be processed in body.\n",
    "- Code Body:    Code the rough draft of the function with the template.\n",
    "- Test/Debug:   Run code and see if all tests passed.\n",
    "\n"
   ]
  },
  {
   "attachments": {},
   "cell_type": "markdown",
   "metadata": {},
   "source": [
    "Function:\n",
    "\n",
    "- Signature:\n",
    "    - SeatNum -> boolean\n",
    "- Purpose:\n",
    "    - Compare whether SeatNum is within a range [1,32]\n",
    "- Stub:\n",
    "    - (define (isSeat? SeatNum) false)\n",
    "- Examples:\n",
    "    - (check-expect (isSeat? 1) true)\n",
    "    - (check-expect (isSeat? 32) true)\n",
    "    - (check-expect (isSeat? 33) false)\n",
    "- Template:\n",
    "    - (define (isSeat? SeatNum) (...SeatNum))\n",
    "- Code Body:\n",
    "    - (define (isSeat? SeatNum) (if (or (= 32 SeatNum) (= 1 SeatNum)) true false))\n"
   ]
  }
 ],
 "metadata": {
  "language_info": {
   "name": "python"
  },
  "orig_nbformat": 4
 },
 "nbformat": 4,
 "nbformat_minor": 2
}
