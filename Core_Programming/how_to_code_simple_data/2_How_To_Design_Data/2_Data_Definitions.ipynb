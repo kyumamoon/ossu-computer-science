{
 "cells": [
  {
   "attachments": {},
   "cell_type": "markdown",
   "metadata": {},
   "source": [
    "# **Data Definitions**\n",
    "\n",
    "- Problem Domain: contains information from problem/real scenario.\n",
    "    - These information represents data in a program.\n",
    "    - EX: Red light = 0\n",
    "- Program: contains data (ints/strings/bool/etc)\n",
    "    - These data can be interpreted as some information from problem domain.\n",
    "    - EX: 0 = Red Light"
   ]
  },
  {
   "attachments": {},
   "cell_type": "markdown",
   "metadata": {},
   "source": [
    "**Data Definitions**\n",
    "- A way to explain what information the data types being used are representing before functions are established.\n",
    "- Gives context to the data types used in functions.\n",
    "\n",
    "- Describes:\n",
    "    - How to form data of a new type\n",
    "    - How to represent information as data\n",
    "    - How to interpret data as information\n",
    "    - Template for operating on data\n",
    "\n",
    "- Simplifies:\n",
    "    - Restricts data consumed\n",
    "    - Restricts data produced\n",
    "    - Helps generate examples\n",
    "    - Provides template"
   ]
  }
 ],
 "metadata": {
  "language_info": {
   "name": "python"
  },
  "orig_nbformat": 4
 },
 "nbformat": 4,
 "nbformat_minor": 2
}
