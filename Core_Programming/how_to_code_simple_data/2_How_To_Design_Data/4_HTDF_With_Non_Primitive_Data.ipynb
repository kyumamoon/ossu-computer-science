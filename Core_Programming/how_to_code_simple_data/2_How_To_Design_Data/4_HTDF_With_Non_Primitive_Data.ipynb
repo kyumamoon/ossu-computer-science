{
 "cells": [
  {
   "attachments": {},
   "cell_type": "markdown",
   "metadata": {},
   "source": [
    "# **HtDF With Non-Primitive Data**\n",
    "\n",
    "Design a function for a problem using the data defintion created.\n",
    "\n",
    "---\n",
    "\n",
    "**Data Definition**\n",
    "\n",
    "Example:\n",
    "\n",
    "- Problem:\n",
    "    - Imagine that you are designing a program that, among other things, has information about the names of cities in its problem domain.\n",
    "    - Design a data definition to represent the name of a city.\n",
    "\n",
    "- Information -> Data\n",
    "    - Vancouver = \"Vancouver\"\n",
    "    - Boston = \"Boston\"\n",
    "\n",
    "Parts\n",
    "1. Type Comment\n",
    "    - ;;CityName is String\n",
    "2. Interpretation\n",
    "    - ;; interp. the name of a city\n",
    "3. Examples:\n",
    "    - (define CityName1 \"Boston\")\n",
    "    - (define CityName2 \"Vancouver\")\n",
    "4. Template for Data Definition: (how it will be used by functions)\n",
    "    - (define (fn-for-city-name cn) (...cn))\n",
    "5. Template Rules used: (which table got template from)\n",
    "    - ;; atomic non-distinct: string\n",
    "---"
   ]
  },
  {
   "attachments": {},
   "cell_type": "markdown",
   "metadata": {},
   "source": [
    "**Function**\n",
    "\n",
    "Using the CityName data definition, design a function that produces true if the given city is the best in the world (we choose).\n",
    "\n",
    "**Steps**\n",
    " - 1. Signature, purpose, stub\n",
    " - 2. Define examples, wrap each in check-expect.\n",
    " - 3. Template and inventory.\n",
    " - 4. Code the function body.\n",
    " - 5. Test and debug until correct.\n",
    "\n",
    " - Signature:\n",
    "    - CityName -> Boolean\n",
    "- Purpose:\n",
    "    - consumes string and compare to best\n",
    "- Stub:\n",
    "    - (define (isBestCity? cn) false)\n",
    "- Examples:\n",
    "    - (check-expect (isBestCity? \"Boston\") True)\n",
    "    - (check-expect (isBestCity? \"New York\") False)\n",
    "- Template:\n",
    "    - (define (isBestCity? cn) (...cn))\n",
    "- Code Body:\n",
    "    - (define (isBestCity? cn) (string=? cn \"Boston\")) \n",
    "    - \"Boston\" is our defined best city."
   ]
  }
 ],
 "metadata": {
  "language_info": {
   "name": "python"
  },
  "orig_nbformat": 4
 },
 "nbformat": 4,
 "nbformat_minor": 2
}
