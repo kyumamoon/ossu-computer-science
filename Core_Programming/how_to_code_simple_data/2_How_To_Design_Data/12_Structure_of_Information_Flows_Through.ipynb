{
 "cells": [
  {
   "attachments": {},
   "cell_type": "markdown",
   "metadata": {},
   "source": [
    "# **Structure of Information Flows Through**"
   ]
  },
  {
   "attachments": {},
   "cell_type": "markdown",
   "metadata": {},
   "source": [
    "- Structure:\n",
    "    - Information -> Data -> Template -> Function Tests\n",
    "\n",
    "- Identifying the structure of the information is a key step in program design.\n",
    "- As data definition gets more sophisticated you will see that choosing the structure to use is a point of leverage in designing the overall program."
   ]
  }
 ],
 "metadata": {
  "language_info": {
   "name": "python"
  },
  "orig_nbformat": 4
 },
 "nbformat": 4,
 "nbformat_minor": 2
}
