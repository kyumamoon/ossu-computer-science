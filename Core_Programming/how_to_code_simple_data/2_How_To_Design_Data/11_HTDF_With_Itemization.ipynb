{
 "cells": [
  {
   "attachments": {},
   "cell_type": "markdown",
   "metadata": {},
   "source": [
    "# **HTDF With Itemization**"
   ]
  },
  {
   "attachments": {},
   "cell_type": "markdown",
   "metadata": {},
   "source": [
    "Probem:\n",
    "- You are asked to contribute to the design for a very simple New Year's Eve countdown display. You already ahve the data definition given below. You need to design a function that consumes Countdown and produces an image showing the current status of the countdown."
   ]
  },
  {
   "attachments": {},
   "cell_type": "markdown",
   "metadata": {},
   "source": [
    "Problem Data Definition:\n",
    "\n",
    "1. Type Comment Structure\n",
    "    - ;;CountDown is one of:\n",
    "        - not yet started is false boolean\n",
    "        - count down is Natural[10,1]\n",
    "        - \"complete\" is string\n",
    "2. Interpretation:\n",
    "    - ;; interp.\n",
    "        - false         mean countdown has not yet started\n",
    "        - Natural[10,1] mean countdown is running\n",
    "        - string        mean countdown has ended\n",
    "3. Examples:\n",
    "    - (define CD1 false)\n",
    "    - (define CD2 10)\n",
    "    - (define CD3 \"complete\")\n",
    "4. Template: (If function takes a value in, cond switch will determine how it will be processed)\n",
    "    - (define (fn_for_countdown c) (cond [(false? c) (...)] [(and (number? c) (<= 1 c) (<= c 10)) (...c)] [else (...)]))\n",
    "5. Template Alternative/Simplified:\n",
    "    - (define (fn_for_countdown c) (cond [(false? c) (...)] [(number? c) (...)] [else (...)]))\n",
    "    - 2nd cond can be simplified to be (number? c) because it is the only number case in the data definition, rest are bool and string.\n",
    "6. Template Rules used:\n",
    "    - one of 3 cases:\n",
    "        - atomic distinct: false\n",
    "        - atomic non-distinct: Natural[10,1]\n",
    "        - atomic distinct: \"complete\""
   ]
  },
  {
   "attachments": {},
   "cell_type": "markdown",
   "metadata": {},
   "source": [
    "----\n",
    "\n",
    "HTDF Recipe:\n",
    "\n",
    "- Signature:    Input and Output\n",
    "- Purpose:      Purpose of function\n",
    "- Stub:         The bare template of function (name,parameters,return variables)\n",
    "- Examples:     (check-expect (double 3) 6) // Unit testing the function. Give 3, expect 6.\n",
    "- Template:     The bare template of the function but with (... n) placeholder for body code. n is input, and input will be processed in body.\n",
    "- Code Body:    Code the rough draft of the function with the template.\n",
    "- Test/Debug:   Run code and see if all tests passed."
   ]
  },
  {
   "attachments": {},
   "cell_type": "markdown",
   "metadata": {},
   "source": [
    "Function:\n",
    "\n",
    "- Signature:\n",
    "    - CountDown -> Image\n",
    "- Purpose:\n",
    "    - consumes countdown value to produce an image\n",
    "- Stub:\n",
    "    - (define (CountDownDisplay CD) img)\n",
    "- Examples:\n",
    "    - (check-expect (CountDownDisplay 11) (text \"PAUSE\" 24 \"black\"))\n",
    "    - (check-expect (CountDownDisplay 10) (text (number->string 10) 24 \"black\"))\n",
    "    - (check-expect (CountDownDisplay 1) (text (number->string 1) 24 \"black\"))\n",
    "    - (check-expect (CountDownDisplay 0) (text \"HAPPY NEW YEAR\" 24 \"black\"))\n",
    "- Template:\n",
    "    - (define (CountDownDisplay CD) (...CD))\n",
    "- Code Body:\n",
    "    - Simplified Range Version:\n",
    "    - (define (CountDownDisplay CD) (cond [(= CD 11) (text \"PAUSE\" 24 \"black\")] [(= CD 0) (text \"HAPPY NEW YEAR\" 24 \"black\")] [else (text (number->string CD) 24 \"black\")]))\n",
    "\n",
    "    - Itemization Version:\n",
    "    - (define (CountDownDispaly CD) (cond [(false? CD) (text \"PAUSE\" 24 \"black\")] [(and (number? CD) (<= CD 10) (<= 1 CD)) (text (number->string CD) 24 \"black\")] [else (text \"HAPPY NEW YEAR\" 24 \"black\")]))\n"
   ]
  }
 ],
 "metadata": {
  "language_info": {
   "name": "python"
  },
  "orig_nbformat": 4
 },
 "nbformat": 4,
 "nbformat_minor": 2
}
