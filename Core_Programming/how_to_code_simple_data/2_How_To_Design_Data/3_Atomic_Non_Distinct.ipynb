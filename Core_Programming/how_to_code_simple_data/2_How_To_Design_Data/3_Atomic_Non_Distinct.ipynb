{
 "cells": [
  {
   "attachments": {},
   "cell_type": "markdown",
   "metadata": {},
   "source": [
    "# **Atomic Data Type Definition**\n",
    "\n",
    "**Data Definition Consists of Four-Five Parts**\n",
    "- A possible structure definition\n",
    "- A type comment that defines a new type name and describes how to form data\n",
    "- An interpretation that describes the correspondence between information and data\n",
    "- One or more examples of the data\n",
    "- A template for a 1 argument function operating on data of this type"
   ]
  },
  {
   "attachments": {},
   "cell_type": "markdown",
   "metadata": {},
   "source": [
    "Example:\n",
    "\n",
    "- Problem:\n",
    "    - Imagine that you are designing a program that, among other things, has information about the names of cities in its problem domain.\n",
    "    - Design a data definition to represent the name of a city.\n",
    "\n",
    "- Information -> Data\n",
    "    - Vancouver = \"Vancouver\"\n",
    "    - Boston = \"Boston\"\n",
    "\n",
    "Parts\n",
    "1. Type Comment\n",
    "    - ;;CityName is String\n",
    "2. Interpretation\n",
    "    - ;; interp. the name of a city\n",
    "3. Examples:\n",
    "    - (define CityName1 \"Boston\")\n",
    "    - (define CityName2 \"Vancouver\")\n",
    "4. Template for Data Definition:\n",
    "    - (define (fn-for-city-name cn) (...cn))\n",
    "5. Template Rules used: (which table got template from)\n",
    "    - ;; atomic non-distinct: string\n"
   ]
  }
 ],
 "metadata": {
  "language_info": {
   "name": "python"
  },
  "orig_nbformat": 4
 },
 "nbformat": 4,
 "nbformat_minor": 2
}
