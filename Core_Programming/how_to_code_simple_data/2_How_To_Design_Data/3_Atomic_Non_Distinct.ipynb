{
 "cells": [
  {
   "attachments": {},
   "cell_type": "markdown",
   "metadata": {},
   "source": [
    "# **Atomic Data Type Definition**\n",
    "\n",
    "**Data Definition Consists of Four-Five Parts**\n",
    "- A possible structure definition\n",
    "- A type comment that defines a new type name and describes how to form data\n",
    "- An interpretation that describes the correspondence between information and data\n",
    "- One or more examples of the data\n",
    "- A template for a 1 argument function operating on data of this type"
   ]
  }
 ],
 "metadata": {
  "language_info": {
   "name": "python"
  },
  "orig_nbformat": 4
 },
 "nbformat": 4,
 "nbformat_minor": 2
}
