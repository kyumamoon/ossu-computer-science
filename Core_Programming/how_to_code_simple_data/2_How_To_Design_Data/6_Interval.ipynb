{
 "cells": [
  {
   "attachments": {},
   "cell_type": "markdown",
   "metadata": {},
   "source": [
    "# **Interval**"
   ]
  },
  {
   "attachments": {},
   "cell_type": "markdown",
   "metadata": {},
   "source": [
    "\n",
    "Designing Interval Data Definition Problem:\n",
    "\n",
    "- Imagine that you are designing a program to manage ticket sales for a theatre. (Perfect rectangle theatre.)\n",
    "- Design a data definition to represent a seat number in a row, where each row has 32 seats. (Just seat number, not row number)."
   ]
  },
  {
   "attachments": {},
   "cell_type": "markdown",
   "metadata": {},
   "source": [
    "Recipe\n",
    "1. Type Comment\n",
    "    - ;;CityName is String\n",
    "2. Interpretation\n",
    "    - ;; interp. the name of a city\n",
    "3. Examples:\n",
    "    - (define CityName1 \"Boston\")\n",
    "    - (define CityName2 \"Vancouver\")\n",
    "4. Template for Data Definition: (how it will be used by functions)\n",
    "    - (define (fn-for-city-name cn) (...cn))\n",
    "5. Template Rules used: (which table got template from)\n",
    "    - ;; atomic non-distinct: string"
   ]
  },
  {
   "attachments": {},
   "cell_type": "markdown",
   "metadata": {},
   "source": [
    "Setup\n",
    "\n",
    "1. ;; SeatNum is Natural[1,32] // Square brackets are inclusive to last index, () brackets are exclusive.\n",
    "2. ;; interp. seat numbers in a row, 1-32 are aisle seats.\n",
    "3. ;; Examples:\n",
    "    - (define SeatNum1 1)\n",
    "    - (define SeatNum2 2)\n",
    "    - (define SeatNum32 32)\n",
    "4. ;; Template:\n",
    "    - (define (fn_for_SeatNum SeatNum) (...SeatNum))\n",
    "5. ;; Template Rule Used: atomic-non distinct: Natural[1,32] interval range"
   ]
  }
 ],
 "metadata": {
  "language_info": {
   "name": "python"
  },
  "orig_nbformat": 4
 },
 "nbformat": 4,
 "nbformat_minor": 2
}
