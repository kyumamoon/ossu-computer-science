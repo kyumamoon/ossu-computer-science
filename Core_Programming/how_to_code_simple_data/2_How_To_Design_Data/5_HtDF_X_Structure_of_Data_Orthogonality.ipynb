{
 "cells": [
  {
   "attachments": {},
   "cell_type": "markdown",
   "metadata": {},
   "source": [
    "# **HtDF X Structure of Data Orthogonality**\n",
    "\n",
    "- Orthotical = Mosting independent"
   ]
  }
 ],
 "metadata": {
  "language_info": {
   "name": "python"
  },
  "orig_nbformat": 4
 },
 "nbformat": 4,
 "nbformat_minor": 2
}
