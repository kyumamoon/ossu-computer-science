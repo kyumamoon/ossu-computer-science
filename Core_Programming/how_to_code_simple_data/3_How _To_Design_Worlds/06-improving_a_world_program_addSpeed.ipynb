{
 "cells": [
  {
   "attachments": {},
   "cell_type": "markdown",
   "metadata": {},
   "source": [
    "# **Improving a World Program - Add SPEED**"
   ]
  }
 ],
 "metadata": {
  "language_info": {
   "name": "python"
  },
  "orig_nbformat": 4
 },
 "nbformat": 4,
 "nbformat_minor": 2
}
