{
 "cells": [
  {
   "attachments": {},
   "cell_type": "markdown",
   "metadata": {},
   "source": [
    "# **Improving a World Program - Add SPEED**"
   ]
  },
  {
   "attachments": {},
   "cell_type": "markdown",
   "metadata": {},
   "source": [
    "**Continuation of 05**"
   ]
  },
  {
   "cell_type": "code",
   "execution_count": null,
   "metadata": {
    "vscode": {
     "languageId": "plaintext"
    }
   },
   "outputs": [],
   "source": [
    "Wishlist Items:\n",
    "\n",
    ";; STUBS\n",
    "\n",
    ";; Cat -> Cat\n",
    ";; Produce the next cat by advancing it 1 pixel to the right\n",
    "    (define (advance-the-cat CAT) 0) // stub\n",
    "; Example\n",
    "    (check-expect (advance-the-cat 0) 1)\n",
    "; Template\n",
    "    (define (advance-the-cat CAT) (+ CAT 1))\n",
    "\n",
    ";; Cat -> Image\n",
    ";; Render the cat image at appropriate place on MTS\n",
    "    (define (render CAT) MTS) // stub\n",
    "; Example\n",
    "    (check-expect (render 4) (place-image CAT-IMG 4 CTR-Y MTS))\n",
    "; Template\n",
    "    (define (render CAT) (place-image CAT-IMG CAT CTR-Y MTS))"
   ]
  },
  {
   "attachments": {},
   "cell_type": "markdown",
   "metadata": {},
   "source": [
    "- Add constant SPEED to the program to control the amount of pixels the CAT-IMG will be placed to the right."
   ]
  },
  {
   "attachments": {},
   "cell_type": "markdown",
   "metadata": {},
   "source": [
    ";; CONSTANT\n",
    "    (define speed 5)\n",
    "\n",
    ";; STUBS\n",
    "\n",
    ";; Cat -> Cat\n",
    ";; Produce the next cat by advancing it 1 pixel to the right\n",
    "    (define (advance-the-cat CAT) 0) // stub\n",
    "; Example\n",
    "    (check-expect (advance-the-cat 0) 1)\n",
    "; Template\n",
    "    (define (advance-the-cat CAT) (+ CAT speed))\n",
    "\n",
    ";; Cat -> Image\n",
    ";; Render the cat image at appropriate place on MTS\n",
    "    (define (render CAT) MTS) // stub\n",
    "; Example\n",
    "    (check-expect (render 4) (place-image CAT-IMG 4 CTR-Y MTS))\n",
    "; Template\n",
    "    (define (render CAT) (place-image CAT-IMG CAT CTR-Y MTS))"
   ]
  }
 ],
 "metadata": {
  "language_info": {
   "name": "python"
  },
  "orig_nbformat": 4
 },
 "nbformat": 4,
 "nbformat_minor": 2
}
