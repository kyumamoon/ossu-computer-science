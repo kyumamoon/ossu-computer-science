{
 "cells": [
  {
   "attachments": {},
   "cell_type": "markdown",
   "metadata": {},
   "source": [
    "# **Working through the Wish List**"
   ]
  },
  {
   "attachments": {},
   "cell_type": "markdown",
   "metadata": {},
   "source": [
    "**Continuation of the Cat Function from 04**"
   ]
  },
  {
   "cell_type": "code",
   "execution_count": null,
   "metadata": {
    "vscode": {
     "languageId": "plaintext"
    }
   },
   "outputs": [],
   "source": [
    "Wishlist Items:\n",
    "\n",
    ";; STUBS\n",
    "\n",
    ";; Cat -> Cat\n",
    ";; Produce the next cat by advancing it 1 pixel to the right\n",
    "    (define (advance-the-cat CAT) 0) // stub\n",
    "; Example\n",
    "    (check-expect (advance-the-cat 0) 1)\n",
    "; Template\n",
    "    (define (advance-the-cat CAT) (+ CAT 1))\n",
    "\n",
    ";; Cat -> Image\n",
    ";; Render the cat image at appropriate place on MTS\n",
    "    (define (render CAT) MTS) // stub\n",
    "; Example\n",
    "    (check-expect (render 4) (place-image CAT-IMG 4 CTR-Y MTS))\n",
    "; Template\n",
    "    (define (render CAT) (place-image CAT-IMG CAT CTR-Y MTS))"
   ]
  },
  {
   "attachments": {},
   "cell_type": "markdown",
   "metadata": {},
   "source": [
    "To run functions, run the program and then:\n",
    "\n",
    "(\\<FUNCTION_NAME\\> \\<ARGUMENTS\\>)"
   ]
  },
  {
   "cell_type": "code",
   "execution_count": null,
   "metadata": {
    "vscode": {
     "languageId": "plaintext"
    }
   },
   "outputs": [],
   "source": [
    "(main 0)"
   ]
  }
 ],
 "metadata": {
  "language_info": {
   "name": "python"
  },
  "orig_nbformat": 4
 },
 "nbformat": 4,
 "nbformat_minor": 2
}
