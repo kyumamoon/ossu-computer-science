{
 "cells": [
  {
   "attachments": {},
   "cell_type": "markdown",
   "metadata": {},
   "source": [
    "# **Domain Analysis**"
   ]
  },
  {
   "attachments": {},
   "cell_type": "markdown",
   "metadata": {},
   "source": [
    "Problem:\n",
    "\n",
    "- Use the How to Design Worlds recipe to design an interactive program in which a cat starts at the left edge of the display and then walks across the screen to the right. When the cat reaches the right edge it should just keep going right off the screen.\n",
    "\n",
    "- Once design is complete revise it to add a new feature, which is that pressing the space key should cause the cat to go back to the left edge of the screen. When you do this, go all the way back to you domain analysis and incorporate the new feature.\n",
    "\n",
    "- To help you get started, here is a picture of a cat, which we have taken from the 2nd edition of the How to Design Programs book on which this course is based."
   ]
  },
  {
   "attachments": {},
   "cell_type": "markdown",
   "metadata": {},
   "source": [
    "**HTDW Recipe**\n",
    "- Two phases.\n",
    "\n",
    "1. Domain analysis\n",
    "    - Sketch program scenarios.\n",
    "    - Identify constant information (info that doesnt change throughout program.)\n",
    "        - EX: Width/Height of screen.\n",
    "    - Identify changing information (info that changes throughout program phases.)\n",
    "        - EX: position of a moving object.\n",
    "    - Identify big-bang options\n",
    "2. Build the actual program\n",
    "    - Constants\n",
    "    - Data definitions using HTDD\n",
    "    - Functions using HTDF\n",
    "        - Main first\n",
    "        - wish list entries for big bang handlers\n",
    "    - Work through wish list until done."
   ]
  }
 ],
 "metadata": {
  "language_info": {
   "name": "python"
  },
  "orig_nbformat": 4
 },
 "nbformat": 4,
 "nbformat_minor": 2
}
