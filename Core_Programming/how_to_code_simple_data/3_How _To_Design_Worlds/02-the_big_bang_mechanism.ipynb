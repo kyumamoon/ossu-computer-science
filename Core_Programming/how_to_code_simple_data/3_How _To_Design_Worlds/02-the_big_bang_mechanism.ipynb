{
 "cells": [
  {
   "attachments": {},
   "cell_type": "markdown",
   "metadata": {},
   "source": [
    "# **The big-bang Mechanism**"
   ]
  },
  {
   "attachments": {},
   "cell_type": "markdown",
   "metadata": {},
   "source": [
    "- (place-image \\<IMG\\> \\<XVALUE\\> \\<YVALUE\\> \\<BACKGROUNDIMAGE\\>)\n",
    "- CTR-Y can be used to specify the midpoint of an image.\n",
    "- CTR-X is the same but for X-axis"
   ]
  },
  {
   "attachments": {},
   "cell_type": "markdown",
   "metadata": {},
   "source": [
    "**Big Bang Expression**\n",
    "Used to call two functions consecutively.\n",
    "\n",
    "- (big-bang \\<INITAL WORLD STATE\\> (on-tick \\<FUNCTION\\>) (to-draw \\<FUNCTION\\>))\n",
    "    - Initial world state is the first initial value, can be any type.\n",
    "    - The initial value is passed onto the on-tick expression which runs every tick and consumed by the function. Returns a new world state that changes the initial one.\n",
    "    - Changed world state value is then passed onto to-draw expression where the value gets consumed by the function there.\n",
    "- big bang must have single type consumed in its functions.\n",
    "- big bang is POLYMORPHIC, meaning it can work for any type as its world state."
   ]
  },
  {
   "attachments": {},
   "cell_type": "markdown",
   "metadata": {},
   "source": [
    "Example:\n",
    "\n",
    "- (big-bang 0 (on-tick next-cat) (to-draw render-cat))\n",
    "    - 0, is a value for \"cat\" type. cat type is just the x position of an image about to be produced.\n",
    "    - next-cat is a function that takes cat type and increments it and then returns it.\n",
    "    - render-cat is a function that takes in a cat type and then produces an image of a cat being placed on a specified x positional value."
   ]
  }
 ],
 "metadata": {
  "language_info": {
   "name": "python"
  },
  "orig_nbformat": 4
 },
 "nbformat": 4,
 "nbformat_minor": 2
}
