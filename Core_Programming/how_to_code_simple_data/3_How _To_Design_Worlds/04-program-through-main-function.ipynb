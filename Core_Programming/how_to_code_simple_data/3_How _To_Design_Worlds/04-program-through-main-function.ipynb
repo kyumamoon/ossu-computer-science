{
 "cells": [
  {
   "attachments": {},
   "cell_type": "markdown",
   "metadata": {},
   "source": [
    "# **Program through main Function**\n"
   ]
  },
  {
   "attachments": {},
   "cell_type": "markdown",
   "metadata": {},
   "source": [
    "Problem:\n",
    "\n",
    "- Use the How to Design Worlds recipe to design an interactive program in which a cat starts at the left edge of the display and then walks across the screen to the right. When the cat reaches the right edge it should just keep going right off the screen.\n",
    "\n",
    "- Once design is complete revise it to add a new feature, which is that pressing the space key should cause the cat to go back to the left edge of the screen. When you do this, go all the way back to you domain analysis and incorporate the new feature.\n",
    "\n",
    "- To help you get started, here is a picture of a cat, which we have taken from the 2nd edition of the How to Design Programs book on which this course is based.\n"
   ]
  },
  {
   "attachments": {},
   "cell_type": "markdown",
   "metadata": {},
   "source": [
    "**HTDW Recipe**\n",
    "- Two phases.\n",
    "\n",
    "1. Domain analysis\n",
    "    - Sketch program scenarios.\n",
    "    - Identify constant information (info that doesnt change throughout program.)\n",
    "        - EX: Width/Height of screen.\n",
    "    - Identify changing information (info that changes throughout program phases.)\n",
    "        - EX: position of a moving object.\n",
    "    - Identify big-bang options\n",
    "2. Build the actual program\n",
    "    - Constants\n",
    "    - Data definitions using HTDD\n",
    "    - Functions using HTDF\n",
    "        - Main first\n",
    "        - wish list entries for big bang handlers\n",
    "    - Work through wish list until done."
   ]
  },
  {
   "attachments": {},
   "cell_type": "markdown",
   "metadata": {},
   "source": [
    "**Build the Program**"
   ]
  },
  {
   "cell_type": "code",
   "execution_count": null,
   "metadata": {
    "vscode": {
     "languageId": "plaintext"
    }
   },
   "outputs": [],
   "source": [
    "(require 2htdp/image)\n",
    "(require 2htdp/universe)\n",
    "\n",
    ";; A cat that walks from left to right across the screen.\n",
    "\n",
    ";; Constants\n",
    "    (define WIDTH 600)\n",
    "    (define HEIGHT 400)\n",
    "    (define CTR-Y (/ HEIGHT 2))\n",
    "    (define MTS (empty-scene WIDTH HEIGHT))\n",
    "    (define CAT-IMG PASTE_IMAGE_HERE)\n",
    "\n",
    ";; Data Definitions:\n",
    ";; Cat is Number // this Cat is the world state value\n",
    ";; Interp. x position of the cat in screen coords.\n",
    "\n",
    ";; Example:\n",
    "    (define CAT1 0)\n",
    "    (define CAT2 (/ WIDTH 2))\n",
    "    (define CAT3 WIDTH)\n",
    "\n",
    ";; Template\n",
    "    (define (fn_for_cat CAT) (...CAT))\n",
    ";; Template rules used: atomic non-distinct Number\n",
    "\n",
    ";; Functions:\n",
    "    (define (main CAT) (big-bang CAT\n",
    "    (on-tick advance-the-cat)\n",
    "    (to-draw render)\n",
    "    ))\n",
    "\n",
    ";; STUBS\n",
    ";; Cat -> Cat\n",
    ";; Produce the next cat by advancing it 1 pixel to the right\n",
    "    (define (advance-the-cat CAT) 0)\n",
    "\n",
    ";; Cat -> Image\n",
    ";; Render the cat image at appropriate place on MTS\n",
    "    (define (render CAT) MTS)\n"
   ]
  }
 ],
 "metadata": {
  "language_info": {
   "name": "python"
  },
  "orig_nbformat": 4
 },
 "nbformat": 4,
 "nbformat_minor": 2
}
