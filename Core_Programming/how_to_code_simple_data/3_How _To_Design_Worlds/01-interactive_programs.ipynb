{
 "cells": [
  {
   "attachments": {},
   "cell_type": "markdown",
   "metadata": {},
   "source": [
    "#  **Interactive Programs**\n",
    "\n",
    "This week we are going to learn how to design simple interactive programs: animations, games, desktop applications. The graphics will be pretty plain but the core structure of these programs will be like that of more sophisticated versions of these programs.\n",
    "\n",
    "There is no starter file for this video."
   ]
  }
 ],
 "metadata": {
  "language_info": {
   "name": "python"
  },
  "orig_nbformat": 4
 },
 "nbformat": 4,
 "nbformat_minor": 2
}
