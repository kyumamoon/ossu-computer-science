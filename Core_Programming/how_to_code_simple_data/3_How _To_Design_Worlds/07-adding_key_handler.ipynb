{
 "cells": [
  {
   "attachments": {},
   "cell_type": "markdown",
   "metadata": {},
   "source": [
    "# **Improving a World Program - Add key handler**"
   ]
  },
  {
   "attachments": {},
   "cell_type": "markdown",
   "metadata": {},
   "source": [
    "**Continuation of CAT program in 06**\n",
    "\n",
    "- Add a key input feature that resets the CAT-IMG position to the start when key is pressed."
   ]
  },
  {
   "cell_type": "code",
   "execution_count": null,
   "metadata": {},
   "outputs": [],
   "source": [
    "# Add on-key option to main function's big bang.\n",
    "\n",
    ";; Functions:\n",
    "    (define (main CAT) (big-bang CAT\n",
    "    (on-tick advance-the-cat)\n",
    "    (to-draw render)\n",
    "    (on-key handle-key)\n",
    "    ))"
   ]
  },
  {
   "attachments": {},
   "cell_type": "markdown",
   "metadata": {},
   "source": [
    "**New wishlist item:**\n",
    ";; Cat KeyEvent -> CAT\n",
    ";; reset cat to left edge when space key is pressed.\n",
    "# Space key input represented with \" \"\n",
    "\n",
    "(check-expect (handle-key 10 \" \") 0)\n",
    "(check-expect (handle-key 10 \"a\") 10)\n",
    "(check-expect (handle-key 0 \" \") 0)\n",
    "\n",
    "# Stub\n",
    "(define (handle-key CAT KEY) 0)\n",
    "\n",
    "# Template\n",
    "(define (handle-key CAT KEY) (cond [(key=? KEY \" \") 0] [else CAT]))"
   ]
  }
 ],
 "metadata": {
  "language_info": {
   "name": "python"
  },
  "orig_nbformat": 4
 },
 "nbformat": 4,
 "nbformat_minor": 2
}
