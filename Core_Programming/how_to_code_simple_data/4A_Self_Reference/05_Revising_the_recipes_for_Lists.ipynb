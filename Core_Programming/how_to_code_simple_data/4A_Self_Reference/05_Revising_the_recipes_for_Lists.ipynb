{
 "cells": [
  {
   "attachments": {},
   "cell_type": "markdown",
   "metadata": {},
   "source": [
    "# **Revising the Recipes for Lists**\n",
    "\n",
    "The luck of the last two videos is explained. The key ideas of well-formed self-referential data definitions, natural recursion and trusting the natural recursion are the key to operating on arbitrary-sized data. We update the recipes to include them.\n",
    "\n",
    "The starter file for this video is quidditch-recap-starter.rkt."
   ]
  },
  {
   "attachments": {},
   "cell_type": "markdown",
   "metadata": {},
   "source": [
    "- Arbitrary sized data need a data that self references itself and also have a base case. Need a well formed self-reference data definition.\n",
    "\n",
    "- Well formed self-reference:\n",
    "    - at least one base case\n",
    "    - at least one self reference case\n"
   ]
  },
  {
   "cell_type": "code",
   "execution_count": null,
   "metadata": {
    "vscode": {
     "languageId": "plaintext"
    }
   },
   "outputs": [],
   "source": [
    "; ListOfString is one of:\n",
    "    - empty // base case\n",
    "    - (cons String ListOfString) // a self referencing of itself"
   ]
  },
  {
   "attachments": {},
   "cell_type": "markdown",
   "metadata": {},
   "source": [
    "- Self-reference template rule puts a natural recursion in the template that corresponds to the self-reference in type comment."
   ]
  },
  {
   "cell_type": "code",
   "execution_count": null,
   "metadata": {
    "vscode": {
     "languageId": "plaintext"
    }
   },
   "outputs": [],
   "source": [
    "; Template\n",
    "    - (define (fn-for-ListofString list) (\n",
    "        cond \n",
    "            [(empty? los) (...)] \n",
    "            [else (... \n",
    "                (first list)    ; a type string\n",
    "                (fn-for-ListofString (rest list))     ; a type ListOfString. self reference\n",
    "                )\n",
    "            ]\n",
    "            )\n",
    "        )"
   ]
  },
  {
   "attachments": {},
   "cell_type": "markdown",
   "metadata": {},
   "source": [
    "- Have a base case example/test(s) first.\n",
    "    - base case tends to be simpler\n",
    "    - non-base cases tend to rely on it"
   ]
  },
  {
   "cell_type": "code",
   "execution_count": null,
   "metadata": {
    "vscode": {
     "languageId": "plaintext"
    }
   },
   "outputs": [],
   "source": [
    "(check-expect (contains-ubc? empty) false)"
   ]
  },
  {
   "attachments": {},
   "cell_type": "markdown",
   "metadata": {},
   "source": [
    "- Have one or more tests in which the list is at least two elements long."
   ]
  },
  {
   "cell_type": "code",
   "execution_count": null,
   "metadata": {
    "vscode": {
     "languageId": "plaintext"
    }
   },
   "outputs": [],
   "source": [
    "(check-expect (contains-ubc? (cons \"McGill\" (cons \"UBC\" empty))) true)"
   ]
  },
  {
   "attachments": {},
   "cell_type": "markdown",
   "metadata": {},
   "source": [
    "- Trust natural recursion.\n",
    "    - Function is recursively finding \"UBC\" by looking at first element and then checking the rest of the element and repeating the first element check of those sublists."
   ]
  },
  {
   "cell_type": "code",
   "execution_count": null,
   "metadata": {
    "vscode": {
     "languageId": "plaintext"
    }
   },
   "outputs": [],
   "source": [
    "; Template\n",
    "; (define (contains-ubc? los) (\n",
    "    cond \n",
    "        [(empty? los) false] \n",
    "        [else \n",
    "            (if \n",
    "                (string=? (first los) \"UBC)\n",
    "                true\n",
    "                (contains-ubc? (rest lost)) // Recursion\n",
    "            )\n",
    "        ]\n",
    "    )\n",
    ")"
   ]
  }
 ],
 "metadata": {
  "language_info": {
   "name": "python"
  },
  "orig_nbformat": 4
 },
 "nbformat": 4,
 "nbformat_minor": 2
}
