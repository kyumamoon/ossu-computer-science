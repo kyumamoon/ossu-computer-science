{
 "cells": [
  {
   "attachments": {},
   "cell_type": "markdown",
   "metadata": {},
   "source": [
    "# **List Mechanisms**\n",
    "\n",
    "Primitive data and operations for representing lists.\n",
    "\n",
    "There is no starter file for this video."
   ]
  },
  {
   "attachments": {},
   "cell_type": "markdown",
   "metadata": {},
   "source": [
    "Form lists with \"cons\" (construct) and \"empty\"."
   ]
  },
  {
   "cell_type": "code",
   "execution_count": null,
   "metadata": {
    "vscode": {
     "languageId": "plaintext"
    }
   },
   "outputs": [],
   "source": [
    "empty                                   // an empty list of any value\n",
    "(cons \"Pencil\" empty)                   // a list with 1 element.\n",
    "(cons \"Pencil (cons \"Eraser\" empty))    // a list with 2 elements\n",
    "(cons 10 (cons 9 (cons 10 empty)))      // list of 3 elements\n",
    "\n",
    "(define List1 (cons \"APPLES\" empty))    // create a list named List1"
   ]
  },
  {
   "attachments": {},
   "cell_type": "markdown",
   "metadata": {},
   "source": [
    "List Methods\n",
    "- (first \\<List_Name\\>)\n",
    "    - returns the first element of the list.\n",
    "- (rest \\<List_Name\\>)\n",
    "    - returns all elements after the first element\n",
    "- (empty? \\<List\\>)\n",
    "    - returns True/False whether the list is empty."
   ]
  }
 ],
 "metadata": {
  "language_info": {
   "name": "python"
  },
  "orig_nbformat": 4
 },
 "nbformat": 4,
 "nbformat_minor": 2
}
