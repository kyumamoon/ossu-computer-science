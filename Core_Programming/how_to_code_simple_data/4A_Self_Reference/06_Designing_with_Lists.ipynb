{
 "cells": [
  {
   "attachments": {},
   "cell_type": "markdown",
   "metadata": {},
   "source": [
    "# **Designing with Lists**\n",
    "\n",
    "Examples of using the revised recipes beginning to end.\n",
    "\n",
    "The starter file for this video is designing-with-lists-1-starter.rkt."
   ]
  },
  {
   "attachments": {},
   "cell_type": "markdown",
   "metadata": {},
   "source": [
    "- Problem\n",
    "- Youve been asked to design a program having to do with all the owls in the owlery.\n",
    "    - Design a data definition to represent the weights of all the owls.\n",
    "        - Call it ListOfNumber.\n",
    "    - Design a function that consumes the weights of owls and produces the total weight of all the owls.\n",
    "    - Design a function that consumes the weights of owls and produces the total number of owls."
   ]
  },
  {
   "cell_type": "code",
   "execution_count": null,
   "metadata": {
    "vscode": {
     "languageId": "plaintext"
    }
   },
   "outputs": [],
   "source": [
    ";; Data Definition\n",
    "\n",
    "; Type Comment\n",
    "; ListOfNumber is one of:\n",
    "    - empty\n",
    "    - (cons Number ListOfNumber)\n",
    "\n",
    "; Interp.\n",
    "; each number in the list is an owl weight in ounces.\n",
    "\n",
    "; Examples:\n",
    "(define LON1 empty)\n",
    "(define LON2 (cons 60 (cons 42 empty)))\n",
    "\n",
    "; Template:\n",
    "(define (fn-for-lon lon) \n",
    "(cond\n",
    "        [(empty? lon) (...)]\n",
    "        [else (\n",
    "            ...\n",
    "            (first lon)\n",
    "            (fn-for-lon (rest lon))) // natural recursion\n",
    "        ]\n",
    "))\n",
    "\n",
    "; Template rules used:\n",
    "    - one of: 2 cases\n",
    "    - atomic distinct: empty\n",
    "    - compound: (cons Number ListOfNumber)\n",
    "    - self-reference: (rest lon) is ListOfNumber"
   ]
  },
  {
   "cell_type": "code",
   "execution_count": null,
   "metadata": {
    "vscode": {
     "languageId": "plaintext"
    }
   },
   "outputs": [],
   "source": [
    ";; Functions 1:\n",
    "\n",
    "; Signature:\n",
    "; ListOfNumber -> Number\n",
    "\n",
    "; Purpose:\n",
    "; produce total weight of owls in consumed list\n",
    "\n",
    "; Stub\n",
    "(define (sum lon) 0)\n",
    "\n",
    "; Examples:\n",
    "(check-expect (sum empty) 0)\n",
    "(check-expect (sum (cons 60 empty)) (+ 60 0))\n",
    "(check-expect (sum (cons 60 (cons 42 empty))) (+ 60 (+ 42 0)))\n",
    "\n",
    "; Template:\n",
    "(define (sum lon) \n",
    "(cond\n",
    "        [(empty? lon) (0)]\n",
    "        [else (+ (first lon) (sum (rest lon)))] // recursion suming, trust natural recursion\n",
    "))\n"
   ]
  },
  {
   "cell_type": "code",
   "execution_count": null,
   "metadata": {
    "vscode": {
     "languageId": "plaintext"
    }
   },
   "outputs": [],
   "source": [
    ";; Functions 2:\n",
    "\n",
    "; Signature:\n",
    "; ListOfNumber -> Natural Number\n",
    "\n",
    "; Purpose:\n",
    "; produce total number of weights in consumed list\n",
    "\n",
    "; Stub\n",
    "(define (count lon) 0)\n",
    "\n",
    "; Examples:\n",
    "(check-expect (count empty) 0)\n",
    "(check-expect (count (cons 12 empty)) (+ 1 0))\n",
    "(check-expect (count (cons 35 (cons 12 empty))) (+ 1 (+ 1 0)))\n",
    "\n",
    "; Template:\n",
    "(define (count lon) \n",
    "(cond\n",
    "        [(empty? lon) 0]\n",
    "        [else (+ 1 (count (rest lon)))]  // natural recursion, adding 1 count and pass rest lon to function again to add 1 or 0 if base case is true.\n",
    "))"
   ]
  }
 ],
 "metadata": {
  "language_info": {
   "name": "python"
  },
  "orig_nbformat": 4
 },
 "nbformat": 4,
 "nbformat_minor": 2
}
