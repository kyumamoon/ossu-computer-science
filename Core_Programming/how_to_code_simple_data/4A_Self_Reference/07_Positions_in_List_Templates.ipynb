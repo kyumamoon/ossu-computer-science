{
 "cells": [
  {
   "attachments": {},
   "cell_type": "markdown",
   "metadata": {},
   "source": [
    "# **Positions in List Templates**\n",
    "\n",
    "Looking over all the list functions designed so far we see that each position in the list template plays a specific role.\n",
    "\n",
    "There is no starter file for this video."
   ]
  },
  {
   "attachments": {},
   "cell_type": "markdown",
   "metadata": {},
   "source": [
    "Base cases of different natural recursion for data types.\n",
    "- Base is the base case to check or end the recursive. What is the stopping point?\n",
    "- Contribution of first is what value to use between each recursive call.\n",
    "- Combination is how the contribution of first is contributed to the whole data throughout the recursion.\n",
    "---\n",
    "- Sum\n",
    "    - Base: 0\n",
    "    - Contribution of first: itself (index value or element)\n",
    "    - Combination (how natural recursion contributes to first): +, addition\n",
    "- Count\n",
    "    - Base: 0\n",
    "    - Contribution of first: 1\n",
    "    - Combination (how natural recursion contributes to first): +, addition\n",
    "- String=?\n",
    "    - Base: false\n",
    "    - Contribution of first: (string=? \\<X_VARIABLE\\> \"STRING TO COMPARE\")\n",
    "    - Combination (how natural recursion contributes to first): (if \\<Y_VARIABLE\\> true \\<nr\\>)"
   ]
  }
 ],
 "metadata": {
  "language_info": {
   "name": "python"
  },
  "orig_nbformat": 4
 },
 "nbformat": 4,
 "nbformat_minor": 2
}
