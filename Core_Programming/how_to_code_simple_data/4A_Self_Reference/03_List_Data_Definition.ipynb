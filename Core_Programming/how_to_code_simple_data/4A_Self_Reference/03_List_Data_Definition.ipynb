{
 "cells": [
  {
   "attachments": {},
   "cell_type": "markdown",
   "metadata": {},
   "source": [
    "# **List Data Definition**\n",
    "\n",
    "A data definition for representing lists of Quidditch teams. In this first list data definition we make a few lucky (and unexplained decisions) and wind up with a data definition that seems to do the job. The mysteries are all resolved in the Revising Recipes for Lists module.\n",
    "\n",
    "The starter file for this video is quidditch-starter.rkt."
   ]
  }
 ],
 "metadata": {
  "language_info": {
   "name": "python"
  },
  "orig_nbformat": 4
 },
 "nbformat": 4,
 "nbformat_minor": 2
}
