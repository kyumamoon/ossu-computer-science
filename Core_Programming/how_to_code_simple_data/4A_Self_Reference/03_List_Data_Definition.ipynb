{
 "cells": [
  {
   "attachments": {},
   "cell_type": "markdown",
   "metadata": {},
   "source": [
    "# **List Data Definition**\n",
    "\n",
    "A data definition for representing lists of Quidditch teams. In this first list data definition we make a few lucky (and unexplained decisions) and wind up with a data definition that seems to do the job. The mysteries are all resolved in the Revising Recipes for Lists module.\n",
    "\n",
    "The starter file for this video is quidditch-starter.rkt."
   ]
  },
  {
   "attachments": {},
   "cell_type": "markdown",
   "metadata": {},
   "source": [
    "Problem:\n",
    "\n",
    "- Imagine that you are designing a program that will keep track of your favorite Quidditch teams.\n",
    "\n",
    "- Design a data definition to represent a list of Quidditch teams."
   ]
  },
  {
   "attachments": {},
   "cell_type": "markdown",
   "metadata": {},
   "source": [
    "**Data Definition Consists of Four-Five Parts**\n",
    "- A possible structure definition\n",
    "- A type comment that defines a new type name and describes how to form data\n",
    "- An interpretation that describes the correspondence between information and data\n",
    "- One or more examples of the data\n",
    "- A template for a 1 argument function operating on data of this type"
   ]
  },
  {
   "attachments": {},
   "cell_type": "markdown",
   "metadata": {},
   "source": [
    "**List Data Definition**"
   ]
  },
  {
   "cell_type": "code",
   "execution_count": null,
   "metadata": {
    "vscode": {
     "languageId": "plaintext"
    }
   },
   "outputs": [],
   "source": [
    "**List Data Definition**\n",
    "\n",
    "; ListOfString is one of:\n",
    "    - empty\n",
    "    - (cons String ListOfString)\n",
    "; interp. a list of strings\n",
    "; Examples:\n",
    "    - (define LOS1 empty)\n",
    "    - (define LOS2 (cons \"McGill\" empty))\n",
    "    - (define LOS3 (cons \"UBC\" (cons \"McGill\" empty)))\n",
    "; Template\n",
    "    - (define (fn-for-ListofString list) (\n",
    "        cond \n",
    "            [(empty? los) (...)] \n",
    "            [else (... \n",
    "                (first list)    ; a type string\n",
    "                (fn-for-ListofString (rest list))     ; a type ListOfString\n",
    "                )\n",
    "            ]\n",
    "            )\n",
    "        )\n",
    "; Template Rules Used:\n",
    "    - one of: 2 cases\n",
    "        - atomic distinct: empty\n",
    "        - compound: (cons String ListOfString) "
   ]
  }
 ],
 "metadata": {
  "language_info": {
   "name": "python"
  },
  "orig_nbformat": 4
 },
 "nbformat": 4,
 "nbformat_minor": 2
}
