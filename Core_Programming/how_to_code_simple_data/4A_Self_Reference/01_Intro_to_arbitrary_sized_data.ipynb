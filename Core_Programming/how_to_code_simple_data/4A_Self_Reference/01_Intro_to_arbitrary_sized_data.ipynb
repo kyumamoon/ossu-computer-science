{
 "cells": [
  {
   "attachments": {},
   "cell_type": "markdown",
   "metadata": {},
   "source": [
    "# **Introduction to Arbitrary Sized Data**\n",
    "\n",
    "This week we focus on how programs can represent arbitrary amounts of information. This includes things like all the students in a course, all your friends on Facebook, or (sadly) all your favorite hockey teams.\n",
    "\n",
    "There is no starter file for this video."
   ]
  }
 ],
 "metadata": {
  "language_info": {
   "name": "python"
  },
  "orig_nbformat": 4
 },
 "nbformat": 4,
 "nbformat_minor": 2
}
