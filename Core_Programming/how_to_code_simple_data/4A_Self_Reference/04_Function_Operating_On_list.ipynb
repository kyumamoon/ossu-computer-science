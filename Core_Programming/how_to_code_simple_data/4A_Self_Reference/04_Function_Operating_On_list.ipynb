{
 "cells": [
  {
   "attachments": {},
   "cell_type": "markdown",
   "metadata": {},
   "source": [
    "# **Function Operating on List**\n",
    "\n",
    "A function for operating on a list. In this first function that operates on a list we use the data definition from the last video and our function works out splendidly.\n",
    "\n",
    "The mysteries are all resolved in the Revising the Recipes for Lists module.\n",
    "\n",
    "There is no starter file for this video."
   ]
  },
  {
   "attachments": {},
   "cell_type": "markdown",
   "metadata": {},
   "source": [
    "**Continuing from 03**"
   ]
  },
  {
   "cell_type": "code",
   "execution_count": null,
   "metadata": {
    "vscode": {
     "languageId": "plaintext"
    }
   },
   "outputs": [],
   "source": [
    "**List Data Definition**\n",
    "\n",
    "; ListOfString is one of:\n",
    "    - empty\n",
    "    - (cons String ListOfString) // a self referencing of itself\n",
    "; interp. a list of strings\n",
    "; Examples:\n",
    "    - (define LOS1 empty)\n",
    "    - (define LOS2 (cons \"McGill\" empty))\n",
    "    - (define LOS3 (cons \"UBC\" (cons \"McGill\" empty)))\n",
    "; Template\n",
    "    - (define (fn-for-ListofString list) (\n",
    "        cond \n",
    "            [(empty? los) (...)] \n",
    "            [else (... \n",
    "                (first list)    ; a type string\n",
    "                (fn-for-ListofString (rest list))     ; a type ListOfString\n",
    "                )\n",
    "            ]\n",
    "            )\n",
    "        )\n",
    "; Template Rules Used:\n",
    "    - one of: 2 cases\n",
    "        - atomic distinct: empty\n",
    "        - compound: (cons String ListOfString) "
   ]
  },
  {
   "attachments": {},
   "cell_type": "markdown",
   "metadata": {},
   "source": [
    "- Problem:\n",
    "    - We want to know whether your list of favorite Quidditch teams includes UBC! \n",
    "    - Design a function that consumes ListOfString and produces true if the list includes \"UBC\"."
   ]
  },
  {
   "cell_type": "code",
   "execution_count": null,
   "metadata": {
    "vscode": {
     "languageId": "plaintext"
    }
   },
   "outputs": [],
   "source": [
    "; Signature\n",
    "; ListOfString -> Boolean\n",
    "\n",
    "; Purpose:\n",
    "; produce true if los includes \"UBC\"\n",
    "\n",
    "; Stub\n",
    "; (define (contains-ubc? los) false)\n",
    "\n",
    "; Example\n",
    "; (check-expect (contains-ubc? empty) false)\n",
    "; (check-expect (contains-ubc? (cons \"McGill\" empty)) false)\n",
    "; (check-expect (contains-ubc? (cons \"UBC\" empty)) true)\n",
    "; (check-expect (contains-ubc? (cons \"McGill\" (cons \"UBC\" empty))) true)\n",
    "\n",
    "; Template\n",
    "; (define (contains-ubc? los) (\n",
    "    cond \n",
    "        [(empty? los) false] \n",
    "        [else \n",
    "            (if \n",
    "                (string=? (first los) \"UBC)\n",
    "                true\n",
    "                (contains-ubc? (rest lost))\n",
    "            )\n",
    "        ]\n",
    "    )\n",
    ")\n",
    "// RECURSION"
   ]
  }
 ],
 "metadata": {
  "language_info": {
   "name": "python"
  },
  "orig_nbformat": 4
 },
 "nbformat": 4,
 "nbformat_minor": 2
}
