{
 "cells": [
  {
   "attachments": {},
   "cell_type": "markdown",
   "metadata": {},
   "source": [
    "The following video contains responses to the questions posted in this discussion thread. General topics discussed include:\n",
    "\n",
    "- Writing templates for intervals using the HtDD recipe\n",
    "- Grading for the space invaders final project\n",
    "- Functional programming\n",
    "\n",
    "Further responses included in the video are related to materials in How to Code: Complex Data."
   ]
  }
 ],
 "metadata": {
  "language_info": {
   "name": "python"
  },
  "orig_nbformat": 4
 },
 "nbformat": 4,
 "nbformat_minor": 2
}
