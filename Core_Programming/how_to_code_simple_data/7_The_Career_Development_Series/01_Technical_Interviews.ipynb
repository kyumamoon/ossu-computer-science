{
 "cells": [
  {
   "attachments": {},
   "cell_type": "markdown",
   "metadata": {},
   "source": [
    "# **What to Expect in A Technical Interview**"
   ]
  },
  {
   "attachments": {},
   "cell_type": "markdown",
   "metadata": {},
   "source": [
    "The following video is a teaser- verified learners in the Software Development MicroMasters Program get complete access to the Career Development Series, inclusive of mock technical interview step throughs, FAQs, and more! \n",
    "\n",
    "- Short personal introduction.\n",
    "- Rest of interview is technical.\n",
    "- Ask questions about the problem.\n",
    "    - Get clarification.\n",
    "    - Rephrase the question.\n",
    "    - Give examples.\n",
    "    - Learn more about the problem to make sure you understand.\n",
    "- Pseudocode is a good way to plan the solution.\n",
    "- Have test cases or examples so you can test the solution on the example.\n",
    "- Maybe be asked to optimize the code."
   ]
  }
 ],
 "metadata": {
  "language_info": {
   "name": "python"
  },
  "orig_nbformat": 4
 },
 "nbformat": 4,
 "nbformat_minor": 2
}
