{
 "cells": [
  {
   "attachments": {},
   "cell_type": "markdown",
   "metadata": {},
   "source": [
    "Once you become a verified track learner, you'll be able to help shape The Career Development Series by offering us suggestions about what you want to see. What do you want to learn about finding a job, career growth, and personal development? Sign up for the verified certificate and let us know!"
   ]
  }
 ],
 "metadata": {
  "language_info": {
   "name": "python"
  },
  "orig_nbformat": 4
 },
 "nbformat": 4,
 "nbformat_minor": 2
}
