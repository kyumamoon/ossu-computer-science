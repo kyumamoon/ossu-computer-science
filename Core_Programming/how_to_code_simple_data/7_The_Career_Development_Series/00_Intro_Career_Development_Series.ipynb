{
 "cells": [
  {
   "attachments": {},
   "cell_type": "markdown",
   "metadata": {},
   "source": [
    "# **Introducing: The Career Development Series**"
   ]
  },
  {
   "attachments": {},
   "cell_type": "markdown",
   "metadata": {},
   "source": [
    "We're extremely excited to announce the development of The Career Development Series! When you sign up for the verified track learner, we'll teach you how to apply the knowledge you've gained in the Software Development MicroMasters in the real world. You'll not only get access to this exclusive content, but you'll also be able to help shape the series and get answers to the questions you want to know about getting a job in the industry!"
   ]
  }
 ],
 "metadata": {
  "language_info": {
   "name": "python"
  },
  "orig_nbformat": 4
 },
 "nbformat": 4,
 "nbformat_minor": 2
}
