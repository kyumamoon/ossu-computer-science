{
 "cells": [
  {
   "attachments": {},
   "cell_type": "markdown",
   "metadata": {},
   "source": [
    "# **A Data Definition for BSTs**"
   ]
  },
  {
   "cell_type": "markdown",
   "metadata": {},
   "source": [
    "\n",
    "The starter file for this video is bst-dd-starter.rkt."
   ]
  },
  {
   "attachments": {},
   "cell_type": "markdown",
   "metadata": {},
   "source": [
    "- Each element in a BST is a node.\n",
    "    - A node consists of:\n",
    "        - Key\n",
    "        - Value\n",
    "        - Left SubTree\n",
    "        - Right SubTree"
   ]
  },
  {
   "cell_type": "code",
   "execution_count": null,
   "metadata": {
    "vscode": {
     "languageId": "plaintext"
    }
   },
   "outputs": [],
   "source": [
    ";; Data definition\n",
    "(define-struct node (key value left right))\n",
    "\n",
    ";; BST (Binary Search Tree) is one of:\n",
    ";   - false, base case\n",
    ";   - (make-node Integer String BST BST)\n",
    "\n",
    ";; Interp. false means no BST, or empty BST\n",
    ";   key is the node key\n",
    ";   value is the node value\n",
    ";   left and right are left and right subtrees\n",
    "\n",
    ";; INVARIANT: for a given node:\n",
    ";   key is > all keys in its left child\n",
    ";   key is < all keys in its right child\n",
    ";   the same key never appears twice in the tree.\n",
    "\n",
    ";; Examples:\n",
    "(define BST0 false)\n",
    "(define BST1 (make-node 1 \"abc\" false false))\n",
    "(define BST4 (make-node 4 \"dcj\" false (make-node 7 \"ruf\" false false)))\n",
    "(define BST3 (make-node 3 \"ilk\" BST1 BST4))\n",
    "(define BST42 (make-node 42 \"ily\" (make-node 27 \"wit\" (make-node 14 \"olp\" false false) false) (make-node 50 \"dug\" false false)))\n",
    "(define BST10 (make-node 10 \"why\" BST3 BST42))\n",
    "\n",
    ";; Template:\n",
    "(define (fn-for-bst t) (\n",
    "    cond\n",
    "        [(false? t) (...)]\n",
    "        [else (...\n",
    "            (node-key t)\n",
    "            (node-value t)\n",
    "            (node-left t)\n",
    "            (node-right t)\n",
    "        )]\n",
    "\n",
    "))\n",
    "\n",
    ";; Template rules used:\n",
    ";   - one of: 2 cases\n",
    ";   - atomic distinct: false\n",
    ";   - compound: (make-node Integer String BST BST)\n",
    ";   - self reference: (node-left t) has type BST\n",
    ";   - self reference: (node-right t) has type BST"
   ]
  }
 ],
 "metadata": {
  "language_info": {
   "name": "python"
  },
  "orig_nbformat": 4
 },
 "nbformat": 4,
 "nbformat_minor": 2
}
