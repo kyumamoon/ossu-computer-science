{
 "cells": [
  {
   "attachments": {},
   "cell_type": "markdown",
   "metadata": {},
   "source": [
    "# **List Abbreviations**\n",
    "\n",
    "By now you may be finding the notation we are using for lists somewhat cumbersome, with all the repeated conses we have to write. In this short video we will see a new notation for lists that is less cumbersome to type out. It is important to remember that this notation is just an abbreviation for the cons notation. Lists are still made up of conses, and we will still be using first and rest take lists apart. We will still be using cons to add a single element to the front of a list.\n",
    "\n",
    "To work with this new notation you need to go to the lower left of your DrRacket window and switch the language to Beginning Student with List Abbreviations.\n",
    "\n",
    "There is no starter file for this video."
   ]
  },
  {
   "attachments": {},
   "cell_type": "markdown",
   "metadata": {},
   "source": [
    "**List Abbreviations**\n",
    "- Makes it easier to create lists.\n",
    "- Syntax: (list \\<VALUE\\> \\<VALUE\\> ...)"
   ]
  },
  {
   "attachments": {},
   "cell_type": "markdown",
   "metadata": {},
   "source": [
    "- list creates a list OBJECT that can be added onto another list.\n",
    "    - It cannot be used to add elements to the list.\n",
    "    - Must use cons."
   ]
  },
  {
   "cell_type": "raw",
   "metadata": {},
   "source": [
    ";; Example:\n",
    "(define L1 (list \"b\" \"c\"))\n",
    "\n",
    "(cons \"a\" L1) -> produces (list \"a\" \"b\" \"c\")\n",
    "(list \"a\" L1) -> produces (list \"a\" (list \"b\" \"c\"))"
   ]
  },
  {
   "attachments": {},
   "cell_type": "markdown",
   "metadata": {},
   "source": [
    "**List: append**\n",
    "- Append takes two arguements that are lists and creates a single list as output.\n",
    "    - Single list has all the elements of the two lists.\n",
    "- Syntax: (append \\<list_1\\> \\<list_2\\>)"
   ]
  }
 ],
 "metadata": {
  "language_info": {
   "name": "python"
  },
  "orig_nbformat": 4
 },
 "nbformat": 4,
 "nbformat_minor": 2
}
