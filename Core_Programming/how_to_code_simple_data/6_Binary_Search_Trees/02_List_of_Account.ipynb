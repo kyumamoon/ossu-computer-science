{
 "cells": [
  {
   "attachments": {},
   "cell_type": "markdown",
   "metadata": {},
   "source": [
    "# **List of Account**\n",
    "\n",
    "We consider the problem of looking up accounts among a large number of user accounts. We will start by representing the arbitrary number of accounts using a list.\n",
    "\n",
    "The starter file for this video is lookup-in-list-starter.rkt."
   ]
  },
  {
   "attachments": {},
   "cell_type": "markdown",
   "metadata": {},
   "source": [
    "- Imagine need to represent a list of accounts where each account has an account number and account name.\n",
    "- Can represent with a list:\n",
    "    - (define-struct account (number name))\n",
    "    - (list (make-account 1 \"abc\") (make-account 4 \"dcj\"))"
   ]
  },
  {
   "cell_type": "raw",
   "metadata": {},
   "source": [
    ";; Data Definition for Arbitrary Size List of Accounts\n",
    "\n",
    ";; Type Structure\n",
    "(define-struct account (number name))\n",
    "\n",
    ";; Accounts is one of:\n",
    ";   - empty\n",
    ";   - (cons (make-account Natural String) Accounts)\n",
    "\n",
    ";;interp. a list of accounts where each\n",
    ";   num is an account number\n",
    ";   name is the person's first name\n",
    "\n",
    ";; Examples:\n",
    "(define ACS1 empty)\n",
    "(define ACS (list (make-account 1 \"abc\") (make-account 4 \"dcj\") (make-account 3 \"ilk\") (make-account 7 \"ruf\")))\n",
    "\n",
    ";; Template:\n",
    "(define (fn-for-accounts accs) (\n",
    "    cond\n",
    "        [(empty? accs) (...)]\n",
    "        [else (\n",
    "            ...\n",
    "            (account-num (first accs))\n",
    "            (account-name (first accs))\n",
    "            (fn-for-accounts (rest accs))\n",
    "        )]\n",
    "))"
   ]
  }
 ],
 "metadata": {
  "language_info": {
   "name": "python"
  },
  "orig_nbformat": 4
 },
 "nbformat": 4,
 "nbformat_minor": 2
}
