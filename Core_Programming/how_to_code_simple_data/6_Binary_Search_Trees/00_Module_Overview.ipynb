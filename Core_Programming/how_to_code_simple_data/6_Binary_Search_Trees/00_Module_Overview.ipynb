{
 "cells": [
  {
   "attachments": {},
   "cell_type": "markdown",
   "metadata": {},
   "source": [
    "# **Module Overview**\n",
    "\n",
    "- Binary Search Trees\n",
    "    - In this module we will investigate how the structure of data affects performance, especially when it comes to the time required to find an element in a large data store. As part of that we will discover a new self-referential form of data, the binary search tree or BST.\n",
    "\n",
    "    - We will also learn to design data definitions and functions for BSTs. We will not need any new design techniques for this; we already know enough to do it. In fact, the recipe rules we have already covered can work with a wide range of self-referential data.\n",
    "\n",
    "    - Working through the videos and practice materials for this module should take approximately 5-6 hours of dedicated time to complete.\n",
    "\n",
    "    - The programs are bit longer again in this module. To avoid feeling overwhelmed by the new form of data it is really important to let the design recipe help you focus your attention. Don't try to think about the whole problem at once - focus on the current step of the recipe only.\n",
    "\n",
    "    - Also be sure to trust the natural recursion! That's the key to making it easy to design functions that operate on data that has self-reference in its definition.\n",
    "\n",
    "- Learning Goals\n",
    "    - Be able to reason informally about the time required to search data.\n",
    "    - Be able to identify problem domain information that should be represented using binary search trees.\n",
    "    - Be able to check whether a given tree conforms to the binary search tree invariants.\n",
    "    - Be able to use the design recipes to design with binary search trees."
   ]
  }
 ],
 "metadata": {
  "language_info": {
   "name": "python"
  },
  "orig_nbformat": 4
 },
 "nbformat": 4,
 "nbformat_minor": 2
}
