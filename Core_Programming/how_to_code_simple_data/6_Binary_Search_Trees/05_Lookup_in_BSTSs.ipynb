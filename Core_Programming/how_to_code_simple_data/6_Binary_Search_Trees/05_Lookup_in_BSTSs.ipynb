{
 "cells": [
  {
   "cell_type": "markdown",
   "metadata": {},
   "source": [
    "# **Lookup in BSTs**\n",
    "\n",
    "Creating a function that searches for the entry with a given key in a BST.\n",
    "\n",
    "The starter file for this video is lookup-in-bst-starter.rkt."
   ]
  },
  {
   "attachments": {},
   "cell_type": "markdown",
   "metadata": {},
   "source": [
    "**Code From 04**"
   ]
  },
  {
   "cell_type": "raw",
   "metadata": {},
   "source": [
    ";; Data definition\n",
    "(define-struct node (key value left right))\n",
    "\n",
    ";; BST (Binary Search Tree) is one of:\n",
    ";   - false, base case\n",
    ";   - (make-node Integer String BST BST)\n",
    "\n",
    ";; Interp. false means no BST, or empty BST\n",
    ";   key is the node key\n",
    ";   value is the node value\n",
    ";   left and right are left and right subtrees\n",
    "\n",
    ";; INVARIANT: for a given node:\n",
    ";   key is > all keys in its left child\n",
    ";   key is < all keys in its right child\n",
    ";   the same key never appears twice in the tree.\n",
    "\n",
    ";; Examples:\n",
    "(define BST0 false)\n",
    "(define BST1 (make-node 1 \"abc\" false false))\n",
    "(define BST4 (make-node 4 \"dcj\" false (make-node 7 \"ruf\" false false)))\n",
    "(define BST3 (make-node 3 \"ilk\" BST1 BST4))\n",
    "(define BST42 (make-node 42 \"ily\" (make-node 27 \"wit\" (make-node 14 \"olp\" false false) false) (make-node 50 \"dug\" false false)))\n",
    "(define BST10 (make-node 10 \"why\" BST3 BST42))\n",
    "\n",
    ";; Template:\n",
    "(define (fn-for-bst t) (\n",
    "    cond\n",
    "        [(false? t) (...)]\n",
    "        [else (...\n",
    "            (node-key t)\n",
    "            (node-value t)\n",
    "            (node-left t)\n",
    "            (node-right t)\n",
    "        )]\n",
    "\n",
    "))\n",
    "\n",
    ";; Template rules used:\n",
    ";   - one of: 2 cases\n",
    ";   - atomic distinct: false\n",
    ";   - compound: (make-node Integer String BST BST)\n",
    ";   - self reference: (node-left t) has type BST\n",
    ";   - self reference: (node-right t) has type BST"
   ]
  },
  {
   "attachments": {},
   "cell_type": "markdown",
   "metadata": {},
   "source": [
    "---\n",
    "\n",
    "Problem:\n",
    "\n",
    "- Complete the design of the lookup-key function below. Note that because this is a search function, it will sometimes 'fail'. \n",
    "- This happens if it is called with a key that does not exist in the BSt it is provided. If this happens, the function should produce false.\n",
    "- The signature for such a function is written in a special way as shown below."
   ]
  },
  {
   "cell_type": "raw",
   "metadata": {},
   "source": [
    ";; BST Natural -> String or false\n",
    ";; Purpose: try to find node with given key, if found produce value else false.\n",
    "\n",
    ";; Stub\n",
    "(define (lookup-key t k) \"\")\n",
    "\n",
    ";; Example\n",
    "(check-expect (lookup-key BST0 99) false)\n",
    "(check-expect (lookup-key BST1 1) \"abc\")\n",
    "(check-expect (lookup-key BST1 99) false)\n",
    "(check-expect (lookup-key BST1 0) false)\n",
    "(check-expect (lookup-key BST10 1) \"abc\")\n",
    "(check-expect (lookup-key BST10 4) \"dcj\")\n",
    "(check-expect (lookup-key BST10 27) \"wit\")\n",
    "(check-expect (lookup-key BST10 50) \"dug\")\n",
    "\n",
    ";; Template according to BST , and an additional atomic parameter \"k\"\n",
    "(define (fn-for-bst t) (\n",
    "    cond\n",
    "        [(false? t) (... k)]\n",
    "        [else (...\n",
    "            (node-key t)\n",
    "            (node-value t)\n",
    "            (lookup-key (node-left t) (...k))\n",
    "            (lookup-key (node-right t) (...k))\n",
    "        )]\n",
    "\n",
    "))\n",
    "\n",
    ";; Filled in\n",
    "(define (lookup-key t k) (\n",
    "    cond\n",
    "    [(false? t) false]\n",
    "    [else (\n",
    "           cond\n",
    "            [(equal? (node-key t) k) (node-value t)]\n",
    "            [(> k (node-key t)) (lookup-key (node-right t) k)]\n",
    "            [(< k (node-key t)) (lookup-key (node-left t) k)]\n",
    "           )]\n",
    "))"
   ]
  }
 ],
 "metadata": {
  "language_info": {
   "name": "python"
  },
  "orig_nbformat": 4
 },
 "nbformat": 4,
 "nbformat_minor": 2
}
