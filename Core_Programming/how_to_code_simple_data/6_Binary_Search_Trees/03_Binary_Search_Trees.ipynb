{
 "cells": [
  {
   "attachments": {},
   "cell_type": "markdown",
   "metadata": {},
   "source": [
    "# **Binary Search Trees**\n",
    "\n",
    "By thinking about the information we are trying to search in, we can come up with a different structure for that information that on average will be much faster to search. This is called a Binary Search Tree.\n",
    "\n",
    "There is no starter file for this video."
   ]
  },
  {
   "attachments": {},
   "cell_type": "markdown",
   "metadata": {},
   "source": [
    "- Binary Search Trees searches for elements in a SORTED list.\n",
    "    1. Finds the mid element of the list.\n",
    "    2. Compare target element with the mid, if equal to mid then break.\n",
    "    3. If target less than mid, recursive a new list with mid as new index endpoint for new list. Else, mid is new index startpoint of new list.\n",
    "    4. Repeat process, split compare, create new list.\n",
    "- Lists in Binary Search gets smaller by half. Log(n) complexity"
   ]
  }
 ],
 "metadata": {
  "language_info": {
   "name": "python"
  },
  "orig_nbformat": 4
 },
 "nbformat": 4,
 "nbformat_minor": 2
}
