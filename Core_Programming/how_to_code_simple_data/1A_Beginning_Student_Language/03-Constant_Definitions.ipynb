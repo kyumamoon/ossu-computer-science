{
 "cells": [
  {
   "attachments": {},
   "cell_type": "markdown",
   "metadata": {},
   "source": [
    "# **Constant Definitions, pt 1**\n",
    "- Similar to defining variable names to values.\n",
    "- Defines CONSTANTS\n",
    "\n",
    "**Define constants with define statement**\n",
    "- (define \\<name\\> \\<expression\\>)"
   ]
  },
  {
   "cell_type": "code",
   "execution_count": null,
   "metadata": {},
   "outputs": [],
   "source": [
    "(define WEIGHT 100)\n",
    "(define HEIGHT 5)\n",
    "\n",
    "(+ WEIGHT HEIGHT) # Produces 105"
   ]
  }
 ],
 "metadata": {
  "kernelspec": {
   "display_name": "Python 3",
   "language": "python",
   "name": "python3"
  },
  "language_info": {
   "name": "python",
   "version": "3.10.2"
  },
  "orig_nbformat": 4,
  "vscode": {
   "interpreter": {
    "hash": "fa6936afccae6738ef30cc92f5c1ede57c28cb430a06fa1a1a3979d763f241d5"
   }
  }
 },
 "nbformat": 4,
 "nbformat_minor": 2
}
