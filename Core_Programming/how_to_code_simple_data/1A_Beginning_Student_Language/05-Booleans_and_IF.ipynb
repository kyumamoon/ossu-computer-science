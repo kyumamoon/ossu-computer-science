{
 "cells": [
  {
   "attachments": {},
   "cell_type": "markdown",
   "metadata": {},
   "source": [
    "# **Booleans and IF Expressions**\n",
    "\n",
    "Boolean are represented with \"true\" and \"false\" values.\n",
    "\n",
    "- Primitive Booleans: >,<,>=,<=,="
   ]
  },
  {
   "attachments": {},
   "cell_type": "markdown",
   "metadata": {},
   "source": [
    "**Evaluating true/false expressions**\n",
    "\n",
    "- (> 100 50)\n",
    "    - Is true because evaluates to 100 > 50.\n",
    "\n",
    "- (= 100 100)\n",
    "    - True\n",
    "\n",
    "- (string=? \"foo\" \"bar\") \n",
    "    - Is False because strings are not equal\n",
    "\n",
    "- (< (image-width IMAGE_OBJECT) (image-width IMAGE_OBJECT))\n",
    "    - Comparing images using image-width method to get the image's width"
   ]
  },
  {
   "attachments": {},
   "cell_type": "markdown",
   "metadata": {},
   "source": [
    "**IF Expressions**\n",
    "\n",
    "Creating if expressions:\n",
    "- (if \\<expression\\> \\<expression\\> \\<expression\\>)\n",
    "    - 1st expression is question, must be a boolean\n",
    "    - 2nd expression is the true block\n",
    "    - 3rd expression is the false block\n",
    "\n",
    "**Evaluating IF Expressions**\n",
    "- If question expression is not a value, evaluate it and reduce it until its a value.\n",
    "- If question is true, replace entire if expression with true answer expression\n",
    "- If question is false, replace entire if expression with false answer expression\n",
    "- The question is a value other than true or false so produce an error"
   ]
  },
  {
   "attachments": {},
   "cell_type": "markdown",
   "metadata": {},
   "source": [
    "**And/Or Comparison**\n",
    "\n",
    "Syntax:\n",
    "- (and \\<expression1\\> \\<expression2\\>)\n",
    "    - Returns true if both expressions are true.\n",
    "\n",
    "- (or \\<expression1\\> \\<expression2\\>)\n",
    "    - Returns true if one of the expressions are true.\n",
    "\n",
    "- (not \\<expression1\\>)\n",
    "    - Returns true if the expression is not true."
   ]
  }
 ],
 "metadata": {
  "kernelspec": {
   "display_name": "Python 3",
   "language": "python",
   "name": "python3"
  },
  "language_info": {
   "name": "python",
   "version": "3.10.2"
  },
  "orig_nbformat": 4,
  "vscode": {
   "interpreter": {
    "hash": "fa6936afccae6738ef30cc92f5c1ede57c28cb430a06fa1a1a3979d763f241d5"
   }
  }
 },
 "nbformat": 4,
 "nbformat_minor": 2
}
