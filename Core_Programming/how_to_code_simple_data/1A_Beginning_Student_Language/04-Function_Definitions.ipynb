{
 "cells": [
  {
   "attachments": {},
   "cell_type": "markdown",
   "metadata": {},
   "source": [
    "# **Function Definitions, pt. 1**\n",
    "- Creating/defining functions to perform tasks with variables."
   ]
  },
  {
   "cell_type": "code",
   "execution_count": null,
   "metadata": {},
   "outputs": [],
   "source": [
    "# Define with:\n",
    "(define (<FUNCTION_NAME> <VARIABLE NAME>)\n",
    "    (EXPRESSION)\n",
    ")\n",
    "\n",
    "# Example\n",
    "(define (makeCircle color)      # Defines a makeCircle function\n",
    " (circle 40 \"solid\" color))\n",
    "\n",
    "(makeCircle \"green\")            # Calling function above which makes green circle"
   ]
  }
 ],
 "metadata": {
  "kernelspec": {
   "display_name": "Python 3",
   "language": "python",
   "name": "python3"
  },
  "language_info": {
   "name": "python",
   "version": "3.10.2"
  },
  "orig_nbformat": 4,
  "vscode": {
   "interpreter": {
    "hash": "fa6936afccae6738ef30cc92f5c1ede57c28cb430a06fa1a1a3979d763f241d5"
   }
  }
 },
 "nbformat": 4,
 "nbformat_minor": 2
}
