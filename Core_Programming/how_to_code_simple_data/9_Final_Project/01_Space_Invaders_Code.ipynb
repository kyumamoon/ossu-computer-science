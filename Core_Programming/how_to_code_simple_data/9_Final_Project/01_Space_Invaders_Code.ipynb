{
 "cells": [
  {
   "attachments": {},
   "cell_type": "markdown",
   "metadata": {},
   "source": [
    "- Now that you've taken some time to think about the problem and complete a domain analysis, download the starter file and read through it. \n",
    "    - We have provided constants and data definitions, but no other parts of the program. \n",
    "\n",
    "- Work through your design of Space Invaders following the recipe closely. If you get stuck, go back through the recipe steps and make sure that there is correspondence between your signature and purpose, you are using the correct template, you have the correct number of parameters, etc. \n",
    "\n",
    "- If you are still having trouble, you can discuss ways to approach the problem with your peers on the discussion board. However, as this is an assessment, please do not post any of your code for others to see, or discuss specific details of your solution. \n",
    "\n",
    "- Once you have completed the problem, you can submit it below. You will self-evaluate based on the following criteria:\n",
    "\n",
    "    - Is the program safe?\n",
    "        - The program file should be set to beginning student language and there should be no require declarations other than (require 2htdp/image) and (require 2htdp/universe). \n",
    "        - If the program is in a language other than BSL (or ISL), then it gets 0 points for the rest of the rubric. \n",
    "        - If your file contains placed images, then the transfer of the file through edX will not work and the file will not be able to be graded.\n",
    "    - Is the program \"commit ready\"?\n",
    "        - The file should be neat and tidy, no tests or code should be commented out other than stubs and templates and all scratch work should be removed. \n",
    "    - Are all HtDW elements complete and do they have high internal quality? \n",
    "        - All HtDW elements should be present, well formed, and have high internal quality. The file must include Constants, Data Definitions and Functions. - The Constants section must be complete, there must be a main function that is correct and operates on a compound type. \n",
    "        - The main function must have all necessary big-bang options, and for each option, the handler must be present in the file. \n",
    "    - Are all HtDF elements complete and do they have high internal quality?\n",
    "        - Choose either the to-draw, on-key or on-tick handler. All elements of HtDF must be present and have high internal quality. \n",
    "        - This includes the Signature, Purpose, Stub, Examples/Tests, Template and the Function Body.\n",
    "    - Does the design satisfy the problem requirements? \n",
    "        - The program must be be a working Space Invaders game, operating on the compound data definitions provided. If your game is not working, you will receive zero marks for this criterion. \n",
    "- If you are considering upgrading to a verified certificate in How to Code: Simple Data, you should do so now as it will give you access to staff grading for this project. You can upgrade to verified here. If you choose to upgrade to verified, you should resubmit your domain analysis on the previous page for staff grading. \n",
    "\n",
    "- Annotate\n",
    "    - Here is a video of what the gameplay of our version of Space Invaders looks like. Your game should have the same functionality, but feel free to get creative with the graphics.\n",
    "    - https://prod-images.edx-video.net/video-images/cb9e2d1cb87f43608e72b11461c37aa9.jpeg"
   ]
  }
 ],
 "metadata": {
  "language_info": {
   "name": "python"
  },
  "orig_nbformat": 4
 },
 "nbformat": 4,
 "nbformat_minor": 2
}
