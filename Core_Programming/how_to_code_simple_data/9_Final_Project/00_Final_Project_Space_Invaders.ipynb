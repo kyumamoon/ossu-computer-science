{
 "cells": [
  {
   "attachments": {},
   "cell_type": "markdown",
   "metadata": {},
   "source": [
    "In this final project, you will complete the design of the classic arcade game Space Invaders. If you've never played it before, you can get an idea of how it works here.\n",
    "\n",
    "- There are many different versions of Space Invaders. For this project, your Space Invaders game should have the following behaviour:\n",
    "\n",
    "    - The tank should move right and left at the bottom of the screen when you press the arrow keys. If you press the left arrow key, it will continue to move left at a constant speed until you press the right arrow key.\n",
    "    - The tank should fire missiles straight up from its current position when you press the space bar.\n",
    "    - The invaders should appear randomly along the top of the screen and move at a 45 degree angle. When they hit a wall they will bounce off and continue at a 45 degree angle in the other direction.\n",
    "    - When an invader reaches the bottom of the screen, the game is over. \n",
    "- This is an example of what the game should look like during play. The arrows have been added on to show you how the different parts of the game move. "
   ]
  },
  {
   "attachments": {},
   "cell_type": "markdown",
   "metadata": {},
   "source": [
    "- Designing this program will require many of the things you have learned throughout the course, and it will be the largest program you have worked on\n",
    "- Before downloading the starter file on the next page, take some time to become acquainted with the game, and complete the domain analysis for the program. \n",
    "\n",
    "- Submit your domain analysis in the box below for self assessment."
   ]
  }
 ],
 "metadata": {
  "language_info": {
   "name": "python"
  },
  "orig_nbformat": 4
 },
 "nbformat": 4,
 "nbformat_minor": 2
}
