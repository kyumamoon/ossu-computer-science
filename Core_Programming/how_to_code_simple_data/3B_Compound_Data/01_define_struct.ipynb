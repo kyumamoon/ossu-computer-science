{
 "cells": [
  {
   "attachments": {},
   "cell_type": "markdown",
   "metadata": {},
   "source": [
    "# **Define Struct**\n",
    "\n",
    "A new mechanism from the BSL language allows us to build multi-part (or compound) values and later to desconstruct the compound values to get the individual values back.\n",
    "\n",
    "There is no starter file for this video"
   ]
  },
  {
   "attachments": {},
   "cell_type": "markdown",
   "metadata": {},
   "source": [
    "- atomic values are just a data type that contains one value.\n",
    "- compound data are data types that contain more than one value.\n",
    "    - structs are one of many compound data.\n",
    "    - structs follow syntax: (define-struct \\<struct_name\\> (\\<field_name\\> \\<field_name\\> ...))"
   ]
  },
  {
   "cell_type": "code",
   "execution_count": null,
   "metadata": {
    "vscode": {
     "languageId": "plaintext"
    }
   },
   "outputs": [],
   "source": [
    "# Defining structs\n",
    "(define-struct position (x y))\n",
    "\n",
    "# Initializing structs\n",
    "(define P1 (make-position 3 6))\n",
    "\n",
    "# Grabbing values from structs\n",
    "(position-x P1)\n",
    "(position-y P1)\n",
    "\n",
    "# Predicate, checks whether a variable is the struct\n",
    "(position? RANDOM_VARIABLE) # returns False\n",
    "(position? P1)              # returns True"
   ]
  }
 ],
 "metadata": {
  "language_info": {
   "name": "python"
  },
  "orig_nbformat": 4
 },
 "nbformat": 4,
 "nbformat_minor": 2
}
