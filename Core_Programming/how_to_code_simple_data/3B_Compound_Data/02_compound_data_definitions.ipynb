{
 "cells": [
  {
   "attachments": {},
   "cell_type": "markdown",
   "metadata": {},
   "source": [
    "# **Compound Data Definitions**"
   ]
  },
  {
   "attachments": {},
   "cell_type": "markdown",
   "metadata": {},
   "source": [
    "Problem\n",
    "\n",
    "- Design a data definition to represent hockey players, including both first and last name."
   ]
  },
  {
   "attachments": {},
   "cell_type": "markdown",
   "metadata": {},
   "source": [
    "Data definition parts:\n",
    "\n",
    "1. possible structure definition\n",
    "2. type comment that defines a new type name and describes how to form data\n",
    "3. interpretation that describes the correspondence between information and data\n",
    "4. one or more examples of the data\n",
    "5. a template for a 1 argument function operating on data of this type"
   ]
  },
  {
   "cell_type": "code",
   "execution_count": null,
   "metadata": {
    "vscode": {
     "languageId": "plaintext"
    }
   },
   "outputs": [],
   "source": [
    ";; Structure Definition\n",
    "(define-struct player (firstn lastn))\n",
    ";; Type Comment: Player is (make-player String String)\n",
    ";; interp. (make-player firstn lastn) is a hockey player with firstn(first name) and lastn(last name)\n",
    ";; Examples:\n",
    "(define player1 (make-player \"Bobby\" \"Orr\"))\n",
    "(define player2 (make-player \"Wayne\" \"Gretzky\"))\n",
    ";; Template:\n",
    "(define (fn-for-player p) \n",
    "    (... (player-firstn p) \n",
    "        (player-lastn p)\n",
    "        ))\n",
    ";; Template Rules Used:\n",
    ";; - Compound: 2 fields"
   ]
  }
 ],
 "metadata": {
  "language_info": {
   "name": "python"
  },
  "orig_nbformat": 4
 },
 "nbformat": 4,
 "nbformat_minor": 2
}
