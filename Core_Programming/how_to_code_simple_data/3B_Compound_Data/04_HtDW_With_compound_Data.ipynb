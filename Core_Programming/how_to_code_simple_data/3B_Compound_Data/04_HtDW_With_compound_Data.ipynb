{
 "cells": [
  {
   "attachments": {},
   "cell_type": "markdown",
   "metadata": {},
   "source": [
    "# **HtDW With Compound Data**\n",
    "\n",
    "This is a very long video. That is because it goes step-by-step through the development of a world program with compound world state. In that sense much of the video is like TA office hours - you can work through the problem on your own consulting the video now and then to compare your solution to ours. Part of the video goes into more detail on how to handle the geometry of keeping moving elements inside the screen, which is an area that students often ask about. Another part introduces helper functions.\n",
    "\n",
    "The starter file for this video is cowabunga-starter.rkt."
   ]
  },
  {
   "attachments": {},
   "cell_type": "markdown",
   "metadata": {},
   "source": [
    "Problem:\n",
    "\n",
    "- As we learned in the cat world programs, cats have a mind of their own. When they reach the edge, they just keep walking.\n",
    "\n",
    "- Cows are docile. They stay within the fence, walking back and forth.\n",
    "\n",
    "- Design a world program with the following behavior:\n",
    "    - A cow walks back and forth across the screen.\n",
    "    - When it gets to an edge it changes direction and goes back the other way\n",
    "    - When you start the program, it should be possible to control how fast a walker your cow is.\n",
    "    - Pressing space makes it change direction right away.\n",
    "\n",
    "- Make cow wobble. Make cow hit edge with nose, not center of sprite."
   ]
  },
  {
   "cell_type": "code",
   "execution_count": null,
   "metadata": {
    "vscode": {
     "languageId": "plaintext"
    }
   },
   "outputs": [],
   "source": [
    ";; Constants\n",
    "(define HEIGHT 480)\n",
    "(define WIDTH 600)\n",
    "(define C-HEIGHT (/ HEIGHT 2))\n",
    "(define C-WIDTH (/ WIDTH 2))\n",
    "(define MTS (empty-scene WIDTH HEIGHT))\n",
    "(define R_COW .)\n",
    "(define L_COW .)\n",
    "\n",
    "\n",
    ";; Struct Definition\n",
    "(define-struct COW (x y direction img speed))\n",
    "\n",
    ";; Other Variables\n",
    "(define speed 5)\n",
    "\n",
    ";; MAIN\n",
    "(define (main c) (big-bang c (on-tick cowDirection) (to-draw render) (on-key handle-key)))\n",
    "\n",
    ";; FUNCTIONS / Wishlist\n",
    "\n",
    "; Check Cow Direction\n",
    "(define (cowDirection c) (cond\n",
    "                           [(> (COW-x c) 550) (cowMove (\n",
    "                                                        make-COW (COW-x c) (COW-y c) \"left\" L_COW (COW-speed c)\n",
    "                                                                 ))]\n",
    "                           [(< (COW-x c) 50) (cowMove (\n",
    "                                                      make-COW (COW-x c) (COW-y c) \"right\" R_COW (COW-speed c)\n",
    "                                                               ))]\n",
    "                           [else (cowMove c)]))\n",
    "\n",
    "; Increment Cow's X position based on its direction.\n",
    "(define (cowMove c) (cond\n",
    "                      [(string=? (COW-direction c) \"left\" ) (make-COW (- (COW-x c) (COW-speed c)) (COW-y c) (COW-direction c) (COW-img c) (COW-speed c))]\n",
    "                      [(string=? (COW-direction c) \"right\") (make-COW (+ (COW-x c) (COW-speed c)) (COW-y c) (COW-direction c) (COW-img c) (COW-speed c))]\n",
    "                      [else c]))\n",
    "\n",
    "; Cow Turn\n",
    "(define (handle-key c KEY) (cond\n",
    "                         [(key=? KEY \" \") (if (string=? (COW-direction c) \"left\") (make-COW (COW-x c) (COW-y c) \"right\" R_COW (COW-speed c)) (make-COW (COW-x c) (COW-y c) \"left\" L_COW (COW-speed c)))]\n",
    "                         [else c]\n",
    "                         ))\n",
    "; Render Cow\n",
    "(define (render c)\n",
    "  (place-image (COW-img c) (COW-x c) C-HEIGHT MTS)\n",
    "  )\n",
    "\n",
    "; Make Cow With Speed\n",
    "(define (cow speed) (make-COW 0 C-HEIGHT \"right\" R_COW speed))"
   ]
  }
 ],
 "metadata": {
  "language_info": {
   "name": "python"
  },
  "orig_nbformat": 4
 },
 "nbformat": 4,
 "nbformat_minor": 2
}
