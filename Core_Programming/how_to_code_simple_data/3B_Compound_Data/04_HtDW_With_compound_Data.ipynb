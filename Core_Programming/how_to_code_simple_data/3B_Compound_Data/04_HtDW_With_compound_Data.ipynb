{
 "cells": [
  {
   "attachments": {},
   "cell_type": "markdown",
   "metadata": {},
   "source": [
    "# **HtDW With Compound Data**\n",
    "\n",
    "This is a very long video. That is because it goes step-by-step through the development of a world program with compound world state. In that sense much of the video is like TA office hours - you can work through the problem on your own consulting the video now and then to compare your solution to ours. Part of the video goes into more detail on how to handle the geometry of keeping moving elements inside the screen, which is an area that students often ask about. Another part introduces helper functions.\n",
    "\n",
    "The starter file for this video is cowabunga-starter.rkt."
   ]
  }
 ],
 "metadata": {
  "language_info": {
   "name": "python"
  },
  "orig_nbformat": 4
 },
 "nbformat": 4,
 "nbformat_minor": 2
}
