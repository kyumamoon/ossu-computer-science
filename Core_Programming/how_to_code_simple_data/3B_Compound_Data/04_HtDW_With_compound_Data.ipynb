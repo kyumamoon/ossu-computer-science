{
 "cells": [
  {
   "attachments": {},
   "cell_type": "markdown",
   "metadata": {},
   "source": [
    "# **HtDW With Compound Data**\n",
    "\n",
    "This is a very long video. That is because it goes step-by-step through the development of a world program with compound world state. In that sense much of the video is like TA office hours - you can work through the problem on your own consulting the video now and then to compare your solution to ours. Part of the video goes into more detail on how to handle the geometry of keeping moving elements inside the screen, which is an area that students often ask about. Another part introduces helper functions.\n",
    "\n",
    "The starter file for this video is cowabunga-starter.rkt."
   ]
  },
  {
   "attachments": {},
   "cell_type": "markdown",
   "metadata": {},
   "source": [
    "Problem:\n",
    "\n",
    "- As we learned in the cat world programs, cats have a mind of their own. When they reach the edge, they just keep walking.\n",
    "\n",
    "- Cows are docile. They stay within the fence, walking back and forth.\n",
    "\n",
    "- Design a world program with the following behavior:\n",
    "    - A cow walks back and forth across the screen.\n",
    "    - When it gets to an edge it changes direction and goes back the other way\n",
    "    - When you start the program, it should be possible to control how fast a walker your cow is.\n",
    "    - Pressing space makes it change direction right away.\n",
    "\n",
    "- Make cow wobble. Make cow hit edge with nose, not center of sprite."
   ]
  }
 ],
 "metadata": {
  "language_info": {
   "name": "python"
  },
  "orig_nbformat": 4
 },
 "nbformat": 4,
 "nbformat_minor": 2
}
