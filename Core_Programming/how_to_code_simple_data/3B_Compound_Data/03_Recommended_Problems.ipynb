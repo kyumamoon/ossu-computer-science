{
 "cells": [
  {
   "attachments": {},
   "cell_type": "markdown",
   "metadata": {},
   "source": [
    "Before going on to HtDW with Compound Data, you should complete the practice problems shown below. Each problem has a starter file that you can download. The starter file describes the problem. Some starters include additional definitions that you can work with.\n",
    "\n",
    "If you would like to work on additional practice problems follow the Problem Bank link at the top of the screen."
   ]
  },
  {
   "attachments": {},
   "cell_type": "markdown",
   "metadata": {},
   "source": [
    "- movie-starter.rkt\n",
    "- student-starter.rkt"
   ]
  }
 ],
 "metadata": {
  "language_info": {
   "name": "python"
  },
  "orig_nbformat": 4
 },
 "nbformat": 4,
 "nbformat_minor": 2
}
