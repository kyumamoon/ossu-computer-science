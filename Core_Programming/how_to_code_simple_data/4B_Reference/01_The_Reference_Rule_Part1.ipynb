{
 "cells": [
  {
   "attachments": {},
   "cell_type": "markdown",
   "metadata": {},
   "source": [
    "# **The Reference Rule Part 1**"
   ]
  },
  {
   "attachments": {},
   "cell_type": "markdown",
   "metadata": {},
   "source": [
    "Problem\n",
    "- Eva is trying to decide where to go to university. One important factor for tuition costs. Eva is a visual thinker, and has taken Systematic Program Design so she decides to design a program that will help her visualize the costs at different schools. She decides to start simply, knowing she can revise her design later.\n",
    "\n",
    "- The information she has so far is the names of some schools as well as their international student tuition costs. She would like to be able to represent that information in bar charts like this one:\n",
    "\n",
    "- (Visualized), 3 bars labeled \"School1\" \"School2\" \"School3\". Height ranked 1 (short), 3 (tall).\n",
    "    - School1 = 2\n",
    "    - School2 = 1\n",
    "    - School3 = 3\n",
    "\n",
    "        - (A) Design data definitions to represent the information Eva has.\n",
    "        - (B) Design a function that consumes information about schools and their tuition and produces a bar chart.\n",
    "        - (C) Design a function that consumes information about schools and produces the school with the lowest internation student tuition."
   ]
  },
  {
   "attachments": {},
   "cell_type": "markdown",
   "metadata": {},
   "source": [
    "---"
   ]
  },
  {
   "cell_type": "code",
   "execution_count": null,
   "metadata": {},
   "outputs": [],
   "source": [
    "(require 2htdp/image)\n",
    "\n",
    "; Constants\n",
    "\n",
    "(define SCREEN_HEIGHT 600)\n",
    "(define SCREEN_WIDTH 800)\n",
    "(define BAR_WIDTH 30)\n",
    "(deifne BAR_COLOR \"blue\")\n",
    "(define MTS (empty-scene SCREEN_WIDTH SCREEN_HEIGHT))\n",
    "(define FONT_SIZE 24)\n",
    "(define FONT_COLOR \"black\")\n",
    "(define BAR_HEIGHT_NORMALIZER 1/200)\n",
    "\n",
    "; Data Definitions:\n",
    "\n",
    "(define-struct school (name tuition))\n",
    "(define LOS empty)\n",
    "\n",
    "\n"
   ]
  }
 ],
 "metadata": {
  "language_info": {
   "name": "python"
  },
  "orig_nbformat": 4
 },
 "nbformat": 4,
 "nbformat_minor": 2
}
