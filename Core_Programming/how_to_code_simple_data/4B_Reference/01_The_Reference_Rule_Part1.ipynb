{
 "cells": [
  {
   "attachments": {},
   "cell_type": "markdown",
   "metadata": {},
   "source": [
    "# **The Reference Rule Part 1**"
   ]
  },
  {
   "attachments": {},
   "cell_type": "markdown",
   "metadata": {},
   "source": [
    "# **The Reference Rule Part 2**\n",
    "\n",
    "This video focuses almost entirely on the examples for the chart function. This provides a good example of the incremental process of working out more complex image producing functions and also reinforces why we do the recipe steps in the order we do. Even though this video does not address the reference rule directly it is absolutely essential that you watch it before part 3.\n",
    "\n",
    "The starter file for this video is tuition-graph-v3.rkt.\n",
    "\n",
    "---\n",
    "\n",
    "Problem\n",
    "- Eva is trying to decide where to go to university. One important factor for tuition costs. Eva is a visual thinker, and has taken Systematic Program Design so she decides to design a program that will help her visualize the costs at different schools. She decides to start simply, knowing she can revise her design later.\n",
    "\n",
    "- The information she has so far is the names of some schools as well as their international student tuition costs. She would like to be able to represent that information in bar charts like this one:\n",
    "\n",
    "- (Visualized), 3 bars labeled \"School1\" \"School2\" \"School3\". Height ranked 1 (short), 3 (tall).\n",
    "    - School1 = 2\n",
    "    - School2 = 1\n",
    "    - School3 = 3\n",
    "\n",
    "        - (A) Design data definitions to represent the information Eva has.\n",
    "        - (B) Design a function that consumes information about schools and their tuition and produces a bar chart.\n",
    "        - (C) Design a function that consumes information about schools and produces the school with the lowest internation student tuition."
   ]
  },
  {
   "attachments": {},
   "cell_type": "markdown",
   "metadata": {},
   "source": [
    "---"
   ]
  },
  {
   "cell_type": "raw",
   "metadata": {},
   "source": [
    "(require 2htdp/image)\n",
    "\n",
    "; Constants\n",
    "\n",
    "(define SCREEN_HEIGHT 600)\n",
    "(define SCREEN_WIDTH 800)\n",
    "(define BAR_WIDTH 30)\n",
    "(deifne BAR_COLOR \"blue\")\n",
    "(define MTS (empty-scene SCREEN_WIDTH SCREEN_HEIGHT))\n",
    "(define FONT_SIZE 24)\n",
    "(define FONT_COLOR \"black\")\n",
    "(define BAR_HEIGHT_NORMALIZER 1/200)\n",
    "\n",
    "; Data Definitions:\n",
    "\n",
    "; Structure Definition\n",
    "    (define-struct school (name tuition))\n",
    "; Type Comment: \n",
    "    school is (make-school String Natural)\n",
    "; interp. \n",
    "    (make-school name tuition) is a school with name and tuition cost\n",
    "; Example:\n",
    "    (define school1 (make-school \"BOBS\" 5000))\n",
    "    (define school2 (make-school \"SARAHS\" 2999))\n",
    "; Template:\n",
    "    (define (fn-for-school s) (...(school-name s) (school-tuition s)))\n",
    ";; Template Rules Used:\n",
    "    - Compound: 2 fields\n",
    "\n",
    "; Structure Definition\n",
    "; ListOfSchool is one of:\n",
    "    - empty\n",
    "    - (cons school ListOfSchool)\n",
    "; interp. a list of school\n",
    "; Examples:\n",
    "    - (define LOS1 empty)\n",
    "    - (define LOS2 (cons (make-school \"A\" 2000) empty))\n",
    "    - (define LOS3 (cons (make-school \"A\" 2000) (cons (make-school \"B\" 200) empty)))\n",
    "; Template\n",
    "    - (define (fn-for-ListOfSchool list) (\n",
    "        cond \n",
    "            [(empty? list) (...)] \n",
    "            [else (... \n",
    "                (fn-for-school (first list))\n",
    "                (fn-for-ListOfSchool (rest list))\n",
    "                )\n",
    "            ]\n",
    "            )\n",
    "        )\n",
    "; Template Rules Used:\n",
    "    - one of: 2 cases\n",
    "        - atomic distinct: empty\n",
    "        - compound: (cons school ListOfSchool) \n",
    "    - reference: (first lost)\n",
    "    - self-reference: (rest los) is ListOfSchool"
   ]
  }
 ],
 "metadata": {
  "language_info": {
   "name": "python"
  },
  "orig_nbformat": 4
 },
 "nbformat": 4,
 "nbformat_minor": 2
}
