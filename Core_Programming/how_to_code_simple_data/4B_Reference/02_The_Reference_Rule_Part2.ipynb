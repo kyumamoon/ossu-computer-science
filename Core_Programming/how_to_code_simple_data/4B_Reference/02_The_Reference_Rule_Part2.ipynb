{
 "cells": [
  {
   "attachments": {},
   "cell_type": "markdown",
   "metadata": {},
   "source": [
    "# **The Reference Rule Part 2**\n",
    "\n",
    "This video focuses almost entirely on the examples for the chart function. This provides a good example of the incremental process of working out more complex image producing functions and also reinforces why we do the recipe steps in the order we do. Even though this video does not address the reference rule directly it is absolutely essential that you watch it before part 3.\n",
    "\n",
    "The starter file for this video is tuition-graph-v3.rkt.\n",
    "\n",
    "---"
   ]
  },
  {
   "attachments": {},
   "cell_type": "markdown",
   "metadata": {},
   "source": [
    "**Code from Part 1**"
   ]
  },
  {
   "cell_type": "code",
   "execution_count": null,
   "metadata": {},
   "outputs": [],
   "source": [
    "(require 2htdp/image)\n",
    "\n",
    "; Constants\n",
    "\n",
    "(define SCREEN_HEIGHT 600)\n",
    "(define SCREEN_WIDTH 800)\n",
    "(define BAR_WIDTH 30)\n",
    "(deifne BAR_COLOR \"blue\")\n",
    "(define MTS (empty-scene SCREEN_WIDTH SCREEN_HEIGHT))\n",
    "(define FONT_SIZE 24)\n",
    "(define FONT_COLOR \"black\")\n",
    "(define BAR_HEIGHT_NORMALIZER 1/200)\n",
    "\n",
    "; Data Definitions:\n",
    "\n",
    "; Structure Definition\n",
    "    (define-struct school (name tuition))\n",
    "; Type Comment: \n",
    "    school is (make-school String Natural)\n",
    "; interp. \n",
    "    (make-school name tuition) is a school with name and tuition cost\n",
    "; Example:\n",
    "    (define school1 (make-school \"BOBS\" 5000))\n",
    "    (define school2 (make-school \"SARAHS\" 2999))\n",
    "; Template:\n",
    "    (define (fn-for-school s) (...(school-name s) (school-tuition s)))\n",
    ";; Template Rules Used:\n",
    "    - Compound: 2 fields\n",
    "\n",
    "; Structure Definition\n",
    "; ListOfSchool is one of:\n",
    "    - empty\n",
    "    - (cons school ListOfSchool)\n",
    "; interp. a list of school\n",
    "; Examples:\n",
    "    - (define LOS1 empty)\n",
    "    - (define LOS2 (cons (make-school \"A\" 2000) empty))\n",
    "    - (define LOS3 (cons (make-school \"A\" 2000) (cons (make-school \"B\" 200) empty)))\n",
    "; Template\n",
    "    - (define (fn-for-ListOfSchool list) (\n",
    "        cond \n",
    "            [(empty? list) (...)] \n",
    "            [else (... \n",
    "                (fn-for-school (first list))\n",
    "                (fn-for-ListOfSchool (rest list))\n",
    "                )\n",
    "            ]\n",
    "            )\n",
    "        )\n",
    "; Template Rules Used:\n",
    "    - one of: 2 cases\n",
    "        - atomic distinct: empty\n",
    "        - compound: (cons school ListOfSchool) \n",
    "    - reference: (first lost)\n",
    "    - self-reference: (rest los) is ListOfSchool"
   ]
  }
 ],
 "metadata": {
  "language_info": {
   "name": "python"
  },
  "orig_nbformat": 4
 },
 "nbformat": 4,
 "nbformat_minor": 2
}
