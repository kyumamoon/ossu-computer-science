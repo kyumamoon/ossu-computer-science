{
 "cells": [
  {
   "attachments": {},
   "cell_type": "markdown",
   "metadata": {},
   "source": [
    "# **Booleans and IF Expressions**\n",
    "\n",
    "Boolean are represented with \"true\" and \"false\" values.\n",
    "\n",
    "- Primitive Booleans: >,<,>=,<=,="
   ]
  },
  {
   "attachments": {},
   "cell_type": "markdown",
   "metadata": {},
   "source": [
    "**Evaluating true/false expressions**\n",
    "\n",
    "- (> 100 50)\n",
    "    - Is true because evaluates to 100 > 50.\n",
    "\n",
    "- (= 100 100)\n",
    "    - True\n",
    "\n",
    "- (string=? \"foo\" \"bar\") \n",
    "    - Is False because strings are not equal\n",
    "\n",
    "- (< (image-width IMAGE_OBJECT) (image-width IMAGE_OBJECT))\n",
    "    - Comparing images using image-width method to get the image's width"
   ]
  }
 ],
 "metadata": {
  "kernelspec": {
   "display_name": "Python 3",
   "language": "python",
   "name": "python3"
  },
  "language_info": {
   "name": "python",
   "version": "3.10.2"
  },
  "orig_nbformat": 4,
  "vscode": {
   "interpreter": {
    "hash": "fa6936afccae6738ef30cc92f5c1ede57c28cb430a06fa1a1a3979d763f241d5"
   }
  }
 },
 "nbformat": 4,
 "nbformat_minor": 2
}
