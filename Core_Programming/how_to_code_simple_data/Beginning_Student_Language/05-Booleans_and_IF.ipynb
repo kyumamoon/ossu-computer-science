{
 "cells": [
  {
   "attachments": {},
   "cell_type": "markdown",
   "metadata": {},
   "source": [
    "# **Booleans and IF Expressions**\n",
    "\n",
    "Boolean are represented with \"true\" and \"false\" values.\n",
    "\n",
    "- Primitive Booleans: >,<,>=,<=,="
   ]
  },
  {
   "attachments": {},
   "cell_type": "markdown",
   "metadata": {},
   "source": [
    "**Evaluating true/false expressions**\n",
    "\n",
    "- (> 100 50)\n",
    "    - Is true because evaluates to 100 > 50.\n",
    "\n",
    "- (= 100 100)\n",
    "    - True"
   ]
  }
 ],
 "metadata": {
  "language_info": {
   "name": "python"
  },
  "orig_nbformat": 4
 },
 "nbformat": 4,
 "nbformat_minor": 2
}
