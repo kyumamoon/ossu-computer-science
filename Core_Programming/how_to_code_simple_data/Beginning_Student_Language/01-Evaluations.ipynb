{
 "cells": [
  {
   "attachments": {},
   "cell_type": "markdown",
   "metadata": {},
   "source": [
    "# **Evaluations**"
   ]
  },
  {
   "attachments": {},
   "cell_type": "markdown",
   "metadata": {},
   "source": [
    "**Rules to evaluate primitive calls.**\n",
    "\n",
    "- Primitive calls are operators like (+-*/,etc) followed by values (values can be values inside parenthesis.)\n",
    "- Operators are math symbols.\n",
    "- Operands are the values that are being operated on by operator.\n",
    "- To evaluate primitive calls:\n",
    "    - First, reduce operands to single values.\n",
    "    - Then apply the primitive to the values."
   ]
  },
  {
   "attachments": {},
   "cell_type": "markdown",
   "metadata": {},
   "source": [
    "**Examples**\n",
    "\n",
    "(+ 2 3 4)\n",
    "- A primitive expression with 3 operands (2,3,4) and 1 operator (+).\n",
    "- Results in: 2 + 3 + 4 = 9\n",
    "\n",
    "(+ 2 (*3 4) (- (+ 1 2) 3))\n",
    "- Has 4 operators, + * - +\n",
    "- Each parenthesis encompasses their own set of operands.\n",
    "- Results in 14"
   ]
  }
 ],
 "metadata": {
  "kernelspec": {
   "display_name": "Python 3",
   "language": "python",
   "name": "python3"
  },
  "language_info": {
   "name": "python",
   "version": "3.10.2"
  },
  "orig_nbformat": 4,
  "vscode": {
   "interpreter": {
    "hash": "fa6936afccae6738ef30cc92f5c1ede57c28cb430a06fa1a1a3979d763f241d5"
   }
  }
 },
 "nbformat": 4,
 "nbformat_minor": 2
}
