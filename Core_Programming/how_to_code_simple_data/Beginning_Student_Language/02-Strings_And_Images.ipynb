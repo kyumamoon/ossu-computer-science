{
 "cells": [
  {
   "attachments": {},
   "cell_type": "markdown",
   "metadata": {},
   "source": [
    "# **Strings and Images, pt 1**"
   ]
  },
  {
   "attachments": {},
   "cell_type": "markdown",
   "metadata": {},
   "source": [
    "**Strings**\n",
    "In racket, strings are represented with double quotes. It is another primitive value.\n",
    "- \"a string\"\n",
    "\n",
    "**String function append**\n",
    "string-append is a function that combines a number of strings provided in the value parameters.\n",
    "\n",
    "- (string-append \"ABC\" \"123\")\n",
    "    - Results in \"ABC123\"\n",
    "\n",
    "**String Length**\n",
    "\n",
    "- (string-length \"ABC\")\n",
    "    - Results in 3\n",
    "\n",
    "**String Substring**\n",
    "returns the substring specified between starting index and ending index (exclusive)\n",
    "\n",
    "- (substring \"ABCDE\" 1 3)\n",
    "- this returns \"BC\" because 1 is the starting index and 3 is the ending\n"
   ]
  },
  {
   "attachments": {},
   "cell_type": "markdown",
   "metadata": {},
   "source": [
    "# **Images**\n",
    "\n",
    "Import image packages using this syntax:\n",
    "- (require 2htdp/image)\n",
    "\n",
    "**Circle Image**\n",
    "Creates a circle.\n",
    "\n",
    "- (circle 10 \"solid\" \"red\")\n",
    "- circle, radius, solid/outline, color\n",
    "\n",
    "**Rectangle Image**\n",
    "Creates a rectangle.\n",
    "\n",
    "- (rectangle 10 50 \"solid\" \"red\")\n",
    "- rectangle, width, height, solid/outline, color\n",
    "\n",
    "**Text Image**\n",
    "Creates a font with font style.\n",
    "\n",
    "- (text \"hello\" 24 \"orange\")\n",
    "- text, string, fontsize, color"
   ]
  },
  {
   "attachments": {},
   "cell_type": "markdown",
   "metadata": {},
   "source": [
    "# **Image Functions**\n",
    "\n",
    "**above**\n",
    "Stacks images on top of each other (vertical axis).\n",
    "\n",
    "- (above IMAGE_OBJECT IMAGE_OBJECT IMAGE_OBJECT IMAGE_OBJECT )\n",
    "- First image on top will follow index order.\n",
    "\n",
    "**beside**\n",
    "Places images side by side each other (horizontal axis).\n",
    "\n",
    "- (beside IMAGE_OBJECT IMAGE_OBJECT IMAGE_OBJECT IMAGE_OBJECT )\n",
    "- First image on leftmost will follow index order.\n",
    "\n",
    "**overlay**\n",
    "Places images on top of each other on z axis (3D axis)\n",
    "\n",
    "- (overlay IMAGE_OBJECT IMAGE_OBJECT IMAGE_OBJECT IMAGE_OBJECT )\n",
    "\n",
    "**rotate**\n",
    "Rotates image on z axis by # of degrees.\n",
    "\n",
    "- (rotate IMAGE_OBJECT -10)\n",
    "- (rotate IMAGE_OBJECT 10)"
   ]
  }
 ],
 "metadata": {
  "kernelspec": {
   "display_name": "Python 3",
   "language": "python",
   "name": "python3"
  },
  "language_info": {
   "name": "python",
   "version": "3.10.2"
  },
  "orig_nbformat": 4,
  "vscode": {
   "interpreter": {
    "hash": "fa6936afccae6738ef30cc92f5c1ede57c28cb430a06fa1a1a3979d763f241d5"
   }
  }
 },
 "nbformat": 4,
 "nbformat_minor": 2
}
