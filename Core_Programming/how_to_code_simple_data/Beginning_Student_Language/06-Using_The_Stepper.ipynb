{
 "cells": [
  {
   "attachments": {},
   "cell_type": "markdown",
   "metadata": {},
   "source": [
    "# **Using the Stepper**\n",
    "\n",
    "- Stepper is a feature in DrRacket that shows how expressions are broken down and evaluated.\n",
    "- Press Step Button"
   ]
  }
 ],
 "metadata": {
  "language_info": {
   "name": "python"
  },
  "orig_nbformat": 4
 },
 "nbformat": 4,
 "nbformat_minor": 2
}
