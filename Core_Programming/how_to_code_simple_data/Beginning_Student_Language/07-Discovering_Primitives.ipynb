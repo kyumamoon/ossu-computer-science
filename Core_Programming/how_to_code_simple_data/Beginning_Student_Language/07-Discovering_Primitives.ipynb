{
 "cells": [
  {
   "attachments": {},
   "cell_type": "markdown",
   "metadata": {},
   "source": [
    "# **Discovering Primitives, pt 1**\n",
    "\n",
    "- Right clicking on primitives or functions in racket allows us to see the documentations."
   ]
  }
 ],
 "metadata": {
  "language_info": {
   "name": "python"
  },
  "orig_nbformat": 4
 },
 "nbformat": 4,
 "nbformat_minor": 2
}
