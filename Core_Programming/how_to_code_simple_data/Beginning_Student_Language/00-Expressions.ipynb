{
 "cells": [
  {
   "attachments": {},
   "cell_type": "markdown",
   "metadata": {},
   "source": [
    "# **Expressions, pt 1**\n",
    "\n",
    "- Use DR Racket\n",
    "- Top Box is definitions area, bottom box is interactive area."
   ]
  },
  {
   "attachments": {},
   "cell_type": "markdown",
   "metadata": {},
   "source": [
    "**Commenting**\n",
    "\n",
    "- Use semicolon."
   ]
  },
  {
   "attachments": {},
   "cell_type": "markdown",
   "metadata": {},
   "source": [
    "**Creating Expressions**\n",
    "\n",
    "(1) Use parenthesis:\n",
    "\n",
    "- (\\<primitive\\> \\<expression\\>...)\n",
    "\n",
    "- Primitives: +-/* etc\n",
    "\n",
    "(2) Values themselves can be expressions"
   ]
  },
  {
   "cell_type": "code",
   "execution_count": null,
   "metadata": {},
   "outputs": [],
   "source": [
    "# Top Area\n",
    "(+ 3 4)         # Produces 7, reads as add 3 and 4\n",
    "(+ 3 (* 2 3))   # Produces 9, reads as add 3 and (multiple 2 and 3)\n",
    "(/ 12 (* 2 3))  # Produces 2, reads as divide 12 by (times 2 and 3)\n",
    "\n",
    "# Example Expressions\n",
    "(sqr 3)     # Produces 9\n",
    "(sqrt 16)   # Produces 4\n",
    "\n",
    "# Example\n",
    "(sqrt (+ (sqr 3) (sqr 4)))  # Produces 5"
   ]
  }
 ],
 "metadata": {
  "kernelspec": {
   "display_name": "Python 3",
   "language": "python",
   "name": "python3"
  },
  "language_info": {
   "name": "python",
   "version": "3.10.2"
  },
  "orig_nbformat": 4,
  "vscode": {
   "interpreter": {
    "hash": "fa6936afccae6738ef30cc92f5c1ede57c28cb430a06fa1a1a3979d763f241d5"
   }
  }
 },
 "nbformat": 4,
 "nbformat_minor": 2
}
