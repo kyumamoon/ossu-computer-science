{
 "cells": [
  {
   "attachments": {},
   "cell_type": "markdown",
   "metadata": {},
   "source": [
    "# **Function Definitions, pt. 1**\n",
    "- Creating/defining functions to perform tasks with variables."
   ]
  },
  {
   "cell_type": "code",
   "execution_count": null,
   "metadata": {},
   "outputs": [],
   "source": [
    "# Define with:\n",
    "(define (<FUNCTION_NAME> <VARIABLE NAME>)\n",
    "    (EXPRESSION)\n",
    ")\n",
    "\n",
    "# Example\n",
    "(define (makeCircle color)      # Defines a makeCircle function\n",
    " (circle 40 \"solid\" color))\n",
    "\n",
    "(makeCircle \"green\")            # Calling function above which makes green circle"
   ]
  }
 ],
 "metadata": {
  "language_info": {
   "name": "python"
  },
  "orig_nbformat": 4
 },
 "nbformat": 4,
 "nbformat_minor": 2
}
