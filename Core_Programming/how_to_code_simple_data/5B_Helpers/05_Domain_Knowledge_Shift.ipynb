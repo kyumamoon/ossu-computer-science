{
 "cells": [
  {
   "cell_type": "markdown",
   "metadata": {},
   "source": [
    "# **Domain Knowledge Shift**\n",
    "\n",
    "When the body of a function must shift to a new knowledge domain it should call a helper function to do the work in the new domain.\n",
    "\n",
    "The starter file for this video is arrange-images-v4.rkt."
   ]
  },
  {
   "attachments": {},
   "cell_type": "markdown",
   "metadata": {},
   "source": [
    "**Continuation of Insert Function from 04**"
   ]
  },
  {
   "cell_type": "raw",
   "metadata": {},
   "source": [
    ";; Testing Variables\n",
    "(define I1 (rectangle 10 20 \"solid\" \"blue\"))\n",
    "(define I2 (rectangle 20 30 \"solid\" \"red\"))\n",
    "(define I3 (rectangle 30 40 \"solid\" \"green\"))\n",
    "\n",
    ";; Insert\n",
    ";; Image ListOfImage -> ListOfImage\n",
    "\n",
    ";; Purpose:\n",
    "; produce new list with img in proper place in list in increasing order of size\n",
    "; ASSUME LIST IS ALREADY SORTED\n",
    "\n",
    ";; Example:\n",
    "(check-expect (insert I1 empty) (cons I1 empty))\n",
    "(check-expect (insert I1 (cons I2 (cons I3 empty))) (cons I1 (cons I2 (cons I3 empty))))\n",
    "(check-expect (insert I2 (cons I1 (cons I3 empty)) ) (cons I1 (cons I2 (cons I3 empty))))\n",
    "(check-expect (insert I3 (cons I1 (cons I2 empty)) ) (cons I1 (cons I2 (cons I3 empty))))\n",
    "\n",
    ";; Stub:\n",
    "(define (insert img loi) loi)\n",
    "\n",
    ";; Template\n",
    "(define (insert img loi) (\n",
    "    cond\n",
    "    [(empty? loi) (cons img empty)]\n",
    "    [else (if \n",
    "        (larger? img (first loi)) \n",
    "        (cons \n",
    "            (first loi) \n",
    "            (insert img (rest loi))))]\n",
    "))\n"
   ]
  },
  {
   "cell_type": "raw",
   "metadata": {},
   "source": [
    ";; Helper\n",
    ";; Image Image -> Boolean\n",
    "\n",
    ";; Purpose:\n",
    "; produce true if img1 is larger than im2\n",
    "\n",
    ";; Examples:\n",
    "\n",
    ";; Stub\n",
    "(define (larger? im1 img2) true)\n",
    "\n",
    ";; Template:\n",
    "TODO\n"
   ]
  }
 ],
 "metadata": {
  "language_info": {
   "name": "python"
  },
  "orig_nbformat": 4
 },
 "nbformat": 4,
 "nbformat_minor": 2
}
