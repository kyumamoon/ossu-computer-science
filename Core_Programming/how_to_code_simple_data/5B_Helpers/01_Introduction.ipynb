{
 "cells": [
  {
   "attachments": {},
   "cell_type": "markdown",
   "metadata": {},
   "source": [
    "# **Introduction**\n",
    "\n",
    "Big design problems need to be broken into smaller pieces in order to be tractable. In this week we learn several new rules for breaking down function and data designs. We also see more examples of the form of information flows through to the data and the functions that operate on that data.\n",
    "\n",
    "There is no starter file for this video."
   ]
  }
 ],
 "metadata": {
  "language_info": {
   "name": "python"
  },
  "orig_nbformat": 4
 },
 "nbformat": 4,
 "nbformat_minor": 2
}
