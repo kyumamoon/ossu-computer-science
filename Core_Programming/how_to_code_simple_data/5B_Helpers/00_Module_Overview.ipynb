{
 "cells": [
  {
   "attachments": {},
   "cell_type": "markdown",
   "metadata": {},
   "source": [
    "In this module, we learn several new rules for breaking design problems into pieces, learning several rules for breaking a function down into multiple functions.\n",
    "\n",
    "The good news is that while the problems get larger, the work to do at any moment in time does not get harder. Most of the work is HtDD and HtDF work you already know how to do. That's the contribution of the design method, to reduce ever more complex problems to smaller pieces you know how to solve.\n",
    "\n",
    "Working through the videos and practice materials for this module and the design quiz should take approximately 6-9 hours of dedicated time to complete.\n",
    "\n",
    "Learning Goals\n",
    "Be able to design functions that use helper functions for each of the following reasons:\n",
    "at references to other non-primitive data definitions (this will be in the template)\n",
    "to form a function composition\n",
    "to handle a knowledge domain shift\n",
    "to operate on arbitrary sized data"
   ]
  }
 ],
 "metadata": {
  "language_info": {
   "name": "python"
  },
  "orig_nbformat": 4
 },
 "nbformat": 4,
 "nbformat_minor": 2
}
