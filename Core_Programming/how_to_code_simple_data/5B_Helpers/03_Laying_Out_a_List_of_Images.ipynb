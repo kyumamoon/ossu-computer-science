{
 "cells": [
  {
   "cell_type": "markdown",
   "metadata": {},
   "source": [
    "# **Laying Out a List of Images**\n",
    "\n",
    "This function design requires no new techniques. It needs to be done as part of the larger problem, and it serves as practice and review.\n",
    "\n",
    "The starter file for this video is arrange-images-v2.rkt."
   ]
  },
  {
   "cell_type": "code",
   "execution_count": null,
   "metadata": {
    "vscode": {
     "languageId": "plaintext"
    }
   },
   "outputs": [],
   "source": [
    ";; Wishlist Functions\n",
    "\n",
    ";; layout-images\n",
    ";; Signature\n",
    "; ListOfImages -> Image\n",
    "\n",
    ";; Purpose:\n",
    "; place images beside each other in order of list.\n",
    "\n",
    ";; Example:\n",
    "(check-expect (layout-images empty) BLANK)\n",
    "(check-expect (layout-images (cons (rectangle 10 20 \"solid\" \"blue\") (cons (rectangle 20 30 \"solid\" \"red\") empty))) (beside (rectangle 10 20 \"solid\" \"blue\") (rectangle 20 30 \"solid\" \"red\") BLANK))\n",
    "\n",
    ";; Stub:\n",
    "; (define (layout-images loi) BLANK)\n",
    "\n",
    ";; Template:\n",
    "(define (layout-images loi) (\n",
    "    cond [(empty? loi) BLANK] [else (beside (first loi) (layout-images (rest loi)))]\n",
    "))"
   ]
  }
 ],
 "metadata": {
  "language_info": {
   "name": "python"
  },
  "orig_nbformat": 4
 },
 "nbformat": 4,
 "nbformat_minor": 2
}
