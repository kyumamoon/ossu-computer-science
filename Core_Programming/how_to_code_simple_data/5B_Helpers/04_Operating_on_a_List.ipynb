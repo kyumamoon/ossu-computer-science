{
 "cells": [
  {
   "attachments": {},
   "cell_type": "markdown",
   "metadata": {},
   "source": [
    "# **Operating on a List**\n",
    "\n",
    "When an expression must operate on a list -- and go arbitrarily far into that list -- then it must call a helper function to do that.\n",
    "\n",
    "The starter file for this video is arrange-images-v3.rkt."
   ]
  },
  {
   "cell_type": "code",
   "execution_count": null,
   "metadata": {
    "vscode": {
     "languageId": "plaintext"
    }
   },
   "outputs": [],
   "source": [
    ";; Wishlist Function\n",
    "\n",
    ";; sort-images\n",
    ";; Signature\n",
    "; ListOfImages -> ListOfImages\n",
    "\n",
    ";; Purpose:\n",
    "; sort iamges in increasing order of size\n",
    "\n",
    ";; Example:\n",
    "(check-expect (sort-images empty)empty)\n",
    "(check-expect (sort-images (cons (rectangle 10 20 \"solid\" \"blue\") (cons (rectangle 20 30 \"solid\" \"red\") empty))) \n",
    "    (cons (rectangle 10 20 \"solid\" \"blue\") ( cons (rectangle 20 30 \"solid\" \"red\") empty)))\n",
    "(check-expect (sort-images (cons (rectangle 30 20 \"solid\" \"red\") (cons (rectangle 10 20 \"solid\" \"blue\") empty))) \n",
    "    (cons (rectangle 10 20 \"solid\" \"blue\") (cons (rectangle 20 30 \"solid\" \"red\") empty)))\n",
    "(check-expect (sort-images (cons (rectangle 30 40 \"solid\" \"green\") (cons (rectangle 10 20 \"solid\" \"blue\") (cons (rectangle 20 30 \"solid\" \"red\") empty)))) \n",
    "    (cons (rectangle 10 20 \"solid\" \"blue\") (cons (rectangle 20 30 \"solid\" \"red\") ( cons (rectangle 30 40 \"solid\" \"green\") empty))))\n",
    "\n",
    ";; Stub:\n",
    "; (define (sort-images loi) loi)\n",
    "\n",
    ";; Template:\n",
    "(define (sort-images loi) (\n",
    "    cond \n",
    "    [(empty? loi) empty] \n",
    "    [else (insert \n",
    "            (first loi) \n",
    "            (sort-images (rest loi))) ; result of natural recursion will be a sorted list\n",
    "    ]\n",
    "))\n",
    "\n",
    ";; Insert\n",
    ";; Image ListOfImage -> ListOfImage\n",
    "\n",
    ";; Purpose:\n",
    "; produce new list with img in proper place in list in increasing order of size\n",
    "; ASSUME LIST IS ALREADY SORTED\n",
    "\n",
    ";; Example:\n",
    "(check-expect (insert I1 empty) (cons I1 empty))\n",
    "(check-expect (insert I1 (cons I2 (cons I3 empty))) (cons I1 (cons I2 (cons I3 empty))))\n",
    "(check-expect (insert I2 (cons I1 (cons I3 empty)) ) (cons I1 (cons I2 (cons I3 empty))))\n",
    "(check-expect (insert I3 (cons I1 (cons I2 empty)) ) (cons I1 (cons I2 (cons I3 empty))))\n",
    "\n",
    ";; Stub:\n",
    "(define (insert img loi) loi)\n",
    "\n",
    ";; Template\n",
    "(define (insert img loi) (\n",
    "    cond\n",
    "    [(empty? loi) (cons img empty)]\n",
    "    [else (if \n",
    "        (larger? img (first loi)) \n",
    "        (cons \n",
    "            (first loi) \n",
    "            (insert img (rest loi))))]\n",
    "))\n"
   ]
  }
 ],
 "metadata": {
  "language_info": {
   "name": "python"
  },
  "orig_nbformat": 4
 },
 "nbformat": 4,
 "nbformat_minor": 2
}
