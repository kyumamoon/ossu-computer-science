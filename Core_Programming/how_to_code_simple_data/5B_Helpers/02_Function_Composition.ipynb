{
 "cells": [
  {
   "attachments": {},
   "cell_type": "markdown",
   "metadata": {},
   "source": [
    "# **Function Composition**\n",
    "\n",
    "A function should be split into a function composition when it performs two or more distinct operations on the consumed data.\n",
    "\n",
    "The starter file for this video is arrange-images-starter.rkt."
   ]
  },
  {
   "attachments": {},
   "cell_type": "markdown",
   "metadata": {},
   "source": [
    "---\n",
    "\n",
    "Problem:\n",
    "\n",
    "- In this problem imagine you have a bunch of pictures that you would like to store as data and present in different ways. We'll do a simple version of it here and set the stage for a more elaborate version later.\n",
    "\n",
    "- (A) Design a data definition to represent an arbitrary number of images.\n",
    "\n",
    "- (B) Design a function called arrange-images that consumes an arbitrary number of images and lays them out left-to-right in increasing order of size.\n",
    "\n",
    "---"
   ]
  },
  {
   "attachments": {},
   "cell_type": "raw",
   "metadata": {},
   "source": [
    "(A)\n",
    "\n",
    ";; ListOfImages is one of:\n",
    ";   - empty\n",
    ";   - (cons img empty)\n",
    "\n",
    ";; interp.\n",
    "; an arbitrary list of images\n",
    "\n",
    ";; Examples:\n",
    "(define LOI1 empty)\n",
    "(define LOI2 (cons (square 10 \"solid\" \"black\") empty))\n",
    "(define LOI2 (cons (square 10 \"solid\" \"black\") (cons (rectangle 10 20 \"solid\" \"blue\") empty)))\n",
    "\n",
    ";; Template:\n",
    "#; (define (fn-for-ListOfImages loi) (\n",
    "    cond [(empty? loi) (...)] [else (... (first loi) (fn-for-ListOfImages (rest loi)))]\n",
    "))\n",
    "\n",
    ";; Template Rules Used:\n",
    "    - one of: 2 cases\n",
    "        - atomic distinct: empty\n",
    "        - compound: (cons String ListOfString) "
   ]
  },
  {
   "attachments": {},
   "cell_type": "raw",
   "metadata": {},
   "source": [
    "(B)\n",
    "\n",
    ";; Signature\n",
    "; ListOfImages -> Image\n",
    "\n",
    ";; Purpose:\n",
    "; lay out image from left to right based on increasing order of dimensional size area.\n",
    "\n",
    ";; Example:\n",
    "(check-expect (arrange-images empty) BLANK)\n",
    "(check-expect (arrange-images (cons (rectangle 10 20 \"solid\" \"blue\") (cons (rectangle 20 30 \"solid\" \"red\") empty))) (beside (rectangle 10 20 \"solid\" \"blue\") (rectangle 20 30 \"solid\" \"red\")))\n",
    "(check-expect (arrange-images (cons (rectangle 20 30 \"solid\" \"red\") (cons (rectangle 10 20 \"solid\" \"blue\") empty))) (beside (rectangle 10 20 \"solid\" \"blue\") (rectangle 20 30 \"solid\" \"red\")))\n",
    "\n",
    ";; Stub:\n",
    "; (define (arrange-images loi) BLANK)\n",
    "\n",
    ";; Template for Function Composition\n",
    "(define (arrange-images loi)\n",
    "    (layout-images (sort-images loi))\n",
    ")"
   ]
  },
  {
   "cell_type": "raw",
   "metadata": {},
   "source": [
    ";; Wishlist Functions\n",
    "\n",
    ";; layout-images\n",
    ";; Signature\n",
    "; ListOfImages -> Image\n",
    "\n",
    ";; Purpose:\n",
    "; place images beside each other in order of list.\n",
    "\n",
    ";; Example:\n",
    "\n",
    ";; Stub:\n",
    "(define (layout-images loi) BLANK)"
   ]
  },
  {
   "cell_type": "raw",
   "metadata": {},
   "source": [
    ";; sort-images\n",
    ";; Signature\n",
    "; ListOfImages -> ListOfImages\n",
    "\n",
    ";; Purpose:\n",
    "; sort iamges in increasing order of size\n",
    "\n",
    ";; Example:\n",
    "\n",
    ";; Stub:\n",
    "; (define (sort-images loi) loi)"
   ]
  }
 ],
 "metadata": {
  "language_info": {
   "name": "python"
  },
  "orig_nbformat": 4
 },
 "nbformat": 4,
 "nbformat_minor": 2
}
