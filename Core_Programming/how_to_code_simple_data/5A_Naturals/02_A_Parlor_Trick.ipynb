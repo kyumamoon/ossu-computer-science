{
 "cells": [
  {
   "attachments": {},
   "cell_type": "markdown",
   "metadata": {},
   "source": [
    "# **A Parlor Trick**\n",
    "\n",
    "If DrRacket didn't have natural numbers as a primitive type, what would we do? Easy, use HtDD and HtDF to define them.\n",
    "\n",
    "The starter file for this video is new-numerals-starter.rkt."
   ]
  },
  {
   "attachments": {},
   "cell_type": "markdown",
   "metadata": {},
   "source": [
    "Problem:\n",
    "\n",
    "- Your friend has just given you a new pad, it runs prototype version of Racket.\n",
    "- This is great, you can make it do anything. There's just one problem, this version of racket doesn't include numbers as primitive data. There just are no numbers in it.\n",
    "- But you need natural numbers to write your next program.\n",
    "- No problem, because you remember the well-formed self-referential data definition for Natural as well as the idea that add1 is kind of like cons, and sub1 is kind of like rest. Your idea is to make add1 actually be cons and sub1 actually be rest."
   ]
  },
  {
   "cell_type": "code",
   "execution_count": null,
   "metadata": {
    "vscode": {
     "languageId": "plaintext"
    }
   },
   "outputs": [],
   "source": [
    ";; Creating a NATURAL number.\n",
    "\n",
    ";; NATURAL is one of:\n",
    ";   - empty\n",
    ";   - (cons \"!\" empty)\n",
    "\n",
    ";; Interp. a natural number, number of \"!\" in the list is the number.\n",
    "\n",
    ";; Exmaple:\n",
    "(define N0 empty)\n",
    "(define N1 (cons \"!\" N0))\n",
    "(define N2 (cons \"!\" N1))\n",
    "(define N3 (cons \"!\" N2))\n",
    "(define N4 (cons \"!\" N3))\n",
    "(define N5 (cons \"!\" N4))\n",
    "(define N6 (cons \"!\" N5))\n",
    "\n",
    ";; Functions that act as new primitives for NATURAL.\n",
    "(define (ZERO? n) (empty? n))\n",
    "(define (ADD1 n) (cons \"!\" n))\n",
    "(define (SUB1 n) (rest n))\n",
    "\n",
    ";; Template\n",
    "(define (fn-for-NATURAL n) (\n",
    "    cond \n",
    "        [(ZERO? n) (...)] \n",
    "        [else (...n (fn-for-NATURAL (SUB1 n)))]\n",
    "))\n",
    "\n",
    ";; Function for Adding Two Naturals\n",
    ";; Signature:\n",
    "; NATURAL NATURAL -> NATURAL\n",
    "\n",
    ";; Purpose: produce a + B\n",
    "\n",
    ";; Example:\n",
    "(check-expect (ADD N2 N0) N2)\n",
    "(check-expect (ADD N0 N3) N3)\n",
    "(check-expect (ADD N3 N4) N7)\n",
    "\n",
    ";; Stub\n",
    "; (define (ADD a b) N0)\n",
    "\n",
    ";; Template:\n",
    "(define (ADD a b) (\n",
    "    cond \n",
    "        [(ZERO? b) a] \n",
    "        [else (ADD (ADD1 a) (SUB1 b))]\n",
    "))\n",
    "\n",
    ";; Function for Adding Two Naturals\n",
    ";; Signature:\n",
    "; NATURAL NATURAL -> NATURAL\n",
    "\n",
    ";; Purpose: produce a - B\n",
    "\n",
    ";; Example:\n",
    "(check-expect (ADD N2 N0) N2)\n",
    "(check-expect (ADD N6 N2) N4)\n",
    "\n",
    ";; Stub\n",
    "; (define (SUBTRACT a b) N0)\n",
    "\n",
    ";; Template:\n",
    "(define (SUBTRACT a b) (\n",
    "    cond \n",
    "        [(ZERO? b) a] \n",
    "        [else (SUBTRACT (SUB1 a) (SUB1 b))]\n",
    "))"
   ]
  }
 ],
 "metadata": {
  "language_info": {
   "name": "python"
  },
  "orig_nbformat": 4
 },
 "nbformat": 4,
 "nbformat_minor": 2
}
