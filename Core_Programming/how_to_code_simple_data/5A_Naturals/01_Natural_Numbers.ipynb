{
 "cells": [
  {
   "attachments": {},
   "cell_type": "markdown",
   "metadata": {},
   "source": [
    "# **Natural Numbers**\n",
    "\n",
    "There are arbitrarily many natural numbers, so we can use a well-formed self-referential data definition to describe the type Natural. Doing so makes it easy to design functions that count down from a given natural number to 0.\n",
    "\n",
    "The starter file for this video is naturals-starter.rkt."
   ]
  },
  {
   "attachments": {},
   "cell_type": "markdown",
   "metadata": {},
   "source": [
    "**New Primitives - (add1 \\<x\\>) and (sub1 \\<x\\>)**"
   ]
  },
  {
   "cell_type": "code",
   "execution_count": null,
   "metadata": {
    "vscode": {
     "languageId": "plaintext"
    }
   },
   "outputs": [],
   "source": [
    "(add1 3) - will return 4\n",
    "(sub1 3) - will return 2\n",
    "\n",
    "These primitives will only take in natural numbers."
   ]
  },
  {
   "attachments": {},
   "cell_type": "markdown",
   "metadata": {},
   "source": [
    "--- \n",
    "Starter"
   ]
  },
  {
   "cell_type": "code",
   "execution_count": null,
   "metadata": {
    "vscode": {
     "languageId": "plaintext"
    }
   },
   "outputs": [],
   "source": [
    ";; Natural is one of:\n",
    ";   - 0\n",
    ";   - (add1 Natural)\n",
    "\n",
    ";; Interp. a natural numbers\n",
    "\n",
    ";; Example:\n",
    "(define N0 0)           - return 0\n",
    "(define N1 (add1 N0))   - return 1\n",
    "(define N2 (add1 N1))   - return 2\n",
    "\n",
    ";; Template:\n",
    "(define (fn-for-natural n)\n",
    "    (cond \n",
    "        [(zero? n) (...)] \n",
    "        [else (... (fn-for-natural (sub1 n)))]\n",
    "    )\n",
    ")\n",
    "\n",
    ";; Template Rules used:\n",
    ";   - one-of: two cases\n",
    ";   - atomic distinct: 0\n",
    ";   - compound: (add1 Natural)\n",
    ";   - self-refernece: (sub1 n) is natural"
   ]
  },
  {
   "attachments": {},
   "cell_type": "markdown",
   "metadata": {},
   "source": [
    "Problem:\n",
    "\n",
    "- (A) Design a function that consumes Natural number n and produces the sum of the naturals in [0,n]\n",
    "- (B) Design a function that consumes Natural number n and produces a list of the naturals of the form (cons n (cons n-1 ... empty)) not including 0."
   ]
  },
  {
   "cell_type": "code",
   "execution_count": null,
   "metadata": {
    "vscode": {
     "languageId": "plaintext"
    }
   },
   "outputs": [],
   "source": [
    "(A)\n",
    ";; Signature:\n",
    "; Natural -> Natural\n",
    "\n",
    ";; Purpose:\n",
    "; produce sum of Natural[0,n] (inclusive 0)\n",
    "\n",
    ";; Stub:\n",
    "(define (sum n) 0)\n",
    "\n",
    ";; Example:\n",
    "(check-expect (sum 0) 0)\n",
    "(check-expect (sum 1) 1)\n",
    "(check-expect (sum 3) (+ 3 2 1 0))\n",
    "\n",
    ";; Template:\n",
    "(define (sum n)\n",
    "    (cond \n",
    "        [(zero? n) 0] \n",
    "        [else (+ n (sum (sub1 n)))]\n",
    "    )\n",
    ")"
   ]
  },
  {
   "cell_type": "code",
   "execution_count": null,
   "metadata": {
    "vscode": {
     "languageId": "plaintext"
    }
   },
   "outputs": [],
   "source": [
    "(B)\n",
    ";; Signature:\n",
    "; Natural -> ListOfNatural\n",
    "\n",
    ";; Purpose:\n",
    "; produce (cons n (cons n-1 ... empty)), exlcluding 0\n",
    "\n",
    ";; Stub:\n",
    "(define (to-list n) empty)\n",
    "\n",
    ";; Example:\n",
    "(check-expect (to-list 0) empty)\n",
    "(check-expect (to-list 1) (cons 1 empty))\n",
    "(check-expect (to-list 2) (cons 2 (cons 1 empty)))\n",
    "\n",
    ";; Template:\n",
    "(define (sum n)\n",
    "    (cond \n",
    "        [(zero? n) empty] \n",
    "        [else (cons n (sum(sub1 n)))]\n",
    "    )\n",
    ")"
   ]
  }
 ],
 "metadata": {
  "language_info": {
   "name": "python"
  },
  "orig_nbformat": 4
 },
 "nbformat": 4,
 "nbformat_minor": 2
}
