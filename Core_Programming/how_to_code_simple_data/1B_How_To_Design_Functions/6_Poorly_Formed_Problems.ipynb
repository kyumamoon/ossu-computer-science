{
 "cells": [
  {
   "attachments": {},
   "cell_type": "markdown",
   "metadata": {},
   "source": [
    "# **Example - tall, pt 1**\n",
    "\n",
    "Design a function that consumes an image and determines whether the image is tall.\n",
    "\n",
    "**Steps**\n",
    " - 1. Signature, purpose, stub\n",
    " - 2. Define examples, wrap each in check-expect.\n",
    " - 3. Template and inventory.\n",
    " - 4. Code the function body.\n",
    " - 5. Test and debug until correct."
   ]
  },
  {
   "attachments": {},
   "cell_type": "markdown",
   "metadata": {},
   "source": [
    "- Signature:\n",
    "    - image -> bool\n",
    "- Purpose:\n",
    "    - if image is tall, produce true\n",
    "- Stub:\n",
    "    - (define (isImageTall? img) false)\n",
    "- Examples:\n",
    "    - (check-expect (isImageTall? (rectangle 10 20 \"solid\" \"red\")) true)\n",
    "    - (check-expect (isImageTall? (rectangle 3 1 \"solid\" \"red\")) false)\n",
    "    - (check-expect (isImageTall? (rectangle 3 3 \"solid\" \"red\")) false)\n",
    "- Template:\n",
    "    - (define (isImageTall? img) (...img))\n",
    "- Code Body:\n",
    "    - (define (isImageTall? img) (if (> (image-height img) (image-width img)) true false))\n",
    "    - OR - (define (isImageTall? img) (> (image-height img) (image-width img)))"
   ]
  }
 ],
 "metadata": {
  "language_info": {
   "name": "python"
  },
  "orig_nbformat": 4
 },
 "nbformat": 4,
 "nbformat_minor": 2
}
