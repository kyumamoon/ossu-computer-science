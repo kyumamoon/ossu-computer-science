{
 "cells": [
  {
   "attachments": {},
   "cell_type": "markdown",
   "metadata": {},
   "source": [
    "# **Example - area**"
   ]
  },
  {
   "attachments": {},
   "cell_type": "markdown",
   "metadata": {},
   "source": [
    "Design a function that produces the area of a square when given the length of one side.\n",
    "\n",
    "**Steps**\n",
    " - 1. Signature, purpose, stub\n",
    " - 2. Define examples, wrap each in check-expect.\n",
    " - 3. Template and inventory.\n",
    " - 4. Code the function body.\n",
    " - 5. Test and debug until correct.\n",
    "\n",
    "- Signature:\n",
    "    - number -> number\n",
    "- Purpose:\n",
    "    - Calculate the square of a given number.\n",
    "- Stub:\n",
    "    - (define (Area n) 0)\n",
    "- Examples:\n",
    "    - (check-expect (Area 5) 25)\n",
    "    - (check-expect (Area 10) 100)\n",
    "    - (check-expect (Area 3.3) (* 3.3 3.3))\n",
    "- Template:\n",
    "    - (define (Area n) (...n))\n",
    "- Code Body:\n",
    "    - (define (Area n) (* n n))\n"
   ]
  }
 ],
 "metadata": {
  "language_info": {
   "name": "python"
  },
  "orig_nbformat": 4
 },
 "nbformat": 4,
 "nbformat_minor": 2
}
