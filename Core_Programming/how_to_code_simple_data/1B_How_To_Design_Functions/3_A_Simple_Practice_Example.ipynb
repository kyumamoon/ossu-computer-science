{
 "cells": [
  {
   "attachments": {},
   "cell_type": "markdown",
   "metadata": {},
   "source": [
    "# **A First HtDF Problem**\n",
    "\n",
    "- The following questions work through the HtDF design recipe for a given design problem. Each question builds on the answer to the prior question, so it is important to do all questions in order.\n",
    "\n",
    "- Problem: Design a function that pluralizes a given word. (Pluralize means to convert the word to its plural form.) For simplicity you may assume that just adding s is enough to pluralize a word."
   ]
  },
  {
   "attachments": {},
   "cell_type": "markdown",
   "metadata": {},
   "source": [
    "**Steps**\n",
    " - 1. Signature, purpose, stub\n",
    " - 2. Define examples, wrap each in check-expect.\n",
    " - 3. Template and inventory.\n",
    " - 4. Code the function body.\n",
    " - 5. Test and debug until correct."
   ]
  },
  {
   "attachments": {},
   "cell_type": "markdown",
   "metadata": {},
   "source": [
    "- Signature:\n",
    "    - string -> string\n",
    "- Purpose:\n",
    "    - turn a string into a plural\n",
    "- Stub:\n",
    "    - (define (Pluralize n) \"test\")\n",
    "- Examples:\n",
    "    - (check-expect (Pluralize \"dog\") \"dogs\")\n",
    "    - (check-expect (Pluralize \"that\") \"that\")\n",
    "- Template:\n",
    "    - (define (Pluralize n) (...n))\n",
    "- Code Body:\n",
    "    - (define (Pluralize n) (string-append n \"s\"))"
   ]
  }
 ],
 "metadata": {
  "language_info": {
   "name": "python"
  },
  "orig_nbformat": 4
 },
 "nbformat": 4,
 "nbformat_minor": 2
}
