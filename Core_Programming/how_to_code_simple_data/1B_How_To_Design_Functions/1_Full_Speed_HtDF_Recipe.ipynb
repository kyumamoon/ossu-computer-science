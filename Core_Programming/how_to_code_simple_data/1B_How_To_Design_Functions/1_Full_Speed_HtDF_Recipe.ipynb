{
 "cells": [
  {
   "attachments": {},
   "cell_type": "markdown",
   "metadata": {},
   "source": [
    "# **Full Speed HtDF (How to Design Functions) Recipe**\n",
    "\n",
    "**Steps**\n",
    " - 1. Signature, purpose, stub\n",
    " - 2. Define examples, wrap each in check-expect.\n",
    " - 3. Template and inventory.\n",
    " - 4. Code the function body.\n",
    " - 5. Test and debug until correct."
   ]
  },
  {
   "attachments": {},
   "cell_type": "markdown",
   "metadata": {},
   "source": [
    "- Signature:    Input and Output\n",
    "- Purpose:      Purpose of function\n",
    "- Stub:         The bare template of function (name,parameters,return variables)\n",
    "- Examples:     (check-expect (double 3) 6) // Unit testing the function. Give 3, expect 6.\n",
    "- Template:     The bare template of the function but with (... n) placeholder for body code. n is input, and input will be processed in body.\n",
    "- Code Body:    Code the rough draft of the function with the template.\n",
    "- Test/Debug:   Run code and see if all tests passed."
   ]
  }
 ],
 "metadata": {
  "language_info": {
   "name": "python"
  },
  "orig_nbformat": 4
 },
 "nbformat": 4,
 "nbformat_minor": 2
}
