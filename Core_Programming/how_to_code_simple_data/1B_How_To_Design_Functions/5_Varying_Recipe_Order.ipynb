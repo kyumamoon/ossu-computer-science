{
 "cells": [
  {
   "attachments": {},
   "cell_type": "markdown",
   "metadata": {},
   "source": [
    "# **Example - image-area**\n",
    "\n",
    "**Steps**\n",
    " - 1. Signature, purpose, stub\n",
    " - 2. Define examples, wrap each in check-expect.\n",
    " - 3. Template and inventory.\n",
    " - 4. Code the function body.\n",
    " - 5. Test and debug until correct."
   ]
  },
  {
   "attachments": {},
   "cell_type": "markdown",
   "metadata": {},
   "source": [
    "- Signature:\n",
    "    - image -> Natural\n",
    "- Purpose:\n",
    "    - produces image's width times height (area)\n",
    "- Stub:\n",
    "    - (define (imageArea n) 0)\n",
    "- Examples:\n",
    "    - (check-expect (imageArea (rectangle 2 3 \"solid\" \"red\")) (* 2 3 ))\n",
    "    - (check-expect (imageArea (rectangle 5 1 \"solid\" \"yellow\")) (* 5 1 ))\n",
    "- Template:\n",
    "    - (define (imageArea n) (...img))\n",
    "- Code Body:\n",
    "    - (define (imageArea n) (* (image-width n) (image-height n)))"
   ]
  }
 ],
 "metadata": {
  "language_info": {
   "name": "python"
  },
  "orig_nbformat": 4
 },
 "nbformat": 4,
 "nbformat_minor": 2
}
