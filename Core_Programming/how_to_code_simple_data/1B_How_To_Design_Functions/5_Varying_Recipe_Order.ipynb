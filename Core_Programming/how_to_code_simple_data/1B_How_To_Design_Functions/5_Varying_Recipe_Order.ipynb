{
 "cells": [
  {
   "attachments": {},
   "cell_type": "markdown",
   "metadata": {},
   "source": [
    "# **Example - image-area**\n",
    "\n",
    "Design a function that consumes and image and produces the area of the image.\n",
    "\n",
    "**Steps**\n",
    " - 1. Signature, purpose, stub\n",
    " - 2. Define examples, wrap each in check-expect.\n",
    " - 3. Template and inventory.\n",
    " - 4. Code the function body.\n",
    " - 5. Test and debug until correct."
   ]
  },
  {
   "attachments": {},
   "cell_type": "markdown",
   "metadata": {},
   "source": [
    "- Signature:\n",
    "    - image -> Natural\n",
    "- Purpose:\n",
    "    - produces image's width times height (area)\n",
    "- Stub:\n",
    "    - (define (imageArea img) 0)\n",
    "- Examples:\n",
    "    - (check-expect (imageArea (rectangle 2 3 \"solid\" \"red\")) (* 2 3 ))\n",
    "    - (check-expect (imageArea (rectangle 5 1 \"solid\" \"yellow\")) (* 5 1 ))\n",
    "- Template:\n",
    "    - (define (imageArea img) (...img))\n",
    "- Code Body:\n",
    "    - (define (imageArea img) (* (image-width n) (image-height n)))"
   ]
  }
 ],
 "metadata": {
  "language_info": {
   "name": "python"
  },
  "orig_nbformat": 4
 },
 "nbformat": 4,
 "nbformat_minor": 2
}
