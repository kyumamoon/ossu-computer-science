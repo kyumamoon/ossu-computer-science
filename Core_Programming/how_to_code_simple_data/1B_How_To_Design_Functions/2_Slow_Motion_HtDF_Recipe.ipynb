{
 "cells": [
  {
   "attachments": {},
   "cell_type": "markdown",
   "metadata": {},
   "source": [
    "# **Slow Motion HtDF Recipe**\n",
    "\n",
    "**Steps**\n",
    " - 1. Signature, purpose, stub\n",
    " - 2. Define examples, wrap each in check-expect.\n",
    " - 3. Template and inventory.\n",
    " - 4. Code the function body.\n",
    " - 5. Test and debug until correct."
   ]
  },
  {
   "attachments": {},
   "cell_type": "markdown",
   "metadata": {},
   "source": [
    "- Signature:    Input and Output\n",
    "- Purpose:      Purpose of function\n",
    "- Stub:         The bare template of function (name,parameters,return variables)\n",
    "- Examples:     (check-expect (double 3) 6) // Unit testing the function. Give 3, expect 6.\n",
    "- Template:     The bare template of the function but with (... n) placeholder for body code. n is input, and input will be processed in body.\n",
    "- Code Body:    Code the rough draft of the function with the template.\n",
    "- Test/Debug:   Run code and see if all tests passed."
   ]
  },
  {
   "attachments": {},
   "cell_type": "markdown",
   "metadata": {},
   "source": [
    "**Creating Signature**\n",
    "- Declare type of the input and outputs.\n",
    "- Example:\n",
    "    - Number -> Number\n",
    "    - Int -> Int\n",
    "\n",
    "**Creating Purpose**\n",
    "- Purpose is a one line description explaining what function produces in terms of what it consumes.\n",
    "- Example:\n",
    "    - Produces 2 times the given number (n)\n",
    "\n",
    "**Creating Stub**\n",
    "- A function definition that:\n",
    "    - Has correct function name\n",
    "    - Has correct number of parameters\n",
    "    - Produces dummy result of correct type.\n",
    "- Example:\n",
    "    - (define (double n) 0) // Function named \"double\" with input \"n\" and returning 0.\n",
    "\n",
    "**Examples/Tests**\n",
    "- Examples help us understand what function must do.\n",
    "- Multiple examples to illustrate behavior.\n",
    "- Wrapping in check-expect means they will also serve as unit tests for the complete function.\n",
    "- Running the tests will run the stub but stub returns a dummy answer that will fail the tests. It is good that the stub can run.\n",
    "- Example:\n",
    "    - (check-expect (double 3) 6)\n",
    "    - (check-expect (double 4.2) 8.4)\n",
    "\n",
    "**Inventory: Templates/Constants**\n",
    "- Templates are functions with correct function name and variables parameters, and for placeholder body will be (...n) which n is the input.\n",
    "- (...n) means do something with the input\n",
    "- Example:\n",
    "    - (define (double n) (...n))\n",
    "\n",
    "**Code Body**\n",
    "- Draft the body of the function.\n",
    "- Use everything written before to know how to code the function body.\n",
    "- Sometimes helps to elaborate examples to show how the expected value could have been produced.\n",
    "\n",
    "**Testing/Debugging**\n",
    "- Run the tests and see if tests passed.\n",
    "- If dont pass, debug to make the tests pass."
   ]
  }
 ],
 "metadata": {
  "language_info": {
   "name": "python"
  },
  "orig_nbformat": 4
 },
 "nbformat": 4,
 "nbformat_minor": 2
}
