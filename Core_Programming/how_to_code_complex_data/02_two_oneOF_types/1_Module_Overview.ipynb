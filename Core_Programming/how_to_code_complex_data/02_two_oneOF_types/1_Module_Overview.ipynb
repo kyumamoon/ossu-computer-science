{
 "cells": [
  {
   "attachments": {},
   "cell_type": "markdown",
   "metadata": {},
   "source": [
    "# **Module Overview**"
   ]
  },
  {
   "attachments": {},
   "cell_type": "markdown",
   "metadata": {},
   "source": [
    "- Two One-Of Types\n",
    "    - In this module, we will learn to design functions consuming two arguments which are one-of types. In order to do this, we will develop a new model of our code, the cross product of the types comment table.\n",
    "\n",
    "    - The cross product of the types comment table first provides us with a way to clearly think of all possible test cases. We will then find it helps us get a basis for what our function's body will look like -- and even allow us to simplify it -- all before we even start coding. In this sense, it plays a role similar to the role of type comments and templates -- and in fact extends our idea of templating from simply what we copy from the types comments to what it really is; a method of knowing a great deal about what code will look like before we start coding details.\n",
    "\n",
    "    - Working through the videos and practice materials for this module should take approximately 3-5 hours of dedicated time to complete.\n",
    "\n",
    "- Learning Goals\n",
    "    - Be able to produce the cross-product of type templates table for a function operating on two values with one-of types.\n",
    "    - Be able to use the table to generate examples and a template.\n",
    "    - Be able to use the table to simplify the function when there are equal answers in some cells."
   ]
  }
 ],
 "metadata": {
  "language_info": {
   "name": "python"
  },
  "orig_nbformat": 4
 },
 "nbformat": 4,
 "nbformat_minor": 2
}
