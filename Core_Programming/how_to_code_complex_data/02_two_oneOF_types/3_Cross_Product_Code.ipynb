{
 "cells": [
  {
   "attachments": {},
   "cell_type": "markdown",
   "metadata": {},
   "source": [
    "# **Cross Product Code**\n",
    "\n",
    "Coding a function consuming two one-of types after having created the cross-product table.\n",
    "\n",
    "There is no starter file for this video."
   ]
  },
  {
   "cell_type": "raw",
   "metadata": {},
   "source": [
    "\n",
    ";; prefix-equal-starter.rkt\n",
    "\n",
    "; PROBLEM: design a function that consumes two lists of strings and produces true\n",
    "; if the first list is a prefix of the second. Prefix means that the elements of\n",
    "; the first list match the elements of the second list 1 for 1, and the second list\n",
    "; is at least as long as the first.\n",
    "; \n",
    "; For reference, the ListOfString data definition is provided below.\n",
    "\n",
    ";; =================\n",
    ";; Data Definitions:\n",
    "\n",
    ";; ListOfString is one of:\n",
    ";; - empty\n",
    ";; - (cons String ListOfString)\n",
    ";; interp. a list of strings\n",
    "\n",
    "(define LS0 empty)\n",
    "(define LS1 (cons \"a\" empty))\n",
    "(define LS2 (cons \"a\" (cons \"b\" empty)))\n",
    "(define LS3 (cons \"c\" (cons \"b\" (cons \"a\" empty))))\n",
    "\n",
    "#;\n",
    "(define (fn-for-los los)\n",
    "  (cond [(empty? los) (...)]\n",
    "        [else \n",
    "         (... (first los)\n",
    "              (fn-for-los (rest los)))]))\n",
    "\n",
    ";; ==========\n",
    ";; Functions:\n",
    "\n",
    ";; ListOfString ListOfString -> Boolean\n",
    ";; Purpose: produce true if lsta is a prefix(first subset) of lstb.\n",
    "\n",
    "; Using Cross Product Table, create test cases for all conditions.\n",
    "\n",
    "(check-expect (prefix=? empty empty) true)\n",
    "(check-expect (prefix=? (list \"x\") empty) false)\n",
    "(check-expect (prefix=? empty (list \"x\")) true)\n",
    "(check-expect (prefix=? (list \"x\") (list \"x\")) true)\n",
    "(check-expect (prefix=? (list \"x\") (list \"y\")) false)\n",
    "(check-expect (prefix=? (list \"x\" \"y\") (list \"x\" \"y\")) true)\n",
    "(check-expect (prefix=? (list \"x\" \"x\") (list \"x\" \"y\")) false)\n",
    "(check-expect (prefix=? (list \"x\") (list \"x\" \"y\")) true)\n",
    "(check-expect (prefix=? (list \"x\" \"y\") (list \"x\" \"y\")) true)\n",
    "(check-expect (prefix=? (list \"x\" \"y\" \"z\") (list \"x\" \"y\")) false)\n",
    "\n",
    ";; Stub\n",
    ";(define (prefix=? lsta lstb) false)"
   ]
  },
  {
   "attachments": {},
   "cell_type": "markdown",
   "metadata": {},
   "source": [
    "---"
   ]
  },
  {
   "attachments": {},
   "cell_type": "raw",
   "metadata": {},
   "source": [
    ";; 4 Case Cond Path\n",
    ";; Not Ideal, because can shorten to 3 cases.\n",
    "\n",
    "(define (prefix=? lsta lstb) (\n",
    "    cond    [(and (empty? lsta) (empty? lstb)) (...)]\n",
    "            [(and (cons? lsta) (empty? lstb)) (...lsta)]\n",
    "            [(and (empty? lsta) (cons? lstb)) (...lstb)]\n",
    "            [(and (cons? lsta) (cons? lstb)) (...lsta lstb...)]\n",
    "))"
   ]
  },
  {
   "cell_type": "raw",
   "metadata": {},
   "source": [
    ";; 3 Case Cond Path\n",
    "\n",
    "(define (prefix=? lsta lstb) (\n",
    "    cond    [(empty? lsta) true] ;; taking out possibility that listA will be empty. cant reuse in other case\n",
    "            [(empty? lstb) false]\n",
    "            [else \n",
    "                (and \n",
    "                    (string=? (first lsta) (first lstb)) \n",
    "                    (prefix=? (rest lsta) (rest lstb)))\n",
    "            ]\n",
    "))"
   ]
  },
  {
   "attachments": {},
   "cell_type": "markdown",
   "metadata": {},
   "source": [
    "- The type comments predict the templates.\n",
    "    - In other words, they are a model of the functions operating on that type -- they are a non-code representation of the program that tells us something about what the function will look like.\n",
    "    - Simplifying at the model level, when we turned 4 cases into one is important."
   ]
  },
  {
   "attachments": {},
   "cell_type": "raw",
   "metadata": {},
   "source": [
    "Here is our design of has-path? so far:\n",
    "\n",
    "                | false |      (make-node Nat Str BT BT)\n",
    "----------------|-------|--------------------------------------\n",
    "      empty     | false |                true\n",
    "----------------|-------|--------------------------------------\n",
    "(cons \"L\" Path) | false | (has-path? <left-child> (rest path))\n",
    "----------------|-------|--------------------------------------\n",
    "(cons \"R\" Path) | false | (has-path? <right-child> (rest path))\n",
    "\n",
    ";; BinaryTree Path -> Boolean\n",
    ";; produce true if following p through bt leads to a node; false otherwise\n",
    "(check-expect (has-path? false empty) false)\n",
    "(check-expect (has-path? false P2) false)\n",
    "(check-expect (has-path? false P3) false)\n",
    "(check-expect (has-path? BT1 empty) true)\n",
    "(check-expect (has-path? BT4 (list \"L\")) true)\n",
    "(check-expect (has-path? BT4 (list \"R\")) true)\n",
    "(check-expect (has-path? BT4 (list \"L\" \"L\")) true)\n",
    "(check-expect (has-path? BT4 (list \"L\" \"L\" \"R\")) false)\n",
    "If we template the function from the table without thinking about the results we will end up with 6 cases:\n",
    "\n",
    "(define (has-path? bt p)\n",
    "  (cond [(and (false? bt)(empty? p))                false]\n",
    "        [(and (false? bt)(string=? \"L\" (first p)))  false]\n",
    "        [(and (false? bt)(string=? \"R\" (first p)))  false]\n",
    "        [(and (node? bt)(empty? p))                  true]\n",
    "        [(and (node? bt)(string=? \"L\" (first p)))   (has-path? (node-l bt) (rest bt))]\n",
    "        [(and (node? bt)(string=? \"R\" (first p)))   (has-path? (node-r bt) (rest bt))]))\n",
    "This will work, but there is a MUCH simpler way of writing the function definition for has-path?."
   ]
  }
 ],
 "metadata": {
  "language_info": {
   "name": "python"
  },
  "orig_nbformat": 4
 },
 "nbformat": 4,
 "nbformat_minor": 2
}
