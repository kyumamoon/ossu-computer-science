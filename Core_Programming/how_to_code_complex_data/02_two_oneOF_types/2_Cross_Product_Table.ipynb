{
 "cells": [
  {
   "attachments": {},
   "cell_type": "markdown",
   "metadata": {},
   "source": [
    "# **Cross Product Table**"
   ]
  },
  {
   "attachments": {},
   "cell_type": "markdown",
   "metadata": {},
   "source": [
    "Building a cross product table for a function consuming two one-of types.\n",
    "\n",
    "The starter file for this video is prefix-equal-starter.rkt."
   ]
  },
  {
   "attachments": {},
   "cell_type": "markdown",
   "metadata": {},
   "source": [
    "- Cross Product Type Comment helps set template for creating test cases to test function that uses two arguments."
   ]
  },
  {
   "cell_type": "raw",
   "metadata": {},
   "source": [
    "\n",
    ";; prefix-equal-starter.rkt\n",
    "\n",
    "; PROBLEM: design a function that consumes two lists of strings and produces true\n",
    "; if the first list is a prefix of the second. Prefix means that the elements of\n",
    "; the first list match the elements of the second list 1 for 1, and the second list\n",
    "; is at least as long as the first.\n",
    "; \n",
    "; For reference, the ListOfString data definition is provided below.\n",
    "\n",
    ";; =================\n",
    ";; Data Definitions:\n",
    "\n",
    ";; ListOfString is one of:\n",
    ";; - empty\n",
    ";; - (cons String ListOfString)\n",
    ";; interp. a list of strings\n",
    "\n",
    "(define LS0 empty)\n",
    "(define LS1 (cons \"a\" empty))\n",
    "(define LS2 (cons \"a\" (cons \"b\" empty)))\n",
    "(define LS3 (cons \"c\" (cons \"b\" (cons \"a\" empty))))\n",
    "\n",
    "#;\n",
    "(define (fn-for-los los)\n",
    "  (cond [(empty? los) (...)]\n",
    "        [else \n",
    "         (... (first los)\n",
    "              (fn-for-los (rest los)))]))\n",
    "\n",
    ";; ==========\n",
    ";; Functions:\n",
    "\n",
    ";; ListOfString ListOfString -> Boolean\n",
    ";; Purpose: produce true if lsta is a prefix(first subset) of lstb.\n",
    "\n",
    "; Using Cross Product Table, create test cases for all conditions.\n",
    "\n",
    "(check-expect (prefix=? empty empty) true)\n",
    "(check-expect (prefix=? (list \"x\") empty) false)\n",
    "(check-expect (prefix=? empty (list \"x\")) true)\n",
    "(check-expect (prefix=? (list \"x\") (list \"x\")) true)\n",
    "(check-expect (prefix=? (list \"x\") (list \"y\")) false))\n",
    "(check-expect (prefix=? (list \"x\" \"y\") (list \"x\" \"y\")) true)\n",
    "(check-expect (prefix=? (list \"x\" \"x\") (list \"x\" \"y\")) false)\n",
    "(check-expect (prefix=? (list \"x\") (list \"x\" \"y\")) true)\n",
    "(check-expect (prefix=? (list \"x\" \"y\") (list \"x\" \"y\")) true)\n",
    "(check-expect (prefix=? (list \"x\" \"y\" \"z\") (list \"x\" \"y\")) false)"
   ]
  }
 ],
 "metadata": {
  "language_info": {
   "name": "python"
  },
  "orig_nbformat": 4
 },
 "nbformat": 4,
 "nbformat_minor": 2
}
