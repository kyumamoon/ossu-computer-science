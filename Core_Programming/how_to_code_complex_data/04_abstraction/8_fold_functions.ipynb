{
 "cells": [
  {
   "attachments": {},
   "cell_type": "markdown",
   "metadata": {},
   "source": [
    "# **Fold Functions**\n",
    "\n",
    "Abstract functions can be produced directly from templates. This can be wonderfully useful, especially for types involving mutual reference.\n",
    "\n",
    "- Fold Function: take template and define a function with additional parameters  in place of the place holder dots.\n",
    "\n",
    "- Fold function works best on functions have takes in a second parameter. Like, cons, beside, +-/...operators, etc.\n",
    "\n",
    "The starter file for this video is fold-functions-starter.rkt"
   ]
  },
  {
   "attachments": {},
   "cell_type": "markdown",
   "metadata": {},
   "source": [
    "**PROBLEM**\n",
    "- Design an abstract fold function for (listof X)"
   ]
  },
  {
   "cell_type": "raw",
   "metadata": {},
   "source": [
    ";; ListOfX is one of:\n",
    ";; - empty\n",
    ";; - (cons X ListOfX)\n",
    ";; interp. a list of X\n",
    "\n",
    ";; and the template for (listof X) is:\n",
    "\n",
    "(define (fn-for-lox lox)\n",
    "  (cond [(empty? lox) (...)]\n",
    "        [else\n",
    "         (... (first lox)\n",
    "              (fn-for-lox (rest lox)))]))"
   ]
  },
  {
   "cell_type": "raw",
   "metadata": {},
   "source": [
    ";; Abstract Fold Function\n",
    "\n",
    ";; Signature: ( X Y -> Y) Y (listof X) -> Y\n",
    ";; Purpose: the abstract fold function for (listof X)\n",
    "\n",
    "(define (fold fn b lox)\n",
    "  (cond [(empty? lox) b]\n",
    "        [else\n",
    "         (fn (first lox)\n",
    "            (fold fn b (rest lox)))]))"
   ]
  },
  {
   "attachments": {},
   "cell_type": "markdown",
   "metadata": {},
   "source": [
    "**Exercise**"
   ]
  },
  {
   "attachments": {},
   "cell_type": "raw",
   "metadata": {},
   "source": [
    "; PROBLEM:\n",
    "; Complete the function definition for sum using fold. \n",
    "\n",
    ";; (listof Number) -> Number\n",
    ";; add up all numbers in list\n",
    "\n",
    ";; examples\n",
    "(check-expect (sum empty) 0)\n",
    "(check-expect (sum (list 2 3 4)) 9)\n",
    "\n",
    ";; stub\n",
    ";(define (sum lon) 0) \n",
    "\n",
    ";; template\n",
    "(define (sum lon) (\n",
    "    fold + 0 lon\n",
    "))"
   ]
  },
  {
   "cell_type": "raw",
   "metadata": {},
   "source": [
    "; PROBLEM:\n",
    "; Complete the function definition for juxtapose using foldr. \n",
    "\n",
    "\n",
    ";; (listof Image) -> Image\n",
    ";; juxtapose all images beside each other\n",
    "\n",
    ";; examples\n",
    "(check-expect (juxtapose empty) (square 0 \"solid\" \"white\"))\n",
    "(check-expect (juxtapose (list (triangle 6 \"solid\" \"yellow\")\n",
    "                               (square 10 \"solid\" \"blue\")))\n",
    "              (beside (triangle 6 \"solid\" \"yellow\")\n",
    "                      (square 10 \"solid\" \"blue\")\n",
    "                      (square 0 \"solid\" \"white\")))\n",
    "\n",
    " ;stub\n",
    "(define (juxtapose loi) (square 0 \"solid\" \"white\"))\n",
    "\n",
    " ;template\n",
    "(define (juxtapose loi) (\n",
    "    fold beside (square 0 \"solid\" \"white\") loi\n",
    "))"
   ]
  },
  {
   "cell_type": "raw",
   "metadata": {},
   "source": [
    "; PROBLEM:\n",
    "; Complete the function definition for copy-list using foldr. \n",
    "\n",
    "\n",
    ";; (listof X) -> (listof X)\n",
    ";; produce copy of list\n",
    "\n",
    "; examples\n",
    "(check-expect (copy-list empty) empty)\n",
    "(check-expect (copy-list (list 1 2 3)) (list 1 2 3))\n",
    "\n",
    ";stub\n",
    "(define (copy-list lox) empty)\n",
    "\n",
    "; template\n",
    "(define (copy-list lox) (\n",
    "    fold cons empty lox\n",
    "))"
   ]
  },
  {
   "cell_type": "raw",
   "metadata": {},
   "source": [
    "; PROBLEM:\n",
    "; Design an abstract fold function for Element (and (listof Element)). \n",
    "\n",
    "(define-struct elt (name data subs))\n",
    ";; Element is (make-elt String Integer ListOfElement)\n",
    ";; interp. An element in the file system, with name, and EITHER data or subs.\n",
    ";;         If data is 0, then subs is considered to be list of sub elements.\n",
    ";;         If data is not 0, then subs is ignored.\n",
    "\n",
    ";; ListOfElement is one of:\n",
    ";;  - empty\n",
    ";;  - (cons Element ListOfElement)\n",
    ";; interp. A list of file system Elements\n",
    "\n",
    "; .\n",
    "\n",
    "(define F1 (make-elt \"F1\" 1 empty))\n",
    "(define F2 (make-elt \"F2\" 2 empty))\n",
    "(define F3 (make-elt \"F3\" 3 empty))\n",
    "(define D4 (make-elt \"D4\" 0 (list F1 F2)))\n",
    "(define D5 (make-elt \"D5\" 0 (list F3)))\n",
    "(define D6 (make-elt \"D6\" 0 (list D4 D5)))\n",
    "\n",
    "\n",
    ";; Signature:\n",
    "; (String Integer Y -> X) (X Y -> Y) Y Element -> X\n",
    "\n",
    ";; Purpose\n",
    "; the abstract fold function for Element (also for (listof Element))\n",
    "\n",
    "\n",
    ";; Examples\n",
    "(check-expect (local [(define (c1 n d los) (cons n los))]\n",
    "(fold-element c1 append empty D6))\n",
    "(list \"D6\" \"D4\" \"F1\" \"F2\" \"D5\" \"F3\"))\n",
    "\n",
    "#;\n",
    "(define (fn-for-element e)\n",
    "  (local [(define (fn-for-element e)\n",
    "            (... (elt-name e)    ;String\n",
    "                 (elt-data e)    ;Integer\n",
    "                 (fn-for-loe (elt-subs e))))\n",
    "\n",
    "          (define (fn-for-loe loe)\n",
    "            (cond [(empty? loe) (...)]\n",
    "                  [else\n",
    "                   (... (fn-for-element (first loe))\n",
    "                        (fn-for-loe (rest loe)))]))]\n",
    "    (fn-for-element e)))\n",
    "\n",
    ";; template\n",
    "(define (fold-element c1 c2 b e)\n",
    "  (local [(define (fn-for-element e) ; -> X\n",
    "            (c1 (elt-name e)    ;String\n",
    "                 (elt-data e)    ;Integer\n",
    "                 (fn-for-loe (elt-subs e))))\n",
    "\n",
    "          (define (fn-for-loe loe) ; -> Y\n",
    "            (cond [(empty? loe) b]\n",
    "                  [else\n",
    "                   (c2 (fn-for-element (first loe))\n",
    "                        (fn-for-loe (rest loe)))]))]\n",
    "    (fn-for-element e)))\n"
   ]
  },
  {
   "attachments": {},
   "cell_type": "markdown",
   "metadata": {},
   "source": [
    "- Mutual recursion fold functions require two functions passed as arguments.\n",
    "    - First function \"c1\" must be defined in a way to take in the 3 parameters set up in  template.\n",
    "    - Second function \"c2\" must take in 2 parameters set up in template."
   ]
  },
  {
   "attachments": {},
   "cell_type": "markdown",
   "metadata": {},
   "source": [
    "**Exercises 2**"
   ]
  },
  {
   "attachments": {},
   "cell_type": "markdown",
   "metadata": {},
   "source": []
  },
  {
   "cell_type": "raw",
   "metadata": {},
   "source": [
    "; \n",
    "; PROBLEM\n",
    "; \n",
    "; Complete the design of sum-data that consumes Element and producs\n",
    "; the sum of all the data in the element and its subs\n",
    "; \n",
    "\n",
    ";; Element -> Integer\n",
    ";; produce the sum of all the data in element (and its subs)\n",
    "(check-expect (sum-data F1) 1)\n",
    "(check-expect (sum-data D5) 3)\n",
    "(check-expect (sum-data D4) (+ 1 2))\n",
    "(check-expect (sum-data D6) (+ 1 2 3))\n",
    "\n",
    "(define (sum-data e) 0) ;stub\n",
    "\n",
    ";; Template\n",
    "(define (sum-data element) (local\n",
    "    [\n",
    "    (define (func1 name data loe) (+ data loe))\n",
    "    (define (func2 element loe) (+ element loe))\n",
    "    ]\n",
    "    (fold-element func1 func2 0 element)  \n",
    "))"
   ]
  },
  {
   "cell_type": "raw",
   "metadata": {},
   "source": [
    "; \n",
    "; PROBLEM\n",
    "; \n",
    "; Complete the design of all-names that consumes Element and produces a list of the\n",
    "; names of all the elements in the tree. \n",
    "; \n",
    "\n",
    ";; Element       -> ListOfString\n",
    ";; produce list of the names of all the elements in the tree\n",
    "(check-expect (all-names F1) (list \"F1\"))\n",
    "(check-expect (all-names D5) (list \"D5\" \"F3\"))\n",
    "(check-expect (all-names D4) (list \"D4\" \"F1\" \"F2\"))\n",
    "(check-expect (all-names D6) (list \"D6\" \"D4\" \"F1\" \"F2\" \"D5\" \"F3\"))\n",
    "               \n",
    ";(define (all-names e) empty) ;stub\n",
    "\n",
    ";; Template\n",
    "(define (all-names e) (\n",
    "    local [\n",
    "        (define (elementName name data loe) (cons name loe))\n",
    "        (define (loeNames element loe) (append element loe))\n",
    "    ]\n",
    "\n",
    "    (fold-element elementName loeNames empty e)\n",
    "))"
   ]
  },
  {
   "cell_type": "raw",
   "metadata": {},
   "source": [
    "; \n",
    "; PROBLEM\n",
    "; \n",
    "; If the tree is very large, then fold-element is not a good way to implement the find \n",
    "; function from last week.  Why? If you aren't sure then discover the answer by implementing\n",
    "; find using fold-element and then step the two versions with different arguments.\n",
    "; \n",
    "\n"
   ]
  }
 ],
 "metadata": {
  "language_info": {
   "name": "python"
  },
  "orig_nbformat": 4
 },
 "nbformat": 4,
 "nbformat_minor": 2
}
