{
 "cells": [
  {
   "attachments": {},
   "cell_type": "markdown",
   "metadata": {},
   "source": [
    "# **Fold Functions**\n",
    "\n",
    "Abstract functions can be produced directly from templates. This can be wonderfully useful, especially for types involving mutual reference.\n",
    "\n",
    "The starter file for this video is fold-functions-starter.rkt"
   ]
  }
 ],
 "metadata": {
  "language_info": {
   "name": "python"
  },
  "orig_nbformat": 4
 },
 "nbformat": 4,
 "nbformat_minor": 2
}
