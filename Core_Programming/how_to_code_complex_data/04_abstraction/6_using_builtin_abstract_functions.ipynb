{
 "cells": [
  {
   "attachments": {},
   "cell_type": "markdown",
   "metadata": {},
   "source": [
    "# **Using Built In Abstract Functions**\n",
    "\n",
    "List abstract functions are so useful that they are built into ISL. Using them requires identifying situations when they would be useful.\n",
    "\n",
    "The starter file for this video is using-built-ins-starter.rkt"
   ]
  },
  {
   "cell_type": "raw",
   "metadata": {},
   "source": [
    "; map takes a function and a list and performs the function on every element of the list and produces the list of the results.\n",
    "(map <FUNCTION> <LIST>)\n",
    "(map positive? (list 1 -2 3 -4))\n",
    "\n",
    "; filter takes a boolean function and a list and produces a list of only elements that passes the function.\n",
    "(filter <FUNCTION> <LIST>)\n",
    "(filter negative? (list? 1 -2 3 -4)) \n",
    "\n",
    "; foldr takes an operator, number, and a list of numbers. It uses number as the base case. The operator is used to produce sum/product of the list elements.\n",
    "(foldr + 0 (list 1 2 3))\n",
    ";; produces (+ 1 2 3 0)\n",
    "\n",
    "; build-list takes a number and a function and builds a list that runs a loop up to the index (number) through the function.\n",
    "(build-list 4 sqr)\n",
    ";; produces (list 0 1 4 9)\n",
    "\n",
    "; andmap takes a boolean function and a list of element and produces true if every element in the list is true to the function\n",
    "(andmap <FUNCTION> <LIST>)\n",
    "\n",
    "; ormap, same as andmap but only produces true if some elements of list satisfies function\n",
    "(ormap <FUNCTION> <LIST>)"
   ]
  },
  {
   "cell_type": "raw",
   "metadata": {},
   "source": [
    ";; Examples of some built-in abstract functions and their signatures.\n",
    "\n",
    "Natural -> (listof X)       build-list\n",
    "\n",
    "(listof X) -> (listof X)    filter\n",
    "\n",
    "(listof X) -> (listof Y)    map\n",
    "\n",
    "(listof X) -> Boolean       andmap\n",
    "\n",
    "(listof X) -> Boolean       ormap\n",
    "\n",
    "Y (listof X) -> Y           foldr\n",
    "\n",
    "Y (listof X) -> Y           foldl"
   ]
  },
  {
   "cell_type": "raw",
   "metadata": {},
   "source": [
    ";; Misc functions\n",
    "\n",
    "(identity <ANY>) ; produces the input as output"
   ]
  },
  {
   "attachments": {},
   "cell_type": "markdown",
   "metadata": {},
   "source": [
    "**Examples**"
   ]
  },
  {
   "cell_type": "raw",
   "metadata": {},
   "source": [
    "(define (wide-only loi) \n",
    "                         (filter wide? loi\n",
    "                         ))\n",
    "\n",
    "(define (all-tall? loi) (\n",
    "                         andmap tall? loi\n",
    "                         ))\n",
    "\n",
    "(define (sum lon) (\n",
    "                   foldr + 0 lon\n",
    "                   ))\n",
    "\n",
    "(define (sum-to n) (\n",
    "                    foldr + 0 (build-list n identity)\n",
    "                    ))"
   ]
  }
 ],
 "metadata": {
  "language_info": {
   "name": "python"
  },
  "orig_nbformat": 4
 },
 "nbformat": 4,
 "nbformat_minor": 2
}
