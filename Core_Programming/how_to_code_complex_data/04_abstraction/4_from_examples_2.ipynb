{
 "cells": [
  {
   "attachments": {},
   "cell_type": "markdown",
   "metadata": {},
   "source": [
    "# **From Examples 2**\n",
    "\n",
    "After the working function definition, we produce the check-expects and the purpose.\n",
    "\n",
    "The starter file for this video is parameterization-v2.rkt\n",
    "\n",
    "- Abstracting check-expects, and purpose.\n",
    "    - Easier to do it backwards: check-expect -> purpose -> signature."
   ]
  },
  {
   "attachments": {},
   "cell_type": "markdown",
   "metadata": {},
   "source": [
    "- Creating check-expects"
   ]
  },
  {
   "cell_type": "code",
   "execution_count": null,
   "metadata": {
    "vscode": {
     "languageId": "plaintext"
    }
   },
   "outputs": [],
   "source": [
    ";; Gather check expects for previous non-abstracted functions.\n",
    "\n",
    "(check-expect (contains-ubc? empty) false)\n",
    "(check-expect (contains-ubc? (cons \"McGill\" empty)) false)\n",
    "(check-expect (contains-ubc? (cons \"UBC\" empty)) true)\n",
    "(check-expect (contains-ubc? (cons \"McGill\" (cons \"UBC\" empty))) true)\n",
    "\n",
    "(check-expect (contains-mcgill? empty) false)\n",
    "(check-expect (contains-mcgill? (cons \"UBC\" empty)) false)\n",
    "(check-expect (contains-mcgill? (cons \"McGill\" empty)) true)\n",
    "(check-expect (contains-mcgill? (cons \"UBC\" (cons \"McGill\" empty))) true)\n",
    "\n",
    "(define (contains? s los)\n",
    "  (cond [(empty? los) false]\n",
    "        [else\n",
    "         (if (string=? (first los) s)\n",
    "             true\n",
    "             (contains? s (rest los)))]))"
   ]
  },
  {
   "cell_type": "code",
   "execution_count": null,
   "metadata": {
    "vscode": {
     "languageId": "plaintext"
    }
   },
   "outputs": [],
   "source": [
    ";; Abstract each check expect with new function name\n",
    "\n",
    "(check-expect (contains? \"UBC\" empty) false)\n",
    "(check-expect (contains? \"UBC\" (cons \"McGill\" empty)) false)\n",
    "(check-expect (contains? \"UBC\" (cons \"UBC\" empty)) true)\n",
    "(check-expect (contains? \"UBC\" (cons \"McGill\" (cons \"UBC\" empty))) true)\n",
    "(check-expect (contains? \"UBC\" (cons \"UBC\" (cons \"McGill\" empty))) true)\n",
    "(check-expect (contains? \"TORONTO\" (cons \"UBC\" (cons \"McGill\" empty))) false)\n",
    "\n",
    "(define (contains? s los)\n",
    "  (cond [(empty? los) false]\n",
    "        [else\n",
    "         (if (string=? (first los) s)\n",
    "             true\n",
    "             (contains? s (rest los)))]))"
   ]
  },
  {
   "attachments": {},
   "cell_type": "markdown",
   "metadata": {},
   "source": [
    "- Creating purposes"
   ]
  },
  {
   "cell_type": "code",
   "execution_count": null,
   "metadata": {
    "vscode": {
     "languageId": "plaintext"
    }
   },
   "outputs": [],
   "source": [
    ";; Original Non-abstracted\n",
    ";; produce true if los includes \"UBC\"\n",
    ";; produce true if los includes \"McGill\"\n",
    "\n",
    ";; abstracted\n",
    ";; produce true if los includes s"
   ]
  },
  {
   "attachments": {},
   "cell_type": "markdown",
   "metadata": {},
   "source": [
    "---\n",
    "\n",
    "- Example 2:"
   ]
  },
  {
   "cell_type": "code",
   "execution_count": null,
   "metadata": {
    "vscode": {
     "languageId": "plaintext"
    }
   },
   "outputs": [],
   "source": [
    "(check-expect (squares empty) empty)\n",
    "(check-expect (squares (list 3 4)) (list 9 16))\n",
    "(check-expect (square-roots empty) empty)\n",
    "(check-expect (square-roots (list 9 16)) (list 3 4))\n",
    "\n",
    "(define (map2 fn lon)\n",
    "  (cond [(empty? lon) empty]\n",
    "        [else\n",
    "         (cons (fn (first lon))\n",
    "               (map2 fn (rest lon)))]))"
   ]
  },
  {
   "cell_type": "code",
   "execution_count": null,
   "metadata": {
    "vscode": {
     "languageId": "plaintext"
    }
   },
   "outputs": [],
   "source": [
    ";; Abstracted Check-Expects\n",
    "\n",
    "(check-expect (map2 sqr empty) empty)\n",
    "(check-expect (map2 sqrt empty) empty)\n",
    "(check-expect (map2 sqr (list 2 4)) (list 4 16))\n",
    "(check-expect (map2 sqrt (list 9 16)) (list 3 4))\n",
    "\n",
    "(define (map2 fn lon)\n",
    "  (cond [(empty? lon) empty]\n",
    "        [else\n",
    "         (cons (fn (first lon))\n",
    "               (map2 fn (rest lon)))]))"
   ]
  },
  {
   "cell_type": "code",
   "execution_count": null,
   "metadata": {
    "vscode": {
     "languageId": "plaintext"
    }
   },
   "outputs": [],
   "source": [
    ";; Original Purposes\n",
    "\n",
    ";; produce list of sqr of every number in lon\n",
    ";; produce list of sqrt of every number in lon\n",
    "\n",
    ";; Abstracted\n",
    ";; given fn and (list n0 n1 ...) produce (list (fn n0) (fn n1) ...)"
   ]
  },
  {
   "attachments": {},
   "cell_type": "markdown",
   "metadata": {},
   "source": [
    "---\n",
    "\n",
    "- Practice"
   ]
  },
  {
   "cell_type": "code",
   "execution_count": null,
   "metadata": {
    "vscode": {
     "languageId": "plaintext"
    }
   },
   "outputs": [],
   "source": [
    ";; produce list with only positive? elements of lon\n",
    ";; produce list with only negative? elements of lon\n",
    "\n",
    "(check-expect (positive-only empty) empty)\n",
    "(check-expect (positive-only (list 1 -2 3 -4)) (list 1 3))\n",
    "(check-expect (negative-only empty) empty)\n",
    "(check-expect (negative-only (list 1 -2 3 -4)) (list -2 -4))\n",
    "\n",
    "(define (filter2 pred lon)\n",
    "  (cond [(empty? lon) empty]\n",
    "        [else\n",
    "         (if (pred (first lon))\n",
    "             (cons (first lon)\n",
    "                   (filter2 pred (rest lon)))\n",
    "             (filter2 pred (rest lon)))]))\n"
   ]
  },
  {
   "cell_type": "code",
   "execution_count": null,
   "metadata": {
    "vscode": {
     "languageId": "plaintext"
    }
   },
   "outputs": [],
   "source": [
    ";; given fn and (list n0 n1 ...) produce (list (fn n0) (fn n1))\n",
    "\n",
    "(check-expect (filter2 positive? empty) empty)\n",
    "(check-expect (filter2 positive? (list 1 -2 3 -4)) (list 1 3))\n",
    "(check-expect (filter2 negative? empty) empty)\n",
    "(check-expect (filter2 negative? (list 1 -2 3 -4)) (list -2 -4))\n",
    "\n",
    "(define (filter2 pred lon)\n",
    "  (cond [(empty? lon) empty]\n",
    "        [else\n",
    "         (if (pred (first lon))\n",
    "             (cons (first lon)\n",
    "                   (filter2 pred (rest lon)))\n",
    "             (filter2 pred (rest lon)))]))"
   ]
  }
 ],
 "metadata": {
  "language_info": {
   "name": "python"
  },
  "orig_nbformat": 4
 },
 "nbformat": 4,
 "nbformat_minor": 2
}
