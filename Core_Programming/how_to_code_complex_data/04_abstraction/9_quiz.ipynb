{
 "cells": [
  {
   "attachments": {},
   "cell_type": "markdown",
   "metadata": {},
   "source": [
    "# **Quiz**\n",
    "\n",
    "- For this multiple choice design quiz, download the starter and complete the problems.\n",
    "\n",
    "- Once you have finished, answer the multiple choice questions about your design.\n",
    "\n",
    "- Unlike the lecture questions, you will only have one attempt to answer each question in the quiz, so make sure to read each answer carefully before selecting one and pressing submit.\n",
    "\n",
    "- Quiz File\n",
    "    - abstraction-quiz.rkt"
   ]
  }
 ],
 "metadata": {
  "language_info": {
   "name": "python"
  },
  "orig_nbformat": 4
 },
 "nbformat": 4,
 "nbformat_minor": 2
}
