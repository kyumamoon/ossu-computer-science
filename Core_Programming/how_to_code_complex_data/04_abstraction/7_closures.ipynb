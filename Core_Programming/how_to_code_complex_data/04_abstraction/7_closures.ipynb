{
 "cells": [
  {
   "attachments": {},
   "cell_type": "markdown",
   "metadata": {},
   "source": [
    "# **Closures**\n",
    "\n",
    "When the function passed to an abstract function requires access to a parameter of the enclosing function, it must be locally defined.\n",
    "\n",
    "The starter file for this video is closures-starter.rkt"
   ]
  },
  {
   "attachments": {},
   "cell_type": "markdown",
   "metadata": {},
   "source": [
    "- Closure needed when want to pass a function that doesnt exist yet to an abstract function\n",
    "- Defining local functions directly as arguments"
   ]
  },
  {
   "attachments": {},
   "cell_type": "markdown",
   "metadata": {},
   "source": [
    "**Example 1**"
   ]
  },
  {
   "cell_type": "code",
   "execution_count": null,
   "metadata": {
    "vscode": {
     "languageId": "plaintext"
    }
   },
   "outputs": [],
   "source": [
    ";; (listof Image) -> (listof Image)\n",
    ";; produce list of only those images that have width >= height\n",
    "(check-expect (wide-only (list I1 I2 I3 I4 I5)) (list I2 I4))\n",
    "\n",
    "; (define (wide-only loi) empty) ;stub\n",
    "\n",
    "(define (wide-only loi) \n",
    "  (filter ... loi))\n"
   ]
  },
  {
   "cell_type": "code",
   "execution_count": null,
   "metadata": {
    "vscode": {
     "languageId": "plaintext"
    }
   },
   "outputs": [],
   "source": [
    "(define (wide-only loi) (\n",
    "    local [(define (wide? i) (> (image-width i) (image-height i)))]\n",
    "  (filter wide? loi)))"
   ]
  },
  {
   "attachments": {},
   "cell_type": "markdown",
   "metadata": {},
   "source": [
    "**Example 2**"
   ]
  },
  {
   "attachments": {},
   "cell_type": "markdown",
   "metadata": {},
   "source": [
    "- The local function defined takes in the variable of the outer function's variable. This is possible, so local function does not need another parameter defined."
   ]
  },
  {
   "cell_type": "code",
   "execution_count": null,
   "metadata": {
    "vscode": {
     "languageId": "plaintext"
    }
   },
   "outputs": [],
   "source": [
    ";; Number (listof Image) -> (listof Image)\n",
    ";; produce list of only those images in loi with width >= w\n",
    "(check-expect (wider-than-only 40 LOI1) (list I4 I5))\n",
    "\n",
    ";(define (wider-than-only w loi) empty) ;stub\n",
    "\n",
    "(define (wider-than-only w loi)\n",
    "  (filter ... loi))"
   ]
  },
  {
   "cell_type": "code",
   "execution_count": null,
   "metadata": {
    "vscode": {
     "languageId": "plaintext"
    }
   },
   "outputs": [],
   "source": [
    "(define (wider-than-only w loi) (\n",
    "  local [(define (wider-than i) (> (image-width i) w))]  \n",
    "  (filter wider-than loi)\n",
    "))"
   ]
  },
  {
   "attachments": {},
   "cell_type": "markdown",
   "metadata": {},
   "source": [
    "**Example 3**"
   ]
  },
  {
   "cell_type": "code",
   "execution_count": null,
   "metadata": {
    "vscode": {
     "languageId": "plaintext"
    }
   },
   "outputs": [],
   "source": [
    ";; (listof Number) -> (listof Number)\n",
    ";; produce list of each number in lon cubed\n",
    "(check-expect (cube-all (list 1 2 3)) (list (* 1 1 1) (* 2  2 2) (* 3 3 3)))\n",
    "\n",
    "(define (cube-all lon) empty) ;stub\n",
    "#;\n",
    "(define (cube-all lon)\n",
    "  (map [...] lon))"
   ]
  },
  {
   "cell_type": "code",
   "execution_count": null,
   "metadata": {
    "vscode": {
     "languageId": "plaintext"
    }
   },
   "outputs": [],
   "source": [
    "(define (cube-all lon) (\n",
    "  local [(define (cubed i) (* i i i))]\n",
    "(map cubed lon))\n",
    ")"
   ]
  },
  {
   "attachments": {},
   "cell_type": "markdown",
   "metadata": {},
   "source": [
    "**Example 4**"
   ]
  },
  {
   "cell_type": "code",
   "execution_count": null,
   "metadata": {
    "vscode": {
     "languageId": "plaintext"
    }
   },
   "outputs": [],
   "source": [
    ";; String (listof String) -> (listof String)\n",
    ";; produce list of all elements of los prefixed by p\n",
    "(check-expect (prefix-all \"accio \" (list \"portkey\" \"broom\"))\n",
    "              (list \"accio portkey\" \"accio broom\"))\n",
    "\n",
    "(define (prefix-all p los) empty) ;stub\n",
    "#;\n",
    "(define (prefix-all p los)\n",
    "  (map ... los))"
   ]
  },
  {
   "cell_type": "code",
   "execution_count": null,
   "metadata": {
    "vscode": {
     "languageId": "plaintext"
    }
   },
   "outputs": [],
   "source": [
    "(define (prefix-all p los) (\n",
    "    local [\n",
    "        (define (prefixit word) (\n",
    "            string-append p word\n",
    "        ))\n",
    "    ]\n",
    " (map prefixit los))\n",
    ")\n",
    " "
   ]
  }
 ],
 "metadata": {
  "language_info": {
   "name": "python"
  },
  "orig_nbformat": 4
 },
 "nbformat": 4,
 "nbformat_minor": 2
}
