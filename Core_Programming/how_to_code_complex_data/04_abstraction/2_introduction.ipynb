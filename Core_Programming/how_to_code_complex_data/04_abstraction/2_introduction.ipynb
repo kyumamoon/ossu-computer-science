{
 "cells": [
  {
   "attachments": {},
   "cell_type": "markdown",
   "metadata": {},
   "source": [
    "# **Introduction**\n",
    "\n",
    "A new technique for managing complexity is to reduce redundancy in programs using abstraction.\n",
    "\n",
    "There is no starter file for this video."
   ]
  },
  {
   "attachments": {},
   "cell_type": "markdown",
   "metadata": {},
   "source": [
    "- Goal to reduce repetition in code to make complex programs more manageable.\n",
    "- This is called abstraction."
   ]
  }
 ],
 "metadata": {
  "language_info": {
   "name": "python"
  },
  "orig_nbformat": 4
 },
 "nbformat": 4,
 "nbformat_minor": 2
}
