{
 "cells": [
  {
   "attachments": {},
   "cell_type": "markdown",
   "metadata": {},
   "source": [
    "#**Abstraction Module**\n",
    "\n",
    "- In this module, we look at another technique for improving the structure of code. Most of the problems in this module involve refactoring existing programs -- so there's relatively little new coding to do. But that doesn't mean you won't be designing programs! One of the things that separates good programmers from the other kind is taking the time to improve the structure of their code once it is written. This material is super important, and... it is really important to practice doing it!\n",
    "\n",
    "- This module covers abstraction, which is a technique for taking highly repetitive code and refactoring out the identical parts to leave behind a shared helper and just the different parts of the original code. \n",
    "    - The shared helper is called an abstract function because it is more general, or less detailed, than the original code.\n",
    "\n",
    "- Abstraction is a crucial technique for managing complexity in programs. One aspect of this is that it can make programs smaller if the abstract functions are used by many other functions in the system. Another aspect is that it helps separate knowledge domains more clearly in code. All the work you've done understanding templates is about to give you a nice surprise.\n",
    "\n",
    "- Working through the videos and practice materials for this module will take approximately 7-12 hours of dedicated time to complete.\n",
    "\n",
    "- Learning Goals\n",
    "    - Be able to identify 2 or more functions that are candidates for abstraction.\n",
    "    - Be able to design an abstract function starting with 2 or more highly repetitive functions (or expressions).\n",
    "    - Be able to design an abstract fold function from a template.\n",
    "    - Be able to write signatures for abstract functions.\n",
    "    - Be able to write signatures that use type parameters.\n",
    "     -Be able to identify a function which would benefit from using a built-in abstract function\n",
    "     -Be able to use built-in abstract functions"
   ]
  }
 ],
 "metadata": {
  "language_info": {
   "name": "python"
  },
  "orig_nbformat": 4
 },
 "nbformat": 4,
 "nbformat_minor": 2
}
