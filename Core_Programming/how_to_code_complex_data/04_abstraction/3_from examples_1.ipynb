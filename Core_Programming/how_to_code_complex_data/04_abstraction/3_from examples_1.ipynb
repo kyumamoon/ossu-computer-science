{
 "cells": [
  {
   "attachments": {},
   "cell_type": "markdown",
   "metadata": {},
   "source": [
    "# **From Examples 1**\n",
    "\n",
    "The simplest way to design abstract functions is to start with two or more examples of highly repetitive code. The first step in this way of designing an abstract function is to produce the working function definition.\n",
    "\n",
    "The starter file for this video is parameterization-starter.rkt"
   ]
  },
  {
   "attachments": {},
   "cell_type": "markdown",
   "metadata": {},
   "source": [
    "**Identify repetitive expressions that vary only with 1 point of variance.**"
   ]
  },
  {
   "cell_type": "raw",
   "metadata": {},
   "source": [
    ";; Two repetitive expressions. Only 1 point of variance is different. The Int.\n",
    "(* pi (sqr 4)) ;area of circle radius 4\n",
    "(* pi (sqr 6)) ;area of circle radius 6\n",
    "\n",
    ";; Create a new function for the expression\n",
    "(define (area radius)\n",
    "    (* pi (sqr radius))\n",
    ")\n",
    "\n",
    ";; Expression can now be simplified to be:\n",
    "(area 4)\n",
    "(area 6)"
   ]
  },
  {
   "attachments": {},
   "cell_type": "markdown",
   "metadata": {},
   "source": [
    "**Example 2 with Lists**\n",
    "- Both functions behave the same way except for the one point of variance that is different which is the string to compare."
   ]
  },
  {
   "cell_type": "raw",
   "metadata": {},
   "source": [
    "(define (contains-ubc? los)\n",
    "  (cond [(empty? los) false]\n",
    "        [else\n",
    "         (if (string=? (first los) \"UBC\")\n",
    "             true\n",
    "             (contains-ubc? (rest los)))]))\n",
    "\n",
    "(define (contains-mcgill? los)\n",
    "  (cond [(empty? los) false]\n",
    "        [else\n",
    "         (if (string=? (first los) \"McGill\")\n",
    "             true\n",
    "             (contains-mcgill? (rest los)))]))"
   ]
  },
  {
   "cell_type": "raw",
   "metadata": {},
   "source": [
    ";; Abstracted Function\n",
    "\n",
    "(define (contains? los string)\n",
    "  (cond [(empty? los) false]\n",
    "        [else\n",
    "         (if (string=? (first los) string)\n",
    "             true\n",
    "             (contains? (rest los) string))]))"
   ]
  },
  {
   "cell_type": "raw",
   "metadata": {},
   "source": [
    ";; Simplified Functions using new Abstraction\n",
    "\n",
    "(define (contains-ubc? los) (contains? los \"UBC\"))\n",
    "\n",
    "(define (contains-mcgill? los) (contains? los \"McGill\")) "
   ]
  },
  {
   "attachments": {},
   "cell_type": "markdown",
   "metadata": {},
   "source": [
    "**Example 3 using functions as parameters**\n",
    "\n",
    "- Two functions below are similar except the function they call.\n",
    "- Higher order functions can consume one or more functions and/or produce a function."
   ]
  },
  {
   "cell_type": "raw",
   "metadata": {},
   "source": [
    "\n",
    "(define (squares lon)\n",
    "  (cond [(empty? lon) empty]\n",
    "        [else\n",
    "         (cons (sqr (first lon))\n",
    "               (squares (rest lon)))]))\n",
    "\n",
    "               \n",
    "(define (square-roots lon)\n",
    "  (cond [(empty? lon) empty]\n",
    "        [else\n",
    "         (cons (sqrt (first lon))\n",
    "               (square-roots (rest lon)))]))"
   ]
  },
  {
   "cell_type": "raw",
   "metadata": {},
   "source": [
    ";; Abstracted Function\n",
    "\n",
    "(define (squares2 lon function)\n",
    "  (cond [(empty? lon) empty]\n",
    "        [else\n",
    "         (cons (function (first lon))\n",
    "               (squares2 (rest lon) function))]))"
   ]
  },
  {
   "cell_type": "raw",
   "metadata": {},
   "source": [
    ";; Simplified with Abstraction\n",
    "\n",
    "(define (squares lon) (squares2 lon sqr))\n",
    "\n",
    "(define (square-roots lon) (squares 2 lon sqrt))"
   ]
  },
  {
   "attachments": {},
   "cell_type": "markdown",
   "metadata": {},
   "source": [
    "**Exercise**"
   ]
  },
  {
   "cell_type": "raw",
   "metadata": {},
   "source": [
    "(define (positive-only lon)\n",
    "  (cond [(empty? lon) empty]\n",
    "        [else\n",
    "         (if (positive? (first lon))\n",
    "             (cons (first lon)\n",
    "                   (positive-only (rest lon)))\n",
    "             (positive-only (rest lon)))]))\n",
    "\n",
    "(define (negative-only lon)\n",
    "  (cond [(empty? lon) empty]\n",
    "        [else\n",
    "         (if (negative? (first lon))\n",
    "             (cons (first lon)\n",
    "                   (negative-only (rest lon)))\n",
    "             (negative-only (rest lon)))]))"
   ]
  },
  {
   "cell_type": "raw",
   "metadata": {},
   "source": [
    ";; Abstracted Function\n",
    "\n",
    "(define (filter2 lon function)\n",
    "  (cond [(empty? lon) empty]\n",
    "        [else\n",
    "         (if (function (first lon))\n",
    "             (cons (first lon)\n",
    "                   (filter2 (rest lon) function))\n",
    "             (filter2 (rest lon) function))]))"
   ]
  },
  {
   "cell_type": "raw",
   "metadata": {},
   "source": [
    ";; Simplified with Abstraction\n",
    "\n",
    "(define (positive-only lon) (filter2 lon positive?))\n",
    "\n",
    "(define (negative-only lon) (filter2 lon negative?))"
   ]
  }
 ],
 "metadata": {
  "language_info": {
   "name": "python"
  },
  "orig_nbformat": 4
 },
 "nbformat": 4,
 "nbformat_minor": 2
}
