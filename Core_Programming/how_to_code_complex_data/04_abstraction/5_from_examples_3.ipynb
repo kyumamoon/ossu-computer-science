{
 "cells": [
  {
   "attachments": {},
   "cell_type": "markdown",
   "metadata": {},
   "source": [
    "# **From Examples 3**\n",
    "\n",
    "The final step of designing an abstract function is to write the signature. Doing this requires three new elements of signature and type notation.\n",
    "\n",
    "The starter file for this video is parameterization-v3.rkt"
   ]
  },
  {
   "cell_type": "code",
   "execution_count": null,
   "metadata": {
    "vscode": {
     "languageId": "plaintext"
    }
   },
   "outputs": [],
   "source": [
    ";; Signature:\n",
    ";; String (listof String) -> Boolean\n",
    "\n",
    "(define (contains? s los)\n",
    "  (cond [(empty? los) false]\n",
    "        [else\n",
    "         (if (string=? (first los) s)\n",
    "             true\n",
    "             (contains? s (rest los)))]))"
   ]
  },
  {
   "attachments": {},
   "cell_type": "markdown",
   "metadata": {},
   "source": [
    "- Using type parameters to indicate variadic variables.\n",
    "    - Uppercase Alphabet\n",
    "    - listof X, means list of whatever type\n",
    "    - X, means whatever type"
   ]
  },
  {
   "cell_type": "code",
   "execution_count": null,
   "metadata": {
    "vscode": {
     "languageId": "plaintext"
    }
   },
   "outputs": [],
   "source": [
    ";; Signature:\n",
    ";; (X -> Y) (listof X)-> (listof Y)\n",
    "\n",
    "(define (map2 fn lon)\n",
    "  (cond [(empty? lon) empty]\n",
    "        [else\n",
    "         (cons (fn (first lon))\n",
    "               (map2 fn (rest lon)))]))"
   ]
  },
  {
   "cell_type": "code",
   "execution_count": null,
   "metadata": {
    "vscode": {
     "languageId": "plaintext"
    }
   },
   "outputs": [],
   "source": [
    ";; Signature:\n",
    ";; (X -> Boolean) (listof X) -> (listof X)\n",
    "\n",
    "(define (filter2 pred lon)\n",
    "  (cond [(empty? lon) empty]\n",
    "        [else\n",
    "         (if (pred (first lon))\n",
    "             (cons (first lon)\n",
    "                   (filter2 pred (rest lon)))\n",
    "             (filter2 pred (rest lon)))]))\n"
   ]
  },
  {
   "attachments": {},
   "cell_type": "markdown",
   "metadata": {},
   "source": [
    "--- \n",
    "\n",
    "- Practice"
   ]
  },
  {
   "cell_type": "code",
   "execution_count": null,
   "metadata": {
    "vscode": {
     "languageId": "plaintext"
    }
   },
   "outputs": [],
   "source": [
    "Here is our nearly complete design of filter2 from the previous two sections:\n",
    "\n",
    ";; ListOfNumber -> ListOfNumber\n",
    ";; produce list with only positive? elements of lon\n",
    "(check-expect (positive-only empty) empty)\n",
    "(check-expect (positive-only (list 1 -2 3 -4)) (list 1 3))\n",
    "\n",
    ";(define (positive-only lon) empty)   ;stub\n",
    "\n",
    "(define (positive-only lon)\n",
    "  (filter2 positive? lon))\n",
    "             \n",
    ";; ListOfNumber -> ListOfNumber\n",
    ";; produce list with only negative? elements of lon\n",
    "(check-expect (negative-only empty) empty)\n",
    "(check-expect (negative-only (list 1 -2 3 -4)) (list -2 -4))\n",
    "\n",
    ";(define (negative-only lon) empty)   ;stub\n",
    "\n",
    "(define (negative-only lon)\n",
    "  (filter2 negative? lon))\n",
    "\n",
    "\n",
    ";; given a list, produce only the elements of that list that satisfy the predicate p\n",
    "(check-expect (filter2 positive? empty) empty)\n",
    "(check-expect (filter2 negative? (list 1 -5 5 -1)) (list 1 5))\n",
    "(check-expect (filter2 positive? (list 1 -5 5 -1)) (list -5 -1))\n",
    "(check-expect (filter2 false? (list false true false false true)) (list false false false))\n",
    "\n",
    "(define (filter2 p lon)\n",
    "  (cond [(empty? lon) empty]\n",
    "        [else \n",
    "         (if (p (first lon))\n",
    "             (cons (first lon) \n",
    "                   (filter2 p (rest lon)))\n",
    "             (filter2 p (rest lon)))]))\n",
    "             \n",
    "Now we need to complete the signature for filter2."
   ]
  },
  {
   "cell_type": "code",
   "execution_count": null,
   "metadata": {
    "vscode": {
     "languageId": "plaintext"
    }
   },
   "outputs": [],
   "source": [
    ";; Signature::\n",
    ";; (X -> Boolean) (listof X) -> (listof X)"
   ]
  },
  {
   "attachments": {},
   "cell_type": "markdown",
   "metadata": {},
   "source": [
    "- Practice 2"
   ]
  },
  {
   "cell_type": "code",
   "execution_count": null,
   "metadata": {
    "vscode": {
     "languageId": "plaintext"
    }
   },
   "outputs": [],
   "source": [
    ";; ListOfNumber -> Boolean\n",
    ";; produce true if every number in lon is positive\n",
    "(check-expect (all-positive? empty) true)\n",
    "(check-expect (all-positive? (list 1 -2 3)) false)\n",
    "(check-expect (all-positive? (list 1 2 3)) true)\n",
    "\n",
    "(define (all-positive? lon) (andmap2 positive? lon))\n",
    "\n",
    ";; ListOfNumber -> Boolean\n",
    ";; produce true if every number in lon is negative\n",
    "(check-expect (all-negative? empty) true)\n",
    "(check-expect (all-negative? (list 1 -2 3)) false)\n",
    "(check-expect (all-negative? (list -1 -2 -3)) true)\n",
    "\n",
    "(define (all-negative? lon) (andmap2 negative? lon))\n",
    "\n",
    ";;produce true if pred produces true for every element of the list\n",
    "(check-expect (andmap2 positive? empty) true)\n",
    "(check-expect (andmap2 positive? (list 1 -2 3)) false)\n",
    "(check-expect (andmap2 positive? (list 1 2 3)) true)\n",
    "(check-expect (andmap2 negative? (list -1 -2 -3)) true)\n",
    "\n",
    "(define (andmap2 pred lst)\n",
    "  (cond [(empty? lst) true]\n",
    "        [else \n",
    "         (and (pred (first lst))\n",
    "              (andmap2 pred (rest lst)))]))"
   ]
  },
  {
   "cell_type": "code",
   "execution_count": null,
   "metadata": {
    "vscode": {
     "languageId": "plaintext"
    }
   },
   "outputs": [],
   "source": [
    ";; Signature:\n",
    ";; (X -> Boolean) (listof X) -> Boolean"
   ]
  }
 ],
 "metadata": {
  "language_info": {
   "name": "python"
  },
  "orig_nbformat": 4
 },
 "nbformat": 4,
 "nbformat_minor": 2
}
