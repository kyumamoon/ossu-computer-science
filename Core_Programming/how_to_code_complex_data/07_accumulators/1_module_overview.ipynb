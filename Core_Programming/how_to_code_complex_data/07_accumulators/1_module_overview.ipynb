{
 "cells": [
  {
   "attachments": {},
   "cell_type": "markdown",
   "metadata": {},
   "source": [
    "# **Module Overview**\n",
    "\n",
    "- The rules we have been using to generate structural recursion templates are very powerful. They make it easy to write functions that traverse complex data collecting information at every place in that data. \n",
    "    - The power of these rules is highlighted by our ability to design abstract fold functions for recursive and mutually recursive types.\n",
    "\n",
    "- But the structural recursion templates have one problem: while they make it easy for our functions to see each \"place\" in the structure once we get to it, they do not allow us to see two kinds of important contextual information. \n",
    "    - One has to do with where our function has already been in the traversal, and the other has to do with work remaining to be done once each recursive call to our function produces its result. To paraphrase the song, \"we know where we are, but we don't know where we've been or where we still need to go\".\n",
    "\n",
    "- Accumulators allow us to solve these problems. \n",
    "    - There are three types of accumulators: \n",
    "        1. context preserving, \n",
    "        2. result so far and \n",
    "        3. worklist. \n",
    "        - The latter two are used in different ways to make functions tail-recursive, which is important when we design recursive functions that traverse very large data. All three kinds of accumulators are supported by a few small additions to the HtDF recipe.\n",
    "\n",
    "- The material in this module includes a defacto review of everything in the course so far. This review is part of the worklist accumulator videos. As a result, working through the videos and practice materials for this module will take approximately 9-10 hours of dedicated time to complete.\n",
    "\n",
    "- **Learning Goals**\n",
    "    1. Be able to identify when a function design requires the use of accumulator.\n",
    "    2. Be able to work with the accumulator design recipe to design such functions.\n",
    "    3. Understand and be able to explain the concepts of tail position, tail call and tail recursion."
   ]
  }
 ],
 "metadata": {
  "language_info": {
   "name": "python"
  },
  "orig_nbformat": 4
 },
 "nbformat": 4,
 "nbformat_minor": 2
}
