{
 "cells": [
  {
   "attachments": {},
   "cell_type": "markdown",
   "metadata": {},
   "source": [
    "# **Worklist Accumulators 1**\n",
    "\n",
    "Parts 1-7 of the worklist accumulators serve to review the accumulator module to date, introduce a second technique for making functions tail recursive, and in fact provide a good summary of the course thus far. These videos are long, but they are worth working through in detail to get that practice and summary.\n",
    "\n",
    "Part 1 sets up an HtDD problem that will support parts 2-7.\n",
    "\n",
    "The starter file for this video is same-house-as-parent-v1.rkt"
   ]
  },
  {
   "attachments": {},
   "cell_type": "markdown",
   "metadata": {},
   "source": [
    "Before moving on to the next video, be sure to work through the design for a representation of wizard family trees. For each wizard, it should include their name, their house, and a list of their children. "
   ]
  },
  {
   "cell_type": "raw",
   "metadata": {},
   "source": [
    "PROBLEM:\n",
    "\n",
    "In the Harry Potter movies, it is very important which of the four houses a\n",
    "wizard is placed in when they are at Hogwarts. This is so important that in \n",
    "most families multiple generations of wizards are all placed in the same family. \n",
    "\n",
    "Design a representation of wizard family trees that includes, for each wizard,\n",
    "their name, the house they were placed in at Hogwarts and their children. We\n",
    "encourage you to get real information for wizard families from: \n",
    "   http://harrypotter.wikia.com/wiki/Main_Page\n",
    "\n",
    "The reason we do this is that designing programs often involves collection\n",
    "domain information from a variety of sources and representing it in the program\n",
    "as constants of some form. So this problem illustrates a fairly common scenario.\n",
    "\n",
    "That said, for reasons having to do entirely with making things fit on the\n",
    "screen in later videos, we are going to use the following wizard family tree,\n",
    "in which wizards and houses both have 1 letter names. (Sigh)"
   ]
  },
  {
   "cell_type": "raw",
   "metadata": {},
   "source": [
    ";; Data definitions:\n",
    "\n",
    "(define-struct wiz (name house kids))\n",
    ";; Wizard is (make-wiz String String (listof Wizard))\n",
    ";; interp. A wizard, with name, house and list of children.\n",
    "\n",
    "(define Wa (make-wiz \"A\" \"S\" empty))\n",
    "(define Wb (make-wiz \"B\" \"G\" empty))\n",
    "(define Wc (make-wiz \"C\" \"R\" empty))\n",
    "(define Wd (make-wiz \"D\" \"H\" empty))\n",
    "(define We (make-wiz \"E\" \"R\" empty))\n",
    "(define Wf (make-wiz \"F\" \"R\" (list Wb)))\n",
    "(define Wg (make-wiz \"G\" \"S\" (list Wa)))\n",
    "(define Wh (make-wiz \"H\" \"S\" (list Wc Wd)))\n",
    "(define Wi (make-wiz \"I\" \"H\" empty))\n",
    "(define Wj (make-wiz \"J\" \"R\" (list We Wf Wg)))\n",
    "(define Wk (make-wiz \"K\" \"G\" (list Wh Wi Wj)))\n",
    "\n",
    "\n",
    "#; ;template, arb-arity-tree, encapsulated w/ local\n",
    "(define (fn-for-wiz w)          \n",
    "  (local [(define (fn-for-wiz w)\n",
    "            (... (wiz-name w)\n",
    "                 (wiz-house w)\n",
    "                 (fn-for-low (wiz-kids w))))\n",
    "          (define (fn-for-low low)\n",
    "            (cond [(empty? low) (...)]\n",
    "                  [else\n",
    "                   (... (fn-for-wiz (first low))\n",
    "                        (fn-for-low (rest low)))]))]\n",
    "    (fn-for-wiz w)))\n",
    "\n",
    "\n",
    ";; Functions:"
   ]
  },
  {
   "attachments": {},
   "cell_type": "markdown",
   "metadata": {},
   "source": [
    "# **PROBLEM 1:**\n",
    "\n",
    "Design a function that consumes a wizard and produces the names of every \n",
    "wizard in the tree that was placed in the same house as their immediate\n",
    "parent. "
   ]
  },
  {
   "cell_type": "raw",
   "metadata": {},
   "source": [
    ";; Wizard -> (listof String)\n",
    ";; Produce the names of every descendant in the same house as their parent.\n",
    "(check-expect (same-house-as-parent Wa) empty)\n",
    "(check-expect (same-house-as-parent Wh) empty)\n",
    "(check-expect (same-house-as-parent Wg) (list \"A\"))\n",
    "(check-expect (same-house-as-parent Wk) (list \"E\" \"F\" \"A\"))\n",
    "\n",
    "; template from Wizard plus lost context accumulator\n",
    "(define (same-house-as-parent w)          \n",
    "  ;; parent-house is       ; \n",
    "  (local [(define (fn-for-wiz w parent-house)\n",
    "            (... parent-house\n",
    "                 (wiz-name w)\n",
    "                 (wiz-house)\n",
    "                 (fn-for-low (wiz-kids w)\n",
    "                             (... parent-house))))\n",
    "          (define (fn-for-low low parent-house)\n",
    "            (cond [(empty? low) (... parent-house)]\n",
    "                  [else\n",
    "                   (... parent-house\n",
    "                        (fn-for-wiz (first low) (... parent-house))\n",
    "                        (fn-for-low (rest low) (... parent-house)))]))]\n",
    "    (fn-for-wiz w ...)))"
   ]
  },
  {
   "cell_type": "raw",
   "metadata": {},
   "source": [
    ";; Wizard -> (listof String)\n",
    ";; Produce the names of every descendant in the same house as their parent.\n",
    "(check-expect (same-house-as-parent Wa) empty)\n",
    "(check-expect (same-house-as-parent Wh) empty)\n",
    "(check-expect (same-house-as-parent Wg) (list \"A\"))\n",
    "(check-expect (same-house-as-parent Wk) (list \"E\" \"F\" \"A\"))\n",
    "\n",
    "; template from Wizard plus lost context accumulator\n",
    "(define (same-house-as-parent w)          \n",
    "  ;; parent-house is String; the house of this wizard's immediate parent. (\"\" for root of tree)\n",
    "  ;; (same-house-as-parent Wk)\n",
    "  ;; (fn-for-wiiz Wk \"\"\n",
    "  ;; (fn-for-wiiz Wh \"G\") \n",
    "  ;; (fn-for-wiiz Wc \"S\") \n",
    "  ;; (fn-for-wiiz Wd \"S\") \n",
    "  ;; (fn-for-wiiz Wi \"G\")\n",
    "  \n",
    "  (local [(define (fn-for-wiz w parent-house)\n",
    "            (if (equal? parent-house (wiz-house w))\n",
    "                (cons (wiz-name w) (fn-for-low (wiz-kids w) (wiz-house w)))\n",
    "                (fn-for-low (wiz-kids w) (wiz-house w))))\n",
    "          (define (fn-for-low low parent-house)\n",
    "            (cond [(empty? low) empty]\n",
    "                  [else\n",
    "                   (append (fn-for-wiz (first low) parent-house) (fn-for-low (rest low) parent-house))]))]\n",
    "    (fn-for-wiz w \"\")))"
   ]
  },
  {
   "attachments": {},
   "cell_type": "markdown",
   "metadata": {},
   "source": [
    "# **PROBLEM 2: Using 2 accumulators** \n",
    "\n",
    "Design a function that consumes a wizard and produces the number of wizards \n",
    "in that tree (including the root). Your function should be tail recursive."
   ]
  },
  {
   "cell_type": "raw",
   "metadata": {},
   "source": [
    "(define (fn-for-wiz w)          \n",
    "  (local [(define (fn-for-wiz w sum)\n",
    "            (fn-for-low (wiz-kids w) (+ sum 1)))\n",
    "          (define (fn-for-low low sum)\n",
    "            (cond [(empty? low) sum]\n",
    "                  [else (fn-for-low (rest low) (fn-for-wiz (first low) sum))]))]\n",
    "    (fn-for-wiz w 0)))"
   ]
  },
  {
   "attachments": {},
   "cell_type": "markdown",
   "metadata": {},
   "source": [
    "- OPTIMIZED VERSION USES WORKLIST ACCUMULATORS.\n",
    "    - WORKLIST ACCUMULATORS pass a list of TODOs which decreases every recursive call.\n",
    "    - Adding items onto the to do list every depth branch of the tree and process/remove a stack and repeat."
   ]
  },
  {
   "cell_type": "raw",
   "metadata": {},
   "source": [
    ";; OPTIMIZED SOLUTION\n",
    "\n",
    "\n",
    ";; DEPTH FIRST TRAVERSAL \n",
    "(define (count w) (\n",
    "  ; TO DO IS LIST OF WIZARD, WIZARDS WE STILL NEED TO VISIT WITH FN-FOR-WIZ\n",
    "  ;; rsf is Natural; the number of wizards seen so far\n",
    "  ;; (count Wk)\n",
    "  ;; (fn-for-wiz Wk 0)\n",
    "  ;; (fn-for-wiz Wk 1)\n",
    "  ;; (fn-for-wiz Wk 2)\n",
    "\n",
    "                   local\n",
    "                    [\n",
    "                     (define (fn-for-wiz w todo rsf) ( \n",
    "                                                      fn-for-low (append (wiz-kids w) todo) (add1 rsf)\n",
    "                                                      ))\n",
    "                     (define (fn-for-low todo rsf) (\n",
    "                                                    cond\n",
    "                                                     [(empty? todo) rsf]\n",
    "                                                     [else\n",
    "                                                      (fn-for-wiz (first todo) (rest todo) rsf)\n",
    "                                                      ]\n",
    "                                                    ))\n",
    "                     ]\n",
    "                    (fn-for-wiz w empty 0)\n",
    "                   ))\n",
    "\n",
    ";; BREADTH FIRST TRAVERSAL, order of append arguments switched.\n",
    "#;(define (count w) (\n",
    "  ; TO DO IS LIST OF WIZARD, WIZARDS WE STILL NEED TO VISIT WITH FN-FOR-WIZ\n",
    "  ;; rsf is Natural; the number of wizards seen so far\n",
    "  ;; (count Wk)\n",
    "  ;; (fn-for-wiz Wk 0)\n",
    "  ;; (fn-for-wiz Wk 1)\n",
    "  ;; (fn-for-wiz Wk 2)\n",
    "\n",
    "                   local\n",
    "                    [\n",
    "                     (define (fn-for-wiz w todo rsf) ( \n",
    "                                                      fn-for-low (append todo (wiz-kids w)) (add1 rsf)\n",
    "                                                      ))\n",
    "                     (define (fn-for-low todo rsf) (\n",
    "                                                    cond\n",
    "                                                     [(empty? todo) rsf]\n",
    "                                                     [else\n",
    "                                                      (fn-for-wiz (first todo) (rest todo) rsf)\n",
    "                                                      ]\n",
    "                                                    ))\n",
    "                     ]\n",
    "                    (fn-for-wiz w empty 0)\n",
    "                   ))"
   ]
  },
  {
   "attachments": {},
   "cell_type": "markdown",
   "metadata": {},
   "source": [
    "# **PROBLEM 3:** \n",
    "\n",
    "Design a new function definition for same-house-as-parent that is tail \n",
    "recursive. You will need a worklist accumulator.\n"
   ]
  },
  {
   "cell_type": "raw",
   "metadata": {},
   "source": [
    ";; Wizard -> (listof String)\n",
    ";; Produce the names of every descendant in the same house as their parent.\n",
    "(check-expect (same-house-as-parent2 Wa) empty)\n",
    "(check-expect (same-house-as-parent2 Wh) empty)\n",
    "(check-expect (same-house-as-parent2 Wg) (list \"A\"))\n",
    "(check-expect (same-house-as-parent2 Wk) (list \"E\" \"F\" \"A\"))\n",
    "\n",
    "; template from Wizard plus lost context accumulator\n",
    "(define (same-house-as-parent2 w)          \n",
    "  ;; parent-house is       ; \n",
    "  (local [\n",
    "          (define (fn-for-wiz w parent-house lists)\n",
    "            (if (equal? parent-house (wiz-house w))\n",
    "                (fn-for-low (wiz-kids w) (wiz-house w) (append lists (list (wiz-name w))))\n",
    "                (fn-for-low (wiz-kids w) (wiz-house w) lists)))\n",
    "          \n",
    "          (define (fn-for-low low parent-house lists)\n",
    "            (cond [(empty? low) lists]\n",
    "                  [else\n",
    "                   (fn-for-low (rest low) parent-house (fn-for-wiz (first low) parent-house lists))]\n",
    "                   ))\n",
    "          ]\n",
    "    (fn-for-wiz w \"\" empty)))"
   ]
  }
 ],
 "metadata": {
  "language_info": {
   "name": "python"
  },
  "orig_nbformat": 4
 },
 "nbformat": 4,
 "nbformat_minor": 2
}
