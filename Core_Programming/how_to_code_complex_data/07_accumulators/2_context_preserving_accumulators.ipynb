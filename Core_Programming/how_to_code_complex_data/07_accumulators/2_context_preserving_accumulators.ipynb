{
 "cells": [
  {
   "attachments": {},
   "cell_type": "markdown",
   "metadata": {},
   "source": [
    "# **Context Preserving Accumulators**\n",
    "\n",
    "Following a structural recursion template to walk through arbitrary sized data means we always know where we are, but never know where we have been. This video sets up a problem we do not yet know how to solve: a function that does need to know where it has been.\n",
    "\n",
    "The starter file for this video is skip1-starter.rkt."
   ]
  },
  {
   "attachments": {},
   "cell_type": "markdown",
   "metadata": {},
   "source": [
    "- Accumulators help recursions know where they have been and need to go."
   ]
  },
  {
   "attachments": {},
   "cell_type": "markdown",
   "metadata": {},
   "source": [
    "- **Three types of accumulators:**\n",
    "    1. Context Preserving Accumulator\n",
    "        - preserves context in recursion\n",
    "        "
   ]
  },
  {
   "cell_type": "raw",
   "metadata": {},
   "source": [
    "PROBLEM:\n",
    "\n",
    "Design a function that consumes a list of elements and produces the list\n",
    "consisting of only the 1st, 3rd, 5th and so on elements of its input. \n",
    "\n",
    "   (skip1 (list \"a\" \"b\" \"c\" \"d\")) should produce (list \"a\" \"c\")"
   ]
  },
  {
   "attachments": {},
   "cell_type": "markdown",
   "metadata": {},
   "source": [
    "**Accumulator HTDF Recipe Consists of following steps:**\n",
    "1. Signature, purpose, stub\n",
    "2. Define examples, wrap each in check-expect\n",
    "3. Template and inventory\n",
    "    - template as usual, then\n",
    "    - wrap template function with a new outer function with same name but different parameter name, add trampoline calling inner function with outer parameter name\n",
    "    - add new parameter to inner function (which will be accumulator).\n",
    "        - after any ..., add new parameter after it\n",
    "    - specific type, variant, and examples of accumulator\n",
    "4. Code the function body\n",
    "5. Test and debug until correct."
   ]
  },
  {
   "cell_type": "raw",
   "metadata": {},
   "source": [
    ";; Solution Accumulators\n",
    "\n",
    ";; Signature\n",
    "; (listof X) -> (listof X)\n",
    "\n",
    ";; Purpose\n",
    ";; produce list consisting of only the 1st, 3rd, and 5th, .... element of lox.\n",
    "\n",
    ";; Examples\n",
    "(check-expect (skip1 (list \"a\" \"b\" \"c\" \"d\")) (list \"a\" \"c\"))\n",
    "(check-expect (skip1 (list 1 2 3 4 5 6)) (list 1 3 5))\n",
    "(check-expect (skip1 empty) empty)\n",
    "\n",
    ";; Stub\n",
    ";(define (skip1 lox) empty)\n",
    "\n",
    ";; Template\n",
    "(define (skip1 lox0) (\n",
    "\n",
    "    ;; Signature\n",
    "    ;; acc: Natural; l-based position of (first lox) in lox0\n",
    "\n",
    "    ;; Example\n",
    "    ;; (skip1 (list \"a\" \"b\" \"c\") 1)\n",
    "    ;; (skip1 (list     \"b\" \"c\") 2)\n",
    "    ;; (skip1 (list         \"c\") 3)\n",
    "\n",
    "    local\n",
    "    [\n",
    "        (define (skip1 lox acc) (\n",
    "            cond\n",
    "            [(empty? lox) (... acc)]\n",
    "            [else (\n",
    "                ... acc\n",
    "                    (first lox)\n",
    "                    (skip1 (rest lox) (... acc))\n",
    "            )]\n",
    "        ))\n",
    "    ]\n",
    "    (skip1 lox0 ...)\n",
    "))\n",
    "\n",
    ";; More Refined Template\n",
    "(define (skip1 lox0) (\n",
    "\n",
    "    ;; Signature\n",
    "    ;; acc: Natural; l-based position of (first lox) in lox0\n",
    "\n",
    "    ;; Example\n",
    "    ;; (skip1 (list \"a\" \"b\" \"c\") 1)\n",
    "    ;; (skip1 (list     \"b\" \"c\") 2)\n",
    "    ;; (skip1 (list         \"c\") 3)\n",
    "    \n",
    "    local\n",
    "    [\n",
    "        (define (skip1 lox acc) (\n",
    "            cond\n",
    "            [(empty? lox) empty]\n",
    "            [else (\n",
    "                if  (odd? acc)\n",
    "                    (cons (first lox) (skip1 (rest lox) (+ acc 1)))\n",
    "                    (skip1 (rest lox) (+ acc 1))\n",
    "            )]\n",
    "        ))\n",
    "    ]\n",
    "    (skip1 lox0 1)\n",
    "))"
   ]
  },
  {
   "attachments": {},
   "cell_type": "markdown",
   "metadata": {},
   "source": [
    "**Accumulator recursion requires:**\n",
    "- initial value, initialize the accumulator\n",
    "- using/exploiting the accumulator value (checking the accumulator value)\n",
    "- updating the accumulator to preserve invariant (update accumulator every call)"
   ]
  },
  {
   "attachments": {},
   "cell_type": "markdown",
   "metadata": {},
   "source": [
    "**Example**"
   ]
  },
  {
   "cell_type": "raw",
   "metadata": {},
   "source": [
    ";; listof Anything -> listof Anything\n",
    ";; Purpose: produce a list of 1,3,5,7,... odd'th element of the list.\n",
    "\n",
    "(define (oddIndex-elements loe) (\n",
    "                                 local\n",
    "                                  [\n",
    "                                   (define (skipE? loe index) (\n",
    "                                                               cond\n",
    "                                                                [(empty? loe) empty]\n",
    "                                                                [else\n",
    "                                                                 (if\n",
    "                                                                  (odd? index)\n",
    "                                                                  (cons (first loe) (skipE? (rest loe) (+ index 1)))\n",
    "                                                                  (skipE? (rest loe) (+ index 1))\n",
    "                                                                  )\n",
    "                                                                 ]\n",
    "                                                               ))\n",
    "                                   ]\n",
    "                                  (skipE? loe 1)\n",
    "                                 ))"
   ]
  },
  {
   "attachments": {},
   "cell_type": "markdown",
   "metadata": {},
   "source": [
    "**Practice**"
   ]
  },
  {
   "attachments": {},
   "cell_type": "markdown",
   "metadata": {},
   "source": [
    "You are asked to design a function that numbers a list of strings by inserting a number and a colon before each element of the list based on its position. So for example:\n",
    "\n",
    "(number-list (list \"first\" \"second\" \"third\")) would produce (list \"1: first\" \"2: second\" \"3: third\")\n",
    "\n",
    "Here is a partially completed design of this function"
   ]
  },
  {
   "cell_type": "raw",
   "metadata": {},
   "source": [
    ";; (listof String) -> (listof String)\n",
    ";; append each string's position in the list to the front of the string to number the list\n",
    "(check-expect (number-list empty) empty)\n",
    "(check-expect (number-list (list \"first\" \"second\" \"third\")) \n",
    "              (list \"1: first\" \"2: second\" \"3: third\"))\n",
    "(define (number-list los) los)   ;stub"
   ]
  },
  {
   "attachments": {},
   "cell_type": "markdown",
   "metadata": {},
   "source": [
    "- Solution"
   ]
  },
  {
   "cell_type": "raw",
   "metadata": {},
   "source": [
    ";; Signature\n",
    ";; (listof String) -> (listof String)\n",
    "\n",
    ";; Purpose\n",
    ";; append each string's position in the list to the front of the string to number the list\n",
    "\n",
    ";; Examples\n",
    "(check-expect (number-list empty) empty)\n",
    "(check-expect (number-list (list \"first\" \"second\" \"third\")) \n",
    "              (list \"1: first\" \"2: second\" \"3: third\"))\n",
    ";; Stub\n",
    ";(define (number-list los) los)\n",
    "\n",
    ";; Template\n",
    "(define (number-list los) (\n",
    "                           local\n",
    "                            [\n",
    "                             (define (number-list los index) (\n",
    "                                                              cond\n",
    "                                                               [(empty? los) empty]\n",
    "                                                               [else (\n",
    "                                                                      cons (string-append (number->string index) \": \" (first los)) (number-list (rest los) (+ index 1))\n",
    "                                                                      )]\n",
    "                                                              ))\n",
    "                             ]\n",
    "                            (number-list los 1)\n",
    "                           ))"
   ]
  }
 ],
 "metadata": {
  "language_info": {
   "name": "python"
  },
  "orig_nbformat": 4
 },
 "nbformat": 4,
 "nbformat_minor": 2
}
