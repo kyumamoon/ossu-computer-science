{
 "cells": [
  {
   "attachments": {},
   "cell_type": "markdown",
   "metadata": {},
   "source": [
    "This video sets up a simple context preserving accumulator problem for you to practice with.\n",
    "\n",
    "The starter file for this video is skipn-starter.rkt"
   ]
  },
  {
   "attachments": {},
   "cell_type": "markdown",
   "metadata": {},
   "source": [
    "PROBLEM:\n",
    "\n",
    "Design a function that consumes a list of elements lox and a natural number\n",
    "n and produces the list formed by including the first element of lox, then \n",
    "skipping the next n elements, including an element, skipping the next n \n",
    "and so on.\n",
    "\n",
    "(skipn (list \"a\" \"b\" \"c\" \"d\" \"e\" \"f\") 2) should produce (list \"a\" \"d\")"
   ]
  },
  {
   "attachments": {},
   "cell_type": "markdown",
   "metadata": {},
   "source": [
    "- Solution"
   ]
  },
  {
   "cell_type": "code",
   "execution_count": null,
   "metadata": {
    "vscode": {
     "languageId": "plaintext"
    }
   },
   "outputs": [],
   "source": [
    ";; Signature\n",
    ";; (listof string) Number -> (listof String)\n",
    "\n",
    ";; Purpose\n",
    ";; Produce a list that contains first and every previous-index+(n+1) element after.\n",
    "\n",
    ";; Example\n",
    "(check-expect (skipn (list \"a\" \"b\" \"c\" \"d\" \"e\" \"f\") 1) (list \"a\" \"c\" \"e\"))\n",
    "(check-expect (skipn (list \"a\" \"b\" \"c\" \"d\" \"e\" \"f\") 0) (list \"a\" \"b\" \"c\" \"d\" \"e\" \"f\"))\n",
    "(check-expect (skipn (list \"a\" \"b\" \"c\" \"d\" \"e\" \"f\") 2) (list \"a\" \"d\"))\n",
    "(check-expect (skipn (list \"a\" \"b\" \"c\" \"d\" \"e\" \"f\") 100) (list \"a\"))\n",
    "\n",
    ";; Stub\n",
    ";(define (skipn loe skipmuch) empty)\n",
    "\n",
    ";; Template\n",
    "(define (skipn loe skipmuch) (\n",
    "                              local\n",
    "                               [\n",
    "                                (define (skipn loe acc) (\n",
    "                                                                  cond\n",
    "                                                                   [(empty? loe) empty]\n",
    "                                                                   [else (\n",
    "                                                                          if\n",
    "                                                                          (equal? acc 0)\n",
    "                                                                          (cons (first loe) (skipn (rest loe) (+ acc skipmuch)))\n",
    "                                                                          (skipn (rest loe) (- acc 1))\n",
    "                                                                          )]\n",
    "                                                                  ))\n",
    "                                ]\n",
    "                               (skipn loe 0)\n",
    "                              ))"
   ]
  }
 ],
 "metadata": {
  "language_info": {
   "name": "python"
  },
  "orig_nbformat": 4
 },
 "nbformat": 4,
 "nbformat_minor": 2
}
