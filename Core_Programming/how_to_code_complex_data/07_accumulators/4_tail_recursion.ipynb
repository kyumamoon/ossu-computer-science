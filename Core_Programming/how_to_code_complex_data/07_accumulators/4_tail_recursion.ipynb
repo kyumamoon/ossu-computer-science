{
 "cells": [
  {
   "attachments": {},
   "cell_type": "markdown",
   "metadata": {},
   "source": [
    "# **Tail Recursion**\n",
    "\n",
    "This video introduces the concepts of tail position, call position and tail recursion.\n",
    "\n",
    "The starter file for this video is sum-tr-starter.rkt"
   ]
  }
 ],
 "metadata": {
  "language_info": {
   "name": "python"
  },
  "orig_nbformat": 4
 },
 "nbformat": 4,
 "nbformat_minor": 2
}
