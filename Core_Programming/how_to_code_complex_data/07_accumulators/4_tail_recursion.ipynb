{
 "cells": [
  {
   "attachments": {},
   "cell_type": "markdown",
   "metadata": {},
   "source": [
    "# **Tail Recursion**\n",
    "\n",
    "This video introduces the concepts of tail position, call position and tail recursion.\n",
    "\n",
    "The starter file for this video is sum-tr-starter.rkt"
   ]
  },
  {
   "attachments": {},
   "cell_type": "markdown",
   "metadata": {},
   "source": [
    "- Tail Recursion helps make recursion faster by storing context and passing it onto the next recursive call.\n",
    "- Tail Position is an expression in a position where its result is the result of the enclosing function. The (+ (first lon) (sum (rest lon))) is the tail position of the sum function below."
   ]
  },
  {
   "attachments": {},
   "cell_type": "markdown",
   "metadata": {},
   "source": [
    "**Problem 1**\n",
    "\n",
    "(A) Consider the following function that consumes a list of numbers and produces\n",
    "    the sum of all the numbers in the list. Use the stepper to analyze the behavior \n",
    "    of this function as the list gets larger and larger. \n",
    "    \n",
    "(B) Use an accumulator to design a tail-recursive version of sum."
   ]
  },
  {
   "cell_type": "code",
   "execution_count": null,
   "metadata": {
    "vscode": {
     "languageId": "plaintext"
    }
   },
   "outputs": [],
   "source": [
    ";; (listof Number) -> Number\n",
    ";; produce sum of all elements of lon\n",
    "(check-expect (sum empty) 0)\n",
    "(check-expect (sum (list 2 4 5)) 11)\n",
    "\n",
    "(define (sum lon)\n",
    "  (cond [(empty? lon) 0]\n",
    "        [else\n",
    "         (+ (first lon)\n",
    "            (sum (rest lon)))]))"
   ]
  },
  {
   "attachments": {},
   "cell_type": "markdown",
   "metadata": {},
   "source": [
    "- Tail Recursive Version with \"Accumulator\""
   ]
  },
  {
   "attachments": {},
   "cell_type": "raw",
   "metadata": {},
   "source": [
    "(define (sum lon) (\n",
    "                   local\n",
    "                    [\n",
    "                     (define (sum lon tailcall) (\n",
    "                                                 cond\n",
    "                                                  [(empty? lon) tailcall]\n",
    "                                                  [else (\n",
    "                                                         sum (rest lon) (+ tailcall (first lon))\n",
    "                                                         )\n",
    "                                                  ]\n",
    "                                                 ))\n",
    "                     ]\n",
    "                    (sum lon 0)\n",
    "                   ))"
   ]
  },
  {
   "attachments": {},
   "cell_type": "markdown",
   "metadata": {},
   "source": [
    "- Shorter Version, with accumulator in first function"
   ]
  },
  {
   "cell_type": "raw",
   "metadata": {},
   "source": [
    "(define (sum lon tailcall)\n",
    "  (cond [(empty? lon) tailcall]\n",
    "        [else (\n",
    "               sum (rest lon) (+ tailcall (first lon))\n",
    "               )\n",
    "         ]))"
   ]
  },
  {
   "attachments": {},
   "cell_type": "markdown",
   "metadata": {},
   "source": [
    "- Analyzing tail position\n",
    "    - The build up of stacks is caused by recursive call not being in tail position.\n",
    "    - Resursive call in question is (sum (rest lon))\n",
    "- Tail recursion is when a recursive call is in tail position of the enclosing function."
   ]
  },
  {
   "cell_type": "raw",
   "metadata": {},
   "source": [
    ";; (listof Number) -> Number\n",
    ";; produce sum of all elements of lon\n",
    "(check-expect (sum empty) 0)\n",
    "(check-expect (sum (list 2 4 5)) 11)\n",
    "\n",
    "(define (sum lon)\n",
    "  (cond [(empty? lon) 0]\n",
    "        [else\n",
    "         (+                         ;; IS TAIL POSITION, ITS RESULT IS THE FINAL RESULT\n",
    "            (first lon)             ;; NOT TAIL POSITION, because its result is not the final result for sum\n",
    "            (sum (rest lon))        ;; NOT TAIL POSITION, because its not final result of sum\n",
    "            )\n",
    "        ]\n",
    "    )\n",
    ")    "
   ]
  },
  {
   "cell_type": "raw",
   "metadata": {},
   "source": [
    "(define (sum lon) (\n",
    "\n",
    "       ;; acc: Number; the sum of the elements of lon0 seen so far\n",
    "       ;; (sum (list 2 4 5))\n",
    "       ;; (sum (list 2 4 5) 0)\n",
    "       ;; (sum (list   4 5) 2)\n",
    "       ;; (sum (list     5) 6)\n",
    "       ;; (sum (list      ) 11)\n",
    "\n",
    "                   local\n",
    "                    [\n",
    "                     (define (sum lon tailcall) (\n",
    "                                                 cond\n",
    "                                                  [(empty? lon) tailcall]\n",
    "                                                  [else (\n",
    "                                                         sum (rest lon) (+ tailcall (first lon))\n",
    "                                                         )\n",
    "                                                  ]\n",
    "                                                 ))\n",
    "                     ]\n",
    "                    (sum lon 0) ;; RECURSIVE CALL IS TAIL POSITION OF THE SUM FUNCTION\n",
    "                   ))"
   ]
  },
  {
   "attachments": {},
   "cell_type": "markdown",
   "metadata": {},
   "source": [
    "**Steps to make function tail recursive**\n",
    "1. Template according to accumulator recipe\n",
    "2. Delete part of template wrapping around recursive call\n",
    "3. Computation that would have been around recursive call moves to be in accumulator argument position"
   ]
  }
 ],
 "metadata": {
  "language_info": {
   "name": "python"
  },
  "orig_nbformat": 4
 },
 "nbformat": 4,
 "nbformat_minor": 2
}
