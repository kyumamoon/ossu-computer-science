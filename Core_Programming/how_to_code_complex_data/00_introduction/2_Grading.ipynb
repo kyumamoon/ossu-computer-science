{
 "cells": [
  {
   "attachments": {},
   "cell_type": "markdown",
   "metadata": {},
   "source": [
    "There are three different types of assignments in this course:\n",
    "\n",
    "1. Lecture Questions: 25% of total grade\n",
    "\n",
    "    - As you work through the lecture videos, there are questions for you to answer that check your understanding the material. These questions are worth 25% of your total grade, and you should complete all of them before moving onto the quizzes. You have unlimited attempts to answer these questions.\n",
    "\n",
    "2. Quizzes: 25% of total grade\n",
    "\n",
    "    - At the end of each week, there is a quiz based on that week's material. These quizzes consist of several design problems for you to complete in DrRacket, and a set of multiple choice questions for you to answer about your solutions. Unlike the Lecture Questions, you will only be allowed one attempt for each question. Together the Quizzes are worth 25% of your total grade.\n",
    "\n",
    "3. Final Project: 50% of total grade\n",
    "\n",
    "    - At the end of the course there is a final project for you to complete based on material from the whole course, worth 50% of your total grade. The final project has a timed component, and will be assessed by staff based on a rubric provided. "
   ]
  }
 ],
 "metadata": {
  "language_info": {
   "name": "python"
  },
  "orig_nbformat": 4
 },
 "nbformat": 4,
 "nbformat_minor": 2
}
