{
 "cells": [
  {
   "attachments": {},
   "cell_type": "markdown",
   "metadata": {},
   "source": [
    "- The complete How to Code course consists of 2 parts. Each part is 6 weeks long, and each week consists of 1 or 2 modules. All of those modules have a similar structure, comprised of:\n",
    "\n",
    "    - An overview describing the module learning goals and summarizing the work required to complete the module.\n",
    "    - A number of blended topic lectures, consisting of video interspersed with questions for you to answer.\n",
    "    - A set of problems that will let you practice the new design techniques before the quiz.\n",
    "    - A module quiz. The module quiz is either a set of questions on the week's material, or a self-assessed design problem.\n",
    "    - A module wrap up.\n",
    "\n",
    "- The following chart provides an overview of the course topics: 1_Syllabus_Pic.png"
   ]
  }
 ],
 "metadata": {
  "language_info": {
   "name": "python"
  },
  "orig_nbformat": 4
 },
 "nbformat": 4,
 "nbformat_minor": 2
}
