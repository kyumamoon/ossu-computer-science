{
 "cells": [
  {
   "attachments": {},
   "cell_type": "markdown",
   "metadata": {},
   "source": [
    "# **Mutually Recursive Data**\n"
   ]
  },
  {
   "attachments": {},
   "cell_type": "markdown",
   "metadata": {},
   "source": [
    "Mutually self-referential types can represent a tree of arbitrary depth and width.\n",
    "\n",
    "- Starter file is fs-starter.rkt"
   ]
  },
  {
   "attachments": {},
   "cell_type": "markdown",
   "metadata": {},
   "source": [
    "- Arbitrary arity tree is arbitrary in size in 2 dimensions, in its depth and in its width.\n",
    "- Arbitrary arity tree is like the tree structure of a directory in linux.\n",
    "    - Each branch/element has sub-branches/elements or just a single leaf/data.\n",
    "- Arbitrary-size in two dimensions require TWO CYCLES in the type reference graph."
   ]
  },
  {
   "cell_type": "raw",
   "metadata": {},
   "source": [
    "(require 2htdp/image)\n",
    "\n",
    ";; Data definitions:\n",
    "(define-struct Element (name data subs))\n",
    "\n",
    ";; Element is (make-elt String Integer ListOfElement)\n",
    ";; interp. An element in the file system, with name, and EITHER a data or a subs.\n",
    ";       If data is 0, then subs is considered to be list of sub elements.\n",
    ";       If data is not 0, then subs is ignored.\n",
    "\n",
    ";; ListOfElement is one of:\n",
    ";   - empty\n",
    ";   - (cons Element ListOfElement)\n",
    "\n",
    ";; Interp. A list of file system elements\n",
    "\n",
    ";; Examples:\n",
    "\n",
    "(define F1 (make-Element \"F1\" 1 empty))\n",
    "(define F1 (make-Element \"F2\" 2 empty))\n",
    "(define F1 (make-Element \"F3\" 3 empty))\n",
    "\n",
    "(define D4 (make-Element \"D4\" 0 (list F1 F2)))\n",
    "(define D5 (make-Element \"D5\" 0 (list F3)))\n",
    "(define D6 (make-Element \"D6\" 0 (list D4 D5)))\n",
    "\n",
    "; D6 is the root, D4 and D5 are the subs, F1,F2,F3 are data."
   ]
  },
  {
   "attachments": {},
   "cell_type": "markdown",
   "metadata": {},
   "source": [
    "- ListOfElement is self-reference cycle which allows each element to have an arbitrary amount of sub-elements, that is, allows tree to have arbitrary breadth(width).\n",
    "- Mutual reference cycle allows tree to have arbitrary depth.\n",
    "    - Element is referencing ListOfElement."
   ]
  },
  {
   "cell_type": "raw",
   "metadata": {},
   "source": [
    ";; Functions:\n"
   ]
  }
 ],
 "metadata": {
  "language_info": {
   "name": "python"
  },
  "orig_nbformat": 4
 },
 "nbformat": 4,
 "nbformat_minor": 2
}
