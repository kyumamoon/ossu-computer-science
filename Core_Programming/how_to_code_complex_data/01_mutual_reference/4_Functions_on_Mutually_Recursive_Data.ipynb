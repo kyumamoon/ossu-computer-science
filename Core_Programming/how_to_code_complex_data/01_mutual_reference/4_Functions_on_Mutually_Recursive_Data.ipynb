{
 "cells": [
  {
   "attachments": {},
   "cell_type": "markdown",
   "metadata": {},
   "source": [
    "# **Functions on Mutually Recursive Data**"
   ]
  },
  {
   "attachments": {},
   "cell_type": "markdown",
   "metadata": {},
   "source": [
    "Continuation Code from 3. Mutually self-referential types lead to mutually recursive functions.\n",
    "\n",
    "The starter file for this video is fs-v1.rkt."
   ]
  },
  {
   "cell_type": "code",
   "execution_count": null,
   "metadata": {
    "vscode": {
     "languageId": "plaintext"
    }
   },
   "outputs": [],
   "source": [
    "(require 2htdp/image)\n",
    "\n",
    ";; Data definitions:\n",
    "(define-struct elt (name data subs))\n",
    "\n",
    ";; Element is (make-elt String Integer ListOfElement)\n",
    ";; interp. An element in the file system, with name, and EITHER a data or a subs.\n",
    ";       If data is 0, then subs is considered to be list of sub elements.\n",
    ";       If data is not 0, then subs is ignored.\n",
    "\n",
    ";; ListOfElement is one of:\n",
    ";   - empty\n",
    ";   - (cons Element ListOfElement)\n",
    "\n",
    ";; Interp. A list of file system elements\n",
    "\n",
    ";; Examples:\n",
    "\n",
    "(define F1 (make-elt \"F1\" 1 empty))\n",
    "(define F2 (make-elt \"F2\" 2 empty))\n",
    "(define F3 (make-elt \"F3\" 3 empty))\n",
    "\n",
    "(define D4 (make-elt \"D4\" 0 (list F1 F2)))\n",
    "(define D5 (make-elt \"D5\" 0 (list F3)))\n",
    "(define D6 (make-elt \"D6\" 0 (list D4 D5)))\n",
    "; D6 is the root, D4 and D5 are the subs, F1,F2,F3 are data.\n",
    "\n",
    ";; Template 1\n",
    "(define (fn-for-element e)\n",
    "    (... (elt-name e)   ; string\n",
    "        (elt-data e)    ; integer\n",
    "        (fn-for-loe (elt-subs e))\n",
    "    )\n",
    ")\n",
    "\n",
    ";; Template 2\n",
    "(define (fn-for-loe loe)\n",
    "    (cond   [(empty? loe) (...)]\n",
    "            [else (...\n",
    "                (fn-for-element (first loe))\n",
    "                (fn-for-loe (rest loe))\n",
    "            )]\n",
    "    )\n",
    ")"
   ]
  },
  {
   "attachments": {},
   "cell_type": "markdown",
   "metadata": {},
   "source": [
    "Design a function that consumes Element and produces the sum of all the file data in the tree."
   ]
  },
  {
   "cell_type": "raw",
   "metadata": {},
   "source": [
    ";; Functions:\n",
    "\n",
    ";; Element -> Integer\n",
    ";; Produce sum of all the data in the element (and its subs)\n",
    "\n",
    ";; Examples\n",
    "(check-expect (sum-data--element F1) 1)\n",
    "(check-expect (sum-data--element D5) 3)\n",
    "(check-expect (sum-data--element D4) (+ 1 2))\n",
    "(check-expect (sum-data--element D6) (+ 1 2 3))\n",
    "\n",
    ";; Stub\n",
    "; (define (sum-data--element e) 0)\n",
    "\n",
    ";; Template\n",
    "(define (sum-data--element e) \n",
    "    (if (zero? (elt-data e))\n",
    "        (sum-data--loe (elt-subs e))\n",
    "        (elt-data e)\n",
    "    )\n",
    ")\n",
    "\n",
    "\n",
    "\n",
    ";; ListOfElement -> Integer??\n",
    "\n",
    ";; Examples\n",
    "(check-expect (sum-data--loe empty) 0)\n",
    "\n",
    ";; Stub\n",
    ";(define (sum-data--loe loe) 0)\n",
    "\n",
    ";; Template\n",
    "(define (sum-data--loe loe) \n",
    "    (cond   [(empty? loe) 0]\n",
    "            [else \n",
    "            (+\n",
    "                (sum-data--element (first loe))\n",
    "                (sum-data--loe (rest loe))\n",
    "            )\n",
    "            ]\n",
    "    )\n",
    ")"
   ]
  },
  {
   "attachments": {},
   "cell_type": "markdown",
   "metadata": {},
   "source": [
    "Design a function that consumes Element and produces a list of the names of all the elements in the tree."
   ]
  },
  {
   "cell_type": "raw",
   "metadata": {},
   "source": [
    ";; Functions:\n",
    "\n",
    ";; Element -> ListOfString\n",
    ";; Produce a list of names for element and subelements.\n",
    "\n",
    ";; Examples\n",
    "(check-expect (sum-data--element F1) 1)\n",
    "(check-expect (sum-data--element D5) 3)\n",
    "(check-expect (sum-data--element D4) (+ 1 2))\n",
    "(check-expect (sum-data--element D6) (+ 1 2 3))\n",
    "\n",
    ";; Stub\n",
    "; (define (sum-data--element e) 0)\n",
    "\n",
    ";; Template\n",
    "(define (sum-data--element e) (\n",
    "    (if (zero? (elt-data e))\n",
    "        (cons (elt-name e) (sum-data--loe (elt-subs e)))\n",
    "        (cons (elt-name e) empty)\n",
    "    )\n",
    "))\n",
    "\n",
    "\n",
    "\n",
    ";; ListOfElement -> ListOfString\n",
    "\n",
    ";; Examples\n",
    "(check-expect (sum-data-loe empty) 0)\n",
    "\n",
    ";; Stub\n",
    "(define (sum-data--loe loe) 0)\n",
    "\n",
    ";; Template\n",
    "(define (sum-data--loe loe) (\n",
    "    (cond   [(empty loe) empty]\n",
    "            [else \n",
    "            (cons (sum-data--element (first loe)))\n",
    "            ]\n",
    "    )\n",
    "))"
   ]
  },
  {
   "attachments": {},
   "cell_type": "markdown",
   "metadata": {},
   "source": [
    "Design a function that consumes String Element and produces true if there is an element in the tree with the given name."
   ]
  }
 ],
 "metadata": {
  "language_info": {
   "name": "python"
  },
  "orig_nbformat": 4
 },
 "nbformat": 4,
 "nbformat_minor": 2
}
