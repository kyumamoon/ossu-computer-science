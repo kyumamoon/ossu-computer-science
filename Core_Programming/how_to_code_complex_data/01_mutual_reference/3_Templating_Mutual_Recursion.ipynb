{
 "cells": [
  {
   "attachments": {},
   "cell_type": "markdown",
   "metadata": {},
   "source": [
    "# **Templating Mutual Recursion**"
   ]
  },
  {
   "attachments": {},
   "cell_type": "markdown",
   "metadata": {},
   "source": [
    "Continuation from 2"
   ]
  },
  {
   "cell_type": "code",
   "execution_count": null,
   "metadata": {
    "vscode": {
     "languageId": "plaintext"
    }
   },
   "outputs": [],
   "source": [
    "(require 2htdp/image)\n",
    "\n",
    ";; Data definitions:\n",
    "(define-struct Element (name data subs))\n",
    "\n",
    ";; Element is (make-elt String Integer ListOfElement)\n",
    ";; interp. An element in the file system, with name, and EITHER a data or a subs.\n",
    ";       If data is 0, then subs is considered to be list of sub elements.\n",
    ";       If data is not 0, then subs is ignored.\n",
    "\n",
    ";; ListOfElement is one of:\n",
    ";   - empty\n",
    ";   - (cons Element ListOfElement)\n",
    "\n",
    ";; Interp. A list of file system elements\n",
    "\n",
    ";; Examples:\n",
    "\n",
    "(define F1 (make-Element \"F1\" 1 empty))\n",
    "(define F1 (make-Element \"F2\" 2 empty))\n",
    "(define F1 (make-Element \"F3\" 3 empty))\n",
    "\n",
    "(define D4 (make-Element \"D4\" 0 (list F1 F2)))\n",
    "(define D5 (make-Element \"D5\" 0 (list F3)))\n",
    "(define D6 (make-Element \"D6\" 0 (list D4 D5)))\n",
    "\n",
    "; D6 is the root, D4 and D5 are the subs, F1,F2,F3 are data."
   ]
  },
  {
   "attachments": {},
   "cell_type": "markdown",
   "metadata": {},
   "source": [
    "Write Templates for mutually referencial data types together."
   ]
  },
  {
   "attachments": {},
   "cell_type": "raw",
   "metadata": {},
   "source": [
    ";; Template 1\n",
    "(define (fn-for-element e)\n",
    "    (... (elt-name e)   ; string\n",
    "        (elt-data e)    ; integer\n",
    "        (fn-for-loe (elt-subs e))\n",
    "    )\n",
    ")\n",
    "\n",
    ";; Template 2\n",
    "(define (fn-for-loe loe)\n",
    "    (cond   [(empty? loe) (...)]\n",
    "            [else (...\n",
    "                (fn-for-element (first loe))\n",
    "                (fn-for-loe (rest loe))\n",
    "            )]\n",
    "    )\n",
    ")"
   ]
  }
 ],
 "metadata": {
  "language_info": {
   "name": "python"
  },
  "orig_nbformat": 4
 },
 "nbformat": 4,
 "nbformat_minor": 2
}
