{
 "cells": [
  {
   "attachments": {},
   "cell_type": "markdown",
   "metadata": {},
   "source": [
    "# **Mutual Reference Module**\n",
    "\n",
    "- In this module, we'll learn how to use multiple mutually referential types to structure more complex arbitrary-sized data. We update the HtDD and HtDF recipes for this purpose, but most of the work you already know how to do.\n",
    "\n",
    "- Working through the videos and practice materials for this module should take approximately 6-7 hours of dedicated time to complete.\n",
    "\n",
    "- Learning Goals\n",
    "    - Be able to identify problem domain information of arbitrary size that should be represented using arbitrary arity trees.\n",
    "    - Be able to use the design recipes to design with arbitrary arity trees.\n",
    "    - Be able to use the design recipes with mutually-referential data.\n",
    "    - Be able to predict and identify the correspondence between external-, self- and mutual-reference in a data definition and calls, recursion and mutual-recursion in functions that operate on the data."
   ]
  }
 ],
 "metadata": {
  "language_info": {
   "name": "python"
  },
  "orig_nbformat": 4
 },
 "nbformat": 4,
 "nbformat_minor": 2
}
