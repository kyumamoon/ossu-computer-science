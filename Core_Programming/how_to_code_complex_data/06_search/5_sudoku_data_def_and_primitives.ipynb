{
 "cells": [
  {
   "attachments": {},
   "cell_type": "markdown",
   "metadata": {},
   "source": [
    "# **Sudoku -- Data Definitions and Primitives**\n",
    "\n",
    "In this video, we'll go through the data definitions in the starter file.\n",
    "\n",
    "The starter file for this video is sudoku-starter.rkt"
   ]
  },
  {
   "attachments": {},
   "cell_type": "markdown",
   "metadata": {},
   "source": [
    "- Look at data definition and functions in racket file."
   ]
  }
 ],
 "metadata": {
  "language_info": {
   "name": "python"
  },
  "orig_nbformat": 4
 },
 "nbformat": 4,
 "nbformat_minor": 2
}
