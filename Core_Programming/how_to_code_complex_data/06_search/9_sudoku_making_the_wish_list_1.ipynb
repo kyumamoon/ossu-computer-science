{
 "cells": [
  {
   "attachments": {},
   "cell_type": "markdown",
   "metadata": {},
   "source": [
    "Working through the wish list.\n",
    "\n",
    "The starter file for this video is sudoku-v2.rkt"
   ]
  },
  {
   "cell_type": "raw",
   "metadata": {},
   "source": [
    ";;!! solved? function\n",
    "\n",
    ";; Signature\n",
    ";; Board -> boolean\n",
    "\n",
    ";; Purpose\n",
    ";; produce true if board is solved\n",
    ";; asume: board is valid, so it is solved if it is full\n",
    "\n",
    ";; Example\n",
    "(check-expect (solved? BD1) false)\n",
    "(check-expect (solved? BD2) false)\n",
    "(check-expect (solved? BD4s) true)\n",
    "\n",
    ";; Stub\n",
    "; (define (solved? bd) false)\n",
    "\n",
    ";; Template\n",
    "(define (solved? bd) (\n",
    "                      andmap number? bd\n",
    "                      ))"
   ]
  },
  {
   "cell_type": "raw",
   "metadata": {},
   "source": [
    ";;!! next-boards\n",
    ";; Signature\n",
    ";; Board -> (listof Board)\n",
    "\n",
    ";; Purpose\n",
    ";; Produce list of valid next boards from board\n",
    ";; finds first empty square, fill with [1,9], keeps only valid boards\n",
    "\n",
    ";; Examples\n",
    "(check-expect (next-boards (cons 1 (rest BD1))) (\n",
    "                                                 list (cons 1 (cons 2 (rest (rest BD1))))\n",
    "                                                      (cons 1 (cons 3 (rest (rest BD1))))\n",
    "                                                      (cons 1 (cons 4 (rest (rest BD1))))\n",
    "                                                      (cons 1 (cons 5 (rest (rest BD1))))\n",
    "                                                      (cons 1 (cons 6 (rest (rest BD1))))\n",
    "                                                      (cons 1 (cons 7 (rest (rest BD1))))\n",
    "                                                      (cons 1 (cons 8 (rest (rest BD1))))\n",
    "                                                      (cons 1 (cons 9 (rest (rest BD1))))\n",
    "                                                 ))\n",
    "\n",
    ";; Stub\n",
    "; (define (next-boards bd) empty)\n",
    "\n",
    ";; Template\n",
    "(define (next-boards bd) (\n",
    "                          (keep-only-valid (fill-with-1-9 (find-blank bd) bd))\n",
    "                          ))"
   ]
  },
  {
   "attachments": {},
   "cell_type": "markdown",
   "metadata": {},
   "source": [
    "Created 3 more helpers for next-boards function"
   ]
  },
  {
   "cell_type": "raw",
   "metadata": {},
   "source": [
    ";;!! find-blank\n",
    ";; Board -> Pos\n",
    ";; produce position of the first blank square\n",
    ";; ASSUME: board has at least one blank square\n",
    ";; Stub:\n",
    "; (define (find-blank bd) 0)"
   ]
  },
  {
   "cell_type": "raw",
   "metadata": {},
   "source": [
    ";;!! fill-with-1-9\n",
    ";; Pos Board -> (listof Board)\n",
    ";; produce 9 boards, with blank filled with Natural[1,9]\n",
    ";; Stub:\n",
    "; (define (fill-with-1-9 pos bd) empty)"
   ]
  },
  {
   "cell_type": "raw",
   "metadata": {},
   "source": [
    ";;!! keep-only-valid\n",
    ";; (listof Board) -> (listof Board)\n",
    ";; produce list containing only valid boards\n",
    ";; Stub\n",
    "; (define (keep-only-valid lobd) empty)"
   ]
  }
 ],
 "metadata": {
  "language_info": {
   "name": "python"
  },
  "orig_nbformat": 4
 },
 "nbformat": 4,
 "nbformat_minor": 2
}
