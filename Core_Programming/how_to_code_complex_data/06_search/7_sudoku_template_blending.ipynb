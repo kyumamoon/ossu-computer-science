{
 "cells": [
  {
   "attachments": {},
   "cell_type": "markdown",
   "metadata": {},
   "source": [
    "# **Sudoku Template Blending**\n",
    "\n",
    "The one new design technique required for the Sudoku solver is template blending, in which we combine several different kinds of templates all of which contribute to the backbone of a function (or functions).\n",
    "\n",
    "The starter file for this video is sudoku-starter.rkt"
   ]
  },
  {
   "cell_type": "raw",
   "metadata": {},
   "source": [
    ";; Signature\n",
    ";; Board -> Board or False\n",
    "\n",
    ";; Purpose\n",
    ";; Produce a solution for a board; or false if board is unsolvable.\n",
    ";; Assume: board is valid (has no invalid starting entries.\n",
    "\n",
    ";; Example\n",
    "(check-expect (solve BD4) BD4s)\n",
    "(check-expect (solve BD5) BD5s)\n",
    "(check-expect (solve BD7) false)\n",
    "\n",
    ";; Stub\n",
    "; (define (solve bd) false)\n",
    "\n",
    ";; Template\n",
    "(define (solve bd) (\n",
    "    local\n",
    "        [\n",
    "            (define (solve--bd bd) (\n",
    "                if (full? bd)\n",
    "                    bd\n",
    "                    (solve--lobd (next-boards bd))\n",
    "            ))\n",
    "            (define (solve--lobd lobd) (\n",
    "                cond [(empty? lobd) false]\n",
    "                    [else (local [(define try (solve--bd (first lobd)))]\n",
    "                        (if \n",
    "                            (not (false? try)) \n",
    "                            try \n",
    "                            (solve--lobd (rest lobd))\n",
    "                        )\n",
    "                    )]\n",
    "            ))\n",
    "        ]\n",
    "        (solve--bd bd)\n",
    "))"
   ]
  }
 ],
 "metadata": {
  "language_info": {
   "name": "python"
  },
  "orig_nbformat": 4
 },
 "nbformat": 4,
 "nbformat_minor": 2
}
