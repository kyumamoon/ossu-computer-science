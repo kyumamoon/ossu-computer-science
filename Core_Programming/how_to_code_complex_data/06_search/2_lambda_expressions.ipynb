{
 "cells": [
  {
   "attachments": {},
   "cell_type": "markdown",
   "metadata": {},
   "source": [
    "# **Lambda Expressions**\n",
    "\n",
    "- Lambda expressions are useful when a local expression is used only once in a program and the local's function is simple enough."
   ]
  },
  {
   "attachments": {},
   "cell_type": "markdown",
   "metadata": {},
   "source": [
    "**Example 1**"
   ]
  },
  {
   "attachments": {},
   "cell_type": "markdown",
   "metadata": {},
   "source": [
    "- local function is replaced with lambda, which creates a unamed anonymous function that has one parameter and body."
   ]
  },
  {
   "cell_type": "raw",
   "metadata": {},
   "source": [
    ";; Original Code\n",
    "\n",
    "(define (only-bigger threshold lon)\n",
    "  (local [(define (pred n) \n",
    "            (> n threshold))]\n",
    "    \n",
    "    (filter pred lon)))"
   ]
  },
  {
   "cell_type": "raw",
   "metadata": {},
   "source": [
    ";; Lambda Version\n",
    "\n",
    "(define (only-bigger threshold lon)\n",
    "    (filter (lambda (n) (> n threshold)) lon))"
   ]
  },
  {
   "attachments": {},
   "cell_type": "markdown",
   "metadata": {},
   "source": [
    "**Example 2**"
   ]
  },
  {
   "cell_type": "raw",
   "metadata": {},
   "source": [
    ";; Original Code\n",
    "\n",
    "#;(define (all-areas loi)\n",
    "  (local [(define (area i)\n",
    "            (* (image-width i)\n",
    "               (image-height i)))]\n",
    "    (map area loi)))"
   ]
  },
  {
   "cell_type": "raw",
   "metadata": {},
   "source": [
    ";; Lambda Version\n",
    "\n",
    "(define (all-areas loi) (map (lambda (i) (* (image-width i) (image-height i))) loi))"
   ]
  },
  {
   "attachments": {},
   "cell_type": "markdown",
   "metadata": {},
   "source": [
    "**Example 3**"
   ]
  },
  {
   "cell_type": "raw",
   "metadata": {},
   "source": [
    ";; Original\n",
    "\n",
    "#;(define (qsort lon)\n",
    "  (if (empty? lon) \n",
    "      empty\n",
    "      (local [(define p (first lon))\n",
    "              (define (<p? n) (< n p))\n",
    "              (define (>p? n) (> n p))]\n",
    "        (append (qsort (filter <p? lon))\n",
    "                (list p) \n",
    "                (qsort (filter >p? lon))))))"
   ]
  },
  {
   "cell_type": "raw",
   "metadata": {},
   "source": [
    ";; Lambda\n",
    "\n",
    "(define (qsort lon) (\n",
    "                     if (empty? lon)\n",
    "                        empty\n",
    "                        (append (qsort (filter (lambda (n) (< n (first lon))) lon))\n",
    "                                (list (first lon))\n",
    "                                (qsort (filter (lambda (n) (> n (first lon))) lon)))))"
   ]
  }
 ],
 "metadata": {
  "language_info": {
   "name": "python"
  },
  "orig_nbformat": 4
 },
 "nbformat": 4,
 "nbformat_minor": 2
}
