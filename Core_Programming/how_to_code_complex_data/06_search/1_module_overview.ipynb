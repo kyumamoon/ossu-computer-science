{
 "cells": [
  {
   "attachments": {},
   "cell_type": "markdown",
   "metadata": {},
   "source": [
    "# **Search Module**\n",
    "\n",
    "- In this module, we will expand on generative recursion and work on search problems, which are a category of problem solving that can be solved by generating the space of all possible paths from a given state and traversing that space until a solution is found. \n",
    "\n",
    "- We will see that it is quite easy to solve Sudoku puzzles this way.\n",
    "\n",
    "- The Sudoku solver and similar search functions end up having a number of helper functions. So the material in this module will take longer than most previous modules- working through the videos and practice materials for this module should take approximately 8-9 hours of dedicated time to complete.\n",
    "\n",
    "**Learning Goals**\n",
    "1. Be able to identify whether a function should be designed using domain knowledge, structural recursion, built-in abstract list functions or generative recursion.\n",
    "\n",
    "2. Be able to design a backtracking generative search."
   ]
  }
 ],
 "metadata": {
  "language_info": {
   "name": "python"
  },
  "orig_nbformat": 4
 },
 "nbformat": 4,
 "nbformat_minor": 2
}
