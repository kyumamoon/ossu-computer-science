{
 "cells": [
  {
   "attachments": {},
   "cell_type": "markdown",
   "metadata": {},
   "source": [
    "# **Sudoku -- Temrinology**"
   ]
  },
  {
   "attachments": {},
   "cell_type": "markdown",
   "metadata": {},
   "source": [
    "The basic terminology and rules of Sudoku.\n",
    "\n",
    "There is no starter file for this video."
   ]
  },
  {
   "attachments": {},
   "cell_type": "markdown",
   "metadata": {},
   "source": [
    "- 9x9 board with 81 squares. 9 rows and 9 columns.\n",
    "- 9 boxes with 9 boxes within each box.\n",
    "- each box must hold digits 1-9\n",
    "- each row on main board must hold 1-9\n",
    "- each column on main board must hold 1-9\n",
    "- no duplicates of numbers in mini boxes."
   ]
  },
  {
   "attachments": {},
   "cell_type": "markdown",
   "metadata": {},
   "source": [
    "- Unit: row, column, box\n",
    "    - NO DUPLICATE NUMBER IN ANY OF THE UNITS"
   ]
  }
 ],
 "metadata": {
  "language_info": {
   "name": "python"
  },
  "orig_nbformat": 4
 },
 "nbformat": 4,
 "nbformat_minor": 2
}
