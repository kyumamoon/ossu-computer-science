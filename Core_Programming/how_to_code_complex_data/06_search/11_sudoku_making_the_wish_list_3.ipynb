{
 "cells": [
  {
   "attachments": {},
   "cell_type": "markdown",
   "metadata": {},
   "source": [
    "The valid-board? function is perhaps the single most difficult function in the course so far. Or maybe it's just the longest, because following the recipes takes us to a solution relatively easily.\n",
    "\n",
    "The starter file for this video is sudoku-v4.rkt"
   ]
  }
 ],
 "metadata": {
  "language_info": {
   "name": "python"
  },
  "orig_nbformat": 4
 },
 "nbformat": 4,
 "nbformat_minor": 2
}
