{
 "cells": [
  {
   "attachments": {},
   "cell_type": "markdown",
   "metadata": {},
   "source": [
    "Working through the wish list.\n",
    "\n",
    "The starter file for this video is sudoku-v3.rkt"
   ]
  },
  {
   "cell_type": "code",
   "execution_count": null,
   "metadata": {
    "vscode": {
     "languageId": "plaintext"
    }
   },
   "outputs": [],
   "source": [
    ";;!! find-blank\n",
    "\n",
    ";; Signature\n",
    ";; Board -> Pos\n",
    "\n",
    ";; Purpose\n",
    ";; produce position of the first blank square\n",
    ";; ASSUME: board has at least one blank square\n",
    "\n",
    ";; Examples\n",
    "(check-expect (find-blank BD1) 0)\n",
    "(check-expect (find-blank (cons 2 (rest BD1))) 1)\n",
    "(check-expect (find-blank (cons 2 (cons 4 (rest (rest BD1))))) 2)\n",
    "\n",
    ";; Stub:\n",
    "; (define (find-blank bd) 0)\n",
    "\n",
    ";; Template\n",
    "(define (find-blank bd) (\n",
    "    cond \n",
    "    [(empty? bd) (error \"THE BOARD DIDNT HAVE A BLANK SPACE\")]\n",
    "    [else \n",
    "        (\n",
    "        if \n",
    "        (false? (first bd))\n",
    "        0\n",
    "        (+ 1 (find-blank (rest bd)))\n",
    "        )\n",
    "    ]\n",
    "))"
   ]
  },
  {
   "cell_type": "code",
   "execution_count": null,
   "metadata": {
    "vscode": {
     "languageId": "plaintext"
    }
   },
   "outputs": [],
   "source": [
    ";;!! fill-with-1-9\n",
    "\n",
    ";; Signature\n",
    ";; Pos Board -> (listof Board)\n",
    ";; produce 9 boards, with blank filled with Natural[1,9]\n",
    "\n",
    ";; Examples\n",
    "(check-expect (fill-with-1-9 0 BD1) (\n",
    "    list \n",
    "        (cons 1 (rest BD1))\n",
    "        (cons 2 (rest BD1))\n",
    "        (cons 3 (rest BD1))\n",
    "        (cons 4 (rest BD1))\n",
    "        (cons 5 (rest BD1))\n",
    "        (cons 6 (rest BD1))\n",
    "        (cons 7 (rest BD1))\n",
    "        (cons 8 (rest BD1))\n",
    "        (cons 9 (rest BD1))\n",
    "))\n",
    "\n",
    ";; Stub:\n",
    "; (define (fill-with-1-9 pos bd) empty)\n",
    "\n",
    ";; Template\n",
    ";; build-list creates lists using 0 up to exluding specified index.\n",
    "(define (fill-with-1-9 pos bd) (\n",
    "    local \n",
    "    [\n",
    "        (define (build-one n) (\n",
    "            fill-square bd pos (+ n 1)\n",
    "        ))\n",
    "\n",
    "    ] \n",
    "    (build-list 9 build-one)   \n",
    "))"
   ]
  },
  {
   "cell_type": "code",
   "execution_count": null,
   "metadata": {
    "vscode": {
     "languageId": "plaintext"
    }
   },
   "outputs": [],
   "source": [
    ";;!! keep-only-valid\n",
    "\n",
    ";; Signature\n",
    ";; (listof Board) -> (listof Board)\n",
    "\n",
    ";; Purpose\n",
    ";; produce list containing only valid boards\n",
    "\n",
    ";; Examples\n",
    "(check-expect (keep-only-valid (list (cons 1 (cons 1 (rest (rest BD1)))))) empty)\n",
    "\n",
    ";; Stub\n",
    "; (define (keep-only-valid lobd) empty)\n",
    "\n",
    ";; Template\n",
    "(define (keep-only-valid lobd) (\n",
    "    filter valid-board? lobd\n",
    "))\n",
    "\n",
    ";; - - - - - - - - - - - - - - - - - - - - - - \n",
    "\n",
    ";; valid-board?\n",
    "\n",
    ";; Signature\n",
    ";; Board -> Boolean\n",
    "\n",
    ";; Purpose\n",
    ";; produce true if no unit on the board has the same value twice\n",
    "\n",
    ";; Example\n",
    "(check-expect (valid-board? BD1) true)\n",
    "(check-expect (valid-board? BD2) true)\n",
    "(check-expect (valid-board? BD3) true)\n",
    "(check-expect (valid-board? BD4) true)\n",
    "(check-expect (valid-board? BD5) true)\n",
    "(check-expect (valid-board? (cons 2 (rest BD2))) false)\n",
    "(check-expect (valid-board? (cons 2 (rest BD3))) false)\n",
    "(check-expect (valid-board? (fill-square BD4 1 6)) false)\n",
    "\n",
    ";; Stub\n",
    ";(define (valid-board? bd) false)\n",
    "\n",
    ";; Template\n",
    "(define (valid-board? bd) false)"
   ]
  }
 ],
 "metadata": {
  "language_info": {
   "name": "python"
  },
  "orig_nbformat": 4
 },
 "nbformat": 4,
 "nbformat_minor": 2
}
