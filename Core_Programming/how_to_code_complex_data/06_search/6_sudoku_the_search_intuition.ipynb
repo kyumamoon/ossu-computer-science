{
 "cells": [
  {
   "attachments": {},
   "cell_type": "markdown",
   "metadata": {},
   "source": [
    "# **Sudoku - The Search Intuition**"
   ]
  },
  {
   "attachments": {},
   "cell_type": "markdown",
   "metadata": {},
   "source": [
    "Overview of using search to solve a Sudoku puzzle.\n",
    "\n",
    "There is no starter file for this video."
   ]
  },
  {
   "attachments": {},
   "cell_type": "markdown",
   "metadata": {},
   "source": [
    "1. Starting from top left and ending at right bottom.\n",
    "2. Find empty cell and generate a tree of boards using 1-9 inclusive possible values.\n",
    "3. Prune/remove invalue generations based on sudoku rules. No duplicate in rows, no duplicate in columns, no duplicate in boxes.\n",
    "4. Repeat process for the valid branches with the next empty cells. When unable to produce more generations or all generations of the branch becomes invalid. Then backtrack up and do other branches."
   ]
  },
  {
   "attachments": {},
   "cell_type": "markdown",
   "metadata": {},
   "source": [
    "**3 Aspects to Core Structure of Function**\n",
    "- Generating\n",
    "- arbitrary-arity tree\n",
    "- Do backtrack"
   ]
  }
 ],
 "metadata": {
  "language_info": {
   "name": "python"
  },
  "orig_nbformat": 4
 },
 "nbformat": 4,
 "nbformat_minor": 2
}
