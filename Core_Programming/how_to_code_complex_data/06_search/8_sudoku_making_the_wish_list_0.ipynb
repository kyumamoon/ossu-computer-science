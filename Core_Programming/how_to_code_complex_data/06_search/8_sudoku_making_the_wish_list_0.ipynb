{
 "cells": [
  {
   "attachments": {},
   "cell_type": "markdown",
   "metadata": {},
   "source": [
    "# **Sudoku - Making the Wish List**\n",
    "\n",
    "Two wish list entries that accompany the solve function from the previous video.\n",
    "\n",
    "The starter file for this video is sudoku-v1.rkt"
   ]
  },
  {
   "cell_type": "raw",
   "metadata": {},
   "source": [
    "(define (solve bd) (\n",
    "    local\n",
    "        [\n",
    "            (define (solve--bd bd) (\n",
    "                if (solved? bd)\n",
    "                    bd\n",
    "                    (solve--lobd (next-boards bd))\n",
    "            ))\n",
    "            (define (solve--lobd lobd) (\n",
    "                cond [(empty? lobd) false]\n",
    "                    [else (local [(define try (solve--bd (first lobd)))]\n",
    "                        (if \n",
    "                            (not (false? try)) \n",
    "                            try \n",
    "                            (solve--lobd (rest lobd))\n",
    "                        )\n",
    "                    )]\n",
    "            ))\n",
    "        ]\n",
    "        (solve--bd bd)\n",
    "))"
   ]
  },
  {
   "cell_type": "raw",
   "metadata": {},
   "source": [
    ";;!! solved? function, helper\n",
    "\n",
    ";; Signature\n",
    ";; Board -> boolean\n",
    "\n",
    ";; Purpose\n",
    ";; produce true if board is solved\n",
    ";; asume: board is valid, so it is solved if it is full\n",
    "\n",
    ";; Example\n",
    "\n",
    ";; Stub\n",
    "; (define (solved? bd) false)\n",
    "\n",
    ";; Template\n",
    "(define (solved? bd) ())"
   ]
  },
  {
   "cell_type": "raw",
   "metadata": {},
   "source": [
    ";;!! next-boards, helper\n",
    ";; Signature\n",
    ";; Board -> (listof Board)\n",
    "\n",
    ";; Purpose\n",
    ";; Produce list of valid next boards from board\n",
    ";; finds first empty square, fill with [1,9], keeps only valid boards\n",
    "\n",
    ";; Examples\n",
    "\n",
    ";; Stub\n",
    "; (define (next-boards bd) empty)\n",
    "\n",
    ";; Template\n",
    "(define (next-boards bd) ())"
   ]
  }
 ],
 "metadata": {
  "language_info": {
   "name": "python"
  },
  "orig_nbformat": 4
 },
 "nbformat": 4,
 "nbformat_minor": 2
}
