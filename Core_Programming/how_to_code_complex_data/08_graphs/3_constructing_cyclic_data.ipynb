{
 "cells": [
  {
   "attachments": {},
   "cell_type": "markdown",
   "metadata": {},
   "source": [
    "# **Constructing Cyclic Data**\n",
    "\n",
    "This video walks through the design of a data definition for representing graphs.\n",
    "\n",
    "Note that some users reported that the shared construct will cause their Dr Racket to 'hang' or indefinitely run. Check this thread if you run into these issues.\n",
    "\n",
    "The starter file for this video is graphs-v2.rkt"
   ]
  },
  {
   "attachments": {},
   "cell_type": "markdown",
   "metadata": {},
   "source": [
    "---\n",
    "\n",
    "PROBLEM: \n",
    "\n",
    "Imagine you are suddenly transported into a mysterious house, in which all\n",
    "you can see is the name of the room you are in, and any doors that lead OUT\n",
    "of the room.  One of the things that makes the house so mysterious is that\n",
    "the doors only go in one direction. You can't see the doors that lead into\n",
    "the room.\n",
    "\n",
    "In computer science, we refer to such an information structure as a directed\n",
    "graph. Like trees, in directed graphs the arrows have direction. But in a\n",
    "graph it is  possible to go in circles, as in the second example above. It\n",
    "is also possible for two arrows to lead into a single node, as in the fourth\n",
    "example.\n",
    "\n",
    "   \n",
    "Design a data definition to represent such houses. Also provide example data\n",
    "for the four houses above."
   ]
  },
  {
   "attachments": {},
   "cell_type": "markdown",
   "metadata": {},
   "source": [
    "- Using \"shared\" allows us to define circular expressions.\n",
    "- Room A, is referenced in Room B. But room A includes Room B. Using \"-0-\" to reference Room A's circular behavior."
   ]
  },
  {
   "cell_type": "code",
   "execution_count": null,
   "metadata": {
    "vscode": {
     "languageId": "plaintext"
    }
   },
   "outputs": [],
   "source": [
    "(define-struct room (name exits))\n",
    ";; Room is (make-room String (listof Rooms))\n",
    ";; interp. the room's name and list of rooms that the exits lead to\n",
    "\n",
    ";; Examples\n",
    "(define H1 (make-room \"A\" (list (make-room \"B\" empty))))\n",
    "(define H2 (\n",
    "            shared (\n",
    "                    (\n",
    "                     -0- (make-room \"A\" (list (make-room \"B\" (list -0-))))\n",
    "                     )\n",
    "                    ) -0-\n",
    "            )\n",
    ")\n",
    "(define H3 (shared\n",
    "               (\n",
    "                (-A- (make-room \"A\" (list -B-)))\n",
    "                (-B- (make-room \"B\" (list -C-)))\n",
    "                (-C- (make-room \"C\" (list -A-)))\n",
    "                )\n",
    "               -A-))\n",
    "\n",
    "(define H3v2 (shared\n",
    "                 (\n",
    "                  (-0-(make-room \"A\" (list (make-room \"B\" (list (make-room \"C\" -0-))))))\n",
    "                  )\n",
    "                 -0-\n",
    "                 ))\n",
    "\n",
    "(define H4 (shared\n",
    "               (\n",
    "                (-A- (make-room \"A\" (list -B- -D- )))\n",
    "                (-B- (make-room \"B\" (list -C- -E-)))\n",
    "                (-C- (make-room \"C\" (list -B-)))\n",
    "                (-D- (make-room \"D\" (list -E-)))\n",
    "                (-E- (make-room \"E\" (list -F- -A-)))\n",
    "                (-F- (make-room \"F\" empty))\n",
    "                )\n",
    "               -A-\n",
    "               ))"
   ]
  }
 ],
 "metadata": {
  "language_info": {
   "name": "python"
  },
  "orig_nbformat": 4
 },
 "nbformat": 4,
 "nbformat_minor": 2
}
