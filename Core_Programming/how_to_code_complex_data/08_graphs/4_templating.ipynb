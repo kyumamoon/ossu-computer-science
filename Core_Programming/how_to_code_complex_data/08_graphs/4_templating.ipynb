{
 "cells": [
  {
   "attachments": {},
   "cell_type": "markdown",
   "metadata": {},
   "source": [
    "This video works through creating a template for the Room data definition using a worklist and a context-preserving accumulator.\n",
    "\n",
    "The starter file for this video is graphs-v3.rkt"
   ]
  },
  {
   "attachments": {},
   "cell_type": "markdown",
   "metadata": {},
   "source": [
    "# **Templating a function to consume a graph structure.**"
   ]
  },
  {
   "cell_type": "code",
   "execution_count": null,
   "metadata": {
    "vscode": {
     "languageId": "plaintext"
    }
   },
   "outputs": [],
   "source": [
    "(define-struct room (name exits))\n",
    ";; Room is (make-room String (listof Rooms))\n",
    ";; interp. the room's name and list of rooms that the exits lead to\n",
    "\n",
    ";; Examples\n",
    "(define H1 (make-room \"A\" (list (make-room \"B\" empty))))\n",
    "(define H2 (\n",
    "            shared (\n",
    "                    (\n",
    "                     -0- (make-room \"A\" (list (make-room \"B\" (list -0-))))\n",
    "                     )\n",
    "                    ) -0-\n",
    "            )\n",
    ")\n",
    "(define H3 (shared\n",
    "               (\n",
    "                (-A- (make-room \"A\" (list -B-)))\n",
    "                (-B- (make-room \"B\" (list -C-)))\n",
    "                (-C- (make-room \"C\" (list -A-)))\n",
    "                )\n",
    "               -A-))\n",
    "\n",
    "(define H3v2 (shared\n",
    "                 (\n",
    "                  (-0-(make-room \"A\" (list (make-room \"B\" (list (make-room \"C\" -0-))))))\n",
    "                  )\n",
    "                 -0-\n",
    "                 ))\n",
    "\n",
    "(define H4 (shared\n",
    "               (\n",
    "                (-A- (make-room \"A\" (list -B- -D- )))\n",
    "                (-B- (make-room \"B\" (list -C- -E-)))\n",
    "                (-C- (make-room \"C\" (list -B-)))\n",
    "                (-D- (make-room \"D\" (list -E-)))\n",
    "                (-E- (make-room \"E\" (list -F- -A-)))\n",
    "                (-F- (make-room \"F\" empty))\n",
    "                )\n",
    "               -A-\n",
    "               ))"
   ]
  },
  {
   "attachments": {},
   "cell_type": "markdown",
   "metadata": {},
   "source": [
    "# **Function**"
   ]
  },
  {
   "cell_type": "code",
   "execution_count": null,
   "metadata": {
    "vscode": {
     "languageId": "plaintext"
    }
   },
   "outputs": [],
   "source": [
    "(define (fn-for-house root) (\n",
    "                             ;; todo is (listof Room); a worklist accumulator\n",
    "                             ;; visited is (listof String); context preserving accumulator, name of rooms already visited\n",
    "                             local\n",
    "                              [\n",
    "                               (define (fn-for-room r todo visited) (\n",
    "                                                        if\n",
    "                                                        (member (room-name r) visited)\n",
    "                                                        (fn-for-lor todo visited)\n",
    "                                                        (fn-for-lor (append (room-exits r) todo (cons (room-name r) visited)))\n",
    "                                                        ))\n",
    "                               (define (fn-for-lor todo visited) (\n",
    "                                                         cond\n",
    "                                                          [(empty? todo) ...]\n",
    "                                                          [else\n",
    "                                                           (\n",
    "                                                            (fn-for-room (first todo) (rest todo) visited)\n",
    "                                                            )\n",
    "                                                           ]\n",
    "                                                         ))\n",
    "                               ]\n",
    "                              (fn-for-room root empty empty)\n",
    "                             ))"
   ]
  }
 ],
 "metadata": {
  "language_info": {
   "name": "python"
  },
  "orig_nbformat": 4
 },
 "nbformat": 4,
 "nbformat_minor": 2
}
