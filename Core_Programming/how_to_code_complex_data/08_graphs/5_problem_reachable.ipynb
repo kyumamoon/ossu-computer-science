{
 "cells": [
  {
   "attachments": {},
   "cell_type": "markdown",
   "metadata": {},
   "source": [
    "This video introduces a simple graph problem and works through the solution.\n",
    "\n",
    "The starter file for this video is graphs-v4.rkt"
   ]
  },
  {
   "attachments": {},
   "cell_type": "markdown",
   "metadata": {},
   "source": [
    "Design function the consume a Room and room name, produce true if it is possible to reach a room with given name starting at given room.\n",
    "\n",
    "- ; (reachable? H1 \"A\") produces true\n",
    "- ; (reachable? H1 \"B\") produces true\n",
    "- ; (reachable? H1 \"C\") produces false\n",
    "- ; (reachable? H4 \"F\") produces true\n",
    "- ; (reachable? H4F \"A\") produces false"
   ]
  },
  {
   "cell_type": "code",
   "execution_count": null,
   "metadata": {
    "vscode": {
     "languageId": "plaintext"
    }
   },
   "outputs": [],
   "source": [
    "(define (fn-for-house root) (\n",
    "                             ;; todo is (listof Room); a worklist accumulator\n",
    "                             ;; visited is (listof String); context preserving accumulator, name of rooms already visited\n",
    "                             local\n",
    "                              [\n",
    "                               (define (fn-for-room r todo visited) (\n",
    "                                                        if\n",
    "                                                        (member (room-name r) visited)\n",
    "                                                        (fn-for-lor todo visited)\n",
    "                                                        (fn-for-lor (append (room-exits r) todo (cons (room-name r) visited)))\n",
    "                                                        ))\n",
    "                               (define (fn-for-lor todo visited) (\n",
    "                                                         cond\n",
    "                                                          [(empty? todo) ...]\n",
    "                                                          [else\n",
    "                                                           (\n",
    "                                                            (fn-for-room (first todo) (rest todo) visited)\n",
    "                                                            )\n",
    "                                                           ]\n",
    "                                                         ))\n",
    "                               ]\n",
    "                              (fn-for-room root empty empty)\n",
    "                             ))"
   ]
  },
  {
   "cell_type": "code",
   "execution_count": null,
   "metadata": {
    "vscode": {
     "languageId": "plaintext"
    }
   },
   "outputs": [],
   "source": [
    ";; Solution\n",
    "\n",
    ";; Signature\n",
    ";; Room String -> Boolean\n",
    "\n",
    ";; Purpose\n",
    ";; produce true if starting at r0 it is possible to reach a room name rn\n",
    "\n",
    ";; Examples\n",
    "(check-expect (reachable? H1 \"A\") true)\n",
    "(check-expect (reachable? H1 \"B\") true)\n",
    "(check-expect (reachable? H1 \"C\") false)\n",
    "(check-expect (reachable? H4 \"F\") true)\n",
    "(check-expect (reachable? H4F \"A\") false)\n",
    "(check-expect (reachable? (first (room-exits H1)) \"A\") false)\n",
    "\n",
    "\n",
    ";; Stub\n",
    ";(define (reachable? mainroom targetname false))\n",
    "\n",
    ";; Template\n",
    "(define (reachable? mainroom targetname) (\n",
    "                             ;; todo is (listof Room); a worklist accumulator\n",
    "                             ;; visited is (listof String); context preserving accumulator, name of rooms already visited\n",
    "                             local\n",
    "                              [\n",
    "                               (define (fn-for-room r todo visited) (\n",
    "                                                        cond\n",
    "                                                        [(string=? (room-name r) targetname) true]\n",
    "                                                        [else (\n",
    "                                                        if\n",
    "                                                        (member (room-name r) visited)\n",
    "                                                        (fn-for-lor todo visited)\n",
    "                                                        (fn-for-lor (append (room-exits r) todo) (cons (room-name r) visited))\n",
    "                                                        )]))\n",
    "                               (define (fn-for-lor todo visited) (\n",
    "                                                         cond\n",
    "                                                          [(empty? todo) false]\n",
    "                                                          [else\n",
    "                                                           (\n",
    "                                                            fn-for-room (first todo) (rest todo) visited\n",
    "                                                            )\n",
    "                                                           ]\n",
    "                                                         ))\n",
    "                               ]\n",
    "                              (fn-for-room mainroom empty empty)\n",
    "                             ))\n"
   ]
  },
  {
   "cell_type": "code",
   "execution_count": null,
   "metadata": {
    "vscode": {
     "languageId": "plaintext"
    }
   },
   "outputs": [],
   "source": [
    ";; cleaner version\n",
    "\n",
    "(define (reachable? mainroom targetname) (\n",
    "                             ;; todo is (listof Room); a worklist accumulator\n",
    "                             ;; visited is (listof String); context preserving accumulator, name of rooms already visited\n",
    "                             local\n",
    "                              [\n",
    "                               (define (fn-for-room r todo visited) (\n",
    "                                                        cond\n",
    "                                                        [(string=? (room-name r) targetname) true]\n",
    "                                                        [(member (room-name r) visited) (fn-for-lor todo visited)]\n",
    "                                                        [else (fn-for-lor (append (room-exits r) todo) (cons (room-name r) visited))]\n",
    "                                                        ))\n",
    "                               (define (fn-for-lor todo visited) (\n",
    "                                                         cond\n",
    "                                                          [(empty? todo) false]\n",
    "                                                          [else\n",
    "                                                           (\n",
    "                                                            fn-for-room (first todo) (rest todo) visited\n",
    "                                                            )\n",
    "                                                           ]\n",
    "                                                         ))\n",
    "                               ]\n",
    "                              (fn-for-room mainroom empty empty)\n",
    "                             ))\n"
   ]
  }
 ],
 "metadata": {
  "language_info": {
   "name": "python"
  },
  "orig_nbformat": 4
 },
 "nbformat": 4,
 "nbformat_minor": 2
}
