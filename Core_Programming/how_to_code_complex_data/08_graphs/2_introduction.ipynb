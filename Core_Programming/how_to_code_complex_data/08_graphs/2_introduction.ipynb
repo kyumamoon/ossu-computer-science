{
 "cells": [
  {
   "attachments": {},
   "cell_type": "markdown",
   "metadata": {},
   "source": [
    "# **Introduction**"
   ]
  },
  {
   "attachments": {},
   "cell_type": "markdown",
   "metadata": {},
   "source": [
    "**Graphs**\n",
    "- When a node can go from A to B and B to A. \n",
    "    - A cycle is formed. So there is a graph.\n",
    "- When multiple nodes can go to the same node. A and B can both go to C.\n",
    "    - A cycle has mulitple paths to a single node.\n",
    "- Special Graph, Acyclic Graph: A graph without cycles."
   ]
  },
  {
   "attachments": {},
   "cell_type": "markdown",
   "metadata": {},
   "source": [
    "- Differences that differs graphs from arbitrary-arity tree:\n",
    "    1. Include Cycles\n",
    "    2. Can have multiple arrows going to a single node."
   ]
  }
 ],
 "metadata": {
  "language_info": {
   "name": "python"
  },
  "orig_nbformat": 4
 },
 "nbformat": 4,
 "nbformat_minor": 2
}
