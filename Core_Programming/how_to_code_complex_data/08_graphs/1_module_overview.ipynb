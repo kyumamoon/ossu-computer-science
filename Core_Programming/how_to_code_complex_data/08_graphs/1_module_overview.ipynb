{
 "cells": [
  {
   "attachments": {},
   "cell_type": "markdown",
   "metadata": {},
   "source": [
    "# **Module Overview**\n",
    "\n",
    "**Graphs Module**\n",
    "Many forms of information naturally organize themselves into trees of various kinds. But what about transit maps, wiring diagrams, the internet, or even secret underground passages? \n",
    "\n",
    "Most of these have one or two key properties that make them be graphs instead of trees. \n",
    "\n",
    "- One property is that there are more than one arrows that lead into some node, the other is that the arrows can form cycles.\n",
    "\n",
    "Once again, this module is in many ways an exercise in what you have already learned. We will start with this new form of information, then use HtDD and HtDF to quickly design powerful functions that operate on graphs.\n",
    "\n",
    "Working through the videos and practice materials for this module will take approximately 7-8 hours of dedicated time to complete.\n",
    "\n",
    "**Learning Goals**\n",
    "1. Be able to identify when domain information naturally forms a graph.\n",
    "2. Be able to write data definitions for graphs.\n",
    "3. Be able to construct cyclic data.\n",
    "4. Be able to design templates that operate on graphs, using accumulators to prevent chasing infinite cycles in the graph.\n",
    "5. Be able to design functions that operate on graphs."
   ]
  }
 ],
 "metadata": {
  "language_info": {
   "name": "python"
  },
  "orig_nbformat": 4
 },
 "nbformat": 4,
 "nbformat_minor": 2
}
