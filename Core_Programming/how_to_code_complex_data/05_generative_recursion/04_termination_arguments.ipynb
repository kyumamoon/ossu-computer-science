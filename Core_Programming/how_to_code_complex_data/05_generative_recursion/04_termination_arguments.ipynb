{
 "cells": [
  {
   "attachments": {},
   "cell_type": "markdown",
   "metadata": {},
   "source": [
    "# **Termination Arguments**\n",
    "\n",
    "In generative recursion we no longer can count on well-formed type comments and the template rules to guarantee that the recursion will end. Instead we must formulate our own proof of that for each function that uses generative recursion.\n",
    "\n",
    "The starter file for this video is termination-starter.rkt"
   ]
  },
  {
   "attachments": {},
   "cell_type": "markdown",
   "metadata": {},
   "source": [
    "- For generative recursive functions to break, it requires a three part termination argument.\n",
    "\n",
    "1. Base case:\n",
    "\n",
    "2. Reduction step:\n",
    "\n",
    "3. Argument that repeated application of reduction step will eventually \n",
    "reach the base case:"
   ]
  },
  {
   "attachments": {},
   "cell_type": "markdown",
   "metadata": {},
   "source": [
    "The stri, scarpet and hailstones functions use generative recursion. So\n",
    "they are NOT based on a well-formed self-referential type comment. How do\n",
    "we know they are going terminate? That is, how do we know every recursion \n",
    "will definitely stop? \n",
    "\n",
    "\n",
    "**Problem 1**\n",
    "\n",
    "Construct a three part termination argument for stri.\n",
    "\n",
    "1. Base case: \n",
    "    - (<= s CUTOFF)\n",
    "\n",
    "2. Reduction step: \n",
    "    - (/ s 2)\n",
    "\n",
    "3. Argument that repeated application of reduction step will eventually \n",
    "reach the base case:\n",
    "    - As long as cutoff is >0 and s starts >=0, repeated division by 2 will evenutally be less than cutoff.\n"
   ]
  },
  {
   "attachments": {},
   "cell_type": "markdown",
   "metadata": {},
   "source": [
    "**Problem 2**\n",
    "\n",
    "Three part termination for carpet.\n",
    "\n",
    "1. Base case: \n",
    "    - (<= CUTOFF)\n",
    "\n",
    "2. Reduction step: \n",
    "    - (/ s 3)\n",
    "\n",
    "3. Argument that repeated application of reduction step will eventually \n",
    "reach the base case:\n",
    "    - As long as cutoff is >0 and s starts >=0, repeated division by 3 will eventually be less than cutoff."
   ]
  },
  {
   "attachments": {},
   "cell_type": "markdown",
   "metadata": {},
   "source": [
    "**Problem 3**\n",
    "\n",
    "Three part termination for hailstone."
   ]
  },
  {
   "cell_type": "raw",
   "metadata": {},
   "source": [
    ";; Integer[>=1] -> (listof Integer[>=1])\n",
    ";; produce hailstone sequence for n\n",
    "(check-expect (hailstones 1) (list 1))\n",
    "(check-expect (hailstones 2) (list 2 1))\n",
    "(check-expect (hailstones 4) (list 4 2 1))\n",
    "(check-expect (hailstones 5) (list 5 16 8 4 2 1))\n",
    "\n",
    "(define (hailstones n)\n",
    "  (if (= n 1) \n",
    "      (list 1)\n",
    "      (cons n \n",
    "            (if (even? n)\n",
    "                (hailstones (/ n 2))\n",
    "                (hailstones (add1 (* n 3)))))))"
   ]
  },
  {
   "attachments": {},
   "cell_type": "markdown",
   "metadata": {},
   "source": [
    "Three part termination for hailstone.\n",
    "\n",
    "1. Base case: \n",
    "    - (= n 1)\n",
    "\n",
    "2. Reduction step: \n",
    "    - if n is even, (/ n 2)\n",
    "    - if n is odd, (+1 (* n 3))\n",
    "\n",
    "3. Argument that repeated application of reduction step will eventually \n",
    "reach the base case:\n",
    "    - THIS IS A TRICK PROBLEM. Algorithm has not been proven yet to not result in a number other than 1."
   ]
  }
 ],
 "metadata": {
  "language_info": {
   "name": "python"
  },
  "orig_nbformat": 4
 },
 "nbformat": 4,
 "nbformat_minor": 2
}
