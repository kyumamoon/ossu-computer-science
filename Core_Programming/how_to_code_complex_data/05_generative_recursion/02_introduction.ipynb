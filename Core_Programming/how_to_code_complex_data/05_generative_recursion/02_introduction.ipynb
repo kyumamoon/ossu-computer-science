{
 "cells": [
  {
   "attachments": {},
   "cell_type": "markdown",
   "metadata": {},
   "source": [
    "# **Introduction**\n",
    "\n",
    "Generative recursion is a new kind of recursion in which the data passed to the recursive call is generated, rather than being a part of the data passed to the current call.\n",
    "\n",
    "There is no starter file for this video."
   ]
  },
  {
   "attachments": {},
   "cell_type": "markdown",
   "metadata": {},
   "source": [
    "- Structural Recursion\n",
    "    - Initially give recursion a piece of data. \n",
    "    - Every recursive call, the recursion takes a subset/subpiece of that initial data and does it every recursived subset.\n",
    "- Generative Recursion\n",
    "    - At each recursive call, data is newly generated and not a subset of the initial data."
   ]
  }
 ],
 "metadata": {
  "language_info": {
   "name": "python"
  },
  "orig_nbformat": 4
 },
 "nbformat": 4,
 "nbformat_minor": 2
}
