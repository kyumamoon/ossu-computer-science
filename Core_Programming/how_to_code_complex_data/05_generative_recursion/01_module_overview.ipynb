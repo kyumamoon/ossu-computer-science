{
 "cells": [
  {
   "attachments": {},
   "cell_type": "markdown",
   "metadata": {},
   "source": [
    "# **Generative Recursion Module**\n",
    "\n",
    "- Generative recursion is in many ways similar to structural recursion: a function calls itself recursively (or several functions call themselves in mutual recursion). \n",
    "\n",
    "    - Each recursive call must receive an argument that is in some way \"closer to the base case\"; this is what guarantees the recursion will eventually terminate. \n",
    "    - In the structural recursion we have already seen, the nature of the data definitions and the template rules provide us the guarantee that we will reach the base case. But in generative recursion we have to develop that proof for each function we write.\n",
    "\n",
    "- In this module, we will design functions to produce fractal images. We'll explore other uses of Generative Recursion in the Search Module.\n",
    "\n",
    "- Working through the videos and practice materials for this module should take approximately 5-6 hours of dedicated time to complete.\n",
    "\n",
    "**Learning Goals**\n",
    "\n",
    "1. Be able to identify whether a recursive function (or a set of mutually recursive functions) uses structural or generative recursion.\n",
    "2. Be able to formulate a termination argument for a recursive function (or a set of mutually recursive functions).\n",
    "3. Be able to design functions that use generative recursion (algorithms)."
   ]
  }
 ],
 "metadata": {
  "language_info": {
   "name": "python"
  },
  "orig_nbformat": 4
 },
 "nbformat": 4,
 "nbformat_minor": 2
}
