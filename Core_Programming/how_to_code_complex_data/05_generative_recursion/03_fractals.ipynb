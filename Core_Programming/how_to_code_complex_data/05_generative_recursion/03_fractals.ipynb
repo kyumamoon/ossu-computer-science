{
 "cells": [
  {
   "attachments": {},
   "cell_type": "markdown",
   "metadata": {},
   "source": [
    "# **Fractals**\n",
    "\n",
    "Fractals are images that have a recursive structure. They provide a fun first example of generative recursion.\n",
    "\n",
    "The starter file for this video is fractals-starter.rkt"
   ]
  },
  {
   "attachments": {},
   "cell_type": "markdown",
   "metadata": {},
   "source": [
    "**HTDF For Generative Recursive Function**"
   ]
  },
  {
   "cell_type": "raw",
   "metadata": {},
   "source": [
    ";; TEMPLATE\n",
    "\n",
    "(define (generativeRecursion-fn d) (\n",
    "    cond [(trivial? d) (trivial-answer d)]\n",
    "    [else \n",
    "        (... d\n",
    "            (generativeRecursion (next-problem d))\n",
    "            )\n",
    "    ]\n",
    "))\n",
    "\n",
    "or\n",
    "\n",
    "(define (genrec-fn d) (\n",
    "    if (trivial? d)\n",
    "        (trivial-answer d)\n",
    "        (... d (genrec-fn (next-problem d)))\n",
    ")"
   ]
  },
  {
   "attachments": {},
   "cell_type": "markdown",
   "metadata": {},
   "source": [
    "**Problem 1**\n",
    "\n",
    "- Problem, produce a Sierpinski Triangle of a given size.\n",
    "- First triangle is size \"s\", triangle inside it are size \"s\"/2, inside those are (\"s\"/2)*\"s\"/2"
   ]
  },
  {
   "cell_type": "raw",
   "metadata": {},
   "source": [
    ";; For base case,\n",
    "(define CUTOFF 2) ;; base case is size 2\n",
    "\n",
    ";; Signature\n",
    ";; Number -> image\n",
    "\n",
    ";; Purpose\n",
    ";; Produce a Sierpinski Triangle of the given size.\n",
    "\n",
    ";; Examples:\n",
    "(check-expect (stri CUTOFF) (triangle CUTOFF \"outline\" \"red\"))\n",
    "(check-expect (stri (* CUTOFF 2)) (overlay \n",
    "                                        (triangle (* 2 CUTOFF) \"outline\" \"red\")\n",
    "                                        (local \n",
    "                                            [(define sub (triangle CUTOFF \"outline\" \"red\"))] \n",
    "                                            (above sub (beside sub sub))\n",
    "                                        )))\n",
    "\n",
    ";; Stub\n",
    ";; (define (stri s) (square 0 \"solid\" \"white\"))\n",
    "\n",
    ";; Template\n",
    "#;(define (stri s) (\n",
    "    if  (trivial? s) ;; BASE CASE\n",
    "        (trivial-answer s) ;; BASE CASE ANSWER\n",
    "        (... s (stri (next-problem s))) ;; REDUCE THE s for next recursion\n",
    "))\n",
    "\n",
    "(define (stri s) (\n",
    "    if  (<= s CUTOFF) ;; BASE CASE\n",
    "        (triangle s \"outline\" \"red\")  ;; BASE CASE ANSWER, cant use CUTOFF as the basecase. need approximation instead\n",
    "        (overlay (triangle s \"outline\" \"red\") (local [(define sub (stri (/ s 2)))] (above sub (beside sub sub))))\n",
    "))"
   ]
  },
  {
   "attachments": {},
   "cell_type": "markdown",
   "metadata": {},
   "source": [
    "Construct a three part termination argument for stri.\n",
    "\n",
    "1. Base case: \n",
    "    - (<= s CUTOFF)\n",
    "\n",
    "2. Reduction step: \n",
    "    - (/ s 2)\n",
    "\n",
    "3. Argument that repeated application of reduction step will eventually \n",
    "reach the base case:\n",
    "    - As long as cutoff is >0 and s starts >=0, repeated division by 2 will evenutally be less than cutoff.\n"
   ]
  },
  {
   "attachments": {},
   "cell_type": "markdown",
   "metadata": {},
   "source": [
    "**Problem 2**\n",
    "\n",
    "- Design a function to produce a Sierpinski carpet of size s.\n",
    "\n",
    "- Here is an example of a larger Sierpinski carpet."
   ]
  },
  {
   "cell_type": "raw",
   "metadata": {},
   "source": [
    ";; For base case,\n",
    ";(define CUTOFF 3) ;; base case is size 3\n",
    "\n",
    ";; Signature\n",
    ";; Number -> image\n",
    "\n",
    ";; Purpose\n",
    ";; Produce a Sierpinski carpet of the given size.\n",
    "\n",
    ";; Examples:\n",
    "(check-expect (carpet CUTOFF) (square CUTOFF \"outline\" \"red\"))\n",
    "(check-expect (carpet (* CUTOFF 3)) (overlay \n",
    "                                        (square (* 3 CUTOFF) \"outline\" \"red\")\n",
    "                                        (local \n",
    "                                            [\n",
    "                                            (define sub (square CUTOFF \"outline\" \"red\"))\n",
    "                                            (define emptysub (square CUTOFF \"outline\" \"white\"))\n",
    "                                            ] \n",
    "                                            (above (beside sub sub sub) (beside sub emptysub sub) (beside sub sub sub))))\n",
    "                                        )\n",
    "\n",
    ";; Stub\n",
    ";; (define (carpet s) (square 0 \"solid\" \"white\"))\n",
    "\n",
    ";; Template\n",
    "#;(define (carpet s) (\n",
    "    if  (trivial? s) ;; BASE CASE\n",
    "        (trivial-answer s) ;; BASE CASE ANSWER\n",
    "        (... s (carpet (next-problem s))) ;; REDUCE THE s for next recursion\n",
    "))\n",
    "\n",
    "(define (carpet s) (\n",
    "    if  (<= s CUTOFF) ;; BASE CASE\n",
    "        (square s \"outline\" \"red\")  ;; BASE CASE ANSWER, cant use CUTOFF as the basecase. need approximation instead\n",
    "        (overlay (square s \"outline\" \"red\") (local [\n",
    "                                                    (define sub (carpet (/ s 3)))\n",
    "                                                    ]\n",
    "                                              (above\n",
    "                                               (beside sub sub sub)\n",
    "                                               (beside sub (square (/ s 3) \"outline\" \"white\") sub)\n",
    "                                               (beside sub sub sub)\n",
    "                                               )\n",
    "                                              )\n",
    "                 )\n",
    "        )\n",
    "  )"
   ]
  },
  {
   "attachments": {},
   "cell_type": "markdown",
   "metadata": {},
   "source": [
    "1. Base case: \n",
    "    - (<= CUTOFF)\n",
    "\n",
    "2. Reduction step: \n",
    "    - (/ s 3)\n",
    "\n",
    "3. Argument that repeated application of reduction step will eventually \n",
    "reach the base case:\n",
    "    - As long as cutoff is >0 and s starts >=0, repeated division by 3 will eventually be less than cutoff."
   ]
  }
 ],
 "metadata": {
  "language_info": {
   "name": "python"
  },
  "orig_nbformat": 4
 },
 "nbformat": 4,
 "nbformat_minor": 2
}
