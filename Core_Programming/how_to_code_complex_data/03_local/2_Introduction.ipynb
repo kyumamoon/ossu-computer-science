{
 "cells": [
  {
   "attachments": {},
   "cell_type": "markdown",
   "metadata": {},
   "source": [
    "# **Introduction**\n",
    "\n",
    "- The Intermediate Student Language (ISL) provides local expressions, which make it possible to have definitions visible only within the local expression.\n",
    "\n",
    "- There is no starter file for this video."
   ]
  },
  {
   "attachments": {},
   "cell_type": "markdown",
   "metadata": {},
   "source": [
    "- Local expressions allow us to define functions and expressions in a small scope of a program."
   ]
  }
 ],
 "metadata": {
  "language_info": {
   "name": "python"
  },
  "orig_nbformat": 4
 },
 "nbformat": 4,
 "nbformat_minor": 2
}
