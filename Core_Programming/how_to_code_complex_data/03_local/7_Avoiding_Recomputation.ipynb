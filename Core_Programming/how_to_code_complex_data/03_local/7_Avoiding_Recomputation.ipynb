{
 "cells": [
  {
   "attachments": {},
   "cell_type": "markdown",
   "metadata": {},
   "source": [
    "# **Avoiding Recomputation**"
   ]
  },
  {
   "attachments": {},
   "cell_type": "markdown",
   "metadata": {},
   "source": [
    "Local expressions can be used to avoid recomputing results, and in recursive programs this can have significant (even exponential) effects on program performance.\n",
    "\n",
    "The starter file for this video is fs-v6.rkt."
   ]
  },
  {
   "attachments": {},
   "cell_type": "markdown",
   "metadata": {},
   "source": [
    "- Performance can be negatively impacted when recursive functions recalculate values.\n",
    "- Using local expressions can help prevent recalculations by defining the calculation step for reuse."
   ]
  },
  {
   "cell_type": "code",
   "execution_count": null,
   "metadata": {
    "vscode": {
     "languageId": "plaintext"
    }
   },
   "outputs": [],
   "source": [
    ";; Original Code\n",
    ";; second function in the local expression has two occuring (find--element). \n",
    "\n",
    "\n",
    "(define (find n e)\n",
    "  (local [(define (find--element n e)\n",
    "            (if (string=? (elt-name e) n)\n",
    "                (elt-data e) \n",
    "                (find--loe n (elt-subs e))))\n",
    "          \n",
    "          (define (find--loe n loe)\n",
    "            (cond [(empty? loe) false]\n",
    "                  [else\n",
    "                     (if (not (false? (find--element n (first loe)))) \n",
    "                         (find--element n (first loe))\n",
    "                         (find--loe n (rest loe)))]))]\n",
    "    \n",
    "    (find--element n e)))"
   ]
  },
  {
   "cell_type": "code",
   "execution_count": null,
   "metadata": {
    "vscode": {
     "languageId": "plaintext"
    }
   },
   "outputs": [],
   "source": [
    ";; Restructured to avoid recomputation\n",
    "\n",
    "(define (find n e)\n",
    "  (local [(define (find--element n e)\n",
    "            (if (string=? (elt-name e) n)\n",
    "                (elt-data e) \n",
    "                (find--loe n (elt-subs e))))\n",
    "          \n",
    "          (define (find--loe n loe)\n",
    "            (cond [(empty? loe) false]\n",
    "                  [else (local \n",
    "                            [(define try1 (find--element n (first loe)))]\n",
    "                            (if \n",
    "                                (not (false? try1)) \n",
    "                                try1\n",
    "                                (find--loe n (rest loe))\n",
    "                            )\n",
    "                        )\n",
    "                  ]\n",
    "            )\n",
    "          )]\n",
    "                     \n",
    "    \n",
    "    (find--element n e)))"
   ]
  },
  {
   "attachments": {},
   "cell_type": "markdown",
   "metadata": {},
   "source": [
    "- Above\n",
    "    - defined \"try1\" calculates the value.\n",
    "    - can just call try1's value without recomputation because it has already been calculated/defined."
   ]
  },
  {
   "attachments": {},
   "cell_type": "markdown",
   "metadata": {},
   "source": []
  }
 ],
 "metadata": {
  "language_info": {
   "name": "python"
  },
  "orig_nbformat": 4
 },
 "nbformat": 4,
 "nbformat_minor": 2
}
