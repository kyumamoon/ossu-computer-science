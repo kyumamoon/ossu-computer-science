{
 "cells": [
  {
   "attachments": {},
   "cell_type": "markdown",
   "metadata": {},
   "source": [
    "# **Evaluation Rules**\n",
    "\n",
    "Evaluation of local expressions involves simultaneous renaming and lifting of local definitions.\n",
    "\n",
    "Rules for evaluating local expressions work to eliminate the local from the program,leaving behind a program we already know how to evaluate.\n",
    "\n",
    "There is no starter file for this video."
   ]
  },
  {
   "attachments": {},
   "cell_type": "markdown",
   "metadata": {},
   "source": [
    "- Local is just an expression.\n",
    "- 3 Steps\n",
    "    1. Renaming\n",
    "        - Renaming definitions and all references of that definition to new names that are globally unique.\n",
    "    2. Lifting\n",
    "        - Lift renamed definitions out of the local, into top-level scope.\n",
    "    3. Replace entire local with renamed body\n",
    "        - Replace local with its renamed body."
   ]
  },
  {
   "cell_type": "code",
   "execution_count": null,
   "metadata": {
    "vscode": {
     "languageId": "plaintext"
    }
   },
   "outputs": [],
   "source": [
    "(define b 1)\n",
    "\n",
    "( + b\n",
    "    (local [(define b 2 )] (* b b))\n",
    "    b\n",
    ")"
   ]
  },
  {
   "cell_type": "code",
   "execution_count": null,
   "metadata": {
    "vscode": {
     "languageId": "plaintext"
    }
   },
   "outputs": [],
   "source": [
    ";; Renaming. Take renamed definition and lift to toppest level.\n",
    "\n",
    "(define b 1)\n",
    "\n",
    "( + 1\n",
    "    (local [(define b_0 2 )] (* b_0 b_0))\n",
    "    b\n",
    ")"
   ]
  },
  {
   "cell_type": "code",
   "execution_count": null,
   "metadata": {
    "vscode": {
     "languageId": "plaintext"
    }
   },
   "outputs": [],
   "source": [
    ";; Lifting, lift renamed definitions out of the local, into top-level scope.\n",
    "\n",
    "(define b 1)\n",
    "(define b_0 2)\n",
    "\n",
    "\n",
    "( + 1\n",
    "    (local [] (* b_0 b_0))\n",
    "    b\n",
    ")"
   ]
  },
  {
   "cell_type": "code",
   "execution_count": null,
   "metadata": {
    "vscode": {
     "languageId": "plaintext"
    }
   },
   "outputs": [],
   "source": [
    ";; Replace local with its renamed body.\n",
    "\n",
    "(define b 1)\n",
    "(define b_0 2)\n",
    "\n",
    "\n",
    "( + 1\n",
    "    (* b_0 b_0)\n",
    "    b\n",
    ")"
   ]
  },
  {
   "cell_type": "code",
   "execution_count": null,
   "metadata": {
    "vscode": {
     "languageId": "plaintext"
    }
   },
   "outputs": [],
   "source": [
    ";; Next step\n",
    "\n",
    "(define b 1)\n",
    "(define b_0 2)\n",
    "\n",
    "\n",
    "( + 1\n",
    "    (* 2 b_0)\n",
    "    b\n",
    ")"
   ]
  },
  {
   "cell_type": "code",
   "execution_count": null,
   "metadata": {
    "vscode": {
     "languageId": "plaintext"
    }
   },
   "outputs": [],
   "source": [
    ";; Next step\n",
    "\n",
    "(define b 1)\n",
    "(define b_0 2)\n",
    "\n",
    "\n",
    "( + 1\n",
    "    (* 2 2)\n",
    "    b\n",
    ")"
   ]
  },
  {
   "cell_type": "code",
   "execution_count": null,
   "metadata": {
    "vscode": {
     "languageId": "plaintext"
    }
   },
   "outputs": [],
   "source": [
    ";; Next step\n",
    "\n",
    "(define b 1)\n",
    "(define b_0 2)\n",
    "\n",
    "\n",
    "( + 1\n",
    "    4\n",
    "    b\n",
    ")"
   ]
  },
  {
   "cell_type": "code",
   "execution_count": null,
   "metadata": {
    "vscode": {
     "languageId": "plaintext"
    }
   },
   "outputs": [],
   "source": [
    ";; Next step\n",
    "\n",
    "(define b 1)\n",
    "(define b_0 2)\n",
    "\n",
    "\n",
    "( + 1\n",
    "    4\n",
    "    1\n",
    ")"
   ]
  },
  {
   "cell_type": "code",
   "execution_count": null,
   "metadata": {
    "vscode": {
     "languageId": "plaintext"
    }
   },
   "outputs": [],
   "source": [
    ";; Next step\n",
    "\n",
    "(define b 1)\n",
    "(define b_0 2)\n",
    "\n",
    "6"
   ]
  }
 ],
 "metadata": {
  "language_info": {
   "name": "python"
  },
  "orig_nbformat": 4
 },
 "nbformat": 4,
 "nbformat_minor": 2
}
