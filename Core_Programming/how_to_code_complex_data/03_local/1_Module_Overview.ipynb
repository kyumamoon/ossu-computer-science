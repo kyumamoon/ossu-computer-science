{
 "cells": [
  {
   "attachments": {},
   "cell_type": "markdown",
   "metadata": {},
   "source": [
    "# **Module Overview**\n",
    "\n",
    "- Local Module\n",
    "    - In this module we look at a new technique for improving the structure of code. Most of the problems in this module involve refactoring existing programs -- so there's relatively little new coding to do. But that doesn't mean you won't be designing programs! One of the things that separates good programmers from the other kind is taking the time to improve the structure of their code once it is written. This material is super important, and... it's really important to practice doing it!\n",
    "\n",
    "    - We'll learn local expressions which are a new kind of expression in the Intermediate Student Language (ISL) that makes it possible to write definitions (constants, functions and structures) that are only visible within the local expression. We will see how to use local expressions to encapsulate \"private\" helper functions. We will also use local to avoid redundant computation.\n",
    "\n",
    "    - Working through the videos, practice materials and the design quiz for this module should take approximately 8-10 hours of dedicated time to complete.\n",
    "\n",
    "- Learning Goals\n",
    "    - Be able to write well-formed local expressions.\n",
    "    - Be able to diagram lexical scoping on top of expressions using local.\n",
    "    - Be able to hand-evaluate local expressions.\n",
    "    - Be able to use local to encapsulate function definitions.\n",
    "    - Be able to use local to avoid redundant computation."
   ]
  }
 ],
 "metadata": {
  "language_info": {
   "name": "python"
  },
  "orig_nbformat": 4
 },
 "nbformat": 4,
 "nbformat_minor": 2
}
