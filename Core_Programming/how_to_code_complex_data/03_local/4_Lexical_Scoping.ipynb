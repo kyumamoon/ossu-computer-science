{
 "cells": [
  {
   "attachments": {},
   "cell_type": "markdown",
   "metadata": {},
   "source": [
    "# **Lexical Scoping**\n",
    "\n",
    "The concept of lexical scoping allows us to answer questions about what definition any reference to a name refers to.\n",
    "\n",
    "There is no starter file for this video."
   ]
  },
  {
   "attachments": {},
   "cell_type": "markdown",
   "metadata": {},
   "source": [
    "- Duplicate variables in a program will follow lexical scoping. A variable in a local scope, called inside the local scope will use that variable. Even, when there is a top level variable with same name."
   ]
  },
  {
   "cell_type": "raw",
   "metadata": {},
   "source": [
    "(define a 1)\n",
    "(define b 2)\n",
    "\n",
    "(+ a (local [(define b 3)] (+ a b)) b )\n",
    ";; produces 7"
   ]
  }
 ],
 "metadata": {
  "language_info": {
   "name": "python"
  },
  "orig_nbformat": 4
 },
 "nbformat": 4,
 "nbformat_minor": 2
}
