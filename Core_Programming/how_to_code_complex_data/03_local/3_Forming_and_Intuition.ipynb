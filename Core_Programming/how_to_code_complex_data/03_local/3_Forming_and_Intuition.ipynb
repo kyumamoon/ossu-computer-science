{
 "cells": [
  {
   "attachments": {},
   "cell_type": "markdown",
   "metadata": {},
   "source": [
    "# **Forming and Intuition**\n",
    "\n",
    "Examples of local expressions and rules for writing well-formed local expressions.\n",
    "\n",
    "There is no starter file for this video.\n",
    "\n",
    "Used in Intermediate Student."
   ]
  },
  {
   "cell_type": "raw",
   "metadata": {},
   "source": [
    ";; Syntax\n",
    "(local [DEFINITIONS] BODY)\n",
    "\n",
    ";; Example:\n",
    "\n",
    ";; Local 1\n",
    "(local \n",
    "    [\n",
    "        (define a 2)\n",
    "    ]\n",
    "\n",
    "    (+ a a)\n",
    ")\n",
    "\n",
    ";; Local 2\n",
    "(local \n",
    "    [\n",
    "        (define p \"accio \")\n",
    "        (define (fetch n) (string-append p n))\n",
    "    ]\n",
    "\n",
    "    (fetch \"portkey\")\n",
    ")"
   ]
  },
  {
   "attachments": {},
   "cell_type": "markdown",
   "metadata": {},
   "source": [
    "- definition is only available in the scope of local."
   ]
  }
 ],
 "metadata": {
  "language_info": {
   "name": "python"
  },
  "orig_nbformat": 4
 },
 "nbformat": 4,
 "nbformat_minor": 2
}
