{
 "cells": [
  {
   "attachments": {},
   "cell_type": "markdown",
   "metadata": {},
   "source": [
    "# **Encapsulation**\n",
    "\n",
    "Lexical scoping is the foundation of encapsulation, a crucial technique for managing complexity of large programs.\n",
    "\n",
    "The starter file for this video is fs-v4.rkt."
   ]
  },
  {
   "attachments": {},
   "cell_type": "markdown",
   "metadata": {},
   "source": [
    "- Encapsulation solves problem where multiple programmers want to use function name for different purposes.\n",
    "- Encapsulation encapsulates these functions into a package/scope.\n",
    "- Refactoring: changing structure of the program without changing the program's behavior."
   ]
  },
  {
   "attachments": {},
   "cell_type": "markdown",
   "metadata": {},
   "source": [
    "**Example**\n",
    "\n",
    "- Can encapsulate mutual recursion functions into one function to avoid using extra names. "
   ]
  },
  {
   "cell_type": "code",
   "execution_count": null,
   "metadata": {
    "vscode": {
     "languageId": "plaintext"
    }
   },
   "outputs": [],
   "source": [
    ";; Non-encapsulated\n",
    "\n",
    "(define (sum-data--element e)\n",
    "  (if (zero? (elt-data e))\n",
    "      (sum-data--loe (elt-subs e))\n",
    "      (elt-data e))) \n",
    "\n",
    "(define (sum-data--loe loe)\n",
    "  (cond [(empty? loe) 0]\n",
    "        [else\n",
    "         (+ (sum-data--element (first loe))\n",
    "            (sum-data--loe (rest loe)))])) "
   ]
  },
  {
   "cell_type": "code",
   "execution_count": null,
   "metadata": {
    "vscode": {
     "languageId": "plaintext"
    }
   },
   "outputs": [],
   "source": [
    ";; Encapsulated with Local\n",
    "\n",
    "(define (sum-data e) \n",
    "    (local \n",
    "        [\n",
    "            (define (sum-data--element e)\n",
    "                (if (zero? (elt-data e))\n",
    "                    (sum-data--loe (elt-subs e))\n",
    "                    (elt-data e)))\n",
    "\n",
    "            (define (sum-data--loe loe)\n",
    "                (cond   [(empty? loe) 0]\n",
    "                        [else\n",
    "                            (+ (sum-data--element (first loe))\n",
    "                            (sum-data--loe (rest loe)))]\n",
    "                )\n",
    "            ) \n",
    "        ]\n",
    "\n",
    "        (sum-data--element e)\n",
    "    )\n",
    ")"
   ]
  },
  {
   "attachments": {},
   "cell_type": "markdown",
   "metadata": {},
   "source": [
    "- Function inside local is not visible outside of the local scope so it prevents collision with names.\n",
    "- Only the top level function sum-data can pass arguments to within the scope."
   ]
  },
  {
   "attachments": {},
   "cell_type": "markdown",
   "metadata": {},
   "source": [
    "**Good candidates for encapsulations:**\n",
    "- Functions that work together.\n",
    "    - Functions that have multiple helper functions but only the top level function (non-helper) is mainly called.\n",
    "- Mutually Recursive Functions"
   ]
  },
  {
   "attachments": {},
   "cell_type": "markdown",
   "metadata": {},
   "source": [
    "- Example 2"
   ]
  },
  {
   "cell_type": "code",
   "execution_count": null,
   "metadata": {
    "vscode": {
     "languageId": "plaintext"
    }
   },
   "outputs": [],
   "source": [
    ";; Non-Encapsulated\n",
    "\n",
    "(define (all-names--element e)\n",
    "  (cons (elt-name e)  \n",
    "        (all-names--loe (elt-subs e))))\n",
    "\n",
    "(define (all-names--loe loe)\n",
    "  (cond [(empty? loe) empty]\n",
    "        [else\n",
    "         (append (all-names--element (first loe))\n",
    "                 (all-names--loe (rest loe)))])) "
   ]
  },
  {
   "cell_type": "code",
   "execution_count": null,
   "metadata": {
    "vscode": {
     "languageId": "plaintext"
    }
   },
   "outputs": [],
   "source": [
    ";; Encapsulated\n",
    "\n",
    "(define (all-names e) \n",
    "    (local \n",
    "        [\n",
    "            (define (all-names--element e)\n",
    "                (cons (elt-name e) (all-names--loe (elt-subs e)))\n",
    "            )\n",
    "\n",
    "            (define (all-names--loe loe)\n",
    "                (cond \n",
    "                    [(empty? loe) empty]\n",
    "                    [else\n",
    "                        (append \n",
    "                            (all-names--element (first loe))\n",
    "                            (all-names--loe (rest loe)))\n",
    "                    ]\n",
    "                )\n",
    "            ) \n",
    "        ] \n",
    "\n",
    "        (all-names--element e)\n",
    "    )\n",
    ")"
   ]
  },
  {
   "attachments": {},
   "cell_type": "markdown",
   "metadata": {},
   "source": [
    "- Example 3:"
   ]
  },
  {
   "cell_type": "code",
   "execution_count": null,
   "metadata": {
    "vscode": {
     "languageId": "plaintext"
    }
   },
   "outputs": [],
   "source": [
    ";; Non-Encapsulated\n",
    "\n",
    "(define (find--element n e)\n",
    "  (if (string=? (elt-name e) n)\n",
    "      (elt-data e) \n",
    "      (find--loe n (elt-subs e))))\n",
    "\n",
    "(define (find--loe n loe)\n",
    "  (cond [(empty? loe) false]\n",
    "        [else\n",
    "         (if (not (false? (find--element n (first loe)))) \n",
    "             (find--element n (first loe))\n",
    "             (find--loe n (rest loe)))]))"
   ]
  },
  {
   "cell_type": "code",
   "execution_count": null,
   "metadata": {
    "vscode": {
     "languageId": "plaintext"
    }
   },
   "outputs": [],
   "source": [
    ";; Encapsulated\n",
    "\n",
    "(define (find-element n e) \n",
    "    (local \n",
    "        [\n",
    "            (define (find--element n e)\n",
    "                (if (string=? (elt-name e) n)\n",
    "                    (elt-data e) \n",
    "                    (find--loe n (elt-subs e)))\n",
    "            )\n",
    "\n",
    "            (define (find--loe n loe)\n",
    "                (cond \n",
    "                    [(empty? loe) false]\n",
    "                    [else\n",
    "                        (if (not (false? (find--element n (first loe)))) \n",
    "                        (find--element n (first loe))\n",
    "                        (find--loe n (rest loe)))\n",
    "                    ]\n",
    "                )\n",
    "            )\n",
    "        ]\n",
    "\n",
    "        (find--element n e)\n",
    "    )\n",
    ")"
   ]
  },
  {
   "attachments": {},
   "cell_type": "markdown",
   "metadata": {},
   "source": [
    "- Example 4\n",
    "\n",
    "- Recall the following functions from the Mutual Reference module:\n",
    "\n",
    "    - The function that other parts of the program are interested in is names-under-20--person. Let's call the new function names-under-20.\n",
    "\n",
    "     -Before moving onto the next questions, encapsulate the functions names-under-20--person and names-under-20--lop using local."
   ]
  },
  {
   "cell_type": "raw",
   "metadata": {},
   "source": [
    ";; Person -> ListOfString\n",
    ";; ListOfPerson -> ListOfString\n",
    ";; produce a list of the names of the persons under 20\n",
    "\n",
    "(check-expect (names-under-20--person P1) (list \"N1\"))\n",
    "(check-expect (names-under-20--lop empty) empty)\n",
    "(check-expect (names-under-20--person P2) (list \"N1\"))\n",
    "(check-expect (names-under-20--person P4) (list \"N3\" \"N1\"))\n",
    "\n",
    "(define (names-under-20--person p)\n",
    "  (if (< (person-age p) 20)\n",
    "      (cons (person-name p)\n",
    "            (names-under-20--lop (person-children p)))\n",
    "      (names-under-20--lop (person-children p))))\n",
    "      \n",
    "(define (names-under-20--lop lop)\n",
    "  (cond [(empty? lop) empty]\n",
    "        [else\n",
    "         (append (names-under-20--person (first lop))\n",
    "                 (names-under-20--lop (rest lop)))]))"
   ]
  },
  {
   "attachments": {},
   "cell_type": "raw",
   "metadata": {},
   "source": [
    ";; Encapsulated\n",
    "\n",
    ";; Person -> ListOfString\n",
    ";; ListOfPerson -> ListOfString\n",
    ";; produce a list of the names of the persons under 20\n",
    "\n",
    "(check-expect (names-under-20--person P1) (list \"N1\"))\n",
    "(check-expect (names-under-20--lop empty) empty)\n",
    "(check-expect (names-under-20--person P2) (list \"N1\"))\n",
    "(check-expect (names-under-20--person P4) (list \"N3\" \"N1\"))\n",
    "\n",
    "(define (under-20 p) (\n",
    "                      local\n",
    "                       [\n",
    "                        (define (names-under-20--person p)\n",
    "                          (if (< (person-age p) 20)\n",
    "                              (cons (person-name p)\n",
    "                                    (names-under-20--lop (person-children p)))\n",
    "                              (names-under-20--lop (person-children p))))\n",
    "      \n",
    "                        (define (names-under-20--lop lop)\n",
    "                          (cond [(empty? lop) empty]\n",
    "                                [else\n",
    "                                 (append (names-under-20--person (first lop))\n",
    "                                         (names-under-20--lop (rest lop)))]))\n",
    "                        ]\n",
    "                       (names-under-20--person p)\n",
    "                       )\n",
    ")\n"
   ]
  }
 ],
 "metadata": {
  "language_info": {
   "name": "python"
  },
  "orig_nbformat": 4
 },
 "nbformat": 4,
 "nbformat_minor": 2
}
