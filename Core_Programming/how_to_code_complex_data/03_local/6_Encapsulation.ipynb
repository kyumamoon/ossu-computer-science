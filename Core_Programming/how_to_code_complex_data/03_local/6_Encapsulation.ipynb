{
 "cells": [
  {
   "attachments": {},
   "cell_type": "markdown",
   "metadata": {},
   "source": [
    "# **Encapsulation**\n",
    "\n",
    "Lexical scoping is the foundation of encapsulation, a crucial technique for managing complexity of large programs.\n",
    "\n",
    "The starter file for this video is fs-v4.rkt."
   ]
  },
  {
   "attachments": {},
   "cell_type": "markdown",
   "metadata": {},
   "source": [
    "- Encapsulation solves problem where multiple programmers want to use function name for different purposes.\n",
    "- Encapsulation encapsulates these functions into a package/scope."
   ]
  }
 ],
 "metadata": {
  "language_info": {
   "name": "python"
  },
  "orig_nbformat": 4
 },
 "nbformat": 4,
 "nbformat_minor": 2
}
